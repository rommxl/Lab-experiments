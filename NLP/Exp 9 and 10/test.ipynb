{
 "cells": [
  {
   "cell_type": "code",
   "execution_count": 75,
   "metadata": {},
   "outputs": [],
   "source": [
    "# from functions import get_similiarity"
   ]
  },
  {
   "cell_type": "markdown",
   "metadata": {},
   "source": [
    "def get_similiarity(synoptic, answer):<br>\n",
    "    &nbsp;&nbsp;&nbsp;&nbsp; sentences =[synoptic, answer]<br>\n",
    "    &nbsp;&nbsp;&nbsp;&nbsp; model = SentenceTransformer('sentence-transformers/paraphrase-multilingual-MiniLM-L12-v2')<br>\n",
    "    &nbsp;&nbsp;&nbsp;&nbsp; embeddings = model.encode(sentences)<br>\n",
    "    &nbsp;&nbsp;&nbsp;&nbsp; similiarity = cosine_similarity(embeddings[0].reshape(1,-1),embeddings[1].reshape(1,-1))<br>\n",
    "\n",
    "    return similiarity"
   ]
  },
  {
   "cell_type": "markdown",
   "metadata": {},
   "source": [
    "## Good answer"
   ]
  },
  {
   "cell_type": "code",
   "execution_count": 76,
   "metadata": {},
   "outputs": [],
   "source": [
    "# get_similiarity(\"Distributed computing is a method where multiple computers work together to solve a problem, dividing tasks among them. It enhances performance, reliability, and scalability.\",\"Distributed computing involves networks of computers collaborating on tasks, improving efficiency and fault tolerance but potentially complicating coordination and communication.\")"
   ]
  },
  {
   "cell_type": "markdown",
   "metadata": {},
   "source": [
    "## Imperfect answer"
   ]
  },
  {
   "cell_type": "code",
   "execution_count": 77,
   "metadata": {},
   "outputs": [],
   "source": [
    "# get_similiarity(\"Distributed computing is a method where multiple computers work together to solve a problem, dividing tasks among them. It enhances performance, reliability, and scalability.\",\"Natural Language Processing (NLP) is a branch of artificial intelligence that focuses on the interaction between computers and humans through natural language. It involves tasks such as text comprehension, sentiment analysis, and language generation.\")"
   ]
  },
  {
   "cell_type": "code",
   "execution_count": 78,
   "metadata": {},
   "outputs": [],
   "source": [
    "import spacy\n",
    "import re\n",
    "from spacy.matcher import Matcher\n",
    "def keyphrase_match_score(list_of_key_phrases: list[str], answer: str):\n",
    "    nlp = spacy.load('en_core_web_sm')\n",
    "    score = 0\n",
    "    \n",
    "    for phrase in list_of_key_phrases:\n",
    "        phrase = re.sub(r'[^a-zA-z0-9 ]',' ',phrase)\n",
    "        phrase = re.sub(r'\\s+',' ',phrase)\n",
    "\n",
    "        m_tool = Matcher(nlp.vocab)\n",
    "\n",
    "        vocab = [{'LOWER':word} for word in phrase.split()]\n",
    "        m_tool.add('matcher',[vocab,])\n",
    "        sentence = nlp(answer)\n",
    "        if len(m_tool(sentence)) > 0:\n",
    "            score+=1\n",
    "\n",
    "\n",
    "    return score/len(list_of_key_phrases)\n",
    "    # sentence = nlp(answer)\n",
    "    # phrase_matches = m_tool(sentence)\n",
    "    # print(phrase_matches)"
   ]
  },
  {
   "cell_type": "code",
   "execution_count": 79,
   "metadata": {},
   "outputs": [
    {
     "data": {
      "text/plain": [
       "0.5"
      ]
     },
     "execution_count": 79,
     "metadata": {},
     "output_type": "execute_result"
    }
   ],
   "source": [
    "keyphrase_match_score(['adventure','of a life','coldplay','beautiful song'],'Coldplay had once created a beautiful song called theatre of a lifetime')"
   ]
  }
 ],
 "metadata": {
  "kernelspec": {
   "display_name": "ml",
   "language": "python",
   "name": "python3"
  },
  "language_info": {
   "codemirror_mode": {
    "name": "ipython",
    "version": 3
   },
   "file_extension": ".py",
   "mimetype": "text/x-python",
   "name": "python",
   "nbconvert_exporter": "python",
   "pygments_lexer": "ipython3",
   "version": "3.11.8"
  }
 },
 "nbformat": 4,
 "nbformat_minor": 2
}
