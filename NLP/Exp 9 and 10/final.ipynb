{
 "cells": [
  {
   "cell_type": "markdown",
   "metadata": {},
   "source": [
    "# NLP Miniproject"
   ]
  },
  {
   "cell_type": "markdown",
   "metadata": {},
   "source": [
    "### Comprehensive Answer Evaluation system\n",
    "**- Bodhisatya Ghosh (2021700026)** \\\n",
    "**- Anish Gade (2021700022)**"
   ]
  },
  {
   "cell_type": "code",
   "execution_count": 11,
   "metadata": {},
   "outputs": [],
   "source": [
    "from functions import *"
   ]
  },
  {
   "cell_type": "markdown",
   "metadata": {},
   "source": [
    "**Sytem inputs**\n",
    "\n",
    "- Evaluation type\n",
    "    - Subjective\n",
    "    - Keyword based\n",
    "- Synpotic Answer\n",
    "- Submitted answer\n",
    "- Maximum marks"
   ]
  },
  {
   "cell_type": "markdown",
   "metadata": {},
   "source": [
    "### Functions used"
   ]
  },
  {
   "cell_type": "markdown",
   "metadata": {},
   "source": [
    "<em><b>Evaluation function:</b></em>\n",
    "\n",
    "    def evaluate(evaluation: str, synoptic: list[str] | str, submitted: str, marks: int):\n",
    "    score_factor = None     \n",
    "        \n",
    "        if(evaluation == 'keyword'):\n",
    "            score_factor = keyphrase_match_score(synoptic.split(','),submitted)\n",
    "        \n",
    "        elif(evaluation == 'subjective'):\n",
    "            score_factor = get_similiarity(synoptic, submitted)\n",
    "\n",
    "        return marks * score_factor"
   ]
  },
  {
   "cell_type": "markdown",
   "metadata": {},
   "source": [
    "* Evaluates answer based on mentioned method\n",
    "* Returns score out of maximum score "
   ]
  },
  {
   "cell_type": "markdown",
   "metadata": {},
   "source": [
    "<em><b>Keyword matching:</b></em>\n",
    "\n",
    "    def keyphrase_match_score(list_of_key_phrases: list[str], answer: str):\n",
    "        nlp = spacy.load('en_core_web_sm')\n",
    "        answer = clean_text(answer)\n",
    "        score = 0\n",
    "        \n",
    "        for phrase in list_of_key_phrases:\n",
    "            phrase = clean_text(phrase)\n",
    "\n",
    "            m_tool = Matcher(nlp.vocab)\n",
    "\n",
    "            vocab = [{'LOWER':word} for word in phrase.split()]\n",
    "            m_tool.add('matcher',[vocab,])\n",
    "            sentence = nlp(answer)\n",
    "            if len(m_tool(sentence)) > 0:\n",
    "                score+=1\n",
    "\n",
    "\n",
    "        return score/len(list_of_key_phrases)"
   ]
  },
  {
   "cell_type": "markdown",
   "metadata": {},
   "source": [
    "* Takes all given synoptic keyphrases and uses Regular Expression to clean keyphrases\n",
    "* Create a PhraseMatcher object from SpaCy\n",
    "* Match phrases with submitted answer to check for number of phrases matched out of total needed phrases\n",
    "* Returns ratio of number of phrases matched to total needed phrases"
   ]
  },
  {
   "cell_type": "markdown",
   "metadata": {},
   "source": [
    "<em><b>Similiarity matching:</b></em>\n",
    "\n",
    "    def get_similiarity(synoptic, answer):\n",
    "        sentences =[synoptic, answer]\n",
    "        model = SentenceTransformer('sentence-transformers/paraphrase-multilingual-MiniLM-L12-v2')\n",
    "        embeddings = model.encode(sentences)\n",
    "        similiarity = cosine_similarity(embeddings[0].reshape(1,-1),embeddings[1].reshape(1,-1))\n",
    "\n",
    "        return similiarity[0][0]"
   ]
  },
  {
   "cell_type": "markdown",
   "metadata": {},
   "source": [
    "* Takes all given synoptic model answer and submitted answer \n",
    "* Create a SentenceTransformer Object that uses 'paraphrase-multilingual-MiniLM-L12-v2'\n",
    "* Encode sentences into feature vectors as trained by the model to acquire embeddings\n",
    "* Returns cosine similiarity between model answer and submitted answers' feature vector embeddings as ametric of similiarity\n",
    "\n",
    "SentenceTransformer( \\\n",
    "&nbsp;(0): Transformer({'max_seq_length': 128, 'do_lower_case': False}) with Transformer model: BertModel \\\n",
    "&nbsp;(1): Pooling({'word_embedding_dimension': 384, 'pooling_mode_cls_token': False, 'pooling_mode_mean_tokens': True, 'pooling_mode_max_tokens': False, 'pooling_mode_mean_sqrt_len_tokens': False})\n",
    ")\n"
   ]
  },
  {
   "cell_type": "markdown",
   "metadata": {},
   "source": [
    "## Sample question and answer"
   ]
  },
  {
   "cell_type": "markdown",
   "metadata": {},
   "source": [
    "#### What are the main causes of climate change, and what can be done to mitigate its effects?"
   ]
  },
  {
   "cell_type": "markdown",
   "metadata": {},
   "source": [
    "**Synoptic:** Climate change is primarily caused by human activities such as burning fossil fuels, deforestation, and industrial processes, which release greenhouse gases like carbon dioxide and methane into the atmosphere. These gases trap heat, leading to global warming and subsequent climate disruptions. To mitigate its effects, a multifaceted approach is necessary. This includes transitioning to renewable energy sources, implementing policies to reduce emissions, promoting afforestation and reforestation, adopting sustainable agricultural practices, enhancing energy efficiency, and encouraging international cooperation to set and achieve ambitious climate targets."
   ]
  },
  {
   "cell_type": "markdown",
   "metadata": {},
   "source": [
    "**Given answer:** Climate change is caused by various factors, including human activities such as burning fossil fuels and deforestation, which release greenhouse gases into the atmosphere. These gases trap heat, resulting in global warming and climate disruptions. To address climate change, efforts are needed to reduce emissions through transitioning to renewable energy sources, implementing policies to limit carbon emissions, and promoting sustainable practices in agriculture and industry."
   ]
  },
  {
   "cell_type": "markdown",
   "metadata": {},
   "source": [
    "**List of sample keywords**\n",
    "* Climate change\n",
    "* Causes\n",
    "* Human activities\n",
    "* Fossil fuels\n",
    "* Greenhouse gases\n",
    "* Mitigation\n",
    "* Renewable energy\n",
    "* Policies\n",
    "* Afforestation\n",
    "* Reforestation\n",
    "* Sustainable practices\n",
    "* International cooperation"
   ]
  },
  {
   "cell_type": "code",
   "execution_count": 12,
   "metadata": {},
   "outputs": [],
   "source": [
    "synoptic = \"Climate change is primarily caused by human activities such as burning fossil fuels, deforestation, and industrial processes, which release greenhouse gases like carbon dioxide and methane into the atmosphere. These gases trap heat, leading to global warming and subsequent climate disruptions. To mitigate its effects, a multifaceted approach is necessary. This includes transitioning to renewable energy sources, implementing policies to reduce emissions, promoting afforestation and reforestation, adopting sustainable agricultural practices, enhancing energy efficiency, and encouraging international cooperation to set and achieve ambitious climate targets.\"\n",
    "imperfect = \"Climate change is caused by various factors, including human activities such as burning fossil fuels and deforestation, which release greenhouse gases into the atmosphere. These gases trap heat, resulting in global warming and climate disruptions. To address climate change, efforts are needed to reduce emissions through transitioning to renewable energy sources, implementing policies to limit carbon emissions, and promoting sustainable practices in agriculture and industry.\"\n",
    "incorrect = \"Climate change is mainly caused by natural fluctuations in the Earth's temperature and solar radiation. Human activities play a minor role, but they are not significant contributors to the overall climate change phenomenon. Therefore, there's little need for mitigation efforts beyond what nature can naturally adjust.\"\n",
    "keyword_answer = \"Climate change is predominantly driven by human activities, such as the excessive use of fossil fuels and deforestation, resulting in the emission of greenhouse gases like carbon dioxide and methane. These gases trap heat in the atmosphere, leading to global warming and climate disruptions. To address this issue, it's imperative to implement comprehensive mitigation strategies. These include transitioning to renewable energy sources, enacting stringent policies to limit emissions, promoting afforestation and reforestation efforts, adopting sustainable practices across various sectors, and fostering international cooperation to tackle this global challenge effectively.\"\n",
    "keywords = [\n",
    "    \"Climate change\",\n",
    "    \"Causes\",\n",
    "    \"Human activities\",\n",
    "    \"Fossil fuels\",\n",
    "    \"Greenhouse gases\",\n",
    "    \"Mitigation\",\n",
    "    \"Renewable energy\",\n",
    "    \"Policies\",\n",
    "    \"Afforestation\",\n",
    "    \"Reforestation\",\n",
    "    \"Sustainable practices\",\n",
    "    \"International cooperation\"\n",
    "]\n",
    "# keywords_string = \"Climate change, Causes, Human activities, Fossil fuels, Greenhouse gases, Mitigation, Renewable energy, Policies, Afforestation, Reforestation, Sustainable practices, International cooperation\"\n",
    "\n",
    "marks = 10"
   ]
  },
  {
   "cell_type": "markdown",
   "metadata": {},
   "source": [
    "### For imperfect subjective answer"
   ]
  },
  {
   "cell_type": "markdown",
   "metadata": {},
   "source": [
    "Keyword based marking"
   ]
  },
  {
   "cell_type": "code",
   "execution_count": 13,
   "metadata": {},
   "outputs": [
    {
     "data": {
      "text/plain": [
       "'Score is: 5.8/10'"
      ]
     },
     "execution_count": 13,
     "metadata": {},
     "output_type": "execute_result"
    }
   ],
   "source": [
    "evaluate(\"keyword\", keywords, imperfect, marks)"
   ]
  },
  {
   "cell_type": "markdown",
   "metadata": {},
   "source": [
    "Semantic similiarity based marking"
   ]
  },
  {
   "cell_type": "code",
   "execution_count": 14,
   "metadata": {},
   "outputs": [
    {
     "data": {
      "text/plain": [
       "'Score is: 9.7/10'"
      ]
     },
     "execution_count": 14,
     "metadata": {},
     "output_type": "execute_result"
    }
   ],
   "source": [
    "evaluate(\"subjective\", synoptic, imperfect, marks)"
   ]
  },
  {
   "cell_type": "markdown",
   "metadata": {},
   "source": [
    "### For keyword based answer"
   ]
  },
  {
   "cell_type": "markdown",
   "metadata": {},
   "source": [
    "Keyword based marking"
   ]
  },
  {
   "cell_type": "code",
   "execution_count": 15,
   "metadata": {},
   "outputs": [
    {
     "data": {
      "text/plain": [
       "'Score is: 9.2/10'"
      ]
     },
     "execution_count": 15,
     "metadata": {},
     "output_type": "execute_result"
    }
   ],
   "source": [
    "evaluate(\"keyword\", keywords, keyword_answer, marks)"
   ]
  },
  {
   "cell_type": "markdown",
   "metadata": {},
   "source": [
    "Semantic similiarity based marking"
   ]
  },
  {
   "cell_type": "code",
   "execution_count": 16,
   "metadata": {},
   "outputs": [
    {
     "data": {
      "text/plain": [
       "'Score is: 9.5/10'"
      ]
     },
     "execution_count": 16,
     "metadata": {},
     "output_type": "execute_result"
    }
   ],
   "source": [
    "evaluate(\"subjective\", synoptic, keyword_answer, marks)"
   ]
  },
  {
   "cell_type": "markdown",
   "metadata": {},
   "source": [
    "### For incorrect answer"
   ]
  },
  {
   "cell_type": "markdown",
   "metadata": {},
   "source": [
    "Keyword based marking"
   ]
  },
  {
   "cell_type": "code",
   "execution_count": 17,
   "metadata": {},
   "outputs": [
    {
     "data": {
      "text/plain": [
       "'Score is: 2.5/10'"
      ]
     },
     "execution_count": 17,
     "metadata": {},
     "output_type": "execute_result"
    }
   ],
   "source": [
    "evaluate(\"keyword\", keywords, incorrect, marks)"
   ]
  },
  {
   "cell_type": "markdown",
   "metadata": {},
   "source": [
    "Semantic similiarity based marking"
   ]
  },
  {
   "cell_type": "code",
   "execution_count": 18,
   "metadata": {},
   "outputs": [
    {
     "data": {
      "text/plain": [
       "'Score is: 8.0/10'"
      ]
     },
     "execution_count": 18,
     "metadata": {},
     "output_type": "execute_result"
    }
   ],
   "source": [
    "evaluate(\"subjective\", synoptic, incorrect, marks)"
   ]
  }
 ],
 "metadata": {
  "kernelspec": {
   "display_name": "base",
   "language": "python",
   "name": "python3"
  },
  "language_info": {
   "codemirror_mode": {
    "name": "ipython",
    "version": 3
   },
   "file_extension": ".py",
   "mimetype": "text/x-python",
   "name": "python",
   "nbconvert_exporter": "python",
   "pygments_lexer": "ipython3",
   "version": "3.11.8"
  }
 },
 "nbformat": 4,
 "nbformat_minor": 2
}
