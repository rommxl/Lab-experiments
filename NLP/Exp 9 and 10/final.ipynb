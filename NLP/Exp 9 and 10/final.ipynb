{
 "cells": [
  {
   "cell_type": "markdown",
   "metadata": {},
   "source": [
    "# NLP Miniproject"
   ]
  },
  {
   "cell_type": "markdown",
   "metadata": {},
   "source": [
    "### Comprehensive Answer Evaluation system\n",
    "**- Bodhisatya Ghosh and Anish Gade**"
   ]
  },
  {
   "cell_type": "code",
   "execution_count": null,
   "metadata": {},
   "outputs": [],
   "source": [
    "from functions import *"
   ]
  },
  {
   "cell_type": "markdown",
   "metadata": {},
   "source": [
    "**Sytem inputs**\n",
    "\n",
    "- Evaluation type\n",
    "- Synpotic Answer\n",
    "    - Subjective\n",
    "    - Keyword based (',' separated keywords)\n",
    "- Submitted answer\n",
    "- Maximum marks"
   ]
  },
  {
   "cell_type": "code",
   "execution_count": null,
   "metadata": {},
   "outputs": [],
   "source": [
    "evaluation = input(\"Enter evaluation type: \")\n",
    "synoptic = input(\"Enter synoptic answer: \")\n",
    "submitted = input(\"Enter submitted answer: \")\n",
    "marks = int(input(\"Enter maximum marks: \"))"
   ]
  },
  {
   "cell_type": "code",
   "execution_count": null,
   "metadata": {},
   "outputs": [],
   "source": [
    "evaluate(evaluation, synoptic, submitted, marks)"
   ]
  },
  {
   "cell_type": "markdown",
   "metadata": {},
   "source": [
    "### Functions used"
   ]
  },
  {
   "cell_type": "code",
   "execution_count": null,
   "metadata": {},
   "outputs": [],
   "source": [
    "def evaluate(evaluation: str, synoptic: list[str] | str, submitted: str, marks: int):\n",
    "    score_factor = None     \n",
    "    \n",
    "    if(evaluation == 'keyword'):\n",
    "        score_factor = keyphrase_match_score(synoptic.split(','),submitted)\n",
    "    \n",
    "    elif(evaluation == 'subjective'):\n",
    "        score_factor = get_similiarity(synoptic, submitted)\n",
    "\n",
    "    return marks * score_factor"
   ]
  },
  {
   "cell_type": "code",
   "execution_count": null,
   "metadata": {},
   "outputs": [],
   "source": [
    "def keyphrase_match_score(list_of_key_phrases: list[str], answer: str):\n",
    "    nlp = spacy.load('en_core_web_sm')\n",
    "    score = 0\n",
    "    \n",
    "    for phrase in list_of_key_phrases:\n",
    "        phrase = re.sub(r'[^a-zA-z0-9 ]',' ',phrase)\n",
    "        phrase = re.sub(r'\\s+',' ',phrase)\n",
    "\n",
    "        m_tool = Matcher(nlp.vocab)\n",
    "\n",
    "        vocab = [{'LOWER':word} for word in phrase.split()]\n",
    "        m_tool.add('matcher',[vocab,])\n",
    "        sentence = nlp(answer)\n",
    "        if len(m_tool(sentence)) > 0:\n",
    "            score+=1\n",
    "\n",
    "\n",
    "    return score/len(list_of_key_phrases)"
   ]
  },
  {
   "cell_type": "markdown",
   "metadata": {},
   "source": [
    "* Takes all given synoptic keyphrases and uses Regular Expression to clean keyphrases\n",
    "* Create a PhraseMatcher object from SpaCy\n",
    "* Match phrases with submitted answer to check for number of phrases matched out of total needed phrases\n",
    "* Returns ratio of number of phrases matched to total needed phrases"
   ]
  },
  {
   "cell_type": "code",
   "execution_count": null,
   "metadata": {},
   "outputs": [],
   "source": [
    "def get_similiarity(synoptic, answer):\n",
    "    sentences =[synoptic, answer]\n",
    "    model = SentenceTransformer('sentence-transformers/paraphrase-multilingual-MiniLM-L12-v2')\n",
    "    embeddings = model.encode(sentences)\n",
    "    similiarity = cosine_similarity(embeddings[0].reshape(1,-1),embeddings[1].reshape(1,-1))\n",
    "\n",
    "    return similiarity[0][0]"
   ]
  },
  {
   "cell_type": "markdown",
   "metadata": {},
   "source": [
    "* Takes all given synoptic model answer and submitted answer \n",
    "* Create a SentenceTransformer Object that uses 'paraphrase-multilingual-MiniLM-L12-v2'\n",
    "* Encode sentences into feature vectors as trained by the model to acquire embeddings\n",
    "* Returns cosine similiarity between model answer and submitted answers' feature vector embeddings as ametric of similiarity"
   ]
  }
 ],
 "metadata": {
  "kernelspec": {
   "display_name": "base",
   "language": "python",
   "name": "python3"
  },
  "language_info": {
   "codemirror_mode": {
    "name": "ipython",
    "version": 3
   },
   "file_extension": ".py",
   "mimetype": "text/x-python",
   "name": "python",
   "nbconvert_exporter": "python",
   "pygments_lexer": "ipython3",
   "version": "3.11.8"
  }
 },
 "nbformat": 4,
 "nbformat_minor": 2
}
