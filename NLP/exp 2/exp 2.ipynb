{
 "cells": [
  {
   "cell_type": "markdown",
   "metadata": {},
   "source": [
    "**Name** : Bodhisatya Ghosh \\\n",
    "**Class** : CSE DS \\\n",
    "**UID** : 2021700026 \\\n",
    "**Subject** : NLP \\\n",
    "**Experiment number** : 2 \\\n",
    "\\\n",
    "**Aim**:\n",
    "1. Generate word forms from root and suffix information using Add-Delete table.\n",
    "2. Comparative study of Porter/Snowball/Lancaster Stemmer and Stemmer vs Lemmatizer"
   ]
  },
  {
   "cell_type": "markdown",
   "metadata": {},
   "source": [
    "## Importing and cleaning test data"
   ]
  },
  {
   "cell_type": "code",
   "execution_count": 31,
   "metadata": {},
   "outputs": [],
   "source": [
    "import pandas as pd\n",
    "import nltk"
   ]
  },
  {
   "cell_type": "code",
   "execution_count": 32,
   "metadata": {},
   "outputs": [
    {
     "data": {
      "text/html": [
       "<div>\n",
       "<style scoped>\n",
       "    .dataframe tbody tr th:only-of-type {\n",
       "        vertical-align: middle;\n",
       "    }\n",
       "\n",
       "    .dataframe tbody tr th {\n",
       "        vertical-align: top;\n",
       "    }\n",
       "\n",
       "    .dataframe thead th {\n",
       "        text-align: right;\n",
       "    }\n",
       "</style>\n",
       "<table border=\"1\" class=\"dataframe\">\n",
       "  <thead>\n",
       "    <tr style=\"text-align: right;\">\n",
       "      <th></th>\n",
       "      <th>review</th>\n",
       "      <th>sentiment</th>\n",
       "    </tr>\n",
       "  </thead>\n",
       "  <tbody>\n",
       "    <tr>\n",
       "      <th>0</th>\n",
       "      <td>One of the other reviewers has mentioned that ...</td>\n",
       "      <td>positive</td>\n",
       "    </tr>\n",
       "    <tr>\n",
       "      <th>1</th>\n",
       "      <td>A wonderful little production. &lt;br /&gt;&lt;br /&gt;The...</td>\n",
       "      <td>positive</td>\n",
       "    </tr>\n",
       "    <tr>\n",
       "      <th>2</th>\n",
       "      <td>I thought this was a wonderful way to spend ti...</td>\n",
       "      <td>positive</td>\n",
       "    </tr>\n",
       "    <tr>\n",
       "      <th>3</th>\n",
       "      <td>Basically there's a family where a little boy ...</td>\n",
       "      <td>negative</td>\n",
       "    </tr>\n",
       "    <tr>\n",
       "      <th>4</th>\n",
       "      <td>Petter Mattei's \"Love in the Time of Money\" is...</td>\n",
       "      <td>positive</td>\n",
       "    </tr>\n",
       "  </tbody>\n",
       "</table>\n",
       "</div>"
      ],
      "text/plain": [
       "                                              review sentiment\n",
       "0  One of the other reviewers has mentioned that ...  positive\n",
       "1  A wonderful little production. <br /><br />The...  positive\n",
       "2  I thought this was a wonderful way to spend ti...  positive\n",
       "3  Basically there's a family where a little boy ...  negative\n",
       "4  Petter Mattei's \"Love in the Time of Money\" is...  positive"
      ]
     },
     "execution_count": 32,
     "metadata": {},
     "output_type": "execute_result"
    }
   ],
   "source": [
    "data = pd.read_csv('./reviews.csv')\n",
    "data.head()"
   ]
  },
  {
   "cell_type": "code",
   "execution_count": 33,
   "metadata": {},
   "outputs": [
    {
     "data": {
      "text/html": [
       "<div>\n",
       "<style scoped>\n",
       "    .dataframe tbody tr th:only-of-type {\n",
       "        vertical-align: middle;\n",
       "    }\n",
       "\n",
       "    .dataframe tbody tr th {\n",
       "        vertical-align: top;\n",
       "    }\n",
       "\n",
       "    .dataframe thead th {\n",
       "        text-align: right;\n",
       "    }\n",
       "</style>\n",
       "<table border=\"1\" class=\"dataframe\">\n",
       "  <thead>\n",
       "    <tr style=\"text-align: right;\">\n",
       "      <th></th>\n",
       "      <th>review</th>\n",
       "      <th>sentiment</th>\n",
       "    </tr>\n",
       "  </thead>\n",
       "  <tbody>\n",
       "    <tr>\n",
       "      <th>0</th>\n",
       "      <td>One of the other reviewers has mentioned that ...</td>\n",
       "      <td>positive</td>\n",
       "    </tr>\n",
       "    <tr>\n",
       "      <th>1</th>\n",
       "      <td>A wonderful little production br br The filmin...</td>\n",
       "      <td>positive</td>\n",
       "    </tr>\n",
       "    <tr>\n",
       "      <th>2</th>\n",
       "      <td>I thought this was a wonderful way to spend ti...</td>\n",
       "      <td>positive</td>\n",
       "    </tr>\n",
       "    <tr>\n",
       "      <th>3</th>\n",
       "      <td>Basically there s a family where a little boy ...</td>\n",
       "      <td>negative</td>\n",
       "    </tr>\n",
       "    <tr>\n",
       "      <th>4</th>\n",
       "      <td>Petter Mattei s Love in the Time of Money is a...</td>\n",
       "      <td>positive</td>\n",
       "    </tr>\n",
       "  </tbody>\n",
       "</table>\n",
       "</div>"
      ],
      "text/plain": [
       "                                              review sentiment\n",
       "0  One of the other reviewers has mentioned that ...  positive\n",
       "1  A wonderful little production br br The filmin...  positive\n",
       "2  I thought this was a wonderful way to spend ti...  positive\n",
       "3  Basically there s a family where a little boy ...  negative\n",
       "4  Petter Mattei s Love in the Time of Money is a...  positive"
      ]
     },
     "execution_count": 33,
     "metadata": {},
     "output_type": "execute_result"
    }
   ],
   "source": [
    "data['review'] = data['review'].str.replace(r'[^A-Za-z0-9]',' ',regex=True)\n",
    "data['review'] = data['review'].str.replace(r'\\s+',' ',regex=True)\n",
    "data.head()"
   ]
  },
  {
   "cell_type": "code",
   "execution_count": 34,
   "metadata": {},
   "outputs": [],
   "source": [
    "reviews = data.loc[1,'review']"
   ]
  },
  {
   "cell_type": "markdown",
   "metadata": {},
   "source": [
    "# Creating add-delete table of all words in sample"
   ]
  },
  {
   "cell_type": "code",
   "execution_count": 35,
   "metadata": {},
   "outputs": [],
   "source": [
    "from word_forms.word_forms import get_word_forms"
   ]
  },
  {
   "cell_type": "code",
   "execution_count": 36,
   "metadata": {},
   "outputs": [
    {
     "data": {
      "text/html": [
       "<div>\n",
       "<style scoped>\n",
       "    .dataframe tbody tr th:only-of-type {\n",
       "        vertical-align: middle;\n",
       "    }\n",
       "\n",
       "    .dataframe tbody tr th {\n",
       "        vertical-align: top;\n",
       "    }\n",
       "\n",
       "    .dataframe thead th {\n",
       "        text-align: right;\n",
       "    }\n",
       "</style>\n",
       "<table border=\"1\" class=\"dataframe\">\n",
       "  <thead>\n",
       "    <tr style=\"text-align: right;\">\n",
       "      <th></th>\n",
       "      <th>Original</th>\n",
       "      <th>Forms</th>\n",
       "    </tr>\n",
       "  </thead>\n",
       "  <tbody>\n",
       "    <tr>\n",
       "      <th>0</th>\n",
       "      <td>A</td>\n",
       "      <td>[a, as]</td>\n",
       "    </tr>\n",
       "    <tr>\n",
       "      <th>1</th>\n",
       "      <td>wonderful</td>\n",
       "      <td>[wonderfulnesses, wonderfulness, wonderful, wo...</td>\n",
       "    </tr>\n",
       "    <tr>\n",
       "      <th>2</th>\n",
       "      <td>little</td>\n",
       "      <td>[littlenesses, littleness, littles, little, li...</td>\n",
       "    </tr>\n",
       "    <tr>\n",
       "      <th>3</th>\n",
       "      <td>production</td>\n",
       "      <td>[producers, products, produce, producer, produ...</td>\n",
       "    </tr>\n",
       "    <tr>\n",
       "      <th>4</th>\n",
       "      <td>br</td>\n",
       "      <td>[]</td>\n",
       "    </tr>\n",
       "    <tr>\n",
       "      <th>...</th>\n",
       "      <td>...</td>\n",
       "      <td>...</td>\n",
       "    </tr>\n",
       "    <tr>\n",
       "      <th>162</th>\n",
       "      <td>are</td>\n",
       "      <td>[ares, beings, are, being, wasn't, am, been, a...</td>\n",
       "    </tr>\n",
       "    <tr>\n",
       "      <th>163</th>\n",
       "      <td>terribly</td>\n",
       "      <td>[terriblenesses, terribleness, terrible, terri...</td>\n",
       "    </tr>\n",
       "    <tr>\n",
       "      <th>164</th>\n",
       "      <td>well</td>\n",
       "      <td>[wellness, wells, wellnesses, well, well, well...</td>\n",
       "    </tr>\n",
       "    <tr>\n",
       "      <th>165</th>\n",
       "      <td>done</td>\n",
       "      <td>[doers, do, does, doer, done, do, does, didn't...</td>\n",
       "    </tr>\n",
       "    <tr>\n",
       "      <th>166</th>\n",
       "      <td></td>\n",
       "      <td>[]</td>\n",
       "    </tr>\n",
       "  </tbody>\n",
       "</table>\n",
       "<p>167 rows × 2 columns</p>\n",
       "</div>"
      ],
      "text/plain": [
       "       Original                                              Forms\n",
       "0             A                                            [a, as]\n",
       "1     wonderful  [wonderfulnesses, wonderfulness, wonderful, wo...\n",
       "2        little  [littlenesses, littleness, littles, little, li...\n",
       "3    production  [producers, products, produce, producer, produ...\n",
       "4            br                                                 []\n",
       "..          ...                                                ...\n",
       "162         are  [ares, beings, are, being, wasn't, am, been, a...\n",
       "163    terribly  [terriblenesses, terribleness, terrible, terri...\n",
       "164        well  [wellness, wells, wellnesses, well, well, well...\n",
       "165        done  [doers, do, does, doer, done, do, does, didn't...\n",
       "166                                                             []\n",
       "\n",
       "[167 rows x 2 columns]"
      ]
     },
     "execution_count": 36,
     "metadata": {},
     "output_type": "execute_result"
    }
   ],
   "source": [
    "data = reviews.split(\" \")\n",
    "addDel_data = []\n",
    "\n",
    "for word in data:\n",
    "    forms = []\n",
    "\n",
    "    mapping = {}\n",
    "\n",
    "    wordsData = get_word_forms(word)\n",
    "    for category in wordsData:\n",
    "        for form in wordsData[category]:\n",
    "            forms.append(form)\n",
    "    mapping[\"Original\"] = word\n",
    "    mapping['Forms'] = forms\n",
    "\n",
    "    addDel_data.append(mapping)\n",
    "    # print(mapping)\n",
    "wordFormTable = pd.DataFrame(addDel_data)\n",
    "wordFormTable\n"
   ]
  },
  {
   "cell_type": "markdown",
   "metadata": {},
   "source": [
    "# Comparing stemmers\n",
    "\n",
    "### Stemming function"
   ]
  },
  {
   "cell_type": "code",
   "execution_count": 37,
   "metadata": {},
   "outputs": [],
   "source": [
    "def stemFunction(data,stemmer):\n",
    "    original = []\n",
    "    root = []\n",
    "\n",
    "    wordList = data.split(\" \")\n",
    "\n",
    "    for word in wordList:\n",
    "        original.append(word)\n",
    "        root.append(stemmer.stem(word))\n",
    "    return root, original"
   ]
  },
  {
   "cell_type": "markdown",
   "metadata": {},
   "source": [
    "### Stemming using Snowball stemmer"
   ]
  },
  {
   "cell_type": "code",
   "execution_count": 38,
   "metadata": {},
   "outputs": [],
   "source": [
    "original = []"
   ]
  },
  {
   "cell_type": "code",
   "execution_count": 39,
   "metadata": {},
   "outputs": [],
   "source": [
    "#Using snowball stemmer\n",
    "from nltk.stem.snowball import SnowballStemmer\n",
    "snowballStemmer = SnowballStemmer('english')"
   ]
  },
  {
   "cell_type": "code",
   "execution_count": 40,
   "metadata": {},
   "outputs": [],
   "source": [
    "snowball, original = stemFunction(reviews,snowballStemmer)"
   ]
  },
  {
   "cell_type": "markdown",
   "metadata": {},
   "source": [
    "### Stemming using PorterStemmer"
   ]
  },
  {
   "cell_type": "code",
   "execution_count": 41,
   "metadata": {},
   "outputs": [],
   "source": [
    "from nltk.stem import PorterStemmer\n",
    "portStemmer = PorterStemmer()"
   ]
  },
  {
   "cell_type": "markdown",
   "metadata": {},
   "source": [
    "### Stemming using LancasterStemmer"
   ]
  },
  {
   "cell_type": "code",
   "execution_count": 42,
   "metadata": {},
   "outputs": [],
   "source": [
    "porter, _ = stemFunction(reviews,portStemmer)"
   ]
  },
  {
   "cell_type": "code",
   "execution_count": 43,
   "metadata": {},
   "outputs": [],
   "source": [
    "from nltk.stem import LancasterStemmer\n",
    "lancasterStemmer = LancasterStemmer()"
   ]
  },
  {
   "cell_type": "code",
   "execution_count": 44,
   "metadata": {},
   "outputs": [],
   "source": [
    "lancaster, _ = stemFunction(reviews, lancasterStemmer)"
   ]
  },
  {
   "cell_type": "code",
   "execution_count": 45,
   "metadata": {},
   "outputs": [],
   "source": [
    "from nltk.stem import WordNetLemmatizer\n",
    "lemmatizer = WordNetLemmatizer()"
   ]
  },
  {
   "cell_type": "code",
   "execution_count": 46,
   "metadata": {},
   "outputs": [],
   "source": [
    "lemmatized = []\n",
    "data = reviews.split(\" \")\n",
    "\n",
    "for word in data:\n",
    "    lemmatized.append(lemmatizer.lemmatize(word))"
   ]
  },
  {
   "cell_type": "markdown",
   "metadata": {},
   "source": [
    "### Create comparison table "
   ]
  },
  {
   "cell_type": "code",
   "execution_count": 47,
   "metadata": {},
   "outputs": [],
   "source": [
    "compare = pd.DataFrame({\"Original\":original,\n",
    "                        \"Snowball Stemmer\":snowball,\n",
    "                        \"Porter Stemmer\":porter,\n",
    "                        \"Lancaster Stemmer\":lancaster,\n",
    "                        \"Lemmatized\":lemmatized})"
   ]
  },
  {
   "cell_type": "code",
   "execution_count": 48,
   "metadata": {},
   "outputs": [
    {
     "data": {
      "text/html": [
       "<div>\n",
       "<style scoped>\n",
       "    .dataframe tbody tr th:only-of-type {\n",
       "        vertical-align: middle;\n",
       "    }\n",
       "\n",
       "    .dataframe tbody tr th {\n",
       "        vertical-align: top;\n",
       "    }\n",
       "\n",
       "    .dataframe thead th {\n",
       "        text-align: right;\n",
       "    }\n",
       "</style>\n",
       "<table border=\"1\" class=\"dataframe\">\n",
       "  <thead>\n",
       "    <tr style=\"text-align: right;\">\n",
       "      <th></th>\n",
       "      <th>Original</th>\n",
       "      <th>Snowball Stemmer</th>\n",
       "      <th>Porter Stemmer</th>\n",
       "      <th>Lancaster Stemmer</th>\n",
       "      <th>Lemmatized</th>\n",
       "    </tr>\n",
       "  </thead>\n",
       "  <tbody>\n",
       "    <tr>\n",
       "      <th>0</th>\n",
       "      <td>A</td>\n",
       "      <td>a</td>\n",
       "      <td>a</td>\n",
       "      <td>a</td>\n",
       "      <td>A</td>\n",
       "    </tr>\n",
       "    <tr>\n",
       "      <th>1</th>\n",
       "      <td>wonderful</td>\n",
       "      <td>wonder</td>\n",
       "      <td>wonder</td>\n",
       "      <td>wond</td>\n",
       "      <td>wonderful</td>\n",
       "    </tr>\n",
       "    <tr>\n",
       "      <th>2</th>\n",
       "      <td>little</td>\n",
       "      <td>littl</td>\n",
       "      <td>littl</td>\n",
       "      <td>littl</td>\n",
       "      <td>little</td>\n",
       "    </tr>\n",
       "    <tr>\n",
       "      <th>3</th>\n",
       "      <td>production</td>\n",
       "      <td>product</td>\n",
       "      <td>product</td>\n",
       "      <td>produc</td>\n",
       "      <td>production</td>\n",
       "    </tr>\n",
       "    <tr>\n",
       "      <th>4</th>\n",
       "      <td>br</td>\n",
       "      <td>br</td>\n",
       "      <td>br</td>\n",
       "      <td>br</td>\n",
       "      <td>br</td>\n",
       "    </tr>\n",
       "    <tr>\n",
       "      <th>...</th>\n",
       "      <td>...</td>\n",
       "      <td>...</td>\n",
       "      <td>...</td>\n",
       "      <td>...</td>\n",
       "      <td>...</td>\n",
       "    </tr>\n",
       "    <tr>\n",
       "      <th>162</th>\n",
       "      <td>are</td>\n",
       "      <td>are</td>\n",
       "      <td>are</td>\n",
       "      <td>ar</td>\n",
       "      <td>are</td>\n",
       "    </tr>\n",
       "    <tr>\n",
       "      <th>163</th>\n",
       "      <td>terribly</td>\n",
       "      <td>terribl</td>\n",
       "      <td>terribl</td>\n",
       "      <td>terr</td>\n",
       "      <td>terribly</td>\n",
       "    </tr>\n",
       "    <tr>\n",
       "      <th>164</th>\n",
       "      <td>well</td>\n",
       "      <td>well</td>\n",
       "      <td>well</td>\n",
       "      <td>wel</td>\n",
       "      <td>well</td>\n",
       "    </tr>\n",
       "    <tr>\n",
       "      <th>165</th>\n",
       "      <td>done</td>\n",
       "      <td>done</td>\n",
       "      <td>done</td>\n",
       "      <td>don</td>\n",
       "      <td>done</td>\n",
       "    </tr>\n",
       "    <tr>\n",
       "      <th>166</th>\n",
       "      <td></td>\n",
       "      <td></td>\n",
       "      <td></td>\n",
       "      <td></td>\n",
       "      <td></td>\n",
       "    </tr>\n",
       "  </tbody>\n",
       "</table>\n",
       "<p>167 rows × 5 columns</p>\n",
       "</div>"
      ],
      "text/plain": [
       "       Original Snowball Stemmer Porter Stemmer Lancaster Stemmer  Lemmatized\n",
       "0             A                a              a                 a           A\n",
       "1     wonderful           wonder         wonder              wond   wonderful\n",
       "2        little            littl          littl             littl      little\n",
       "3    production          product        product            produc  production\n",
       "4            br               br             br                br          br\n",
       "..          ...              ...            ...               ...         ...\n",
       "162         are              are            are                ar         are\n",
       "163    terribly          terribl        terribl              terr    terribly\n",
       "164        well             well           well               wel        well\n",
       "165        done             done           done               don        done\n",
       "166                                                                          \n",
       "\n",
       "[167 rows x 5 columns]"
      ]
     },
     "execution_count": 48,
     "metadata": {},
     "output_type": "execute_result"
    }
   ],
   "source": [
    "compare"
   ]
  },
  {
   "cell_type": "markdown",
   "metadata": {},
   "source": [
    "### What is paradigm class? Give example"
   ]
  },
  {
   "cell_type": "markdown",
   "metadata": {},
   "source": [
    "In linguistics, a paradigm refers to a set of related words that share a common grammatical feature, such as tense, person, or number.\n",
    "\n",
    "For example, in English, the verb \"to be\" has a paradigm for the present tense with variations like \"am,\" \"is,\" and \"are\" depending on the person (I am, he/she/it is, we/you/they are). This demonstrates a paradigm class for the verb \"to be\" in the present tense."
   ]
  },
  {
   "cell_type": "markdown",
   "metadata": {},
   "source": [
    "### What are the different types of morphemes. Give example of each.\n"
   ]
  },
  {
   "cell_type": "markdown",
   "metadata": {},
   "source": [
    "Morphemes are the smallest units of meaning in a language. There are two main types of morphemes: free morphemes and bound morphemes. Additionally, bound morphemes can be further classified into two types: roots and affixes.\n",
    "\n",
    "1. **Free Morphemes:**\n",
    "   - **Example:** In the word \"book,\" the morpheme \"book\" is a free morpheme because it can stand alone as a meaningful word.\n",
    "\n",
    "2. **Bound Morphemes:**\n",
    "   - **Roots:** These are the core, meaningful units to which affixes can be added. \n",
    "      - **Example:** In the word \"happiness,\" \"happy\" is the root morpheme.\n",
    "      \n",
    "   - **Affixes:** These are morphemes added to the root to create a new meaning.\n",
    "      - **Prefix:** Added at the beginning of a root.\n",
    "         - **Example:** In the word \"unhappy,\" \"un-\" is a prefix.\n",
    "      \n",
    "      - **Suffix:** Added at the end of a root.\n",
    "         - **Example:** In the word \"happily,\" \"-ly\" is a suffix.\n",
    "      \n",
    "      - **Infix:** Added within a root.\n",
    "         - **Example:** In some languages, an infix might be inserted for emphasis or grammatical purposes, but it's less common in English.\n"
   ]
  },
  {
   "cell_type": "markdown",
   "metadata": {},
   "source": []
  }
 ],
 "metadata": {
  "kernelspec": {
   "display_name": "ml",
   "language": "python",
   "name": "python3"
  },
  "language_info": {
   "codemirror_mode": {
    "name": "ipython",
    "version": 3
   },
   "file_extension": ".py",
   "mimetype": "text/x-python",
   "name": "python",
   "nbconvert_exporter": "python",
   "pygments_lexer": "ipython3",
   "version": "3.10.13"
  }
 },
 "nbformat": 4,
 "nbformat_minor": 2
}
