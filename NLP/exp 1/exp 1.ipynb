{
 "cells": [
  {
   "cell_type": "markdown",
   "metadata": {},
   "source": [
    "**Name** : Bodhisatya Ghosh \\\n",
    "**Class** : CSE DS \\\n",
    "**UID** : 2021700026 \\\n",
    "**Subject** : NLP \\\n",
    "**Experiment number** : 1 \\\n",
    "\\\n",
    "**Aim**: Create Frequency distribution table of input text & learn about morphological features of a word by analysing it."
   ]
  },
  {
   "cell_type": "code",
   "execution_count": 169,
   "metadata": {},
   "outputs": [],
   "source": [
    "import pandas as pd\n",
    "import nltk"
   ]
  },
  {
   "cell_type": "markdown",
   "metadata": {},
   "source": [
    "### Data cleaning"
   ]
  },
  {
   "cell_type": "code",
   "execution_count": 170,
   "metadata": {},
   "outputs": [
    {
     "data": {
      "text/html": [
       "<div>\n",
       "<style scoped>\n",
       "    .dataframe tbody tr th:only-of-type {\n",
       "        vertical-align: middle;\n",
       "    }\n",
       "\n",
       "    .dataframe tbody tr th {\n",
       "        vertical-align: top;\n",
       "    }\n",
       "\n",
       "    .dataframe thead th {\n",
       "        text-align: right;\n",
       "    }\n",
       "</style>\n",
       "<table border=\"1\" class=\"dataframe\">\n",
       "  <thead>\n",
       "    <tr style=\"text-align: right;\">\n",
       "      <th></th>\n",
       "      <th>review</th>\n",
       "      <th>sentiment</th>\n",
       "    </tr>\n",
       "  </thead>\n",
       "  <tbody>\n",
       "    <tr>\n",
       "      <th>0</th>\n",
       "      <td>One of the other reviewers has mentioned that ...</td>\n",
       "      <td>positive</td>\n",
       "    </tr>\n",
       "    <tr>\n",
       "      <th>1</th>\n",
       "      <td>A wonderful little production. &lt;br /&gt;&lt;br /&gt;The...</td>\n",
       "      <td>positive</td>\n",
       "    </tr>\n",
       "    <tr>\n",
       "      <th>2</th>\n",
       "      <td>I thought this was a wonderful way to spend ti...</td>\n",
       "      <td>positive</td>\n",
       "    </tr>\n",
       "    <tr>\n",
       "      <th>3</th>\n",
       "      <td>Basically there's a family where a little boy ...</td>\n",
       "      <td>negative</td>\n",
       "    </tr>\n",
       "    <tr>\n",
       "      <th>4</th>\n",
       "      <td>Petter Mattei's \"Love in the Time of Money\" is...</td>\n",
       "      <td>positive</td>\n",
       "    </tr>\n",
       "  </tbody>\n",
       "</table>\n",
       "</div>"
      ],
      "text/plain": [
       "                                              review sentiment\n",
       "0  One of the other reviewers has mentioned that ...  positive\n",
       "1  A wonderful little production. <br /><br />The...  positive\n",
       "2  I thought this was a wonderful way to spend ti...  positive\n",
       "3  Basically there's a family where a little boy ...  negative\n",
       "4  Petter Mattei's \"Love in the Time of Money\" is...  positive"
      ]
     },
     "execution_count": 170,
     "metadata": {},
     "output_type": "execute_result"
    }
   ],
   "source": [
    "data = pd.read_csv('./reviews.csv')\n",
    "data.head()"
   ]
  },
  {
   "cell_type": "code",
   "execution_count": 171,
   "metadata": {},
   "outputs": [],
   "source": [
    "data['review'] = data['review'].str.replace(r'[^A-Za-z0-9]',' ',regex=True)\n",
    "data['review'] = data['review'].str.replace(r'\\s+',' ',regex=True)\n",
    "data['review'] = data['review'].str.lower()\n",
    "reviews = data['review']\n"
   ]
  },
  {
   "cell_type": "code",
   "execution_count": 172,
   "metadata": {},
   "outputs": [],
   "source": [
    "with open('sample.txt','w') as file:\n",
    "    file.write(reviews[1])"
   ]
  },
  {
   "cell_type": "markdown",
   "metadata": {},
   "source": [
    "## Frequency distribution of sentence"
   ]
  },
  {
   "cell_type": "code",
   "execution_count": 173,
   "metadata": {},
   "outputs": [],
   "source": [
    "from nltk import word_tokenize\n",
    "from nltk.probability import FreqDist"
   ]
  },
  {
   "cell_type": "code",
   "execution_count": 174,
   "metadata": {},
   "outputs": [],
   "source": [
    "with open('sample.txt','r') as file:\n",
    "    sentence = file.read()"
   ]
  },
  {
   "cell_type": "code",
   "execution_count": 175,
   "metadata": {},
   "outputs": [],
   "source": [
    "# sentence = input(\"Enter the sentence\")"
   ]
  },
  {
   "cell_type": "code",
   "execution_count": 176,
   "metadata": {},
   "outputs": [],
   "source": [
    "words = word_tokenize(sentence)\n",
    "frequ = dict(FreqDist(words))"
   ]
  },
  {
   "cell_type": "code",
   "execution_count": 177,
   "metadata": {},
   "outputs": [],
   "source": [
    "word = []\n",
    "frequency = []\n",
    "for i in frequ:\n",
    "    word.append(i)\n",
    "    frequency.append(frequ[i])\n",
    "freq = pd.DataFrame({'Word':word,'Freq':frequency})"
   ]
  },
  {
   "cell_type": "code",
   "execution_count": 178,
   "metadata": {},
   "outputs": [],
   "source": [
    "\n",
    "freq.sort_values(by = ['Freq'], inplace=True, ascending=False)\n",
    "freq.reset_index(inplace=True)\n",
    "freq.drop(columns=['index'], inplace  = True)"
   ]
  },
  {
   "cell_type": "code",
   "execution_count": 179,
   "metadata": {},
   "outputs": [],
   "source": [
    "import matplotlib.pyplot as plt"
   ]
  },
  {
   "cell_type": "code",
   "execution_count": 180,
   "metadata": {},
   "outputs": [
    {
     "data": {
      "image/png": "[encoded data removed]",
      "text/plain": [
       "<Figure size 640x480 with 1 Axes>"
      ]
     },
     "metadata": {},
     "output_type": "display_data"
    }
   ],
   "source": [
    "count = 10\n",
    "plt.bar(x = freq.loc[:count,'Word'],height=freq.loc[:count,'Freq'])\n",
    "plt.show()"
   ]
  },
  {
   "cell_type": "markdown",
   "metadata": {},
   "source": [
    "## Morphology"
   ]
  },
  {
   "cell_type": "code",
   "execution_count": 181,
   "metadata": {},
   "outputs": [],
   "source": [
    "from nltk.stem import WordNetLemmatizer\n",
    "lemmatizer = WordNetLemmatizer()\n",
    "\n",
    "from nltk.stem.snowball import SnowballStemmer\n",
    "stemmer = SnowballStemmer('english')\n",
    "\n",
    "from nltk.tag import pos_tag\n",
    "\n",
    "import random \n",
    "from nltk.corpus import names "
   ]
  },
  {
   "cell_type": "code",
   "execution_count": 182,
   "metadata": {},
   "outputs": [],
   "source": [
    "sentence = sentence.split(' ')"
   ]
  },
  {
   "cell_type": "code",
   "execution_count": 183,
   "metadata": {},
   "outputs": [],
   "source": [
    "original = []\n",
    "stemmed = []\n",
    "lemma = []\n",
    "category = []\n",
    "gender = []\n",
    "number = []\n",
    "tense = []"
   ]
  },
  {
   "cell_type": "code",
   "execution_count": 184,
   "metadata": {},
   "outputs": [],
   "source": [
    "cnt = 0\n",
    "for i in words:\n",
    "    original.append(i)\n",
    "    stemmed.append(stemmer.stem(i))\n",
    "    lemma.append(lemmatizer.lemmatize(i))\n",
    "    category.append(nltk.pos_tag(words)[cnt][1])\n",
    "    if(nltk.pos_tag(words)[cnt][1] == 'NNS'):\n",
    "        number.append('Plural')\n",
    "    else:\n",
    "        number.append('singular')\n",
    "\n",
    "    if(nltk.pos_tag(words)[cnt][1] == \"MD\"):\n",
    "        tense.append('future')\n",
    "    elif(nltk.pos_tag(words)[cnt][1] in [\"VBP\", \"VBZ\",\"VBG\"]):\n",
    "        tense.append('present')\n",
    "    elif(nltk.pos_tag(words)[cnt][1] in [\"VBD\", \"VBN\"]):\n",
    "        tense.append('past')\n",
    "    else:\n",
    "        tense.append('not verb')\n",
    "    cnt+=1"
   ]
  },
  {
   "cell_type": "code",
   "execution_count": 185,
   "metadata": {},
   "outputs": [],
   "source": [
    "  \n",
    "def gender_features(word): \n",
    "    return {'last_letter':word[-1]} \n",
    "  \n",
    "# preparing a list of examples and corresponding class labels. \n",
    "labeled_names = ([(name, 'male') for name in names.words('male.txt')]+\n",
    "             [(name, 'female') for name in names.words('female.txt')]) \n",
    "  \n",
    "random.shuffle(labeled_names) \n",
    "  \n",
    "# we use the feature extractor to process the names data. \n",
    "featuresets = [(gender_features(n), gender)  \n",
    "               for (n, gender)in labeled_names] \n",
    "  \n",
    "# Divide the resulting list of feature \n",
    "# sets into a training set and a test set. \n",
    "train_set, test_set = featuresets[500:], featuresets[:500] \n",
    "  \n",
    "# The training set is used to  \n",
    "# train a new \"naive Bayes\" classifier. \n",
    "classifier = nltk.NaiveBayesClassifier.train(train_set) \n",
    "\n",
    "for i in words:\n",
    "    gender.append(classifier.classify(gender_features(i))) \n",
    "  \n",
    "# output should be 'male' \n",
    "# print(nltk.classify.accuracy(classifier, train_set))"
   ]
  },
  {
   "cell_type": "code",
   "execution_count": 186,
   "metadata": {},
   "outputs": [
    {
     "data": {
      "text/plain": [
       "166"
      ]
     },
     "execution_count": 186,
     "metadata": {},
     "output_type": "execute_result"
    }
   ],
   "source": [
    "len(original)"
   ]
  },
  {
   "cell_type": "code",
   "execution_count": 187,
   "metadata": {},
   "outputs": [],
   "source": [
    "final = pd.DataFrame({\"Original\":original,\n",
    "                      \"Stemmed\":stemmed,\n",
    "                      \"Lemmatized\":lemma,\n",
    "                      \"Category\":category,\n",
    "                      \"Gender\":gender,\n",
    "                      \"Number\":number,\n",
    "                      \"Tense\":tense})"
   ]
  },
  {
   "cell_type": "code",
   "execution_count": 188,
   "metadata": {},
   "outputs": [
    {
     "data": {
      "text/html": [
       "<div>\n",
       "<style scoped>\n",
       "    .dataframe tbody tr th:only-of-type {\n",
       "        vertical-align: middle;\n",
       "    }\n",
       "\n",
       "    .dataframe tbody tr th {\n",
       "        vertical-align: top;\n",
       "    }\n",
       "\n",
       "    .dataframe thead th {\n",
       "        text-align: right;\n",
       "    }\n",
       "</style>\n",
       "<table border=\"1\" class=\"dataframe\">\n",
       "  <thead>\n",
       "    <tr style=\"text-align: right;\">\n",
       "      <th></th>\n",
       "      <th>Original</th>\n",
       "      <th>Stemmed</th>\n",
       "      <th>Lemmatized</th>\n",
       "      <th>Category</th>\n",
       "      <th>Gender</th>\n",
       "      <th>Number</th>\n",
       "      <th>Tense</th>\n",
       "    </tr>\n",
       "  </thead>\n",
       "  <tbody>\n",
       "    <tr>\n",
       "      <th>0</th>\n",
       "      <td>a</td>\n",
       "      <td>a</td>\n",
       "      <td>a</td>\n",
       "      <td>DT</td>\n",
       "      <td>female</td>\n",
       "      <td>singular</td>\n",
       "      <td>not verb</td>\n",
       "    </tr>\n",
       "    <tr>\n",
       "      <th>1</th>\n",
       "      <td>wonderful</td>\n",
       "      <td>wonder</td>\n",
       "      <td>wonderful</td>\n",
       "      <td>JJ</td>\n",
       "      <td>male</td>\n",
       "      <td>singular</td>\n",
       "      <td>not verb</td>\n",
       "    </tr>\n",
       "    <tr>\n",
       "      <th>2</th>\n",
       "      <td>little</td>\n",
       "      <td>littl</td>\n",
       "      <td>little</td>\n",
       "      <td>JJ</td>\n",
       "      <td>female</td>\n",
       "      <td>singular</td>\n",
       "      <td>not verb</td>\n",
       "    </tr>\n",
       "    <tr>\n",
       "      <th>3</th>\n",
       "      <td>production</td>\n",
       "      <td>product</td>\n",
       "      <td>production</td>\n",
       "      <td>NN</td>\n",
       "      <td>male</td>\n",
       "      <td>singular</td>\n",
       "      <td>not verb</td>\n",
       "    </tr>\n",
       "    <tr>\n",
       "      <th>4</th>\n",
       "      <td>br</td>\n",
       "      <td>br</td>\n",
       "      <td>br</td>\n",
       "      <td>NN</td>\n",
       "      <td>male</td>\n",
       "      <td>singular</td>\n",
       "      <td>not verb</td>\n",
       "    </tr>\n",
       "    <tr>\n",
       "      <th>...</th>\n",
       "      <td>...</td>\n",
       "      <td>...</td>\n",
       "      <td>...</td>\n",
       "      <td>...</td>\n",
       "      <td>...</td>\n",
       "      <td>...</td>\n",
       "      <td>...</td>\n",
       "    </tr>\n",
       "    <tr>\n",
       "      <th>161</th>\n",
       "      <td>surface</td>\n",
       "      <td>surfac</td>\n",
       "      <td>surface</td>\n",
       "      <td>NN</td>\n",
       "      <td>female</td>\n",
       "      <td>singular</td>\n",
       "      <td>not verb</td>\n",
       "    </tr>\n",
       "    <tr>\n",
       "      <th>162</th>\n",
       "      <td>are</td>\n",
       "      <td>are</td>\n",
       "      <td>are</td>\n",
       "      <td>VBP</td>\n",
       "      <td>female</td>\n",
       "      <td>singular</td>\n",
       "      <td>present</td>\n",
       "    </tr>\n",
       "    <tr>\n",
       "      <th>163</th>\n",
       "      <td>terribly</td>\n",
       "      <td>terribl</td>\n",
       "      <td>terribly</td>\n",
       "      <td>RB</td>\n",
       "      <td>female</td>\n",
       "      <td>singular</td>\n",
       "      <td>not verb</td>\n",
       "    </tr>\n",
       "    <tr>\n",
       "      <th>164</th>\n",
       "      <td>well</td>\n",
       "      <td>well</td>\n",
       "      <td>well</td>\n",
       "      <td>RB</td>\n",
       "      <td>male</td>\n",
       "      <td>singular</td>\n",
       "      <td>not verb</td>\n",
       "    </tr>\n",
       "    <tr>\n",
       "      <th>165</th>\n",
       "      <td>done</td>\n",
       "      <td>done</td>\n",
       "      <td>done</td>\n",
       "      <td>VBN</td>\n",
       "      <td>female</td>\n",
       "      <td>singular</td>\n",
       "      <td>past</td>\n",
       "    </tr>\n",
       "  </tbody>\n",
       "</table>\n",
       "<p>166 rows × 7 columns</p>\n",
       "</div>"
      ],
      "text/plain": [
       "       Original  Stemmed  Lemmatized Category  Gender    Number     Tense\n",
       "0             a        a           a       DT  female  singular  not verb\n",
       "1     wonderful   wonder   wonderful       JJ    male  singular  not verb\n",
       "2        little    littl      little       JJ  female  singular  not verb\n",
       "3    production  product  production       NN    male  singular  not verb\n",
       "4            br       br          br       NN    male  singular  not verb\n",
       "..          ...      ...         ...      ...     ...       ...       ...\n",
       "161     surface   surfac     surface       NN  female  singular  not verb\n",
       "162         are      are         are      VBP  female  singular   present\n",
       "163    terribly  terribl    terribly       RB  female  singular  not verb\n",
       "164        well     well        well       RB    male  singular  not verb\n",
       "165        done     done        done      VBN  female  singular      past\n",
       "\n",
       "[166 rows x 7 columns]"
      ]
     },
     "execution_count": 188,
     "metadata": {},
     "output_type": "execute_result"
    }
   ],
   "source": [
    "final"
   ]
  },
  {
   "cell_type": "markdown",
   "metadata": {},
   "source": [
    "## Questions"
   ]
  },
  {
   "cell_type": "markdown",
   "metadata": {},
   "source": [
    "### What is Natural language processing? Discuss various levels of analysis under it with example."
   ]
  },
  {
   "cell_type": "markdown",
   "metadata": {},
   "source": [
    "Natural Language Processing (NLP) is a field of artificial intelligence (AI) that focuses on the interaction between computers and human language. It involves the development of algorithms and models that enable machines to understand, interpret, and generate human-like text. NLP encompasses a range of tasks, and different levels of analysis are applied to process language effectively. Here are various levels of analysis in NLP with examples:\n",
    "\n",
    "1. **Morphological Analysis:**\n",
    "   - *Definition:* Deals with the structure and formation of words.\n",
    "   - *Example:* Breaking down the word \"unhappiness\" into its components: \"un-\" (prefix), \"happy\" (root), and \"-ness\" (suffix).\n",
    "\n",
    "2. **Lexical Analysis:**\n",
    "   - *Definition:* Involves the analysis of individual words, their meaning, and relationships.\n",
    "   - *Example:* Understanding that \"run\" and \"sprint\" have similar meanings, while \"run\" and \"eat\" do not.\n",
    "\n",
    "3. **Syntactic Analysis:**\n",
    "   - *Definition:* Focuses on the arrangement of words to form grammatically correct sentences.\n",
    "   - *Example:* Identifying the structure of a sentence, such as subject-verb-object relationships. For instance, in \"The cat chased the mouse,\" the syntactic structure is clear.\n",
    "\n",
    "4. **Semantic Analysis:**\n",
    "   - *Definition:* Involves understanding the meaning of words, phrases, and sentences.\n",
    "   - *Example:* Recognizing that \"bank\" can refer to a financial institution or the side of a river, depending on the context.\n",
    "\n",
    "5. **Pragmatic Analysis:**\n",
    "   - *Definition:* Considers the interpretation of language in context, including speaker intentions.\n",
    "   - *Example:* Understanding the implied meaning in an utterance, such as recognizing sarcasm or humor.\n",
    "\n",
    "6. **Discourse Analysis:**\n",
    "   - *Definition:* Examines the structure and organization of connected sentences to understand larger units of text.\n",
    "   - *Example:* Identifying relationships between sentences and paragraphs in a conversation or a document.\n",
    "\n",
    "7. **Sentiment Analysis:**\n",
    "   - *Definition:* Determines the emotional tone expressed in a piece of text.\n",
    "   - *Example:* Analyzing customer reviews to identify whether they express positive, negative, or neutral sentiments toward a product.\n",
    "\n",
    "8. **Practical Application - Question Answering:**\n",
    "   - *Example:* Creating a neural network based on your dataset to answer questions with complete sentences. The model would need to comprehend the input question, extract relevant information from the training data, and generate a coherent and contextually appropriate response."
   ]
  },
  {
   "cell_type": "markdown",
   "metadata": {},
   "source": [
    "###  What do you mean by ambiguity in NLP? Explain with suitable example. Discuss various ways to resolve ambiguity in NLP"
   ]
  },
  {
   "cell_type": "markdown",
   "metadata": {},
   "source": [
    "In Natural Language Processing (NLP), ambiguity refers to situations where a given text or expression can have multiple interpretations or meanings. It is a common challenge in language understanding, as words or phrases may have different senses or contexts, leading to uncertainty in interpretation. Let's explore ambiguity in NLP with an example and discuss various ways to resolve it:\n",
    "\n",
    "**Example of Ambiguity:**\n",
    "Consider the sentence \"I saw her standing by the bank.\" Here, the word \"bank\" has multiple meanings—it could refer to the financial institution or the side of a river. Without additional context, it is unclear which interpretation is correct.\n",
    "\n",
    "**Ways to Resolve Ambiguity in NLP:**\n",
    "\n",
    "1. **Contextual Analysis:**\n",
    "   - **Approach:** Take into account the surrounding context to disambiguate the meaning of words.\n",
    "   - **Example:** Analyzing the words before and after \"bank\" in the sentence to determine if it refers to a financial institution or the side of a river.\n",
    "\n",
    "2. **Word Sense Disambiguation (WSD):**\n",
    "   - **Approach:** Use techniques to identify the correct sense or meaning of a word based on its context.\n",
    "   - **Example:** Utilizing algorithms that consider context, part-of-speech tags, and semantic relationships to disambiguate the meaning of ambiguous words.\n",
    "\n",
    "3. **Statistical Models:**\n",
    "   - **Approach:** Train statistical models on large datasets to learn the most probable interpretation of ambiguous phrases.\n",
    "   - **Example:** Employing machine learning models, such as Naive Bayes or Support Vector Machines, to predict the sense of ambiguous words based on contextual features.\n",
    "\n",
    "4. **Semantic Role Labeling (SRL):**\n",
    "   - **Approach:** Identifying the roles of words in a sentence and their relationships to resolve ambiguity.\n",
    "   - **Example:** Determining whether \"standing\" is associated with \"her\" or \"bank\" by analyzing the semantic roles of each word in the sentence.\n",
    "\n",
    "5. **Dependency Parsing:**\n",
    "   - **Approach:** Analyzing the syntactic structure and dependencies between words to uncover relationships and disambiguate meanings.\n",
    "   - **Example:** Parsing the sentence to understand the grammatical relationships between words and disambiguate based on syntactic structure.\n",
    "\n",
    "6. **Coreference Resolution:**\n",
    "   - **Approach:** Resolving references to entities mentioned in the text to improve clarity.\n",
    "   - **Example:** Identifying that \"her\" refers to a specific person mentioned earlier in the text, which might help in disambiguating the meaning of \"bank.\"\n",
    "\n",
    "7. **Knowledge Base Integration:**\n",
    "   - **Approach:** Incorporating external knowledge bases to provide additional information for disambiguation.\n",
    "   - **Example:** Utilizing a knowledge base to check if the location mentioned has a river, which could aid in determining the correct interpretation of \"bank.\"\n",
    "\n",
    "Resolving ambiguity in NLP often involves a combination of these approaches, and the choice depends on the specific characteristics of the task and the available data. Advanced techniques, such as deep learning models, may also be employed for more complex language understanding tasks."
   ]
  },
  {
   "cell_type": "markdown",
   "metadata": {},
   "source": [
    "### What is morphology with examples?"
   ]
  },
  {
   "cell_type": "markdown",
   "metadata": {},
   "source": [
    "Morphology is the linguistic study of the structure and formation of words. It deals with the smallest units of meaning in a language, called morphemes, and how these morphemes combine to create words. Morphology examines the rules governing the internal structure of words, including affixes, roots, and stems. Here are some key concepts in morphology with examples:\n",
    "\n",
    "1. **Morpheme:**\n",
    "   - *Definition:* The smallest unit of meaning in a language.\n",
    "   - *Example:* In the word \"unhappiness,\" there are three morphemes: \"un-\" (a prefix indicating negation), \"happy\" (a root or base word), and \"-ness\" (a suffix indicating a state or quality).\n",
    "\n",
    "2. **Affix:**\n",
    "   - *Definition:* A morpheme attached to a root word to modify its meaning.\n",
    "   - *Example:* In the word \"untie,\" \"un-\" is a prefix attached to \"tie,\" indicating the negation of the action.\n",
    "\n",
    "3. **Root:**\n",
    "   - *Definition:* The core or base morpheme that carries the primary meaning of a word.\n",
    "   - *Example:* In the word \"happiness,\" \"happy\" is the root that conveys the main idea.\n",
    "\n",
    "4. **Stem:**\n",
    "   - *Definition:* The base form of a word to which affixes can be added.\n",
    "   - *Example:* In the word \"running,\" \"run\" is the stem to which the suffix \"-ing\" is added to indicate the ongoing action.\n",
    "\n",
    "5. **Prefix:**\n",
    "   - *Definition:* An affix added to the beginning of a word.\n",
    "   - *Example:* In the word \"preheat,\" \"pre-\" is a prefix indicating that the heating occurs before the main action.\n",
    "\n",
    "6. **Suffix:**\n",
    "   - *Definition:* An affix added to the end of a word.\n",
    "   - *Example:* In the word \"happily,\" \"-ly\" is a suffix added to \"happy\" to form an adverb.\n",
    "\n",
    "7. **Infix:**\n",
    "   - *Definition:* A morpheme inserted into the middle of a word.\n",
    "   - *Example:* In some languages, infixes may be used for grammatical purposes. However, infixes are less common in English.\n",
    "\n",
    "8. **Derivation:**\n",
    "   - *Definition:* The process of creating a new word by adding affixes to an existing word.\n",
    "   - *Example:* \"Happy\" can be derived into \"unhappy\" by adding the prefix \"un-.\"\n",
    "\n",
    "9. **Inflection:**\n",
    "   - *Definition:* The modification of a word to convey grammatical information such as tense, number, or gender.\n",
    "   - *Example:* In English, adding \"-s\" to \"cat\" to form \"cats\" indicates the plural form.\n",
    "\n",
    "10. **Compounding:**\n",
    "    - *Definition:* The formation of a new word by combining two or more existing words.\n",
    "    - *Example:* \"Toothpaste\" is formed by compounding \"tooth\" and \"paste.\""
   ]
  },
  {
   "cell_type": "markdown",
   "metadata": {},
   "source": [
    "### Discuss discourse and pragmatic analysis. Discuss reference resolution problem in detail."
   ]
  },
  {
   "cell_type": "markdown",
   "metadata": {},
   "source": [
    "**Discourse Analysis:**\n",
    "Discourse analysis is the study of language use in its context, focusing on the structure and organization of extended pieces of text, such as conversations, speeches, or written documents. It aims to understand how language functions beyond the sentence level, examining relationships between sentences, coherence, and the overall communicative intent. Discourse analysis involves the analysis of linguistic features, such as cohesion, coherence, and discourse markers, to uncover patterns and meanings in larger units of language.\n",
    "\n",
    "**Pragmatic Analysis:**\n",
    "Pragmatics is the study of how context influences the interpretation of language. It goes beyond the literal meaning of words and examines how speakers use language to convey meaning based on the context, speaker intentions, and the social context of communication. Pragmatic analysis includes the study of speech acts, implicature, deixis, and other phenomena that contribute to effective communication.\n",
    "\n",
    "**Reference Resolution Problem:**\n",
    "Reference resolution is a subtask within pragmatics and involves identifying the entities or elements to which pronouns, definite noun phrases, or other referring expressions refer in a given context. It is a crucial aspect of language understanding, as resolving references correctly is essential for coherent communication. The problem becomes particularly challenging when there is ambiguity or multiple possible referents for a given expression.\n",
    "\n",
    "**Example:**\n",
    "Consider the sentence: \"John told Mary he would visit her tomorrow.\" Here, the reference resolution problem arises with the pronouns \"he\" and \"her.\" The goal is to determine who \"he\" refers to and who \"her\" refers to. Resolving these references correctly is vital for understanding the intended meaning of the sentence.\n",
    "\n",
    "**Ways to Address Reference Resolution:**\n",
    "\n",
    "1. **Contextual Analysis:**\n",
    "   - Analyze the surrounding context to identify potential referents.\n",
    "   - Consider information from previous sentences or discourse to establish connections.\n",
    "\n",
    "2. **Semantic Role Labeling (SRL):**\n",
    "   - Assign roles to entities in a sentence to understand their relationships.\n",
    "   - Identify the agent, patient, or other semantic roles to aid in reference resolution.\n",
    "\n",
    "3. **Coreference Resolution:**\n",
    "   - Determine when two or more expressions refer to the same entity.\n",
    "   - Utilize machine learning models or rule-based systems to predict coreference relationships.\n",
    "\n",
    "4. **Knowledge Base Integration:**\n",
    "   - Incorporate external knowledge bases to enhance reference resolution.\n",
    "   - Verify references against a knowledge base to check for consistency and accuracy.\n",
    "\n",
    "5. **Anaphora and Cataphora Resolution:**\n",
    "   - Address anaphoric references (backward references) and cataphoric references (forward references).\n",
    "   - Understand the relationships between pronouns and their antecedents or postcedents.\n",
    "\n",
    "6. **Syntactic Analysis:**\n",
    "   - Use information from the syntactic structure of sentences to identify potential referents.\n",
    "   - Analyze the grammatical relationships between words to aid in reference resolution.\n",
    "\n",
    "7. **Discourse Coherence:**\n",
    "   - Consider discourse coherence to establish connections between sentences.\n",
    "   - Analyze discourse markers and other cohesive devices to understand the flow of information.\n",
    "\n",
    "8. **Machine Learning Approaches:**\n",
    "   - Employ machine learning models, such as neural networks, for end-to-end reference resolution.\n",
    "   - Train models on annotated datasets to learn patterns and relationships for accurate resolution.\n"
   ]
  },
  {
   "cell_type": "markdown",
   "metadata": {},
   "source": [
    "## Conclusion"
   ]
  },
  {
   "cell_type": "markdown",
   "metadata": {},
   "source": [
    "In this experiment I have learnt how to break a word down into its morphological features and analayse it using NLTK libraries "
   ]
  }
 ],
 "metadata": {
  "kernelspec": {
   "display_name": "Python 3",
   "language": "python",
   "name": "python3"
  },
  "language_info": {
   "codemirror_mode": {
    "name": "ipython",
    "version": 3
   },
   "file_extension": ".py",
   "mimetype": "text/x-python",
   "name": "python",
   "nbconvert_exporter": "python",
   "pygments_lexer": "ipython3",
   "version": "3.10.13"
  }
 },
 "nbformat": 4,
 "nbformat_minor": 2
}
