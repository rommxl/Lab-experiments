{
 "cells": [
  {
   "cell_type": "markdown",
   "metadata": {},
   "source": [
    "**Name:** Bodhisatya Ghosh <br/>\n",
    "**UID:** 2021700026 <br/>\n",
    "**Branch:** CSE DS <br/>\n",
    "**Experiment:** 8 <br/>\n",
    "**Batch**: A <br/>"
   ]
  },
  {
   "cell_type": "code",
   "execution_count": 17,
   "metadata": {},
   "outputs": [
    {
     "name": "stderr",
     "output_type": "stream",
     "text": [
      "2024-04-17 18:25:38 INFO: Checking for updates to resources.json in case models have been updated.  Note: this behavior can be turned off with download_method=None or download_method=DownloadMethod.REUSE_RESOURCES\n"
     ]
    },
    {
     "data": {
      "application/vnd.jupyter.widget-view+json": {
       "model_id": "3b4deff8770047c582390d2260c1597f",
       "version_major": 2,
       "version_minor": 0
      },
      "text/plain": [
       "Downloading https://raw.githubusercontent.com/stanfordnlp/stanza-resources/main/resources_1.8.0.json:   0%|   …"
      ]
     },
     "metadata": {},
     "output_type": "display_data"
    },
    {
     "name": "stderr",
     "output_type": "stream",
     "text": [
      "2024-04-17 18:25:39 INFO: Downloaded file to C:\\Users\\Rommel\\stanza_resources\\resources.json\n",
      "2024-04-17 18:25:39 WARNING: Language en package default expects mwt, which has been added\n",
      "2024-04-17 18:25:39 INFO: Loading these models for language: en (English):\n",
      "======================================\n",
      "| Processor    | Package             |\n",
      "--------------------------------------\n",
      "| tokenize     | combined            |\n",
      "| mwt          | combined            |\n",
      "| pos          | combined_charlm     |\n",
      "| constituency | ptb3-revised_charlm |\n",
      "======================================\n",
      "\n",
      "2024-04-17 18:25:39 INFO: Using device: cpu\n",
      "2024-04-17 18:25:39 INFO: Loading: tokenize\n",
      "2024-04-17 18:25:39 INFO: Loading: mwt\n",
      "2024-04-17 18:25:39 INFO: Loading: pos\n",
      "2024-04-17 18:25:39 INFO: Loading: constituency\n",
      "2024-04-17 18:25:40 INFO: Done loading processors!\n"
     ]
    },
    {
     "data": {
      "text/plain": [
       "(ROOT (S (NP (DT This)) (VP (VBZ is) (NP (DT a) (NN test)))))"
      ]
     },
     "metadata": {},
     "output_type": "display_data"
    }
   ],
   "source": [
    "import stanza\n",
    "\n",
    "nlp = stanza.Pipeline(lang='en', processors='tokenize,pos,constituency')\n",
    "doc = nlp('This is a test')\n",
    "for sentence in doc.sentences:\n",
    "    display(sentence.constituency)"
   ]
  },
  {
   "cell_type": "code",
   "execution_count": 18,
   "metadata": {},
   "outputs": [
    {
     "name": "stdout",
     "output_type": "stream",
     "text": [
      "Sentence: the policeman ran after the thief\n",
      "Sentence: the thief stole a lot of money from the neighbours\n",
      "Sentence: the neighbours complained to the policeman after the robbery\n"
     ]
    }
   ],
   "source": [
    "import nltk\n",
    "your_grammar = nltk.CFG.fromstring(\"\"\"\n",
    "    S -> NP VP\n",
    "    NP -> DT NN | NP PP\n",
    "    VP -> VBD NP | VP PP\n",
    "    PP -> P NP\n",
    "    DT -> 'the' | 'a'\n",
    "    NN -> 'dog' | 'cat' | 'ball' | 'bone' | 'park' | 'stick'\n",
    "    VBD -> 'chased' | 'ate'\n",
    "    P -> 'with' | 'in'\n",
    "\"\"\")\n",
    "\n",
    "sentences = [\n",
    "    \"the dog chased the cat\",\n",
    "    \"a cat chased the ball\",\n",
    "    \"the dog chased the ball with a stick\",\n",
    "]\n",
    "\n",
    "for sentence in sentences:\n",
    "    print(\"Sentence:\", sentence)\n",
    "    tokens = nltk.word_tokenize(sentence)\n",
    "    parser = nltk.ChartParser(your_grammar)\n",
    "    trees = list(parser.parse(tokens))\n",
    "    for tree in trees:\n",
    "        print(tree)\n",
    "        print(\"\\n\")"
   ]
  }
 ],
 "metadata": {
  "kernelspec": {
   "display_name": "ml",
   "language": "python",
   "name": "python3"
  },
  "language_info": {
   "codemirror_mode": {
    "name": "ipython",
    "version": 3
   },
   "file_extension": ".py",
   "mimetype": "text/x-python",
   "name": "python",
   "nbconvert_exporter": "python",
   "pygments_lexer": "ipython3",
   "version": "3.10.13"
  }
 },
 "nbformat": 4,
 "nbformat_minor": 2
}
