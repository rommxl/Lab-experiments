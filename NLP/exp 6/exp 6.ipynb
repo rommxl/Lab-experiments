{
 "cells": [
  {
   "cell_type": "markdown",
   "metadata": {},
   "source": [
    "## EXP 6"
   ]
  },
  {
   "cell_type": "markdown",
   "metadata": {},
   "source": [
    "**Name:** Bodhisatya Ghosh <br/>\n",
    "**UID:** 2021700026 <br/>\n",
    "**Branch:** CSE DS <br/>\n",
    "**Experiment:** 6 <br/>\n",
    "**Batch**: A <br/>"
   ]
  },
  {
   "cell_type": "markdown",
   "metadata": {},
   "source": [
    "### AIM: POS Tagging using Viterbi Algorithm"
   ]
  },
  {
   "cell_type": "markdown",
   "metadata": {},
   "source": [
    "### THEORY: POS Tagging using Viterbi Algorithm\n",
    "\n",
    "POS tagging, or Part-of-Speech tagging, is the process of assigning grammatical tags (such as noun, verb, adjective, etc.) to words in a sentence. It is an important task in natural language processing and is used in various applications like text analysis, information retrieval, and machine translation.\n",
    "\n",
    "The Viterbi algorithm is a dynamic programming algorithm that is commonly used for POS tagging. It finds the most likely sequence of hidden states (POS tags) that corresponds to a sequence of observed words in a sentence. The algorithm is based on the assumption that the current POS tag depends only on the previous POS tag, making it a first-order Markov process.\n",
    "\n",
    "The Viterbi algorithm works by calculating the probability of each possible tag sequence for a given sentence and selecting the sequence with the highest probability. It uses a combination of transition probabilities (the probability of transitioning from one tag to another) and emission probabilities (the probability of a word being assigned a particular tag) to calculate these probabilities.\n",
    "\n",
    "The algorithm starts with an initial probability distribution and iteratively calculates the probability of each tag sequence by considering the probabilities of transitioning from the previous tag to the current tag and the emission probability of the current word given the current tag. It keeps track of the highest probability for each tag at each position in the sentence and the corresponding backpointer (the previous tag that leads to the highest probability).\n",
    "\n",
    "Once the algorithm has processed the entire sentence, it backtracks from the last position to find the most likely tag sequence by following the backpointers. This sequence represents the POS tags for the given sentence.\n",
    "\n",
    "The Viterbi algorithm is widely used for POS tagging due to its efficiency and accuracy. However, it may encounter challenges with unknown words or words that have multiple possible POS tags. To address these challenges, rule-based taggers or additional statistical models can be incorporated into the algorithm.\n",
    "\n",
    "Overall, the Viterbi algorithm is a powerful tool for POS tagging and plays a crucial role in various natural language processing tasks.\n"
   ]
  },
  {
   "cell_type": "markdown",
   "metadata": {},
   "source": [
    "### CODE"
   ]
  },
  {
   "cell_type": "code",
   "execution_count": 25,
   "metadata": {},
   "outputs": [
    {
     "name": "stderr",
     "output_type": "stream",
     "text": [
      "[nltk_data] Downloading package treebank to\n",
      "[nltk_data]     C:\\Users\\Rommel\\AppData\\Roaming\\nltk_data...\n",
      "[nltk_data]   Package treebank is already up-to-date!\n",
      "[nltk_data] Downloading package universal_tagset to\n",
      "[nltk_data]     C:\\Users\\Rommel\\AppData\\Roaming\\nltk_data...\n",
      "[nltk_data]   Package universal_tagset is already up-to-date!\n"
     ]
    },
    {
     "name": "stdout",
     "output_type": "stream",
     "text": [
      "[[('Pierre', 'NOUN'), ('Vinken', 'NOUN'), (',', '.'), ('61', 'NUM'), ('years', 'NOUN'), ('old', 'ADJ'), (',', '.'), ('will', 'VERB'), ('join', 'VERB'), ('the', 'DET'), ('board', 'NOUN'), ('as', 'ADP'), ('a', 'DET'), ('nonexecutive', 'ADJ'), ('director', 'NOUN'), ('Nov.', 'NOUN'), ('29', 'NUM'), ('.', '.')], [('Mr.', 'NOUN'), ('Vinken', 'NOUN'), ('is', 'VERB'), ('chairman', 'NOUN'), ('of', 'ADP'), ('Elsevier', 'NOUN'), ('N.V.', 'NOUN'), (',', '.'), ('the', 'DET'), ('Dutch', 'NOUN'), ('publishing', 'VERB'), ('group', 'NOUN'), ('.', '.')]]\n"
     ]
    }
   ],
   "source": [
    "# Importing libraries\n",
    "import nltk\n",
    "import numpy as np\n",
    "import pandas as pd\n",
    "import random\n",
    "from sklearn.model_selection import train_test_split\n",
    "import pprint, time\n",
    "\n",
    "#download the treebank corpus from nltk\n",
    "nltk.download('treebank')\n",
    "\n",
    "#download the universal tagset from nltk\n",
    "nltk.download('universal_tagset')\n",
    "\n",
    "# reading the Treebank tagged sentences\n",
    "nltk_data = list(nltk.corpus.treebank.tagged_sents(tagset='universal'))\n",
    "\n",
    "#print the first two sentences along with tags\n",
    "print(nltk_data[:2])"
   ]
  },
  {
   "cell_type": "code",
   "execution_count": 26,
   "metadata": {},
   "outputs": [
    {
     "name": "stdout",
     "output_type": "stream",
     "text": [
      "('Pierre', 'NOUN')\n",
      "('Vinken', 'NOUN')\n",
      "(',', '.')\n",
      "('61', 'NUM')\n",
      "('years', 'NOUN')\n",
      "('old', 'ADJ')\n",
      "(',', '.')\n",
      "('will', 'VERB')\n",
      "('join', 'VERB')\n",
      "('the', 'DET')\n",
      "('board', 'NOUN')\n",
      "('as', 'ADP')\n",
      "('a', 'DET')\n",
      "('nonexecutive', 'ADJ')\n",
      "('director', 'NOUN')\n",
      "('Nov.', 'NOUN')\n",
      "('29', 'NUM')\n",
      "('.', '.')\n",
      "('Mr.', 'NOUN')\n",
      "('Vinken', 'NOUN')\n",
      "('is', 'VERB')\n",
      "('chairman', 'NOUN')\n",
      "('of', 'ADP')\n",
      "('Elsevier', 'NOUN')\n",
      "('N.V.', 'NOUN')\n",
      "(',', '.')\n",
      "('the', 'DET')\n",
      "('Dutch', 'NOUN')\n",
      "('publishing', 'VERB')\n",
      "('group', 'NOUN')\n",
      "('.', '.')\n"
     ]
    }
   ],
   "source": [
    "#print each word with its respective tag for first two sentences\n",
    "for sent in nltk_data[:2]:\n",
    "  for tuple in sent:\n",
    "    print(tuple)"
   ]
  },
  {
   "cell_type": "code",
   "execution_count": 27,
   "metadata": {},
   "outputs": [],
   "source": [
    "# split data into training and validation set in the ratio 80:20\n",
    "train_set,test_set =train_test_split(nltk_data,train_size=0.80,test_size=0.20,random_state = 101)"
   ]
  },
  {
   "cell_type": "code",
   "execution_count": 28,
   "metadata": {},
   "outputs": [
    {
     "name": "stdout",
     "output_type": "stream",
     "text": [
      "80310\n",
      "20366\n"
     ]
    }
   ],
   "source": [
    "# create list of train and test tagged words\n",
    "train_tagged_words = [ tup for sent in train_set for tup in sent ]\n",
    "test_tagged_words = [ tup for sent in test_set for tup in sent ]\n",
    "print(len(train_tagged_words))\n",
    "print(len(test_tagged_words))"
   ]
  },
  {
   "cell_type": "code",
   "execution_count": 29,
   "metadata": {},
   "outputs": [
    {
     "data": {
      "text/plain": [
       "[('Drink', 'NOUN'),\n",
       " ('Carrier', 'NOUN'),\n",
       " ('Competes', 'VERB'),\n",
       " ('With', 'ADP'),\n",
       " ('Cartons', 'NOUN')]"
      ]
     },
     "execution_count": 29,
     "metadata": {},
     "output_type": "execute_result"
    }
   ],
   "source": [
    "# check some of the tagged words.\n",
    "train_tagged_words[:5]"
   ]
  },
  {
   "cell_type": "code",
   "execution_count": 30,
   "metadata": {},
   "outputs": [
    {
     "name": "stdout",
     "output_type": "stream",
     "text": [
      "12\n",
      "{'ADJ', 'DET', 'ADV', '.', 'NUM', 'CONJ', 'PRON', 'PRT', 'VERB', 'NOUN', 'X', 'ADP'}\n"
     ]
    }
   ],
   "source": [
    "#use set datatype to check how many unique tags are present in training data\n",
    "tags = {tag for word,tag in train_tagged_words}\n",
    "print(len(tags))\n",
    "print(tags)\n",
    "\n",
    "# check total words in vocabulary\n",
    "vocab = {word for word,tag in train_tagged_words}"
   ]
  },
  {
   "cell_type": "code",
   "execution_count": 31,
   "metadata": {},
   "outputs": [],
   "source": [
    "# compute Emission Probability\n",
    "def word_given_tag(word, tag, train_bag = train_tagged_words):\n",
    "    tag_list = [pair for pair in train_bag if pair[1]==tag]\n",
    "    count_tag = len(tag_list)#total number of times the passed tag occurred in train_bag\n",
    "    w_given_tag_list = [pair[0] for pair in tag_list if pair[0]==word]\n",
    "#now calculate the total number of times the passed word occurred as the passed tag.\n",
    "    count_w_given_tag = len(w_given_tag_list)\n",
    "\n",
    "\n",
    "    return (count_w_given_tag, count_tag)"
   ]
  },
  {
   "cell_type": "code",
   "execution_count": 32,
   "metadata": {},
   "outputs": [],
   "source": [
    "# compute  Transition Probability\n",
    "def t2_given_t1(t2, t1, train_bag = train_tagged_words):\n",
    "    tags = [pair[1] for pair in train_bag]\n",
    "    count_t1 = len([t for t in tags if t==t1])\n",
    "    count_t2_t1 = 0\n",
    "    for index in range(len(tags)-1):\n",
    "        if tags[index]==t1 and tags[index+1] == t2:\n",
    "            count_t2_t1 += 1\n",
    "    return (count_t2_t1, count_t1)\n"
   ]
  },
  {
   "cell_type": "code",
   "execution_count": 33,
   "metadata": {},
   "outputs": [],
   "source": [
    "# creating t x t transition matrix of tags, t= no of tags\n",
    "# Matrix(i, j) represents P(jth tag after the ith tag)\n",
    "\n",
    "tags_matrix = np.zeros((len(tags), len(tags)), dtype='float32')\n",
    "for i, t1 in enumerate(list(tags)):\n",
    "    for j, t2 in enumerate(list(tags)):\n",
    "        tags_matrix[i, j] = t2_given_t1(t2, t1)[0]/t2_given_t1(t2, t1)[1]\n",
    "\n",
    "#print(tags_matrix)"
   ]
  },
  {
   "cell_type": "code",
   "execution_count": 34,
   "metadata": {},
   "outputs": [],
   "source": [
    "# convert the matrix to a df for better readability\n",
    "#the table is same as the transition table shown in section 3 of article\n",
    "tags_df = pd.DataFrame(tags_matrix, columns = list(tags), index=list(tags))\n",
    "#display(tags_df)"
   ]
  },
  {
   "cell_type": "code",
   "execution_count": 35,
   "metadata": {},
   "outputs": [
    {
     "data": {
      "text/html": [
       "<div>\n",
       "<style scoped>\n",
       "    .dataframe tbody tr th:only-of-type {\n",
       "        vertical-align: middle;\n",
       "    }\n",
       "\n",
       "    .dataframe tbody tr th {\n",
       "        vertical-align: top;\n",
       "    }\n",
       "\n",
       "    .dataframe thead th {\n",
       "        text-align: right;\n",
       "    }\n",
       "</style>\n",
       "<table border=\"1\" class=\"dataframe\">\n",
       "  <thead>\n",
       "    <tr style=\"text-align: right;\">\n",
       "      <th></th>\n",
       "      <th>ADJ</th>\n",
       "      <th>DET</th>\n",
       "      <th>ADV</th>\n",
       "      <th>.</th>\n",
       "      <th>NUM</th>\n",
       "      <th>CONJ</th>\n",
       "      <th>PRON</th>\n",
       "      <th>PRT</th>\n",
       "      <th>VERB</th>\n",
       "      <th>NOUN</th>\n",
       "      <th>X</th>\n",
       "      <th>ADP</th>\n",
       "    </tr>\n",
       "  </thead>\n",
       "  <tbody>\n",
       "    <tr>\n",
       "      <th>ADJ</th>\n",
       "      <td>0.063301</td>\n",
       "      <td>0.005243</td>\n",
       "      <td>0.005243</td>\n",
       "      <td>0.066019</td>\n",
       "      <td>0.021748</td>\n",
       "      <td>0.016893</td>\n",
       "      <td>0.000194</td>\n",
       "      <td>0.011456</td>\n",
       "      <td>0.011456</td>\n",
       "      <td>0.696893</td>\n",
       "      <td>0.020971</td>\n",
       "      <td>0.080583</td>\n",
       "    </tr>\n",
       "    <tr>\n",
       "      <th>DET</th>\n",
       "      <td>0.206411</td>\n",
       "      <td>0.006037</td>\n",
       "      <td>0.012074</td>\n",
       "      <td>0.017393</td>\n",
       "      <td>0.022855</td>\n",
       "      <td>0.000431</td>\n",
       "      <td>0.003306</td>\n",
       "      <td>0.000287</td>\n",
       "      <td>0.040247</td>\n",
       "      <td>0.635906</td>\n",
       "      <td>0.045134</td>\n",
       "      <td>0.009918</td>\n",
       "    </tr>\n",
       "    <tr>\n",
       "      <th>ADV</th>\n",
       "      <td>0.130721</td>\n",
       "      <td>0.071373</td>\n",
       "      <td>0.081458</td>\n",
       "      <td>0.139255</td>\n",
       "      <td>0.029868</td>\n",
       "      <td>0.006982</td>\n",
       "      <td>0.012025</td>\n",
       "      <td>0.014740</td>\n",
       "      <td>0.339022</td>\n",
       "      <td>0.032196</td>\n",
       "      <td>0.022886</td>\n",
       "      <td>0.119472</td>\n",
       "    </tr>\n",
       "    <tr>\n",
       "      <th>.</th>\n",
       "      <td>0.046132</td>\n",
       "      <td>0.172192</td>\n",
       "      <td>0.052569</td>\n",
       "      <td>0.092372</td>\n",
       "      <td>0.078210</td>\n",
       "      <td>0.060079</td>\n",
       "      <td>0.068769</td>\n",
       "      <td>0.002789</td>\n",
       "      <td>0.089690</td>\n",
       "      <td>0.218539</td>\n",
       "      <td>0.025641</td>\n",
       "      <td>0.092908</td>\n",
       "    </tr>\n",
       "    <tr>\n",
       "      <th>NUM</th>\n",
       "      <td>0.035345</td>\n",
       "      <td>0.003570</td>\n",
       "      <td>0.003570</td>\n",
       "      <td>0.119243</td>\n",
       "      <td>0.184220</td>\n",
       "      <td>0.014281</td>\n",
       "      <td>0.001428</td>\n",
       "      <td>0.026062</td>\n",
       "      <td>0.020707</td>\n",
       "      <td>0.351660</td>\n",
       "      <td>0.202428</td>\n",
       "      <td>0.037487</td>\n",
       "    </tr>\n",
       "    <tr>\n",
       "      <th>CONJ</th>\n",
       "      <td>0.113611</td>\n",
       "      <td>0.123491</td>\n",
       "      <td>0.057080</td>\n",
       "      <td>0.035126</td>\n",
       "      <td>0.040615</td>\n",
       "      <td>0.000549</td>\n",
       "      <td>0.060373</td>\n",
       "      <td>0.004391</td>\n",
       "      <td>0.150384</td>\n",
       "      <td>0.349067</td>\n",
       "      <td>0.009330</td>\n",
       "      <td>0.055982</td>\n",
       "    </tr>\n",
       "    <tr>\n",
       "      <th>PRON</th>\n",
       "      <td>0.070615</td>\n",
       "      <td>0.009567</td>\n",
       "      <td>0.036902</td>\n",
       "      <td>0.041913</td>\n",
       "      <td>0.006834</td>\n",
       "      <td>0.005011</td>\n",
       "      <td>0.006834</td>\n",
       "      <td>0.014123</td>\n",
       "      <td>0.484738</td>\n",
       "      <td>0.212756</td>\n",
       "      <td>0.088383</td>\n",
       "      <td>0.022323</td>\n",
       "    </tr>\n",
       "    <tr>\n",
       "      <th>PRT</th>\n",
       "      <td>0.082975</td>\n",
       "      <td>0.101370</td>\n",
       "      <td>0.009393</td>\n",
       "      <td>0.045010</td>\n",
       "      <td>0.056751</td>\n",
       "      <td>0.002348</td>\n",
       "      <td>0.017613</td>\n",
       "      <td>0.001174</td>\n",
       "      <td>0.401174</td>\n",
       "      <td>0.250489</td>\n",
       "      <td>0.012133</td>\n",
       "      <td>0.019569</td>\n",
       "    </tr>\n",
       "    <tr>\n",
       "      <th>VERB</th>\n",
       "      <td>0.066390</td>\n",
       "      <td>0.133610</td>\n",
       "      <td>0.083886</td>\n",
       "      <td>0.034807</td>\n",
       "      <td>0.022836</td>\n",
       "      <td>0.005433</td>\n",
       "      <td>0.035543</td>\n",
       "      <td>0.030663</td>\n",
       "      <td>0.167956</td>\n",
       "      <td>0.110589</td>\n",
       "      <td>0.215930</td>\n",
       "      <td>0.092357</td>\n",
       "    </tr>\n",
       "    <tr>\n",
       "      <th>NOUN</th>\n",
       "      <td>0.012584</td>\n",
       "      <td>0.013106</td>\n",
       "      <td>0.016895</td>\n",
       "      <td>0.240094</td>\n",
       "      <td>0.009144</td>\n",
       "      <td>0.042454</td>\n",
       "      <td>0.004659</td>\n",
       "      <td>0.043935</td>\n",
       "      <td>0.149134</td>\n",
       "      <td>0.262344</td>\n",
       "      <td>0.028825</td>\n",
       "      <td>0.176827</td>\n",
       "    </tr>\n",
       "    <tr>\n",
       "      <th>X</th>\n",
       "      <td>0.017682</td>\n",
       "      <td>0.056890</td>\n",
       "      <td>0.025754</td>\n",
       "      <td>0.160869</td>\n",
       "      <td>0.003075</td>\n",
       "      <td>0.010379</td>\n",
       "      <td>0.054200</td>\n",
       "      <td>0.185086</td>\n",
       "      <td>0.206419</td>\n",
       "      <td>0.061695</td>\n",
       "      <td>0.075726</td>\n",
       "      <td>0.142226</td>\n",
       "    </tr>\n",
       "    <tr>\n",
       "      <th>ADP</th>\n",
       "      <td>0.107062</td>\n",
       "      <td>0.320931</td>\n",
       "      <td>0.014553</td>\n",
       "      <td>0.038724</td>\n",
       "      <td>0.063275</td>\n",
       "      <td>0.001012</td>\n",
       "      <td>0.069603</td>\n",
       "      <td>0.001266</td>\n",
       "      <td>0.008479</td>\n",
       "      <td>0.323589</td>\n",
       "      <td>0.034548</td>\n",
       "      <td>0.016958</td>\n",
       "    </tr>\n",
       "  </tbody>\n",
       "</table>\n",
       "</div>"
      ],
      "text/plain": [
       "           ADJ       DET       ADV         .       NUM      CONJ      PRON  \\\n",
       "ADJ   0.063301  0.005243  0.005243  0.066019  0.021748  0.016893  0.000194   \n",
       "DET   0.206411  0.006037  0.012074  0.017393  0.022855  0.000431  0.003306   \n",
       "ADV   0.130721  0.071373  0.081458  0.139255  0.029868  0.006982  0.012025   \n",
       ".     0.046132  0.172192  0.052569  0.092372  0.078210  0.060079  0.068769   \n",
       "NUM   0.035345  0.003570  0.003570  0.119243  0.184220  0.014281  0.001428   \n",
       "CONJ  0.113611  0.123491  0.057080  0.035126  0.040615  0.000549  0.060373   \n",
       "PRON  0.070615  0.009567  0.036902  0.041913  0.006834  0.005011  0.006834   \n",
       "PRT   0.082975  0.101370  0.009393  0.045010  0.056751  0.002348  0.017613   \n",
       "VERB  0.066390  0.133610  0.083886  0.034807  0.022836  0.005433  0.035543   \n",
       "NOUN  0.012584  0.013106  0.016895  0.240094  0.009144  0.042454  0.004659   \n",
       "X     0.017682  0.056890  0.025754  0.160869  0.003075  0.010379  0.054200   \n",
       "ADP   0.107062  0.320931  0.014553  0.038724  0.063275  0.001012  0.069603   \n",
       "\n",
       "           PRT      VERB      NOUN         X       ADP  \n",
       "ADJ   0.011456  0.011456  0.696893  0.020971  0.080583  \n",
       "DET   0.000287  0.040247  0.635906  0.045134  0.009918  \n",
       "ADV   0.014740  0.339022  0.032196  0.022886  0.119472  \n",
       ".     0.002789  0.089690  0.218539  0.025641  0.092908  \n",
       "NUM   0.026062  0.020707  0.351660  0.202428  0.037487  \n",
       "CONJ  0.004391  0.150384  0.349067  0.009330  0.055982  \n",
       "PRON  0.014123  0.484738  0.212756  0.088383  0.022323  \n",
       "PRT   0.001174  0.401174  0.250489  0.012133  0.019569  \n",
       "VERB  0.030663  0.167956  0.110589  0.215930  0.092357  \n",
       "NOUN  0.043935  0.149134  0.262344  0.028825  0.176827  \n",
       "X     0.185086  0.206419  0.061695  0.075726  0.142226  \n",
       "ADP   0.001266  0.008479  0.323589  0.034548  0.016958  "
      ]
     },
     "execution_count": 35,
     "metadata": {},
     "output_type": "execute_result"
    }
   ],
   "source": [
    "tags_df"
   ]
  },
  {
   "cell_type": "code",
   "execution_count": 36,
   "metadata": {},
   "outputs": [],
   "source": [
    "def Viterbi(words, train_bag = train_tagged_words):\n",
    "    state = []\n",
    "    T = list(set([pair[1] for pair in train_bag]))\n",
    "\n",
    "    for key, word in enumerate(words):\n",
    "        #initialise list of probability column for a given observation\n",
    "        p = []\n",
    "        for tag in T:\n",
    "            if key == 0:\n",
    "                transition_p = tags_df.loc['.', tag]\n",
    "            else:\n",
    "                transition_p = tags_df.loc[state[-1], tag]\n",
    "\n",
    "            # compute emission and state probabilities\n",
    "            emission_p = word_given_tag(words[key], tag)[0]/word_given_tag(words[key], tag)[1]\n",
    "            state_probability = emission_p * transition_p\n",
    "            p.append(state_probability)\n",
    "\n",
    "        pmax = max(p)\n",
    "        # getting state for which probability is maximum\n",
    "        state_max = T[p.index(pmax)]\n",
    "        state.append(state_max)\n",
    "    return list(zip(words, state))"
   ]
  },
  {
   "cell_type": "code",
   "execution_count": 37,
   "metadata": {},
   "outputs": [],
   "source": [
    "# Let's test our Viterbi algorithm on a few sample sentences of test dataset\n",
    "random.seed(1234)      #define a random seed to get same sentences when run multiple times\n",
    "\n",
    "# choose random 10 numbers\n",
    "rndom = [random.randint(1,len(test_set)) for x in range(10)]\n",
    "\n",
    "# list of 10 sents on which we test the model\n",
    "test_run = [test_set[i] for i in rndom]\n",
    "\n",
    "# list of tagged words\n",
    "test_run_base = [tup for sent in test_run for tup in sent]\n",
    "\n",
    "# list of untagged words\n",
    "test_tagged_words = [tup[0] for sent in test_run for tup in sent]"
   ]
  },
  {
   "cell_type": "code",
   "execution_count": 38,
   "metadata": {},
   "outputs": [
    {
     "name": "stdout",
     "output_type": "stream",
     "text": [
      "Time taken in seconds:  62.19374752044678\n",
      "Viterbi Algorithm Accuracy:  93.77990430622009\n"
     ]
    }
   ],
   "source": [
    "#Here We will only test 10 sentences to check the accuracy\n",
    "#as testing the whole training set takes huge amount of time\n",
    "start = time.time()\n",
    "tagged_seq = Viterbi(test_tagged_words)\n",
    "end = time.time()\n",
    "difference = end-start\n",
    "\n",
    "print(\"Time taken in seconds: \", difference)\n",
    "\n",
    "# accuracy\n",
    "check = [i for i, j in zip(tagged_seq, test_run_base) if i == j]\n",
    "\n",
    "accuracy = len(check)/len(tagged_seq)\n",
    "print('Viterbi Algorithm Accuracy: ',accuracy*100)\n"
   ]
  },
  {
   "cell_type": "code",
   "execution_count": 39,
   "metadata": {},
   "outputs": [
    {
     "ename": "KeyboardInterrupt",
     "evalue": "",
     "output_type": "error",
     "traceback": [
      "\u001b[1;31m---------------------------------------------------------------------------\u001b[0m",
      "\u001b[1;31mKeyboardInterrupt\u001b[0m                         Traceback (most recent call last)",
      "Cell \u001b[1;32mIn[39], line 9\u001b[0m\n\u001b[0;32m      6\u001b[0m test_untagged_words\n\u001b[0;32m      8\u001b[0m start \u001b[38;5;241m=\u001b[39m time\u001b[38;5;241m.\u001b[39mtime()\n\u001b[1;32m----> 9\u001b[0m tagged_seq \u001b[38;5;241m=\u001b[39m \u001b[43mViterbi\u001b[49m\u001b[43m(\u001b[49m\u001b[43mtest_untagged_words\u001b[49m\u001b[43m)\u001b[49m\n\u001b[0;32m     10\u001b[0m end \u001b[38;5;241m=\u001b[39m time\u001b[38;5;241m.\u001b[39mtime()\n\u001b[0;32m     11\u001b[0m difference \u001b[38;5;241m=\u001b[39m end\u001b[38;5;241m-\u001b[39mstart\n",
      "Cell \u001b[1;32mIn[36], line 15\u001b[0m, in \u001b[0;36mViterbi\u001b[1;34m(words, train_bag)\u001b[0m\n\u001b[0;32m     12\u001b[0m     transition_p \u001b[38;5;241m=\u001b[39m tags_df\u001b[38;5;241m.\u001b[39mloc[state[\u001b[38;5;241m-\u001b[39m\u001b[38;5;241m1\u001b[39m], tag]\n\u001b[0;32m     14\u001b[0m \u001b[38;5;66;03m# compute emission and state probabilities\u001b[39;00m\n\u001b[1;32m---> 15\u001b[0m emission_p \u001b[38;5;241m=\u001b[39m word_given_tag(words[key], tag)[\u001b[38;5;241m0\u001b[39m]\u001b[38;5;241m/\u001b[39m\u001b[43mword_given_tag\u001b[49m\u001b[43m(\u001b[49m\u001b[43mwords\u001b[49m\u001b[43m[\u001b[49m\u001b[43mkey\u001b[49m\u001b[43m]\u001b[49m\u001b[43m,\u001b[49m\u001b[43m \u001b[49m\u001b[43mtag\u001b[49m\u001b[43m)\u001b[49m[\u001b[38;5;241m1\u001b[39m]\n\u001b[0;32m     16\u001b[0m state_probability \u001b[38;5;241m=\u001b[39m emission_p \u001b[38;5;241m*\u001b[39m transition_p\n\u001b[0;32m     17\u001b[0m p\u001b[38;5;241m.\u001b[39mappend(state_probability)\n",
      "Cell \u001b[1;32mIn[31], line 5\u001b[0m, in \u001b[0;36mword_given_tag\u001b[1;34m(word, tag, train_bag)\u001b[0m\n\u001b[0;32m      3\u001b[0m     tag_list \u001b[38;5;241m=\u001b[39m [pair \u001b[38;5;28;01mfor\u001b[39;00m pair \u001b[38;5;129;01min\u001b[39;00m train_bag \u001b[38;5;28;01mif\u001b[39;00m pair[\u001b[38;5;241m1\u001b[39m]\u001b[38;5;241m==\u001b[39mtag]\n\u001b[0;32m      4\u001b[0m     count_tag \u001b[38;5;241m=\u001b[39m \u001b[38;5;28mlen\u001b[39m(tag_list)\u001b[38;5;66;03m#total number of times the passed tag occurred in train_bag\u001b[39;00m\n\u001b[1;32m----> 5\u001b[0m     w_given_tag_list \u001b[38;5;241m=\u001b[39m [pair[\u001b[38;5;241m0\u001b[39m] \u001b[38;5;28;01mfor\u001b[39;00m pair \u001b[38;5;129;01min\u001b[39;00m tag_list \u001b[38;5;28;01mif\u001b[39;00m pair[\u001b[38;5;241m0\u001b[39m]\u001b[38;5;241m==\u001b[39mword]\n\u001b[0;32m      6\u001b[0m \u001b[38;5;66;03m#now calculate the total number of times the passed word occurred as the passed tag.\u001b[39;00m\n\u001b[0;32m      7\u001b[0m     count_w_given_tag \u001b[38;5;241m=\u001b[39m \u001b[38;5;28mlen\u001b[39m(w_given_tag_list)\n",
      "Cell \u001b[1;32mIn[31], line 5\u001b[0m, in \u001b[0;36m<listcomp>\u001b[1;34m(.0)\u001b[0m\n\u001b[0;32m      3\u001b[0m     tag_list \u001b[38;5;241m=\u001b[39m [pair \u001b[38;5;28;01mfor\u001b[39;00m pair \u001b[38;5;129;01min\u001b[39;00m train_bag \u001b[38;5;28;01mif\u001b[39;00m pair[\u001b[38;5;241m1\u001b[39m]\u001b[38;5;241m==\u001b[39mtag]\n\u001b[0;32m      4\u001b[0m     count_tag \u001b[38;5;241m=\u001b[39m \u001b[38;5;28mlen\u001b[39m(tag_list)\u001b[38;5;66;03m#total number of times the passed tag occurred in train_bag\u001b[39;00m\n\u001b[1;32m----> 5\u001b[0m     w_given_tag_list \u001b[38;5;241m=\u001b[39m [pair[\u001b[38;5;241m0\u001b[39m] \u001b[38;5;28;01mfor\u001b[39;00m pair \u001b[38;5;129;01min\u001b[39;00m tag_list \u001b[38;5;28;01mif\u001b[39;00m \u001b[43mpair\u001b[49m\u001b[43m[\u001b[49m\u001b[38;5;241;43m0\u001b[39;49m\u001b[43m]\u001b[49m\u001b[38;5;241;43m==\u001b[39;49m\u001b[43mword\u001b[49m]\n\u001b[0;32m      6\u001b[0m \u001b[38;5;66;03m#now calculate the total number of times the passed word occurred as the passed tag.\u001b[39;00m\n\u001b[0;32m      7\u001b[0m     count_w_given_tag \u001b[38;5;241m=\u001b[39m \u001b[38;5;28mlen\u001b[39m(w_given_tag_list)\n",
      "\u001b[1;31mKeyboardInterrupt\u001b[0m: "
     ]
    }
   ],
   "source": [
    "#Code to test all the test sentences\n",
    "#(takes alot of time to run s0 we wont run it here)\n",
    "# tagging the test sentences()\n",
    "test_tagged_words = [tup for sent in test_set for tup in sent]\n",
    "test_untagged_words = [tup[0] for sent in test_set for tup in sent]\n",
    "test_untagged_words\n",
    "\n",
    "start = time.time()\n",
    "tagged_seq = Viterbi(test_untagged_words)\n",
    "end = time.time()\n",
    "difference = end-start\n",
    "\n",
    "print(\"Time taken in seconds: \", difference)\n",
    "\n",
    "# accuracy\n",
    "check = [i for i, j in zip(test_tagged_words, test_untagged_words) if i == j]\n",
    "\n",
    "accuracy = len(check)/len(tagged_seq)\n",
    "print('Viterbi Algorithm Accuracy: ',accuracy*100)"
   ]
  },
  {
   "cell_type": "code",
   "execution_count": null,
   "metadata": {},
   "outputs": [],
   "source": [
    "#To improve the performance,we specify a rule base tagger for unknown words\n",
    "# specify patterns for tagging\n",
    "patterns = [\n",
    "    (r'.*ing$', 'VERB'),              # gerund\n",
    "    (r'.*ed$', 'VERB'),               # past tense\n",
    "    (r'.*es$', 'VERB'),               # verb\n",
    "    (r'.*\\'s$', 'NOUN'),              # possessive nouns\n",
    "    (r'.*s$', 'NOUN'),                # plural nouns\n",
    "    (r'\\*T?\\*?-[0-9]+$', 'X'),        # X\n",
    "    (r'^-?[0-9]+(.[0-9]+)?$', 'NUM'), # cardinal numbers\n",
    "    (r'.*', 'NOUN')                   # nouns\n",
    "]\n",
    "\n",
    "# rule based tagger\n",
    "rule_based_tagger = nltk.RegexpTagger(patterns)\n",
    "\n"
   ]
  },
  {
   "cell_type": "code",
   "execution_count": null,
   "metadata": {},
   "outputs": [],
   "source": [
    "#modified Viterbi to include rule based tagger in it\n",
    "def Viterbi_rule_based(words, train_bag = train_tagged_words):\n",
    "    state = []\n",
    "    T = list(set([pair[1] for pair in train_bag]))\n",
    "\n",
    "    for key, word in enumerate(words):\n",
    "        #initialise list of probability column for a given observation\n",
    "        p = []\n",
    "        for tag in T:\n",
    "            if key == 0:\n",
    "                transition_p = tags_df.loc['.', tag]\n",
    "            else:\n",
    "                transition_p = tags_df.loc[state[-1], tag]\n",
    "\n",
    "            # compute emission and state probabilities\n",
    "            emission_p = word_given_tag(words[key], tag)[0]/word_given_tag(words[key], tag)[1]\n",
    "            state_probability = emission_p * transition_p\n",
    "            p.append(state_probability)\n",
    "\n",
    "        pmax = max(p)\n",
    "        state_max = rule_based_tagger.tag([word])[0][1]\n",
    "\n",
    "\n",
    "        if(pmax==0):\n",
    "            state_max = rule_based_tagger.tag([word])[0][1] # assign based on rule based tagger\n",
    "        else:\n",
    "            if state_max != 'X':\n",
    "                # getting state for which probability is maximum\n",
    "                state_max = T[p.index(pmax)]\n",
    "\n",
    "\n",
    "        state.append(state_max)\n",
    "    return list(zip(words, state))\n"
   ]
  },
  {
   "cell_type": "code",
   "execution_count": null,
   "metadata": {},
   "outputs": [
    {
     "name": "stdout",
     "output_type": "stream",
     "text": [
      "[('Will', 'NOUN'), ('can', 'VERB'), ('see', 'VERB'), ('Marry', 'NOUN')]\n",
      "[('Will', 'ADJ'), ('can', 'VERB'), ('see', 'VERB'), ('Marry', 'ADJ')]\n"
     ]
    }
   ],
   "source": [
    "#Check how a sentence is tagged by the two POS taggers\n",
    "#and compare them\n",
    "test_sent=\"Will can see Marry\"\n",
    "pred_tags_rule=Viterbi_rule_based(test_sent.split())\n",
    "pred_tags_withoutRules= Viterbi(test_sent.split())\n",
    "print(pred_tags_rule)\n",
    "print(pred_tags_withoutRules)\n",
    "#Will and Marry are tagged as NUM as they are unknown words for Viterbi Algorithm\n"
   ]
  },
  {
   "cell_type": "markdown",
   "metadata": {},
   "source": [
    "### CONCLUSION\n",
    "The experiment conducted in this notebook focused on POS tagging using the Viterbi algorithm. The results showed that the Viterbi algorithm achieved a high accuracy in assigning POS tags to words. Overall, the experiment demonstrated the effectiveness of the Viterbi algorithm for POS tagging and highlighted its importance in various NLP applications\n"
   ]
  }
 ],
 "metadata": {
  "kernelspec": {
   "display_name": "ml",
   "language": "python",
   "name": "python3"
  },
  "language_info": {
   "codemirror_mode": {
    "name": "ipython",
    "version": 3
   },
   "file_extension": ".py",
   "mimetype": "text/x-python",
   "name": "python",
   "nbconvert_exporter": "python",
   "pygments_lexer": "ipython3",
   "version": "3.10.13"
  }
 },
 "nbformat": 4,
 "nbformat_minor": 2
}
