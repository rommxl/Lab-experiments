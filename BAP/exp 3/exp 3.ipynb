{
 "cells": [
  {
   "cell_type": "markdown",
   "metadata": {},
   "source": [
    "**Name** : Bodhisatya Ghosh \\\n",
    "**Class** : CSE DS \\\n",
    "**UID** : 2021700026 \\\n",
    "**Subject** : BAP \\\n",
    "**Experiment number** : 3"
   ]
  },
  {
   "cell_type": "code",
   "execution_count": 209,
   "metadata": {},
   "outputs": [],
   "source": [
    "import pandas as pd\n",
    "import numpy as np"
   ]
  },
  {
   "cell_type": "markdown",
   "metadata": {},
   "source": [
    "### 1.  Merge two or more data frames based on a common key.\n",
    "\n",
    "    Create a new pandas dataframe with containing 20 records and 5 attributes. \n",
    "\n",
    "    One attribute should compulsorily be a categorical variable, which is common with a categorical attribute from the CSV dataset that has been used earlier by you. \n",
    "\n",
    "    The other 4 attributes can be generated on reasonable assumptions.\n",
    "    \n",
    "    Merge these 2 datasets on the common key"
   ]
  },
  {
   "cell_type": "code",
   "execution_count": 210,
   "metadata": {},
   "outputs": [
    {
     "name": "stdout",
     "output_type": "stream",
     "text": [
      "<class 'pandas.core.frame.DataFrame'>\n",
      "RangeIndex: 20 entries, 0 to 19\n",
      "Data columns (total 5 columns):\n",
      " #   Column  Non-Null Count  Dtype \n",
      "---  ------  --------------  ----- \n",
      " 0   id      20 non-null     int64 \n",
      " 1   Name    20 non-null     object\n",
      " 2   Age     20 non-null     int64 \n",
      " 3   City    20 non-null     object\n",
      " 4   Salary  20 non-null     int64 \n",
      "dtypes: int64(3), object(2)\n",
      "memory usage: 928.0+ bytes\n"
     ]
    }
   ],
   "source": [
    "data1 = {\n",
    "    'id': range(1, 21),\n",
    "    'Name': ['John', 'Alice', 'Bob', 'Eva', 'Michael', 'Olivia', 'Daniel', 'Sophia', 'Charlie', 'Emma',\n",
    "             'Liam', 'Mia', 'Jacob', 'Ava', 'Matthew', 'Grace', 'Ethan', 'Chloe', 'Andrew', 'Lily'],\n",
    "    'Age': [25, 30, 22, 28, 35, 27, 31, 29, 24, 32, 28, 26, 30, 33, 23, 26, 34, 25, 29, 31],\n",
    "    'City': ['New York', 'Los Angeles', 'Chicago', 'San Francisco', 'Miami', 'Seattle', 'Boston', 'Dallas', 'Houston', 'Atlanta',\n",
    "             'Denver', 'Phoenix', 'Austin', 'San Diego', 'Philadelphia', 'Detroit', 'Minneapolis', 'Tampa', 'Portland', 'Charlotte'],\n",
    "    'Salary': [75000, 90000, 60000, 85000, 110000, 80000, 95000, 87000, 72000, 92000, 89000, 82000, 90000, 98000, 71000, 78000, 105000, 73000, 86000, 91000],\n",
    "}\n",
    "\n",
    "df1 = pd.DataFrame(data1)\n",
    "df1.info()\n"
   ]
  },
  {
   "cell_type": "code",
   "execution_count": 211,
   "metadata": {},
   "outputs": [
    {
     "name": "stdout",
     "output_type": "stream",
     "text": [
      "<class 'pandas.core.frame.DataFrame'>\n",
      "RangeIndex: 20 entries, 0 to 19\n",
      "Data columns (total 8 columns):\n",
      " #   Column             Non-Null Count  Dtype  \n",
      "---  ------             --------------  -----  \n",
      " 0   species            20 non-null     object \n",
      " 1   island             20 non-null     object \n",
      " 2   culmen_length_mm   19 non-null     float64\n",
      " 3   culmen_depth_mm    19 non-null     float64\n",
      " 4   flipper_length_mm  19 non-null     float64\n",
      " 5   body_mass_g        19 non-null     float64\n",
      " 6   sex                15 non-null     object \n",
      " 7   id                 20 non-null     int64  \n",
      "dtypes: float64(4), int64(1), object(3)\n",
      "memory usage: 1.4+ KB\n"
     ]
    }
   ],
   "source": [
    "key = range(1, 21)\n",
    "\n",
    "df2 = pd.read_csv('../exp 1/penguins_size.csv').iloc[0:20]\n",
    "df2['id'] = key\n",
    "df2.info()"
   ]
  },
  {
   "cell_type": "code",
   "execution_count": 212,
   "metadata": {},
   "outputs": [
    {
     "name": "stdout",
     "output_type": "stream",
     "text": [
      "<class 'pandas.core.frame.DataFrame'>\n",
      "Index: 20 entries, 1 to 20\n",
      "Data columns (total 11 columns):\n",
      " #   Column             Non-Null Count  Dtype  \n",
      "---  ------             --------------  -----  \n",
      " 0   Name               20 non-null     object \n",
      " 1   Age                20 non-null     int64  \n",
      " 2   City               20 non-null     object \n",
      " 3   Salary             20 non-null     int64  \n",
      " 4   species            20 non-null     object \n",
      " 5   island             20 non-null     object \n",
      " 6   culmen_length_mm   19 non-null     float64\n",
      " 7   culmen_depth_mm    19 non-null     float64\n",
      " 8   flipper_length_mm  19 non-null     float64\n",
      " 9   body_mass_g        19 non-null     float64\n",
      " 10  sex                15 non-null     object \n",
      "dtypes: float64(4), int64(2), object(5)\n",
      "memory usage: 1.9+ KB\n"
     ]
    }
   ],
   "source": [
    "merged = pd.merge(left=df1, right=df2, how='inner', on='id')\n",
    "\n",
    "index = merged['id']\n",
    "\n",
    "merged.drop(columns=['id'],inplace=True)\n",
    "merged.set_index(index,inplace=True)\n",
    "\n",
    "merged.info()"
   ]
  },
  {
   "cell_type": "markdown",
   "metadata": {},
   "source": [
    "### 2.  Concatenate multiple Data Frames vertically or horizontally\n",
    "\n",
    "    Create 5 new rows of the same schema as the original csv dataframe.  \n",
    "\n",
    "    Use a new categorical value for the common key attribute.\n",
    "\n",
    "    Concatenate this horizontally with the existing dataframe\n",
    "\n",
    "    Similarly, execute a vertical concatenation with a mock dataframe."
   ]
  },
  {
   "cell_type": "code",
   "execution_count": null,
   "metadata": {},
   "outputs": [],
   "source": []
  }
 ],
 "metadata": {
  "kernelspec": {
   "display_name": "ml",
   "language": "python",
   "name": "python3"
  },
  "language_info": {
   "codemirror_mode": {
    "name": "ipython",
    "version": 3
   },
   "file_extension": ".py",
   "mimetype": "text/x-python",
   "name": "python",
   "nbconvert_exporter": "python",
   "pygments_lexer": "ipython3",
   "version": "3.10.13"
  }
 },
 "nbformat": 4,
 "nbformat_minor": 2
}
