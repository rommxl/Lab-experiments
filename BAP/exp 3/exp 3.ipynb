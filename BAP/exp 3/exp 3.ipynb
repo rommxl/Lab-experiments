{
 "cells": [
  {
   "cell_type": "markdown",
   "metadata": {},
   "source": [
    "**Name** : Bodhisatya Ghosh \\\n",
    "**Class** : CSE DS \\\n",
    "**UID** : 2021700026 \\\n",
    "**Subject** : BAP \\\n",
    "**Experiment number** : 3"
   ]
  },
  {
   "cell_type": "code",
   "execution_count": 65,
   "metadata": {},
   "outputs": [],
   "source": [
    "import pandas as pd\n",
    "import numpy as np"
   ]
  },
  {
   "cell_type": "markdown",
   "metadata": {},
   "source": [
    "### 1.  Merge two or more data frames based on a common key.\n",
    "\n",
    "    Create a new pandas dataframe with containing 20 records and 5 attributes. \n",
    "\n",
    "    One attribute should compulsorily be a categorical variable, which is common with a categorical attribute from the CSV dataset that has been used earlier by you. \n",
    "\n",
    "    The other 4 attributes can be generated on reasonable assumptions.\n",
    "    \n",
    "    Merge these 2 datasets on the common key"
   ]
  },
  {
   "cell_type": "code",
   "execution_count": 66,
   "metadata": {},
   "outputs": [
    {
     "name": "stdout",
     "output_type": "stream",
     "text": [
      "<class 'pandas.core.frame.DataFrame'>\n",
      "RangeIndex: 20 entries, 0 to 19\n",
      "Data columns (total 5 columns):\n",
      " #   Column  Non-Null Count  Dtype \n",
      "---  ------  --------------  ----- \n",
      " 0   id      20 non-null     int64 \n",
      " 1   Name    20 non-null     object\n",
      " 2   Age     20 non-null     int64 \n",
      " 3   City    20 non-null     object\n",
      " 4   Salary  20 non-null     int64 \n",
      "dtypes: int64(3), object(2)\n",
      "memory usage: 928.0+ bytes\n"
     ]
    }
   ],
   "source": [
    "data1 = {\n",
    "    'id': range(1, 21),\n",
    "    'Name': ['John', 'Alice', 'Bob', 'Eva', 'Michael', 'Olivia', 'Daniel', 'Sophia', 'Charlie', 'Emma',\n",
    "             'Liam', 'Mia', 'Jacob', 'Ava', 'Matthew', 'Grace', 'Ethan', 'Chloe', 'Andrew', 'Lily'],\n",
    "    'Age': [25, 30, 22, 28, 35, 27, 31, 29, 24, 32, 28, 26, 30, 33, 23, 26, 34, 25, 29, 31],\n",
    "    'City': ['New York', 'Los Angeles', 'Chicago', 'San Francisco', 'Miami', 'Seattle', 'Boston', 'Dallas', 'Houston', 'Atlanta',\n",
    "             'Denver', 'Phoenix', 'Austin', 'San Diego', 'Philadelphia', 'Detroit', 'Minneapolis', 'Tampa', 'Portland', 'Charlotte'],\n",
    "    'Salary': [75000, 90000, 60000, 85000, 110000, 80000, 95000, 87000, 72000, 92000, 89000, 82000, 90000, 98000, 71000, 78000, 105000, 73000, 86000, 91000],\n",
    "}\n",
    "\n",
    "df1 = pd.DataFrame(data1)\n",
    "df1.info()\n"
   ]
  },
  {
   "cell_type": "code",
   "execution_count": 67,
   "metadata": {},
   "outputs": [
    {
     "name": "stdout",
     "output_type": "stream",
     "text": [
      "<class 'pandas.core.frame.DataFrame'>\n",
      "RangeIndex: 20 entries, 0 to 19\n",
      "Data columns (total 8 columns):\n",
      " #   Column             Non-Null Count  Dtype  \n",
      "---  ------             --------------  -----  \n",
      " 0   species            20 non-null     object \n",
      " 1   island             20 non-null     object \n",
      " 2   culmen_length_mm   19 non-null     float64\n",
      " 3   culmen_depth_mm    19 non-null     float64\n",
      " 4   flipper_length_mm  19 non-null     float64\n",
      " 5   body_mass_g        19 non-null     float64\n",
      " 6   sex                15 non-null     object \n",
      " 7   id                 20 non-null     int64  \n",
      "dtypes: float64(4), int64(1), object(3)\n",
      "memory usage: 1.4+ KB\n"
     ]
    }
   ],
   "source": [
    "key = range(1, 21)\n",
    "\n",
    "df2 = pd.read_csv('../exp 1/penguins_size.csv').iloc[0:20]\n",
    "df2['id'] = key\n",
    "df2.info()"
   ]
  },
  {
   "cell_type": "code",
   "execution_count": 68,
   "metadata": {},
   "outputs": [
    {
     "name": "stdout",
     "output_type": "stream",
     "text": [
      "<class 'pandas.core.frame.DataFrame'>\n",
      "Index: 20 entries, 1 to 20\n",
      "Data columns (total 11 columns):\n",
      " #   Column             Non-Null Count  Dtype  \n",
      "---  ------             --------------  -----  \n",
      " 0   Name               20 non-null     object \n",
      " 1   Age                20 non-null     int64  \n",
      " 2   City               20 non-null     object \n",
      " 3   Salary             20 non-null     int64  \n",
      " 4   species            20 non-null     object \n",
      " 5   island             20 non-null     object \n",
      " 6   culmen_length_mm   19 non-null     float64\n",
      " 7   culmen_depth_mm    19 non-null     float64\n",
      " 8   flipper_length_mm  19 non-null     float64\n",
      " 9   body_mass_g        19 non-null     float64\n",
      " 10  sex                15 non-null     object \n",
      "dtypes: float64(4), int64(2), object(5)\n",
      "memory usage: 1.9+ KB\n"
     ]
    }
   ],
   "source": [
    "merged = pd.merge(left=df1, right=df2, how='inner', on='id')\n",
    "\n",
    "index = merged['id']\n",
    "\n",
    "merged.drop(columns=['id'],inplace=True)\n",
    "merged.set_index(index,inplace=True)\n",
    "\n",
    "merged.info()"
   ]
  },
  {
   "cell_type": "markdown",
   "metadata": {},
   "source": [
    "### 2.  Concatenate multiple Data Frames vertically or horizontally\n",
    "\n",
    "    Create 5 new rows of the same schema as the original csv dataframe.  \n",
    "\n",
    "    Use a new categorical value for the common key attribute.\n",
    "\n",
    "    Concatenate this horizontally with the existing dataframe\n",
    "\n",
    "    Similarly, execute a vertical concatenation with a mock dataframe."
   ]
  },
  {
   "cell_type": "code",
   "execution_count": 69,
   "metadata": {},
   "outputs": [
    {
     "data": {
      "text/html": [
       "<div>\n",
       "<style scoped>\n",
       "    .dataframe tbody tr th:only-of-type {\n",
       "        vertical-align: middle;\n",
       "    }\n",
       "\n",
       "    .dataframe tbody tr th {\n",
       "        vertical-align: top;\n",
       "    }\n",
       "\n",
       "    .dataframe thead th {\n",
       "        text-align: right;\n",
       "    }\n",
       "</style>\n",
       "<table border=\"1\" class=\"dataframe\">\n",
       "  <thead>\n",
       "    <tr style=\"text-align: right;\">\n",
       "      <th></th>\n",
       "      <th>species</th>\n",
       "      <th>island</th>\n",
       "      <th>culmen_length_mm</th>\n",
       "      <th>culmen_depth_mm</th>\n",
       "      <th>flipper_length_mm</th>\n",
       "      <th>body_mass_g</th>\n",
       "      <th>sex</th>\n",
       "    </tr>\n",
       "  </thead>\n",
       "  <tbody>\n",
       "    <tr>\n",
       "      <th>339</th>\n",
       "      <td>Gentoo</td>\n",
       "      <td>Biscoe</td>\n",
       "      <td>NaN</td>\n",
       "      <td>NaN</td>\n",
       "      <td>NaN</td>\n",
       "      <td>NaN</td>\n",
       "      <td>NaN</td>\n",
       "    </tr>\n",
       "    <tr>\n",
       "      <th>340</th>\n",
       "      <td>Gentoo</td>\n",
       "      <td>Biscoe</td>\n",
       "      <td>46.8</td>\n",
       "      <td>14.3</td>\n",
       "      <td>215.0</td>\n",
       "      <td>4850.0</td>\n",
       "      <td>FEMALE</td>\n",
       "    </tr>\n",
       "    <tr>\n",
       "      <th>341</th>\n",
       "      <td>Gentoo</td>\n",
       "      <td>Biscoe</td>\n",
       "      <td>50.4</td>\n",
       "      <td>15.7</td>\n",
       "      <td>222.0</td>\n",
       "      <td>5750.0</td>\n",
       "      <td>MALE</td>\n",
       "    </tr>\n",
       "    <tr>\n",
       "      <th>342</th>\n",
       "      <td>Gentoo</td>\n",
       "      <td>Biscoe</td>\n",
       "      <td>45.2</td>\n",
       "      <td>14.8</td>\n",
       "      <td>212.0</td>\n",
       "      <td>5200.0</td>\n",
       "      <td>FEMALE</td>\n",
       "    </tr>\n",
       "    <tr>\n",
       "      <th>343</th>\n",
       "      <td>Gentoo</td>\n",
       "      <td>Biscoe</td>\n",
       "      <td>49.9</td>\n",
       "      <td>16.1</td>\n",
       "      <td>213.0</td>\n",
       "      <td>5400.0</td>\n",
       "      <td>MALE</td>\n",
       "    </tr>\n",
       "  </tbody>\n",
       "</table>\n",
       "</div>"
      ],
      "text/plain": [
       "    species  island  culmen_length_mm  culmen_depth_mm  flipper_length_mm  \\\n",
       "339  Gentoo  Biscoe               NaN              NaN                NaN   \n",
       "340  Gentoo  Biscoe              46.8             14.3              215.0   \n",
       "341  Gentoo  Biscoe              50.4             15.7              222.0   \n",
       "342  Gentoo  Biscoe              45.2             14.8              212.0   \n",
       "343  Gentoo  Biscoe              49.9             16.1              213.0   \n",
       "\n",
       "     body_mass_g     sex  \n",
       "339          NaN     NaN  \n",
       "340       4850.0  FEMALE  \n",
       "341       5750.0    MALE  \n",
       "342       5200.0  FEMALE  \n",
       "343       5400.0    MALE  "
      ]
     },
     "execution_count": 69,
     "metadata": {},
     "output_type": "execute_result"
    }
   ],
   "source": [
    "df = pd.read_csv('../exp 1/penguins_size.csv')\n",
    "df.tail()"
   ]
  },
  {
   "cell_type": "code",
   "execution_count": 70,
   "metadata": {},
   "outputs": [
    {
     "data": {
      "text/html": [
       "<div>\n",
       "<style scoped>\n",
       "    .dataframe tbody tr th:only-of-type {\n",
       "        vertical-align: middle;\n",
       "    }\n",
       "\n",
       "    .dataframe tbody tr th {\n",
       "        vertical-align: top;\n",
       "    }\n",
       "\n",
       "    .dataframe thead th {\n",
       "        text-align: right;\n",
       "    }\n",
       "</style>\n",
       "<table border=\"1\" class=\"dataframe\">\n",
       "  <thead>\n",
       "    <tr style=\"text-align: right;\">\n",
       "      <th></th>\n",
       "      <th>species</th>\n",
       "      <th>island</th>\n",
       "      <th>culmen_length_mm</th>\n",
       "      <th>culmen_depth_mm</th>\n",
       "      <th>flipper_length_mm</th>\n",
       "      <th>body_mass_g</th>\n",
       "      <th>sex</th>\n",
       "      <th>species</th>\n",
       "      <th>island</th>\n",
       "      <th>culmen_length_mm</th>\n",
       "      <th>culmen_depth_mm</th>\n",
       "      <th>flipper_length_mm</th>\n",
       "      <th>body_mass_g</th>\n",
       "      <th>sex</th>\n",
       "    </tr>\n",
       "  </thead>\n",
       "  <tbody>\n",
       "    <tr>\n",
       "      <th>339</th>\n",
       "      <td>Gentoo</td>\n",
       "      <td>Biscoe</td>\n",
       "      <td>NaN</td>\n",
       "      <td>NaN</td>\n",
       "      <td>NaN</td>\n",
       "      <td>NaN</td>\n",
       "      <td>NaN</td>\n",
       "      <td>NaN</td>\n",
       "      <td>NaN</td>\n",
       "      <td>NaN</td>\n",
       "      <td>NaN</td>\n",
       "      <td>NaN</td>\n",
       "      <td>NaN</td>\n",
       "      <td>NaN</td>\n",
       "    </tr>\n",
       "    <tr>\n",
       "      <th>340</th>\n",
       "      <td>Gentoo</td>\n",
       "      <td>Biscoe</td>\n",
       "      <td>46.8</td>\n",
       "      <td>14.3</td>\n",
       "      <td>215.0</td>\n",
       "      <td>4850.0</td>\n",
       "      <td>FEMALE</td>\n",
       "      <td>NaN</td>\n",
       "      <td>NaN</td>\n",
       "      <td>NaN</td>\n",
       "      <td>NaN</td>\n",
       "      <td>NaN</td>\n",
       "      <td>NaN</td>\n",
       "      <td>NaN</td>\n",
       "    </tr>\n",
       "    <tr>\n",
       "      <th>341</th>\n",
       "      <td>Gentoo</td>\n",
       "      <td>Biscoe</td>\n",
       "      <td>50.4</td>\n",
       "      <td>15.7</td>\n",
       "      <td>222.0</td>\n",
       "      <td>5750.0</td>\n",
       "      <td>MALE</td>\n",
       "      <td>NaN</td>\n",
       "      <td>NaN</td>\n",
       "      <td>NaN</td>\n",
       "      <td>NaN</td>\n",
       "      <td>NaN</td>\n",
       "      <td>NaN</td>\n",
       "      <td>NaN</td>\n",
       "    </tr>\n",
       "    <tr>\n",
       "      <th>342</th>\n",
       "      <td>Gentoo</td>\n",
       "      <td>Biscoe</td>\n",
       "      <td>45.2</td>\n",
       "      <td>14.8</td>\n",
       "      <td>212.0</td>\n",
       "      <td>5200.0</td>\n",
       "      <td>FEMALE</td>\n",
       "      <td>NaN</td>\n",
       "      <td>NaN</td>\n",
       "      <td>NaN</td>\n",
       "      <td>NaN</td>\n",
       "      <td>NaN</td>\n",
       "      <td>NaN</td>\n",
       "      <td>NaN</td>\n",
       "    </tr>\n",
       "    <tr>\n",
       "      <th>343</th>\n",
       "      <td>Gentoo</td>\n",
       "      <td>Biscoe</td>\n",
       "      <td>49.9</td>\n",
       "      <td>16.1</td>\n",
       "      <td>213.0</td>\n",
       "      <td>5400.0</td>\n",
       "      <td>MALE</td>\n",
       "      <td>NaN</td>\n",
       "      <td>NaN</td>\n",
       "      <td>NaN</td>\n",
       "      <td>NaN</td>\n",
       "      <td>NaN</td>\n",
       "      <td>NaN</td>\n",
       "      <td>NaN</td>\n",
       "    </tr>\n",
       "  </tbody>\n",
       "</table>\n",
       "</div>"
      ],
      "text/plain": [
       "    species  island  culmen_length_mm  culmen_depth_mm  flipper_length_mm  \\\n",
       "339  Gentoo  Biscoe               NaN              NaN                NaN   \n",
       "340  Gentoo  Biscoe              46.8             14.3              215.0   \n",
       "341  Gentoo  Biscoe              50.4             15.7              222.0   \n",
       "342  Gentoo  Biscoe              45.2             14.8              212.0   \n",
       "343  Gentoo  Biscoe              49.9             16.1              213.0   \n",
       "\n",
       "     body_mass_g     sex species island  culmen_length_mm  culmen_depth_mm  \\\n",
       "339          NaN     NaN     NaN    NaN               NaN              NaN   \n",
       "340       4850.0  FEMALE     NaN    NaN               NaN              NaN   \n",
       "341       5750.0    MALE     NaN    NaN               NaN              NaN   \n",
       "342       5200.0  FEMALE     NaN    NaN               NaN              NaN   \n",
       "343       5400.0    MALE     NaN    NaN               NaN              NaN   \n",
       "\n",
       "     flipper_length_mm  body_mass_g  sex  \n",
       "339                NaN          NaN  NaN  \n",
       "340                NaN          NaN  NaN  \n",
       "341                NaN          NaN  NaN  \n",
       "342                NaN          NaN  NaN  \n",
       "343                NaN          NaN  NaN  "
      ]
     },
     "execution_count": 70,
     "metadata": {},
     "output_type": "execute_result"
    }
   ],
   "source": [
    "# Create a new dataframe for horizontal concatenation\n",
    "new_data_horizontal = {\n",
    "    'species': ['New_Species_1', 'New_Species_2', 'New_Species_3', 'New_Species_4', 'New_Species_5'],\n",
    "    'island': ['New_Island'] * 5,\n",
    "    'culmen_length_mm': [41.2, 38.8, 40.0, 39.5, 37.0],\n",
    "    'culmen_depth_mm': [16.5, 18.2, 17.8, 18.5, 19.0],\n",
    "    'flipper_length_mm': [185, 180, 190, 195, 200],\n",
    "    'body_mass_g': [3700, 3550, 3850, 3700, 4000],\n",
    "    'sex': ['MALE', 'FEMALE', 'FEMALE', 'MALE', 'FEMALE']\n",
    "}\n",
    "\n",
    "df_horizontal = pd.DataFrame(new_data_horizontal)\n",
    "\n",
    "# Horizontal Concatenation\n",
    "df_concat_horizontal = pd.concat([df, df_horizontal], axis=1)\n",
    "df_concat_horizontal.tail()"
   ]
  },
  {
   "cell_type": "code",
   "execution_count": 71,
   "metadata": {},
   "outputs": [
    {
     "data": {
      "text/html": [
       "<div>\n",
       "<style scoped>\n",
       "    .dataframe tbody tr th:only-of-type {\n",
       "        vertical-align: middle;\n",
       "    }\n",
       "\n",
       "    .dataframe tbody tr th {\n",
       "        vertical-align: top;\n",
       "    }\n",
       "\n",
       "    .dataframe thead th {\n",
       "        text-align: right;\n",
       "    }\n",
       "</style>\n",
       "<table border=\"1\" class=\"dataframe\">\n",
       "  <thead>\n",
       "    <tr style=\"text-align: right;\">\n",
       "      <th></th>\n",
       "      <th>species</th>\n",
       "      <th>island</th>\n",
       "      <th>culmen_length_mm</th>\n",
       "      <th>culmen_depth_mm</th>\n",
       "      <th>flipper_length_mm</th>\n",
       "      <th>body_mass_g</th>\n",
       "      <th>sex</th>\n",
       "    </tr>\n",
       "  </thead>\n",
       "  <tbody>\n",
       "    <tr>\n",
       "      <th>344</th>\n",
       "      <td>New_Species_6</td>\n",
       "      <td>New_Island</td>\n",
       "      <td>42.0</td>\n",
       "      <td>17.0</td>\n",
       "      <td>192.0</td>\n",
       "      <td>3800.0</td>\n",
       "      <td>FEMALE</td>\n",
       "    </tr>\n",
       "    <tr>\n",
       "      <th>345</th>\n",
       "      <td>New_Species_7</td>\n",
       "      <td>New_Island</td>\n",
       "      <td>39.0</td>\n",
       "      <td>18.8</td>\n",
       "      <td>187.0</td>\n",
       "      <td>3650.0</td>\n",
       "      <td>MALE</td>\n",
       "    </tr>\n",
       "    <tr>\n",
       "      <th>346</th>\n",
       "      <td>New_Species_8</td>\n",
       "      <td>New_Island</td>\n",
       "      <td>38.5</td>\n",
       "      <td>17.5</td>\n",
       "      <td>180.0</td>\n",
       "      <td>3550.0</td>\n",
       "      <td>FEMALE</td>\n",
       "    </tr>\n",
       "    <tr>\n",
       "      <th>347</th>\n",
       "      <td>New_Species_9</td>\n",
       "      <td>New_Island</td>\n",
       "      <td>41.8</td>\n",
       "      <td>19.2</td>\n",
       "      <td>200.0</td>\n",
       "      <td>4000.0</td>\n",
       "      <td>MALE</td>\n",
       "    </tr>\n",
       "    <tr>\n",
       "      <th>348</th>\n",
       "      <td>New_Species_10</td>\n",
       "      <td>New_Island</td>\n",
       "      <td>40.5</td>\n",
       "      <td>18.0</td>\n",
       "      <td>195.0</td>\n",
       "      <td>3900.0</td>\n",
       "      <td>FEMALE</td>\n",
       "    </tr>\n",
       "  </tbody>\n",
       "</table>\n",
       "</div>"
      ],
      "text/plain": [
       "            species      island  culmen_length_mm  culmen_depth_mm  \\\n",
       "344   New_Species_6  New_Island              42.0             17.0   \n",
       "345   New_Species_7  New_Island              39.0             18.8   \n",
       "346   New_Species_8  New_Island              38.5             17.5   \n",
       "347   New_Species_9  New_Island              41.8             19.2   \n",
       "348  New_Species_10  New_Island              40.5             18.0   \n",
       "\n",
       "     flipper_length_mm  body_mass_g     sex  \n",
       "344              192.0       3800.0  FEMALE  \n",
       "345              187.0       3650.0    MALE  \n",
       "346              180.0       3550.0  FEMALE  \n",
       "347              200.0       4000.0    MALE  \n",
       "348              195.0       3900.0  FEMALE  "
      ]
     },
     "execution_count": 71,
     "metadata": {},
     "output_type": "execute_result"
    }
   ],
   "source": [
    "# Create a new dataframe for vertical concatenation\n",
    "new_data_vertical = {\n",
    "    'species': ['New_Species_6', 'New_Species_7', 'New_Species_8', 'New_Species_9', 'New_Species_10'],\n",
    "    'island': ['New_Island'] * 5,\n",
    "    'culmen_length_mm': [42.0, 39.0, 38.5, 41.8, 40.5],\n",
    "    'culmen_depth_mm': [17.0, 18.8, 17.5, 19.2, 18.0],\n",
    "    'flipper_length_mm': [192, 187, 180, 200, 195],\n",
    "    'body_mass_g': [3800, 3650, 3550, 4000, 3900],\n",
    "    'sex': ['FEMALE', 'MALE', 'FEMALE', 'MALE', 'FEMALE']\n",
    "}\n",
    "\n",
    "df_vertical = pd.DataFrame(new_data_vertical)\n",
    "\n",
    "# Vertical Concatenation\n",
    "df_concat_vertical = pd.concat([df, df_vertical], ignore_index=True)\n",
    "df_concat_vertical.tail()"
   ]
  },
  {
   "cell_type": "markdown",
   "metadata": {},
   "source": [
    "### 3. Pivot a Data Frame from long to wide format or vice versa\n",
    "\n",
    "Add reasoning for using pivot. Explain with a relevant example how pivot operation is useful in data analysis"
   ]
  },
  {
   "cell_type": "code",
   "execution_count": 72,
   "metadata": {},
   "outputs": [
    {
     "name": "stdout",
     "output_type": "stream",
     "text": [
      "Original DataFrame:\n",
      "         Date Category  Value Location\n",
      "0  2022-01-31        C     88        X\n",
      "1  2022-02-28        A     24        X\n",
      "2  2022-03-31        C      3        Y\n",
      "3  2022-04-30        C     22        Y\n",
      "4  2022-05-31        A     53        Y\n",
      "5  2022-06-30        A      2        X\n",
      "6  2022-07-31        C     88        Y\n",
      "7  2022-08-31        B     30        X\n",
      "8  2022-09-30        C     38        X\n",
      "9  2022-10-31        C      2        X\n",
      "10 2022-11-30        C     64        X\n",
      "11 2022-12-31        C     60        X\n"
     ]
    }
   ],
   "source": [
    "# Create a random meaningful dataframe\n",
    "np.random.seed(42)\n",
    "data = {\n",
    "    'Date': pd.date_range(start='2022-01-01', periods=12, freq='M'),\n",
    "    'Category': np.random.choice(['A', 'B', 'C'], size=12),\n",
    "    'Value': np.random.randint(1, 100, size=12),\n",
    "    'Location': np.random.choice(['X', 'Y'], size=12),\n",
    "}\n",
    "\n",
    "df = pd.DataFrame(data)\n",
    "\n",
    "# Display the original dataframe\n",
    "print(\"Original DataFrame:\")\n",
    "print(df)\n"
   ]
  },
  {
   "cell_type": "code",
   "execution_count": 73,
   "metadata": {},
   "outputs": [
    {
     "name": "stdout",
     "output_type": "stream",
     "text": [
      "\n",
      "DataFrame after Pivoting to Wide Format:\n",
      "           Value                        \n",
      "Location       X                 Y      \n",
      "Category       A     B     C     A     C\n",
      "Date                                    \n",
      "2022-01-31   NaN   NaN  88.0   NaN   NaN\n",
      "2022-02-28  24.0   NaN   NaN   NaN   NaN\n",
      "2022-03-31   NaN   NaN   NaN   NaN   3.0\n",
      "2022-04-30   NaN   NaN   NaN   NaN  22.0\n",
      "2022-05-31   NaN   NaN   NaN  53.0   NaN\n",
      "2022-06-30   2.0   NaN   NaN   NaN   NaN\n",
      "2022-07-31   NaN   NaN   NaN   NaN  88.0\n",
      "2022-08-31   NaN  30.0   NaN   NaN   NaN\n",
      "2022-09-30   NaN   NaN  38.0   NaN   NaN\n",
      "2022-10-31   NaN   NaN   2.0   NaN   NaN\n",
      "2022-11-30   NaN   NaN  64.0   NaN   NaN\n",
      "2022-12-31   NaN   NaN  60.0   NaN   NaN\n"
     ]
    }
   ],
   "source": [
    "\n",
    "# Pivot from long to wide format\n",
    "df_pivot_wide = pd.pivot_table(df,values=['Value'],index=['Date'], columns=['Location','Category'])\n",
    "\n",
    "# Display the dataframe after pivoting to wide format\n",
    "print(\"\\nDataFrame after Pivoting to Wide Format:\")\n",
    "print(df_pivot_wide)"
   ]
  },
  {
   "cell_type": "markdown",
   "metadata": {},
   "source": [
    "Data pivoting enables you to rearrange the columns and rows in a report so you can view data from different perspectives. If you pivot the objects on the report, so that the objects that were in the columns are now in the rows, and the objects that were in the rows are now in the columns, much of the data is easier to read and compare"
   ]
  },
  {
   "cell_type": "markdown",
   "metadata": {},
   "source": [
    "### 4. Stack and unstack columns or levels in the Data Frame\n",
    "\n",
    "Reason about the use and application of stacking and unstacking with the help of the current dataframe or another example."
   ]
  },
  {
   "cell_type": "code",
   "execution_count": 74,
   "metadata": {},
   "outputs": [
    {
     "name": "stdout",
     "output_type": "stream",
     "text": [
      "\n",
      "DataFrame after Pivoting to Long Format:\n",
      "                              Value\n",
      "Date       Location Category       \n",
      "2022-01-31 X        C          88.0\n",
      "2022-02-28 X        A          24.0\n",
      "2022-03-31 Y        C           3.0\n",
      "2022-04-30 Y        C          22.0\n",
      "2022-05-31 Y        A          53.0\n",
      "2022-06-30 X        A           2.0\n",
      "2022-07-31 Y        C          88.0\n",
      "2022-08-31 X        B          30.0\n",
      "2022-09-30 X        C          38.0\n",
      "2022-10-31 X        C           2.0\n",
      "2022-11-30 X        C          64.0\n",
      "2022-12-31 X        C          60.0\n"
     ]
    }
   ],
   "source": [
    "# Pivot from wide to long format\n",
    "df_pivot_long = df_pivot_wide.stack(level=['Location','Category',])\n",
    "\n",
    "# Display the dataframe after pivoting to long format\n",
    "print(\"\\nDataFrame after Pivoting to Long Format:\")\n",
    "print(df_pivot_long)\n"
   ]
  },
  {
   "cell_type": "markdown",
   "metadata": {},
   "source": [
    "A pivot retains the same number of levels on an index, a stack and unstack will always increase the levels on the index of one of the axes (columns for unstack and rows for stack) and decrease the levels on the other axis."
   ]
  },
  {
   "cell_type": "markdown",
   "metadata": {},
   "source": [
    "### 5. Data Wrangling\n",
    "\n",
    "Experiment with other techniques in data wrangling to convert and reshape your dataframe into its final state which can be used for analysis"
   ]
  },
  {
   "cell_type": "code",
   "execution_count": 75,
   "metadata": {},
   "outputs": [
    {
     "name": "stdout",
     "output_type": "stream",
     "text": [
      "Original DataFrame:\n",
      "         Date Category  Value Location\n",
      "0  2022-01-31        C     88        X\n",
      "1  2022-02-28        A     24        X\n",
      "2  2022-03-31        C      3        Y\n",
      "3  2022-04-30        C     22        Y\n",
      "4  2022-05-31        A     53        Y\n",
      "5  2022-06-30        A      2        X\n",
      "6  2022-07-31        C     88        Y\n",
      "7  2022-08-31        B     30        X\n",
      "8  2022-09-30        C     38        X\n",
      "9  2022-10-31        C      2        X\n",
      "10 2022-11-30        C     64        X\n",
      "11 2022-12-31        C     60        X\n",
      "\n",
      "DataFrame after Handling Missing Values:\n",
      "         Date Category  Value Location\n",
      "0  2022-01-31        C     88        X\n",
      "1  2022-02-28        A     24        X\n",
      "2  2022-03-31        C      3        Y\n",
      "3  2022-04-30        C     22        Y\n",
      "4  2022-05-31        A     53        Y\n",
      "5  2022-06-30        A      2        X\n",
      "6  2022-07-31        C     88        Y\n",
      "7  2022-08-31        B     30        X\n",
      "8  2022-09-30        C     38        X\n",
      "9  2022-10-31        C      2        X\n",
      "10 2022-11-30        C     64        X\n",
      "11 2022-12-31        C     60        X\n"
     ]
    }
   ],
   "source": [
    "# Original DataFrame\n",
    "print(\"Original DataFrame:\")\n",
    "print(df)\n",
    "\n",
    "# Data Wrangling Techniques\n",
    "\n",
    "# 1. Handling Missing Values\n",
    "df_cleaned = df.dropna()\n",
    "print(\"\\nDataFrame after Handling Missing Values:\")\n",
    "print(df_cleaned)"
   ]
  },
  {
   "cell_type": "code",
   "execution_count": 76,
   "metadata": {},
   "outputs": [
    {
     "name": "stdout",
     "output_type": "stream",
     "text": [
      "\n",
      "DataFrame after Grouping and Aggregation:\n",
      "  Category Location      Value\n",
      "0        A        X  13.000000\n",
      "1        A        Y  53.000000\n",
      "2        B        X  30.000000\n",
      "3        C        X  50.400000\n",
      "4        C        Y  37.666667\n"
     ]
    }
   ],
   "source": [
    "\n",
    "# 2. Grouping and Aggregation\n",
    "df_grouped = df.groupby(['Category', 'Location']).agg({'Value': 'mean'}).reset_index()\n",
    "print(\"\\nDataFrame after Grouping and Aggregation:\")\n",
    "print(df_grouped)"
   ]
  },
  {
   "cell_type": "code",
   "execution_count": 77,
   "metadata": {},
   "outputs": [
    {
     "name": "stdout",
     "output_type": "stream",
     "text": [
      "\n",
      "DataFrame after Merging with Additional Information:\n",
      "  Category Location      Value Additional_Info\n",
      "0        A        X  13.000000          Info_A\n",
      "1        A        Y  53.000000          Info_A\n",
      "2        B        X  30.000000          Info_B\n",
      "3        C        X  50.400000          Info_C\n",
      "4        C        Y  37.666667          Info_C\n"
     ]
    }
   ],
   "source": [
    "\n",
    "# 3. Merging DataFrames\n",
    "additional_data = {\n",
    "    'Category': ['A', 'B', 'C'],\n",
    "    'Additional_Info': ['Info_A', 'Info_B', 'Info_C']\n",
    "}\n",
    "\n",
    "df_additional_info = pd.DataFrame(additional_data)\n",
    "\n",
    "df_merged = pd.merge(df_grouped, df_additional_info, on='Category', how='left')\n",
    "\n",
    "print(\"\\nDataFrame after Merging with Additional Information:\")\n",
    "print(df_merged)\n"
   ]
  }
 ],
 "metadata": {
  "kernelspec": {
   "display_name": "ml",
   "language": "python",
   "name": "python3"
  },
  "language_info": {
   "codemirror_mode": {
    "name": "ipython",
    "version": 3
   },
   "file_extension": ".py",
   "mimetype": "text/x-python",
   "name": "python",
   "nbconvert_exporter": "python",
   "pygments_lexer": "ipython3",
   "version": "3.10.13"
  }
 },
 "nbformat": 4,
 "nbformat_minor": 2
}
