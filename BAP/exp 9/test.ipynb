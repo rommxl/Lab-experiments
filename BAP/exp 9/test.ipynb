{
 "cells": [
  {
   "cell_type": "code",
   "execution_count": 13,
   "metadata": {},
   "outputs": [],
   "source": [
    "import praw"
   ]
  },
  {
   "cell_type": "code",
   "execution_count": 14,
   "metadata": {},
   "outputs": [],
   "source": [
    "reddit_read_only = praw.Reddit(client_id = \"BgNQD79TR7YuFxbLc2_6KQ\",\n",
    "                               client_secret = \"uE3jHR_dku_zK-vr9h5kt4EU4V5zeg\",\n",
    "                               user_agent = \"RedScrapper\")"
   ]
  },
  {
   "cell_type": "code",
   "execution_count": 15,
   "metadata": {},
   "outputs": [
    {
     "name": "stdout",
     "output_type": "stream",
     "text": [
      "BJP candidate using a religious symbol for Election campaign despite the model code of conduct. Your opinion on this?\n",
      "Admitting that PM Modi is bad for the country but still willing to vote for the BJP because he's better than the 'incompetent' Rahul Gandhi is probably the stupidest opinion ever.\n",
      "Opinion: Why BJP wont arrest their POCSO accused MP\n",
      "Opinion: Mamata Is Souring Her Victory With Anti-BJP Violence\n",
      "How many people changed their opinion on BJP midway?\n",
      "Opinion: With a Good Opposition, BJP would have been out of power by now\n",
      "[OPINION] Congress have hurt India more than BJP by being a dismal opposition.\n",
      "I think BJP has made AAP stronger by making them headlines in all news channel.(It's my opinion, it may not be true.), but I can assure you it is a fact that BJP has become overconfident, they need reality check ASAP, I am not anti hindu not anti national not pro congress, not anti BJP.\n",
      "I debated my casual BJP supporting friend today. Here are the outcomes.\n",
      "The most shameful day for Indian Democracy.\n",
      "Tell me there’s hope for India\n",
      "Guys do not lose hope. Ignore 400 paar, I do not think BJP's win is that easy. \n",
      "[Opinion] India should have Prime Ministerial Debates like the US\n",
      "BJP MP Pragya Thakur refers to Mahatma Gandhi's assassin Nathuram Godse as \"deshbhakt\" during debate in Lok Sabha\n",
      "India Today group being as spineless as ever. \n",
      "Opinion | India’s BJP Is the World’s Most Important Party\n",
      "Video: On TV debate, BJP leader fails to sing Vande Mataram, even after mobile prompts | The Indian Express\n",
      "How do you guys control yourself while debating with your family members on the BJP vs non BJP narrative?\n",
      "I am Sophie Zhang, FB whistleblower. When I found fake accounts manipulating Indian politics, FB agreed to take them down - until we found they were ran by MP Vinod Sonkar, the Chair of the Ethics Committee. The LS voted unanimously for my testimony, but Speaker Birla is blocking it. Ask me anything\n",
      "#ResignModi trending in India on #1 with 200k tweets at the moment\n"
     ]
    }
   ],
   "source": [
    "topic_keywords = 'debate bjp opinion'\n",
    "subreddit = reddit_read_only.subreddit(\"india\")\n",
    "\n",
    "for post in subreddit.search(topic_keywords,limit=20):\n",
    "\tprint(post.title)\n"
   ]
  },
  {
   "cell_type": "code",
   "execution_count": null,
   "metadata": {},
   "outputs": [],
   "source": []
  }
 ],
 "metadata": {
  "kernelspec": {
   "display_name": "ml",
   "language": "python",
   "name": "python3"
  },
  "language_info": {
   "codemirror_mode": {
    "name": "ipython",
    "version": 3
   },
   "file_extension": ".py",
   "mimetype": "text/x-python",
   "name": "python",
   "nbconvert_exporter": "python",
   "pygments_lexer": "ipython3",
   "version": "3.10.13"
  }
 },
 "nbformat": 4,
 "nbformat_minor": 2
}
