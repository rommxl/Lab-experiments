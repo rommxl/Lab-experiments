{
 "cells": [
  {
   "cell_type": "code",
   "execution_count": 251,
   "metadata": {},
   "outputs": [],
   "source": [
    "import praw\n",
    "from datetime import datetime\n",
    "import re\n",
    "import pandas as pd"
   ]
  },
  {
   "cell_type": "markdown",
   "metadata": {},
   "source": [
    "## Creating Reddit app for PRAW and getting credentials"
   ]
  },
  {
   "cell_type": "code",
   "execution_count": 252,
   "metadata": {},
   "outputs": [],
   "source": [
    "reddit_read_only = praw.Reddit(client_id = \"BgNQD79TR7YuFxbLc2_6KQ\",\n",
    "                               client_secret = \"uE3jHR_dku_zK-vr9h5kt4EU4V5zeg\",\n",
    "                               user_agent = \"RedScrapper\")"
   ]
  },
  {
   "cell_type": "markdown",
   "metadata": {},
   "source": [
    "## Choosing subreddit and keywords to search by"
   ]
  },
  {
   "cell_type": "code",
   "execution_count": 253,
   "metadata": {},
   "outputs": [],
   "source": [
    "topic_keywords = 'debate bjp opinion'\n",
    "subreddit = reddit_read_only.subreddit(\"india\")\n",
    "num_of_post = 100"
   ]
  },
  {
   "cell_type": "markdown",
   "metadata": {},
   "source": [
    "## Choosing time periods and fetching comments"
   ]
  },
  {
   "cell_type": "markdown",
   "metadata": {},
   "source": [
    "### First BJP govt. tenure reddit comments"
   ]
  },
  {
   "cell_type": "code",
   "execution_count": 254,
   "metadata": {},
   "outputs": [],
   "source": [
    "start_date = (datetime(2014, 1, 1))\n",
    "end_date = (datetime(2019, 1, 1))\n",
    "\n",
    "first_term = []\n",
    "\n",
    "for post in subreddit.search(topic_keywords,limit=num_of_post):\n",
    "        post.comments.replace_more(limit=0)\n",
    "        for comment in post.comments.list():\n",
    "            comment_date = datetime.fromtimestamp(comment.created_utc)\n",
    "            if start_date <= comment_date <= end_date:\n",
    "                first_term.append(comment)\n",
    "                # print(comment.body)\n"
   ]
  },
  {
   "cell_type": "markdown",
   "metadata": {},
   "source": [
    "### Second BJP govt. tenure reddit comments"
   ]
  },
  {
   "cell_type": "code",
   "execution_count": 255,
   "metadata": {},
   "outputs": [],
   "source": [
    "start_date = (datetime(2019, 1, 1))\n",
    "end_date = (datetime(2024, 1, 1))\n",
    "\n",
    "second_term = []\n",
    "\n",
    "for post in subreddit.search(topic_keywords,limit=num_of_post):\n",
    "        post.comments.replace_more(limit=0) #to handle \"MoreComments\" object in the subreddit object\n",
    "        for comment in post.comments.list(): #Iterating through comments\n",
    "            comment_date = datetime.fromtimestamp(comment.created_utc)\n",
    "            if start_date <= comment_date <= end_date: #Filtering comments by date\n",
    "                second_term.append(comment)\n",
    "                # print(comment.body)"
   ]
  },
  {
   "cell_type": "code",
   "execution_count": 256,
   "metadata": {},
   "outputs": [],
   "source": [
    "first_term_sorted = sorted(first_term, key = lambda comment: datetime.fromtimestamp(comment.created_utc))\n",
    "second_term_sorted = sorted(second_term, key = lambda comment: datetime.fromtimestamp(comment.created_utc))"
   ]
  },
  {
   "cell_type": "markdown",
   "metadata": {},
   "source": [
    "## Creating dataframes after performing sentiment analysis"
   ]
  },
  {
   "cell_type": "code",
   "execution_count": 257,
   "metadata": {},
   "outputs": [],
   "source": [
    "from vaderSentiment.vaderSentiment import SentimentIntensityAnalyzer\n",
    "analyzer = SentimentIntensityAnalyzer()"
   ]
  },
  {
   "cell_type": "code",
   "execution_count": 258,
   "metadata": {},
   "outputs": [],
   "source": [
    "def clean_text(text: str):\n",
    "    text = text.lower()\n",
    "    text = re.sub(r'[^a-zA-Z0-9 ]',' ',text)\n",
    "    text = re.sub(r'\\s+',' ',text)\n",
    "    return text"
   ]
  },
  {
   "cell_type": "code",
   "execution_count": 259,
   "metadata": {},
   "outputs": [],
   "source": [
    "first_term_comments = []\n",
    "first_term_sentiments = []\n",
    "first_term_comment_date = []\n",
    "for comment in first_term_sorted:\n",
    "    first_term_comments.append(clean_text(comment.body))\n",
    "    first_term_sentiments.append(analyzer.polarity_scores(comment.body)['compound'])\n",
    "    first_term_comment_date.append(datetime.fromtimestamp(comment.created_utc))\n",
    "\n",
    "first_term_data = pd.DataFrame({'Comment':first_term_comments,'Date':first_term_comment_date,'Sentiment':first_term_sentiments},index=first_term_comment_date)\n",
    "# first_term_data['Category'] = [label for ]"
   ]
  },
  {
   "cell_type": "code",
   "execution_count": 260,
   "metadata": {},
   "outputs": [],
   "source": [
    "second_term_comments = []\n",
    "second_term_sentiments = []\n",
    "second_term_comment_date = []\n",
    "for comment in second_term_sorted:\n",
    "    second_term_comments.append(clean_text(comment.body))\n",
    "    second_term_sentiments.append(analyzer.polarity_scores(comment.body)['compound'])\n",
    "    second_term_comment_date.append(datetime.fromtimestamp(comment.created_utc))\n",
    "\n",
    "second_term_data = pd.DataFrame({'Comment':second_term_comments,'Date':second_term_comment_date,'Sentiment':second_term_sentiments},index=second_term_comment_date)"
   ]
  },
  {
   "cell_type": "code",
   "execution_count": 261,
   "metadata": {},
   "outputs": [],
   "source": [
    "# first_term_data.set_index('Date', inplace=True)\n",
    "# second_term_data.set_index('Date', inplace=True)"
   ]
  },
  {
   "cell_type": "markdown",
   "metadata": {},
   "source": [
    "### Resampling data year wise"
   ]
  },
  {
   "cell_type": "code",
   "execution_count": 275,
   "metadata": {},
   "outputs": [],
   "source": [
    "resampled_first_term_data = first_term_data.resample('3M').mean('Sentiment').dropna()\n",
    "resampled_second_term_data = second_term_data.resample('3M').mean('Sentiment').dropna()"
   ]
  },
  {
   "cell_type": "code",
   "execution_count": 276,
   "metadata": {},
   "outputs": [
    {
     "data": {
      "text/html": [
       "<div>\n",
       "<style scoped>\n",
       "    .dataframe tbody tr th:only-of-type {\n",
       "        vertical-align: middle;\n",
       "    }\n",
       "\n",
       "    .dataframe tbody tr th {\n",
       "        vertical-align: top;\n",
       "    }\n",
       "\n",
       "    .dataframe thead th {\n",
       "        text-align: right;\n",
       "    }\n",
       "</style>\n",
       "<table border=\"1\" class=\"dataframe\">\n",
       "  <thead>\n",
       "    <tr style=\"text-align: right;\">\n",
       "      <th></th>\n",
       "      <th>Sentiment</th>\n",
       "    </tr>\n",
       "  </thead>\n",
       "  <tbody>\n",
       "    <tr>\n",
       "      <th>2014-01-31</th>\n",
       "      <td>0.339098</td>\n",
       "    </tr>\n",
       "    <tr>\n",
       "      <th>2014-04-30</th>\n",
       "      <td>0.082380</td>\n",
       "    </tr>\n",
       "    <tr>\n",
       "      <th>2014-07-31</th>\n",
       "      <td>0.091421</td>\n",
       "    </tr>\n",
       "    <tr>\n",
       "      <th>2014-10-31</th>\n",
       "      <td>0.194754</td>\n",
       "    </tr>\n",
       "    <tr>\n",
       "      <th>2015-01-31</th>\n",
       "      <td>0.255823</td>\n",
       "    </tr>\n",
       "    <tr>\n",
       "      <th>2015-04-30</th>\n",
       "      <td>0.111526</td>\n",
       "    </tr>\n",
       "    <tr>\n",
       "      <th>2015-07-31</th>\n",
       "      <td>0.062059</td>\n",
       "    </tr>\n",
       "    <tr>\n",
       "      <th>2015-10-31</th>\n",
       "      <td>0.496350</td>\n",
       "    </tr>\n",
       "    <tr>\n",
       "      <th>2016-01-31</th>\n",
       "      <td>-0.061810</td>\n",
       "    </tr>\n",
       "    <tr>\n",
       "      <th>2016-04-30</th>\n",
       "      <td>-0.045445</td>\n",
       "    </tr>\n",
       "    <tr>\n",
       "      <th>2017-01-31</th>\n",
       "      <td>0.111186</td>\n",
       "    </tr>\n",
       "    <tr>\n",
       "      <th>2018-01-31</th>\n",
       "      <td>0.104659</td>\n",
       "    </tr>\n",
       "    <tr>\n",
       "      <th>2018-04-30</th>\n",
       "      <td>0.248532</td>\n",
       "    </tr>\n",
       "    <tr>\n",
       "      <th>2018-07-31</th>\n",
       "      <td>0.190900</td>\n",
       "    </tr>\n",
       "    <tr>\n",
       "      <th>2018-10-31</th>\n",
       "      <td>0.008397</td>\n",
       "    </tr>\n",
       "    <tr>\n",
       "      <th>2019-01-31</th>\n",
       "      <td>0.133613</td>\n",
       "    </tr>\n",
       "  </tbody>\n",
       "</table>\n",
       "</div>"
      ],
      "text/plain": [
       "            Sentiment\n",
       "2014-01-31   0.339098\n",
       "2014-04-30   0.082380\n",
       "2014-07-31   0.091421\n",
       "2014-10-31   0.194754\n",
       "2015-01-31   0.255823\n",
       "2015-04-30   0.111526\n",
       "2015-07-31   0.062059\n",
       "2015-10-31   0.496350\n",
       "2016-01-31  -0.061810\n",
       "2016-04-30  -0.045445\n",
       "2017-01-31   0.111186\n",
       "2018-01-31   0.104659\n",
       "2018-04-30   0.248532\n",
       "2018-07-31   0.190900\n",
       "2018-10-31   0.008397\n",
       "2019-01-31   0.133613"
      ]
     },
     "execution_count": 276,
     "metadata": {},
     "output_type": "execute_result"
    }
   ],
   "source": [
    "resampled_first_term_data.dropna()"
   ]
  },
  {
   "cell_type": "markdown",
   "metadata": {},
   "source": [
    "## Visualizing"
   ]
  },
  {
   "cell_type": "code",
   "execution_count": 277,
   "metadata": {},
   "outputs": [],
   "source": [
    "import matplotlib.pyplot as plt"
   ]
  },
  {
   "cell_type": "code",
   "execution_count": 278,
   "metadata": {},
   "outputs": [
    {
     "data": {
      "text/plain": [
       "<matplotlib.legend.Legend at 0x16c8473f070>"
      ]
     },
     "execution_count": 278,
     "metadata": {},
     "output_type": "execute_result"
    },
    {
     "data": {
      "image/png": "[encoded data removed]",
      "text/plain": [
       "<Figure size 640x480 with 1 Axes>"
      ]
     },
     "metadata": {},
     "output_type": "display_data"
    }
   ],
   "source": [
    "plt.plot(resampled_first_term_data.index, resampled_first_term_data['Sentiment'], color = 'blue', label = 'First term sentiments')\n",
    "plt.plot(resampled_second_term_data.index, resampled_second_term_data['Sentiment'], color = 'red', label = 'Second term sentiments')\n",
    "plt.legend()"
   ]
  }
 ],
 "metadata": {
  "kernelspec": {
   "display_name": "ml",
   "language": "python",
   "name": "python3"
  },
  "language_info": {
   "codemirror_mode": {
    "name": "ipython",
    "version": 3
   },
   "file_extension": ".py",
   "mimetype": "text/x-python",
   "name": "python",
   "nbconvert_exporter": "python",
   "pygments_lexer": "ipython3",
   "version": "3.10.13"
  }
 },
 "nbformat": 4,
 "nbformat_minor": 2
}
