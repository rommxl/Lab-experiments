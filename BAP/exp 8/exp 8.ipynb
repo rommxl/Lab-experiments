{
 "cells": [
  {
   "cell_type": "code",
   "execution_count": null,
   "metadata": {},
   "outputs": [],
   "source": [
    "import pandas as pd\n",
    "import numpy as np\n",
    "import math\n",
    "import yfinance as yf\n",
    "from statsmodels.regression.linear_model import OLS\n",
    "from sklearn.metrics import *\n",
    "import matplotlib.pyplot as plt"
   ]
  },
  {
   "cell_type": "code",
   "execution_count": null,
   "metadata": {},
   "outputs": [],
   "source": [
    "stock_symbols = ['AMZN','MSFT','AAPL']"
   ]
  },
  {
   "cell_type": "markdown",
   "metadata": {},
   "source": [
    "# Prepare data"
   ]
  },
  {
   "cell_type": "code",
   "execution_count": null,
   "metadata": {},
   "outputs": [],
   "source": [
    "def create_seq_data(data, num_days):\n",
    "    x = []\n",
    "    y = []\n",
    "\n",
    "    print(len(data))\n",
    "    for i in range(0,len(data)-num_days-1):\n",
    "        x.append(data.iloc[i:i+num_days])\n",
    "        y.append(data.iloc[i+num_days])\n",
    "\n",
    "    return np.array(x), np.array(y)\n"
   ]
  },
  {
   "cell_type": "markdown",
   "metadata": {},
   "source": [
    "# Create and evaluate model"
   ]
  },
  {
   "cell_type": "code",
   "execution_count": null,
   "metadata": {},
   "outputs": [],
   "source": [
    "def model_func(stock_symbol):\n",
    "    stock_data = yf.download(stock_symbol, start=\"2010-01-01\", end=pd.Timestamp.now())\n",
    "    stock_data['Date'] = stock_data.index\n",
    "    stock_data.reset_index(drop=True, inplace=True)\n",
    "\n",
    "    train_size = int(0.8 * len(stock_data))\n",
    "    train_data = stock_data.iloc[:train_size]\n",
    "    test_data = stock_data.iloc[train_size:]\n",
    "\n",
    "    # print(train_data['Open'])\n",
    "    num_prev_days = 30\n",
    "\n",
    "    xtrain, ytrain = create_seq_data(train_data['Open'],num_prev_days)\n",
    "    xtest, ytest = create_seq_data(test_data['Open'],num_prev_days)\n",
    "\n",
    "    # xtrain = train_data[['Open','High','Low','Volume']]\n",
    "    # ytrain = train_data['Close']\n",
    "    # xtest = test_data[['Open','High','Low','Volume']]\n",
    "    # ytest = test_data['Close']\n",
    "\n",
    "    model = OLS(ytrain, xtrain).fit()\n",
    "    train_pred = model.predict(xtrain)\n",
    "    test_pred = model.predict(xtest)\n",
    "\n",
    "    train_mse = mean_squared_error(ytrain,train_pred)\n",
    "    test_mse = mean_squared_error(ytest,test_pred)\n",
    "\n",
    "    train_mae = mean_absolute_error(ytrain,train_pred)\n",
    "    test_mae = mean_absolute_error(ytest,test_pred)\n",
    "\n",
    "    train_r2 = r2_score(ytrain,train_pred)\n",
    "    test_r2 = r2_score(ytest,test_pred)\n",
    "\n",
    "    print(f\"Summary for {stock_symbol}: \")\n",
    "    display(model.summary())\n",
    "\n",
    "    plt.subplot(1, 2, 1)\n",
    "    plt.plot(stock_data['Date'], stock_data['Open'], label='Actuals', color='red')\n",
    "    plt.plot(train_data['Date'].iloc[num_prev_days+1:], train_pred, label='Train predictions', color='blue')\n",
    "    plt.plot(test_data['Date'].iloc[num_prev_days+1:], test_pred, label='Test predictions', color='green')\n",
    "    plt.title(f\"{stock_symbol} Actual vs Predictions\")\n",
    "    plt.xlabel(\"Date\")\n",
    "    plt.ylabel(\"Price\")\n",
    "    plt.legend()\n",
    "\n",
    "    plt.subplot(1, 2, 2)\n",
    "    plt.scatter(train_data['Date'].iloc[num_prev_days+1:], ytrain - train_pred, label='Train residuals', alpha=0.5)\n",
    "    plt.scatter(test_data['Date'].iloc[num_prev_days+1:], ytest - test_pred, label='Test residuals', alpha=0.5)\n",
    "    plt.title(f\"{stock_symbol} Residuals\")\n",
    "    plt.xlabel(\"Date\")\n",
    "    plt.ylabel(\"Residuals\")\n",
    "    plt.legend()\n",
    "\n",
    "\n",
    "\n",
    "    plt.show()\n",
    "\n",
    "    return train_mse, test_mse, train_mae, test_mae, train_r2, test_r2\n"
   ]
  },
  {
   "cell_type": "markdown",
   "metadata": {},
   "source": [
    "# Results"
   ]
  },
  {
   "cell_type": "code",
   "execution_count": null,
   "metadata": {},
   "outputs": [],
   "source": [
    "for val in stock_symbols:\n",
    "    train_mse, test_mse, train_mae, test_mae, train_r2, test_r2 = model_func(val)\n",
    "    train_rmse = math.sqrt(train_mse)\n",
    "    test_rmse = math.sqrt(test_mse)\n",
    "    \n",
    "    print(f\"{val} Train MSE: {train_mse}, Test MSE: {test_mse}\")\n",
    "    print(f\"{val} Train MAE: {train_mae}, Test MAE: {test_mae}\")\n",
    "    print(f\"{val} Train RMSE: {train_rmse}, Test RMSE: {test_rmse}\")\n",
    "    print(f\"{val} Train R^2: {train_r2}, Test R^2 : {test_r2}\")"
   ]
  },
  {
   "cell_type": "code",
   "execution_count": null,
   "metadata": {},
   "outputs": [],
   "source": []
  }
 ],
 "metadata": {
  "kernelspec": {
   "display_name": "ml",
   "language": "python",
   "name": "python3"
  },
  "language_info": {
   "codemirror_mode": {
    "name": "ipython",
    "version": 3
   },
   "file_extension": ".py",
   "mimetype": "text/x-python",
   "name": "python",
   "nbconvert_exporter": "python",
   "pygments_lexer": "ipython3",
   "version": "3.10.13"
  }
 },
 "nbformat": 4,
 "nbformat_minor": 2
}
