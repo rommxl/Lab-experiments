{
  "nbformat": 4,
  "nbformat_minor": 0,
  "metadata": {
    "colab": {
      "provenance": []
    },
    "kernelspec": {
      "name": "python3",
      "display_name": "Python 3"
    },
    "language_info": {
      "name": "python"
    }
  },
  "cells": [
    {
      "cell_type": "code",
      "execution_count": null,
      "metadata": {
        "id": "5Qg9f9rnmRAB"
      },
      "outputs": [],
      "source": []
    },
    {
      "cell_type": "code",
      "execution_count": null,
      "metadata": {
        "tags": [],
        "id": "kcgYU2EJpA3a"
      },
      "outputs": [],
      "source": [
        "import pandas as pd\n",
        "import numpy as np\n",
        "\n",
        "class display(object):\n",
        "    \"\"\"Display HTML representation of multiple objects\"\"\"\n",
        "    template = \"\"\"<div style=\"float: left; padding: 10px;\">\n",
        "    <p style='font-family:\"Courier New\", Courier, monospace'>{0}</p>{1}\n",
        "    </div>\"\"\"\n",
        "    def __init__(self, *args):\n",
        "        self.args = args\n",
        "\n",
        "    def _repr_html_(self):\n",
        "        return '\\n'.join(self.template.format(a, eval(a)._repr_html_())\n",
        "                         for a in self.args)\n",
        "\n",
        "    def __repr__(self):\n",
        "        return '\\n\\n'.join(a + '\\n' + repr(eval(a))\n",
        "                           for a in self.args)"
      ]
    },
    {
      "cell_type": "markdown",
      "metadata": {
        "id": "pIMHJMUQpA3q"
      },
      "source": [
        "## Example: US States Data\n",
        "\n",
        "Merge and join operations come up most often when combining data from different sources.\n",
        "Here we will consider an example of some data about US states and their populations.\n",
        "The data files can be found at [http://github.com/jakevdp/data-USstates](http://github.com/jakevdp/data-USstates):"
      ]
    },
    {
      "cell_type": "markdown",
      "metadata": {
        "id": "rDilPfKdpA3q"
      },
      "source": [
        "Let's take a look at the three datasets, using the Pandas ``read_csv`` function:"
      ]
    },
    {
      "cell_type": "code",
      "execution_count": null,
      "metadata": {
        "jupyter": {
          "outputs_hidden": false
        },
        "id": "K6TpgyyjpA3r"
      },
      "outputs": [],
      "source": [
        "pop =\n",
        "areas =\n",
        "abbrevs =\n",
        "\n",
        "display('pop.head()', 'areas.head()', 'abbrevs.head()')"
      ]
    },
    {
      "cell_type": "markdown",
      "metadata": {
        "id": "uB6OHjU6pA3r"
      },
      "source": [
        "Given this information, say we want to compute a relatively straightforward result: rank US states and territories by their 2010 population density.\n",
        "We clearly have the data here to find this result, but we'll have to combine the datasets to do so.\n",
        "\n",
        "We'll start with a many-to-one merge that will give us the full state names within the population `DataFrame`.\n",
        "We want to merge based on the `state/region`  column of `pop` and the `abbreviation` column of `abbrevs`.\n",
        "We'll use `how='outer'` to make sure no data is thrown away due to mismatched labels:"
      ]
    },
    {
      "cell_type": "code",
      "execution_count": null,
      "metadata": {
        "jupyter": {
          "outputs_hidden": false
        },
        "id": "R2LMHNafpA3r"
      },
      "outputs": [],
      "source": [
        "merged =\n",
        "merged =                                    # drop column having duplicate info after merging\n",
        "merged.head()"
      ]
    },
    {
      "cell_type": "markdown",
      "metadata": {
        "id": "DWZk2dP5pA3r"
      },
      "source": [
        "Let's double-check whether there were any mismatches here, which we can do by looking for rows with nulls:"
      ]
    },
    {
      "cell_type": "code",
      "execution_count": null,
      "metadata": {
        "jupyter": {
          "outputs_hidden": false
        },
        "id": "u7Rd3ji3pA3r"
      },
      "outputs": [],
      "source": []
    },
    {
      "cell_type": "markdown",
      "metadata": {
        "id": "4r7idpnvpA3r"
      },
      "source": [
        "Some of the ``population`` values are null; let's figure out which these are!"
      ]
    },
    {
      "cell_type": "code",
      "execution_count": null,
      "metadata": {
        "jupyter": {
          "outputs_hidden": false
        },
        "id": "X4OOr396pA3s"
      },
      "outputs": [],
      "source": []
    },
    {
      "cell_type": "markdown",
      "metadata": {
        "id": "jGv3iuZ9pA3s"
      },
      "source": [
        "It appears that all the null population values are from Puerto Rico prior to the year 2000; this is likely due to this data not being available in the original source.\n",
        "\n",
        "More importantly, we see that some of the new `state` entries are also null, which means that there was no corresponding entry in the `abbrevs` key!\n",
        "Let's figure out which regions lack this match:"
      ]
    },
    {
      "cell_type": "code",
      "execution_count": null,
      "metadata": {
        "jupyter": {
          "outputs_hidden": false
        },
        "id": "7WylRvSfpA3s"
      },
      "outputs": [],
      "source": []
    },
    {
      "cell_type": "markdown",
      "metadata": {
        "id": "188ODIufpA3s"
      },
      "source": [
        "We can quickly infer the issue: our population data includes entries for Puerto Rico (PR) and the United States as a whole (USA), while these entries do not appear in the state abbreviation key.\n",
        "We can fix these quickly by filling in appropriate entries:"
      ]
    },
    {
      "cell_type": "code",
      "execution_count": null,
      "metadata": {
        "jupyter": {
          "outputs_hidden": false
        },
        "id": "bRt0i-V-pA3s"
      },
      "outputs": [],
      "source": []
    },
    {
      "cell_type": "markdown",
      "metadata": {
        "id": "Pe3ozBOkpA3t"
      },
      "source": [
        "No more nulls in the `state` column: we're all set!\n",
        "\n",
        "Now we can merge the result with the area data using a similar procedure.\n",
        "Examining our results, we will want to join on the `state` column in both:"
      ]
    },
    {
      "cell_type": "code",
      "execution_count": null,
      "metadata": {
        "jupyter": {
          "outputs_hidden": false
        },
        "id": "BkU_--n6pA3t"
      },
      "outputs": [],
      "source": [
        "final =\n",
        "final.head()"
      ]
    },
    {
      "cell_type": "markdown",
      "metadata": {
        "id": "ORlFfYRupA3t"
      },
      "source": [
        "Again, let's check for nulls to see if there were any mismatches:"
      ]
    },
    {
      "cell_type": "code",
      "execution_count": null,
      "metadata": {
        "jupyter": {
          "outputs_hidden": false
        },
        "id": "8clIrST6pA3t"
      },
      "outputs": [],
      "source": []
    },
    {
      "cell_type": "markdown",
      "metadata": {
        "id": "SXtNlwOvpA3t"
      },
      "source": [
        "There are nulls in the ``area`` column; we can take a look to see which regions were ignored here:"
      ]
    },
    {
      "cell_type": "code",
      "execution_count": null,
      "metadata": {
        "jupyter": {
          "outputs_hidden": false
        },
        "id": "aV1AfTTfpA3u"
      },
      "outputs": [],
      "source": []
    },
    {
      "cell_type": "markdown",
      "metadata": {
        "id": "nyZnw3rypA3u"
      },
      "source": [
        "We see that our ``areas`` ``DataFrame`` does not contain the area of the United States as a whole.\n",
        "We could insert the appropriate value (using the sum of all state areas, for instance), but in this case we'll just drop the null values because the population density of the entire United States is not relevant to our current discussion:"
      ]
    },
    {
      "cell_type": "code",
      "execution_count": null,
      "metadata": {
        "jupyter": {
          "outputs_hidden": false
        },
        "id": "BJesW1HJpA3u"
      },
      "outputs": [],
      "source": []
    },
    {
      "cell_type": "markdown",
      "metadata": {
        "id": "cvnAZDLdpA3u"
      },
      "source": [
        "Now we have all the data we need. To answer the question of interest, let's first select the portion of the data corresponding with the year 2010, and the total population.\n",
        "We'll use the `query` function to do this quickly (this requires the NumExpr package to be installed; see [High-Performance Pandas: `eval()` and `query()`](03.12-Performance-Eval-and-Query.ipynb)):"
      ]
    },
    {
      "cell_type": "code",
      "execution_count": null,
      "metadata": {
        "jupyter": {
          "outputs_hidden": false
        },
        "id": "UDTDuJcwpA3u"
      },
      "outputs": [],
      "source": []
    },
    {
      "cell_type": "markdown",
      "metadata": {
        "id": "KX6KzoAspA3v"
      },
      "source": [
        "Now let's compute the population density and display it in order.\n",
        "We'll start by re-indexing our data on the state, and then compute the result:"
      ]
    },
    {
      "cell_type": "code",
      "execution_count": null,
      "metadata": {
        "jupyter": {
          "outputs_hidden": false
        },
        "id": "_NsJARZmpA3v"
      },
      "outputs": [],
      "source": []
    },
    {
      "cell_type": "code",
      "execution_count": null,
      "metadata": {
        "jupyter": {
          "outputs_hidden": false
        },
        "id": "0MyHG8wepA3w"
      },
      "outputs": [],
      "source": []
    },
    {
      "cell_type": "markdown",
      "metadata": {
        "id": "bdF27386pA3w"
      },
      "source": [
        "The result is a ranking of US states, plus Washington, DC, and Puerto Rico, in order of their 2010 population density, in residents per square mile.\n",
        "We can see that by far the densest region in this dataset is Washington, DC (i.e., the District of Columbia); among states, the densest is New Jersey.\n",
        "\n",
        "We can also check the end of the list:"
      ]
    },
    {
      "cell_type": "code",
      "execution_count": null,
      "metadata": {
        "jupyter": {
          "outputs_hidden": false
        },
        "id": "DA4cp7VkpA3w"
      },
      "outputs": [],
      "source": []
    },
    {
      "cell_type": "markdown",
      "metadata": {
        "id": "Lm7G4Le8pA3w"
      },
      "source": [
        "We see that the least dense state, by far, is Alaska, averaging slightly over one resident per square mile.\n",
        "\n",
        "This type of data merging is a common task when trying to answer questions using real-world data sources.\n",
        "I hope that this example has given you an idea of some of the ways you can combine the tools we've covered in order to gain insight from your data!"
      ]
    }
  ]
}