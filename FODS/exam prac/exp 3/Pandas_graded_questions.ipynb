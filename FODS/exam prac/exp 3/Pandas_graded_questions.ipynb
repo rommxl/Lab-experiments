{
  "cells": [
    {
      "cell_type": "code",
      "execution_count": null,
      "metadata": {
        "id": "uutVSXkdGBfm"
      },
      "outputs": [],
      "source": [
        "import numpy as np\n",
        "import pandas as pd"
      ]
    },
    {
      "cell_type": "code",
      "execution_count": null,
      "metadata": {
        "id": "D5qL_wtxGBfy",
        "outputId": "30f2e7c7-0488-4689-c308-45bbd8cc5454"
      },
      "outputs": [
        {
          "data": {
            "text/plain": [
              "(59, 8)"
            ]
          },
          "execution_count": 11,
          "metadata": {},
          "output_type": "execute_result"
        }
      ],
      "source": [
        "df=pd.read_csv('C:\\\\Users\\\\Lenovo\\\\Desktop\\\\FDS NPTEL\\\\MegaMart_sales.csv')\n",
        "\n",
        "df.shape"
      ]
    },
    {
      "cell_type": "markdown",
      "metadata": {
        "id": "8i2QXssbGBf1"
      },
      "source": [
        "\n"
      ]
    },
    {
      "cell_type": "markdown",
      "metadata": {
        "id": "MGItV5pWGBf6"
      },
      "source": [
        "#### Combining two data frames\n",
        "Question 1: Some of the orders are stored in another csv file named `megamart_new sales`. Read the csv file, store it in a data frame and add it to the `megamart_sales` data frame. Find the total sales value of the category 'Office Supplies'  after combining the dataframes\n",
        "\n",
        "    a)7970\n",
        "    b)6964\n",
        "    c)7494\n",
        "    d)6076"
      ]
    },
    {
      "cell_type": "code",
      "execution_count": null,
      "metadata": {
        "id": "QYBtMG1NGBf7",
        "outputId": "886b541b-13b4-4f71-fb3a-648a3cd9dcd1"
      },
      "outputs": [
        {
          "data": {
            "text/plain": [
              "(68, 8)"
            ]
          },
          "execution_count": 13,
          "metadata": {},
          "output_type": "execute_result"
        }
      ],
      "source": [
        "#your code here\n",
        "df=pd.concat([df,df_new],axis=0,ignore_index=True)\n",
        "df.shape"
      ]
    },
    {
      "cell_type": "markdown",
      "metadata": {
        "id": "z4Z0ZMHsGBf9"
      },
      "source": [
        "#### Dropping duplicates\n",
        "Question 2: There are some duplicate rows in the data frame. Drop these rows and calculate the total sales value of the category Office Supplies.\n",
        "\n",
        "    a)7156\n",
        "    b)6496\n",
        "    c)6964\n",
        "    d)6023"
      ]
    },
    {
      "cell_type": "markdown",
      "metadata": {
        "id": "ZprsVhrNTtSc"
      },
      "source": [
        " Dataframe.duplicated() method of Pandas.\n",
        "\n",
        "\n",
        "Syntax : DataFrame.duplicated(subset = None, keep = ‘first’)\n",
        "Parameters:\n",
        "subset: This Takes a column or list of column label. It’s default value is None. After passing columns, it will consider them only for duplicates.\n",
        "keep: This Controls how to consider duplicate value. It has only three distinct value and default is ‘first’.\n",
        "\n",
        "\n",
        "If ‘first’, This considers first value as unique and rest of the same values as duplicate.\n",
        "If ‘last’, This considers last value as unique and rest of the same values as duplicate.\n",
        "If ‘False’, This considers all of the same values as duplicates.\n",
        "Returns: Boolean Series denoting duplicate rows."
      ]
    },
    {
      "cell_type": "markdown",
      "metadata": {
        "id": "oVsLy1KaRU7x"
      },
      "source": [
        "#### Dropping duplicates\n",
        "Question 2: There are some duplicate rows in the data frame. Drop these rows and calculate the total sales value of the category Office Supplies.\n",
        "\n",
        "    a)7156\n",
        "    b)6496\n",
        "    c)6964\n",
        "    d)6023"
      ]
    },
    {
      "cell_type": "code",
      "execution_count": null,
      "metadata": {
        "id": "35vdjyU2GBf_"
      },
      "outputs": [],
      "source": [
        "#your code here\n",
        "duplicate = df[df.duplicated()]\n",
        "duplicate"
      ]
    },
    {
      "cell_type": "markdown",
      "metadata": {
        "id": "B6ifWsChTtSe"
      },
      "source": [
        "df.drop_duplicates()\n",
        "DataFrame.drop_duplicates(subset=None, *, keep='first', inplace=False, ignore_index=False)[source]\n",
        "Return DataFrame with duplicate rows removed.\n",
        "\n",
        "Considering certain columns is optional. Indexes, including time indexes are ignored.\n",
        "\n",
        "Parameters\n",
        "subsetcolumn label or sequence of labels, optional\n",
        "Only consider certain columns for identifying duplicates, by default use all of the columns.\n",
        "\n",
        "keep{‘first’, ‘last’, False}, default ‘first’\n",
        "Determines which duplicates (if any) to keep.\n",
        "\n",
        "‘first’ : Drop duplicates except for the first occurrence.\n",
        "\n",
        "‘last’ : Drop duplicates except for the last occurrence.\n",
        "\n",
        "False : Drop all duplicates.\n",
        "\n",
        "inplacebool, default False\n",
        "Whether to modify the DataFrame rather than creating a new one.\n",
        "\n",
        "ignore_indexbool, default False\n",
        "If True, the resulting axis will be labeled 0, 1, …, n - 1.\n",
        "\n",
        "Returns\n",
        "DataFrame or None\n",
        "DataFrame with duplicates removed or None if inplace=True."
      ]
    },
    {
      "cell_type": "code",
      "execution_count": null,
      "metadata": {
        "id": "TD5JVpi_TtSe"
      },
      "outputs": [],
      "source": [
        "df.drop_duplicates(inplace=True)"
      ]
    },
    {
      "cell_type": "code",
      "execution_count": null,
      "metadata": {
        "id": "yE8qoVbaTtSe",
        "outputId": "977e4706-cd25-4409-9cbb-b833a8d04974"
      },
      "outputs": [
        {
          "data": {
            "text/plain": [
              "(61, 8)"
            ]
          },
          "execution_count": 26,
          "metadata": {},
          "output_type": "execute_result"
        }
      ],
      "source": [
        "df.shape"
      ]
    },
    {
      "cell_type": "code",
      "execution_count": null,
      "metadata": {
        "id": "alIl_kCNTtSf",
        "outputId": "e6c2d832-3d98-4963-db3e-82f4ae3054bc"
      },
      "outputs": [
        {
          "data": {
            "text/plain": [
              "Category\n",
              "Furniture          2460\n",
              "Office Supplies    6964\n",
              "Technology         7494\n",
              "Name: Sales, dtype: int64"
            ]
          },
          "execution_count": 27,
          "metadata": {},
          "output_type": "execute_result"
        }
      ],
      "source": [
        "df.groupby(['Category']).Sales.sum()"
      ]
    },
    {
      "cell_type": "markdown",
      "metadata": {
        "id": "71CSKOO0GBgC"
      },
      "source": [
        "#### Best category-sub category\n",
        "Question 3: Find the most profitable category and sub category combination based on the net profit.\n",
        "\n",
        "\n",
        "    a)Furniture-Bookcases\n",
        "    b)Office supplies-Appliances\n",
        "    c)Office supplies-Storage\n",
        "    d)Technology-Phones"
      ]
    },
    {
      "cell_type": "code",
      "execution_count": null,
      "metadata": {
        "id": "-W66EdQqGBgF",
        "outputId": "540ea966-ed4f-4af6-e72d-7f2032ec149f"
      },
      "outputs": [
        {
          "data": {
            "text/plain": [
              "Category         Sub-Category\n",
              "Furniture        Bookcases        308\n",
              "                 Chairs           -49\n",
              "                 Furnishings       74\n",
              "Office Supplies  Appliances       229\n",
              "                 Art              275\n",
              "                 Binders          156\n",
              "                 Envelopes         35\n",
              "                 Fasteners         10\n",
              "                 Labels            30\n",
              "                 Paper             15\n",
              "                 Storage          192\n",
              "                 Supplies         103\n",
              "Technology       Accessories      215\n",
              "                 Copiers            0\n",
              "                 Machines         168\n",
              "                 Phones          1618\n",
              "Name: Profit, dtype: int64"
            ]
          },
          "execution_count": 38,
          "metadata": {},
          "output_type": "execute_result"
        }
      ],
      "source": [
        "#your code here\n",
        "\n",
        "df.groupby(['Category','Sub-Category'])['Profit'].sum()\n"
      ]
    },
    {
      "cell_type": "markdown",
      "metadata": {
        "id": "nIf1pLgbGBgG"
      },
      "source": [
        "#### Invalid order IDs\n",
        "Question 4: How many invalid order IDs are there in the data frame? An order id is of the form AZ-2011-Y where Y represents a whole number. A Order ID is said to be valid only if Y consists of 7 digits. Find the number of invalid order IDs in the data frame.\n",
        "    \n",
        "    a)6\n",
        "    b)7\n",
        "    c)8\n",
        "    d)9\n"
      ]
    },
    {
      "cell_type": "code",
      "execution_count": null,
      "metadata": {
        "id": "umb45LP_GBgH"
      },
      "outputs": [],
      "source": [
        "#your code here\n"
      ]
    },
    {
      "cell_type": "markdown",
      "metadata": {
        "id": "nTGiL7EgGBgJ"
      },
      "source": [
        "#### Occurence of furniture in top 25 sales\n",
        "Question 5: Find the top 25 orders based on sales value and find the number of orders which belong to furniture category.\n",
        "\n",
        "    a)2\n",
        "    b)3\n",
        "    c)4\n",
        "    d)5"
      ]
    },
    {
      "cell_type": "code",
      "execution_count": null,
      "metadata": {
        "id": "moF_6DakGBgK",
        "outputId": "c0c36070-031f-4326-f555-a50fb342a7cf"
      },
      "outputs": [
        {
          "data": {
            "text/html": [
              "<div>\n",
              "<style scoped>\n",
              "    .dataframe tbody tr th:only-of-type {\n",
              "        vertical-align: middle;\n",
              "    }\n",
              "\n",
              "    .dataframe tbody tr th {\n",
              "        vertical-align: top;\n",
              "    }\n",
              "\n",
              "    .dataframe thead th {\n",
              "        text-align: right;\n",
              "    }\n",
              "</style>\n",
              "<table border=\"1\" class=\"dataframe\">\n",
              "  <thead>\n",
              "    <tr style=\"text-align: right;\">\n",
              "      <th></th>\n",
              "      <th>Order ID</th>\n",
              "      <th>Product Name</th>\n",
              "      <th>Discount</th>\n",
              "      <th>Sales</th>\n",
              "      <th>Profit</th>\n",
              "      <th>Quantity</th>\n",
              "      <th>Category</th>\n",
              "      <th>Sub-Category</th>\n",
              "    </tr>\n",
              "  </thead>\n",
              "  <tbody>\n",
              "    <tr>\n",
              "      <th>30</th>\n",
              "      <td>AZ-2011-1410648</td>\n",
              "      <td>Nokia Smart Phone, Full Size</td>\n",
              "      <td>0.0</td>\n",
              "      <td>1908</td>\n",
              "      <td>820</td>\n",
              "      <td>3</td>\n",
              "      <td>Technology</td>\n",
              "      <td>Phones</td>\n",
              "    </tr>\n",
              "    <tr>\n",
              "      <th>58</th>\n",
              "      <td>AZ-2011-176674</td>\n",
              "      <td>Hoover Microwave, Red</td>\n",
              "      <td>0.1</td>\n",
              "      <td>1667</td>\n",
              "      <td>185</td>\n",
              "      <td>6</td>\n",
              "      <td>Office Supplies</td>\n",
              "      <td>Appliances</td>\n",
              "    </tr>\n",
              "    <tr>\n",
              "      <th>8</th>\n",
              "      <td>AZ-2011-1174243</td>\n",
              "      <td>Nokia Audio Dock, with Caller ID</td>\n",
              "      <td>0.0</td>\n",
              "      <td>1334</td>\n",
              "      <td>200</td>\n",
              "      <td>8</td>\n",
              "      <td>Technology</td>\n",
              "      <td>Phones</td>\n",
              "    </tr>\n",
              "    <tr>\n",
              "      <th>20</th>\n",
              "      <td>AZ-2011-1322840</td>\n",
              "      <td>Motorola Headset, with Caller ID</td>\n",
              "      <td>0.0</td>\n",
              "      <td>957</td>\n",
              "      <td>316</td>\n",
              "      <td>12</td>\n",
              "      <td>Technology</td>\n",
              "      <td>Phones</td>\n",
              "    </tr>\n",
              "    <tr>\n",
              "      <th>3</th>\n",
              "      <td>AZ-2011-1372644</td>\n",
              "      <td>Panasonic Printer, Durable</td>\n",
              "      <td>0.0</td>\n",
              "      <td>800</td>\n",
              "      <td>168</td>\n",
              "      <td>3</td>\n",
              "      <td>Technology</td>\n",
              "      <td>Machines</td>\n",
              "    </tr>\n",
              "    <tr>\n",
              "      <th>18</th>\n",
              "      <td>AZ-2011-1406494</td>\n",
              "      <td>Fellowes Lockers, Industrial</td>\n",
              "      <td>0.1</td>\n",
              "      <td>748</td>\n",
              "      <td>283</td>\n",
              "      <td>4</td>\n",
              "      <td>Office Supplies</td>\n",
              "      <td>Storage</td>\n",
              "    </tr>\n",
              "    <tr>\n",
              "      <th>39</th>\n",
              "      <td>AZ-2011-1536006</td>\n",
              "      <td>Logitech Keyboard, Programmable</td>\n",
              "      <td>0.0</td>\n",
              "      <td>666</td>\n",
              "      <td>66</td>\n",
              "      <td>9</td>\n",
              "      <td>Technology</td>\n",
              "      <td>Accessories</td>\n",
              "    </tr>\n",
              "    <tr>\n",
              "      <th>33</th>\n",
              "      <td>AZ-2011-1445262</td>\n",
              "      <td>Apple Smart Phone, Cordless</td>\n",
              "      <td>0.0</td>\n",
              "      <td>636</td>\n",
              "      <td>140</td>\n",
              "      <td>1</td>\n",
              "      <td>Technology</td>\n",
              "      <td>Phones</td>\n",
              "    </tr>\n",
              "    <tr>\n",
              "      <th>31</th>\n",
              "      <td>AZ-2011-144325</td>\n",
              "      <td>Bush Stackable Bookrack, Pine</td>\n",
              "      <td>0.0</td>\n",
              "      <td>630</td>\n",
              "      <td>132</td>\n",
              "      <td>5</td>\n",
              "      <td>Furniture</td>\n",
              "      <td>Bookcases</td>\n",
              "    </tr>\n",
              "    <tr>\n",
              "      <th>14</th>\n",
              "      <td>AZ-2011-1260928</td>\n",
              "      <td>Eldon File Cart, Single Width</td>\n",
              "      <td>0.1</td>\n",
              "      <td>576</td>\n",
              "      <td>51</td>\n",
              "      <td>5</td>\n",
              "      <td>Office Supplies</td>\n",
              "      <td>Storage</td>\n",
              "    </tr>\n",
              "    <tr>\n",
              "      <th>12</th>\n",
              "      <td>AZ-2011-1253407</td>\n",
              "      <td>Safco Stackable Bookrack, Pine</td>\n",
              "      <td>0.1</td>\n",
              "      <td>541</td>\n",
              "      <td>156</td>\n",
              "      <td>4</td>\n",
              "      <td>Furniture</td>\n",
              "      <td>Bookcases</td>\n",
              "    </tr>\n",
              "    <tr>\n",
              "      <th>48</th>\n",
              "      <td>AZ-2011-1672552</td>\n",
              "      <td>Binney &amp; Smith Sketch Pad, Blue</td>\n",
              "      <td>0.0</td>\n",
              "      <td>510</td>\n",
              "      <td>132</td>\n",
              "      <td>11</td>\n",
              "      <td>Office Supplies</td>\n",
              "      <td>Art</td>\n",
              "    </tr>\n",
              "    <tr>\n",
              "      <th>41</th>\n",
              "      <td>AZ-2011-1584049</td>\n",
              "      <td>Brother Ink, Laser</td>\n",
              "      <td>0.0</td>\n",
              "      <td>442</td>\n",
              "      <td>0</td>\n",
              "      <td>3</td>\n",
              "      <td>Technology</td>\n",
              "      <td>Copiers</td>\n",
              "    </tr>\n",
              "    <tr>\n",
              "      <th>52</th>\n",
              "      <td>AZ-2011-1722024</td>\n",
              "      <td>Cisco Audio Dock, VoIP</td>\n",
              "      <td>0.0</td>\n",
              "      <td>364</td>\n",
              "      <td>142</td>\n",
              "      <td>2</td>\n",
              "      <td>Technology</td>\n",
              "      <td>Phones</td>\n",
              "    </tr>\n",
              "    <tr>\n",
              "      <th>59</th>\n",
              "      <td>AZ-2011-1902971</td>\n",
              "      <td>Wilson Jones Binding Machine, Clear</td>\n",
              "      <td>0.0</td>\n",
              "      <td>339</td>\n",
              "      <td>102</td>\n",
              "      <td>7</td>\n",
              "      <td>Office Supplies</td>\n",
              "      <td>Binders</td>\n",
              "    </tr>\n",
              "    <tr>\n",
              "      <th>17</th>\n",
              "      <td>AZ-2011-130330</td>\n",
              "      <td>Office Star Chairmat, Adjustable</td>\n",
              "      <td>0.1</td>\n",
              "      <td>307</td>\n",
              "      <td>99</td>\n",
              "      <td>5</td>\n",
              "      <td>Furniture</td>\n",
              "      <td>Chairs</td>\n",
              "    </tr>\n",
              "    <tr>\n",
              "      <th>2</th>\n",
              "      <td>AZ-2011-1087704</td>\n",
              "      <td>Belkin Flash Drive, Bluetooth</td>\n",
              "      <td>0.0</td>\n",
              "      <td>294</td>\n",
              "      <td>109</td>\n",
              "      <td>7</td>\n",
              "      <td>Technology</td>\n",
              "      <td>Accessories</td>\n",
              "    </tr>\n",
              "    <tr>\n",
              "      <th>60</th>\n",
              "      <td>AZ-2011-1916360</td>\n",
              "      <td>Dania 3-Shelf Cabinet, Mobile</td>\n",
              "      <td>0.0</td>\n",
              "      <td>288</td>\n",
              "      <td>20</td>\n",
              "      <td>2</td>\n",
              "      <td>Furniture</td>\n",
              "      <td>Bookcases</td>\n",
              "    </tr>\n",
              "    <tr>\n",
              "      <th>11</th>\n",
              "      <td>AZ-2011-1240916</td>\n",
              "      <td>Boston Canvas, Water Color</td>\n",
              "      <td>0.0</td>\n",
              "      <td>284</td>\n",
              "      <td>43</td>\n",
              "      <td>5</td>\n",
              "      <td>Office Supplies</td>\n",
              "      <td>Art</td>\n",
              "    </tr>\n",
              "    <tr>\n",
              "      <th>34</th>\n",
              "      <td>AZ-2011-145488</td>\n",
              "      <td>Rogers File Cart, Industrial</td>\n",
              "      <td>0.4</td>\n",
              "      <td>255</td>\n",
              "      <td>-98</td>\n",
              "      <td>3</td>\n",
              "      <td>Office Supplies</td>\n",
              "      <td>Storage</td>\n",
              "    </tr>\n",
              "    <tr>\n",
              "      <th>6</th>\n",
              "      <td>AZ-2011-1116129</td>\n",
              "      <td>Avery Binding Machine, Durable</td>\n",
              "      <td>0.0</td>\n",
              "      <td>252</td>\n",
              "      <td>15</td>\n",
              "      <td>5</td>\n",
              "      <td>Office Supplies</td>\n",
              "      <td>Binders</td>\n",
              "    </tr>\n",
              "    <tr>\n",
              "      <th>42</th>\n",
              "      <td>AZ-2011-1584987</td>\n",
              "      <td>Tenex File Cart, Industrial</td>\n",
              "      <td>0.1</td>\n",
              "      <td>241</td>\n",
              "      <td>24</td>\n",
              "      <td>2</td>\n",
              "      <td>Office Supplies</td>\n",
              "      <td>Storage</td>\n",
              "    </tr>\n",
              "    <tr>\n",
              "      <th>38</th>\n",
              "      <td>AZ-2011-1499597</td>\n",
              "      <td>Boston Markers, Fluorescent</td>\n",
              "      <td>0.0</td>\n",
              "      <td>193</td>\n",
              "      <td>29</td>\n",
              "      <td>7</td>\n",
              "      <td>Office Supplies</td>\n",
              "      <td>Art</td>\n",
              "    </tr>\n",
              "    <tr>\n",
              "      <th>46</th>\n",
              "      <td>AZ-2011-1655349</td>\n",
              "      <td>Fiskars Trimmer, Easy Grip</td>\n",
              "      <td>0.0</td>\n",
              "      <td>176</td>\n",
              "      <td>65</td>\n",
              "      <td>4</td>\n",
              "      <td>Office Supplies</td>\n",
              "      <td>Supplies</td>\n",
              "    </tr>\n",
              "    <tr>\n",
              "      <th>43</th>\n",
              "      <td>AZ-2011-1589827</td>\n",
              "      <td>Novimex Steel Folding Chair, Red</td>\n",
              "      <td>0.6</td>\n",
              "      <td>164</td>\n",
              "      <td>-70</td>\n",
              "      <td>5</td>\n",
              "      <td>Furniture</td>\n",
              "      <td>Chairs</td>\n",
              "    </tr>\n",
              "  </tbody>\n",
              "</table>\n",
              "</div>"
            ],
            "text/plain": [
              "           Order ID                         Product Name  Discount  Sales  \\\n",
              "30  AZ-2011-1410648         Nokia Smart Phone, Full Size       0.0   1908   \n",
              "58   AZ-2011-176674                Hoover Microwave, Red       0.1   1667   \n",
              "8   AZ-2011-1174243     Nokia Audio Dock, with Caller ID       0.0   1334   \n",
              "20  AZ-2011-1322840     Motorola Headset, with Caller ID       0.0    957   \n",
              "3   AZ-2011-1372644           Panasonic Printer, Durable       0.0    800   \n",
              "18  AZ-2011-1406494         Fellowes Lockers, Industrial       0.1    748   \n",
              "39  AZ-2011-1536006      Logitech Keyboard, Programmable       0.0    666   \n",
              "33  AZ-2011-1445262          Apple Smart Phone, Cordless       0.0    636   \n",
              "31   AZ-2011-144325        Bush Stackable Bookrack, Pine       0.0    630   \n",
              "14  AZ-2011-1260928        Eldon File Cart, Single Width       0.1    576   \n",
              "12  AZ-2011-1253407       Safco Stackable Bookrack, Pine       0.1    541   \n",
              "48  AZ-2011-1672552      Binney & Smith Sketch Pad, Blue       0.0    510   \n",
              "41  AZ-2011-1584049                   Brother Ink, Laser       0.0    442   \n",
              "52  AZ-2011-1722024               Cisco Audio Dock, VoIP       0.0    364   \n",
              "59  AZ-2011-1902971  Wilson Jones Binding Machine, Clear       0.0    339   \n",
              "17   AZ-2011-130330     Office Star Chairmat, Adjustable       0.1    307   \n",
              "2   AZ-2011-1087704        Belkin Flash Drive, Bluetooth       0.0    294   \n",
              "60  AZ-2011-1916360        Dania 3-Shelf Cabinet, Mobile       0.0    288   \n",
              "11  AZ-2011-1240916           Boston Canvas, Water Color       0.0    284   \n",
              "34   AZ-2011-145488         Rogers File Cart, Industrial       0.4    255   \n",
              "6   AZ-2011-1116129       Avery Binding Machine, Durable       0.0    252   \n",
              "42  AZ-2011-1584987          Tenex File Cart, Industrial       0.1    241   \n",
              "38  AZ-2011-1499597          Boston Markers, Fluorescent       0.0    193   \n",
              "46  AZ-2011-1655349           Fiskars Trimmer, Easy Grip       0.0    176   \n",
              "43  AZ-2011-1589827     Novimex Steel Folding Chair, Red       0.6    164   \n",
              "\n",
              "    Profit  Quantity         Category Sub-Category  \n",
              "30     820         3       Technology       Phones  \n",
              "58     185         6  Office Supplies   Appliances  \n",
              "8      200         8       Technology       Phones  \n",
              "20     316        12       Technology       Phones  \n",
              "3      168         3       Technology     Machines  \n",
              "18     283         4  Office Supplies      Storage  \n",
              "39      66         9       Technology  Accessories  \n",
              "33     140         1       Technology       Phones  \n",
              "31     132         5        Furniture    Bookcases  \n",
              "14      51         5  Office Supplies      Storage  \n",
              "12     156         4        Furniture    Bookcases  \n",
              "48     132        11  Office Supplies          Art  \n",
              "41       0         3       Technology      Copiers  \n",
              "52     142         2       Technology       Phones  \n",
              "59     102         7  Office Supplies      Binders  \n",
              "17      99         5        Furniture       Chairs  \n",
              "2      109         7       Technology  Accessories  \n",
              "60      20         2        Furniture    Bookcases  \n",
              "11      43         5  Office Supplies          Art  \n",
              "34     -98         3  Office Supplies      Storage  \n",
              "6       15         5  Office Supplies      Binders  \n",
              "42      24         2  Office Supplies      Storage  \n",
              "38      29         7  Office Supplies          Art  \n",
              "46      65         4  Office Supplies     Supplies  \n",
              "43     -70         5        Furniture       Chairs  "
            ]
          },
          "execution_count": 40,
          "metadata": {},
          "output_type": "execute_result"
        }
      ],
      "source": [
        "#your code here\n",
        "df2=df.sort_values(by='Sales', ascending=False)\n",
        "df2=df2.iloc[:25,]\n",
        "df2\n"
      ]
    },
    {
      "cell_type": "code",
      "execution_count": null,
      "metadata": {
        "id": "bsP41n7PGBgM",
        "outputId": "f4036752-24b0-4420-bd1c-1f1d75ea2ba0"
      },
      "outputs": [
        {
          "data": {
            "text/html": [
              "<div>\n",
              "<style scoped>\n",
              "    .dataframe tbody tr th:only-of-type {\n",
              "        vertical-align: middle;\n",
              "    }\n",
              "\n",
              "    .dataframe tbody tr th {\n",
              "        vertical-align: top;\n",
              "    }\n",
              "\n",
              "    .dataframe thead th {\n",
              "        text-align: right;\n",
              "    }\n",
              "</style>\n",
              "<table border=\"1\" class=\"dataframe\">\n",
              "  <thead>\n",
              "    <tr style=\"text-align: right;\">\n",
              "      <th></th>\n",
              "      <th>Order ID</th>\n",
              "      <th>Product Name</th>\n",
              "      <th>Discount</th>\n",
              "      <th>Sales</th>\n",
              "      <th>Profit</th>\n",
              "      <th>Quantity</th>\n",
              "      <th>Sub-Category</th>\n",
              "    </tr>\n",
              "    <tr>\n",
              "      <th>Category</th>\n",
              "      <th></th>\n",
              "      <th></th>\n",
              "      <th></th>\n",
              "      <th></th>\n",
              "      <th></th>\n",
              "      <th></th>\n",
              "      <th></th>\n",
              "    </tr>\n",
              "  </thead>\n",
              "  <tbody>\n",
              "    <tr>\n",
              "      <th>Furniture</th>\n",
              "      <td>5</td>\n",
              "      <td>5</td>\n",
              "      <td>5</td>\n",
              "      <td>5</td>\n",
              "      <td>5</td>\n",
              "      <td>5</td>\n",
              "      <td>5</td>\n",
              "    </tr>\n",
              "    <tr>\n",
              "      <th>Office Supplies</th>\n",
              "      <td>11</td>\n",
              "      <td>11</td>\n",
              "      <td>11</td>\n",
              "      <td>11</td>\n",
              "      <td>11</td>\n",
              "      <td>11</td>\n",
              "      <td>11</td>\n",
              "    </tr>\n",
              "    <tr>\n",
              "      <th>Technology</th>\n",
              "      <td>9</td>\n",
              "      <td>9</td>\n",
              "      <td>9</td>\n",
              "      <td>9</td>\n",
              "      <td>9</td>\n",
              "      <td>9</td>\n",
              "      <td>9</td>\n",
              "    </tr>\n",
              "  </tbody>\n",
              "</table>\n",
              "</div>"
            ],
            "text/plain": [
              "                 Order ID  Product Name  Discount  Sales  Profit  Quantity  \\\n",
              "Category                                                                     \n",
              "Furniture               5             5         5      5       5         5   \n",
              "Office Supplies        11            11        11     11      11        11   \n",
              "Technology              9             9         9      9       9         9   \n",
              "\n",
              "                 Sub-Category  \n",
              "Category                       \n",
              "Furniture                   5  \n",
              "Office Supplies            11  \n",
              "Technology                  9  "
            ]
          },
          "execution_count": 43,
          "metadata": {},
          "output_type": "execute_result"
        }
      ],
      "source": [
        "df2.groupby(['Category']).count()"
      ]
    },
    {
      "cell_type": "code",
      "execution_count": null,
      "metadata": {
        "id": "AQ51qZ8DTtSg",
        "outputId": "79ea6e15-b90b-457c-ad21-955b154c3f57"
      },
      "outputs": [
        {
          "data": {
            "text/plain": [
              "Office Supplies    11\n",
              "Technology          9\n",
              "Furniture           5\n",
              "Name: Category, dtype: int64"
            ]
          },
          "execution_count": 44,
          "metadata": {},
          "output_type": "execute_result"
        }
      ],
      "source": [
        "df2['Category'].value_counts()"
      ]
    },
    {
      "cell_type": "markdown",
      "metadata": {
        "id": "arNK-W-jGBgN"
      },
      "source": [
        "#### And operation\n",
        "Question 6: Among the orders with sales>250 and profit>50, find the product name of the fourth highest order based on sales value.\n",
        "\n",
        "    a)Motorola Headset, with Caller ID\n",
        "    b)Panasonic Printer, Durable\n",
        "    c)Hoover Microwave, Red\n",
        "    d)Fellowes Lockers, Industrial"
      ]
    },
    {
      "cell_type": "code",
      "execution_count": null,
      "metadata": {
        "id": "C_aeSSqEGBgN",
        "outputId": "08fcc4fe-489a-4a0d-b854-e4a2585599a3"
      },
      "outputs": [
        {
          "ename": "IndexingError",
          "evalue": "Too many indexers",
          "output_type": "error",
          "traceback": [
            "\u001b[1;31m---------------------------------------------------------------------------\u001b[0m",
            "\u001b[1;31mIndexingError\u001b[0m                             Traceback (most recent call last)",
            "Cell \u001b[1;32mIn[51], line 4\u001b[0m\n\u001b[0;32m      2\u001b[0m df3\u001b[38;5;241m=\u001b[39mdf\u001b[38;5;241m.\u001b[39mloc[(df[\u001b[38;5;124m'\u001b[39m\u001b[38;5;124mSales\u001b[39m\u001b[38;5;124m'\u001b[39m]\u001b[38;5;241m>\u001b[39m\u001b[38;5;241m250\u001b[39m) \u001b[38;5;241m&\u001b[39m (df[\u001b[38;5;124m'\u001b[39m\u001b[38;5;124mProfit\u001b[39m\u001b[38;5;124m'\u001b[39m]\u001b[38;5;241m>\u001b[39m\u001b[38;5;241m50\u001b[39m)]\n\u001b[0;32m      3\u001b[0m df3\u001b[38;5;241m=\u001b[39mdf3\u001b[38;5;241m.\u001b[39msort_values(by\u001b[38;5;241m=\u001b[39m\u001b[38;5;124m'\u001b[39m\u001b[38;5;124mSales\u001b[39m\u001b[38;5;124m'\u001b[39m, ascending\u001b[38;5;241m=\u001b[39m\u001b[38;5;28;01mFalse\u001b[39;00m)\n\u001b[1;32m----> 4\u001b[0m \u001b[43mdf3\u001b[49m\u001b[43m[\u001b[49m\u001b[38;5;124;43m'\u001b[39;49m\u001b[38;5;124;43mProduct Name\u001b[39;49m\u001b[38;5;124;43m'\u001b[39;49m\u001b[43m]\u001b[49m\u001b[38;5;241;43m.\u001b[39;49m\u001b[43miloc\u001b[49m\u001b[43m[\u001b[49m\u001b[38;5;241;43m4\u001b[39;49m\u001b[43m,\u001b[49m\u001b[43m:\u001b[49m\u001b[43m]\u001b[49m\n",
            "File \u001b[1;32m~\\anaconda3\\lib\\site-packages\\pandas\\core\\indexing.py:1067\u001b[0m, in \u001b[0;36m_LocationIndexer.__getitem__\u001b[1;34m(self, key)\u001b[0m\n\u001b[0;32m   1065\u001b[0m     \u001b[38;5;28;01mif\u001b[39;00m \u001b[38;5;28mself\u001b[39m\u001b[38;5;241m.\u001b[39m_is_scalar_access(key):\n\u001b[0;32m   1066\u001b[0m         \u001b[38;5;28;01mreturn\u001b[39;00m \u001b[38;5;28mself\u001b[39m\u001b[38;5;241m.\u001b[39mobj\u001b[38;5;241m.\u001b[39m_get_value(\u001b[38;5;241m*\u001b[39mkey, takeable\u001b[38;5;241m=\u001b[39m\u001b[38;5;28mself\u001b[39m\u001b[38;5;241m.\u001b[39m_takeable)\n\u001b[1;32m-> 1067\u001b[0m     \u001b[38;5;28;01mreturn\u001b[39;00m \u001b[38;5;28;43mself\u001b[39;49m\u001b[38;5;241;43m.\u001b[39;49m\u001b[43m_getitem_tuple\u001b[49m\u001b[43m(\u001b[49m\u001b[43mkey\u001b[49m\u001b[43m)\u001b[49m\n\u001b[0;32m   1068\u001b[0m \u001b[38;5;28;01melse\u001b[39;00m:\n\u001b[0;32m   1069\u001b[0m     \u001b[38;5;66;03m# we by definition only have the 0th axis\u001b[39;00m\n\u001b[0;32m   1070\u001b[0m     axis \u001b[38;5;241m=\u001b[39m \u001b[38;5;28mself\u001b[39m\u001b[38;5;241m.\u001b[39maxis \u001b[38;5;129;01mor\u001b[39;00m \u001b[38;5;241m0\u001b[39m\n",
            "File \u001b[1;32m~\\anaconda3\\lib\\site-packages\\pandas\\core\\indexing.py:1563\u001b[0m, in \u001b[0;36m_iLocIndexer._getitem_tuple\u001b[1;34m(self, tup)\u001b[0m\n\u001b[0;32m   1561\u001b[0m \u001b[38;5;28;01mdef\u001b[39;00m \u001b[38;5;21m_getitem_tuple\u001b[39m(\u001b[38;5;28mself\u001b[39m, tup: \u001b[38;5;28mtuple\u001b[39m):\n\u001b[1;32m-> 1563\u001b[0m     tup \u001b[38;5;241m=\u001b[39m \u001b[38;5;28;43mself\u001b[39;49m\u001b[38;5;241;43m.\u001b[39;49m\u001b[43m_validate_tuple_indexer\u001b[49m\u001b[43m(\u001b[49m\u001b[43mtup\u001b[49m\u001b[43m)\u001b[49m\n\u001b[0;32m   1564\u001b[0m     \u001b[38;5;28;01mwith\u001b[39;00m suppress(IndexingError):\n\u001b[0;32m   1565\u001b[0m         \u001b[38;5;28;01mreturn\u001b[39;00m \u001b[38;5;28mself\u001b[39m\u001b[38;5;241m.\u001b[39m_getitem_lowerdim(tup)\n",
            "File \u001b[1;32m~\\anaconda3\\lib\\site-packages\\pandas\\core\\indexing.py:869\u001b[0m, in \u001b[0;36m_LocationIndexer._validate_tuple_indexer\u001b[1;34m(self, key)\u001b[0m\n\u001b[0;32m    864\u001b[0m \u001b[38;5;129m@final\u001b[39m\n\u001b[0;32m    865\u001b[0m \u001b[38;5;28;01mdef\u001b[39;00m \u001b[38;5;21m_validate_tuple_indexer\u001b[39m(\u001b[38;5;28mself\u001b[39m, key: \u001b[38;5;28mtuple\u001b[39m) \u001b[38;5;241m-\u001b[39m\u001b[38;5;241m>\u001b[39m \u001b[38;5;28mtuple\u001b[39m:\n\u001b[0;32m    866\u001b[0m     \u001b[38;5;124;03m\"\"\"\u001b[39;00m\n\u001b[0;32m    867\u001b[0m \u001b[38;5;124;03m    Check the key for valid keys across my indexer.\u001b[39;00m\n\u001b[0;32m    868\u001b[0m \u001b[38;5;124;03m    \"\"\"\u001b[39;00m\n\u001b[1;32m--> 869\u001b[0m     key \u001b[38;5;241m=\u001b[39m \u001b[38;5;28;43mself\u001b[39;49m\u001b[38;5;241;43m.\u001b[39;49m\u001b[43m_validate_key_length\u001b[49m\u001b[43m(\u001b[49m\u001b[43mkey\u001b[49m\u001b[43m)\u001b[49m\n\u001b[0;32m    870\u001b[0m     key \u001b[38;5;241m=\u001b[39m \u001b[38;5;28mself\u001b[39m\u001b[38;5;241m.\u001b[39m_expand_ellipsis(key)\n\u001b[0;32m    871\u001b[0m     \u001b[38;5;28;01mfor\u001b[39;00m i, k \u001b[38;5;129;01min\u001b[39;00m \u001b[38;5;28menumerate\u001b[39m(key):\n",
            "File \u001b[1;32m~\\anaconda3\\lib\\site-packages\\pandas\\core\\indexing.py:908\u001b[0m, in \u001b[0;36m_LocationIndexer._validate_key_length\u001b[1;34m(self, key)\u001b[0m\n\u001b[0;32m    906\u001b[0m             \u001b[38;5;28;01mraise\u001b[39;00m IndexingError(_one_ellipsis_message)\n\u001b[0;32m    907\u001b[0m         \u001b[38;5;28;01mreturn\u001b[39;00m \u001b[38;5;28mself\u001b[39m\u001b[38;5;241m.\u001b[39m_validate_key_length(key)\n\u001b[1;32m--> 908\u001b[0m     \u001b[38;5;28;01mraise\u001b[39;00m IndexingError(\u001b[38;5;124m\"\u001b[39m\u001b[38;5;124mToo many indexers\u001b[39m\u001b[38;5;124m\"\u001b[39m)\n\u001b[0;32m    909\u001b[0m \u001b[38;5;28;01mreturn\u001b[39;00m key\n",
            "\u001b[1;31mIndexingError\u001b[0m: Too many indexers"
          ]
        }
      ],
      "source": [
        "#your code here\n",
        "df3=df.loc[(df['Sales']>250) & (df['Profit']>50)]\n",
        "df3=df3.sort_values(by='Sales', ascending=False)\n"
      ]
    },
    {
      "cell_type": "code",
      "execution_count": null,
      "metadata": {
        "id": "ovkqjzxiTtSh",
        "outputId": "7f966591-7943-4fcb-abf6-a0b8ded10d38"
      },
      "outputs": [
        {
          "data": {
            "text/plain": [
              "Order ID                   AZ-2011-1372644\n",
              "Product Name    Panasonic Printer, Durable\n",
              "Discount                               0.0\n",
              "Sales                                  800\n",
              "Profit                                 168\n",
              "Quantity                                 3\n",
              "Category                        Technology\n",
              "Sub-Category                      Machines\n",
              "Name: 3, dtype: object"
            ]
          },
          "execution_count": 57,
          "metadata": {},
          "output_type": "execute_result"
        }
      ],
      "source": [
        "df3.iloc[4,:]"
      ]
    },
    {
      "cell_type": "code",
      "execution_count": null,
      "metadata": {
        "id": "8yVt1HdgTtSh"
      },
      "outputs": [],
      "source": []
    },
    {
      "cell_type": "markdown",
      "metadata": {
        "id": "1bXtNj_VGBgO"
      },
      "source": [
        "#### Column manipulation\n",
        "Question 7: Remove the orders with negative profit by dropping the corresponding rows with negative `Profit`. Find the product that makes the lowest profit per Quantity in the Technology category.\n",
        "\n",
        "    a) Nokia Audio Dock, with Caller ID\n",
        "    b) Logitech Keyboard, Programmable\n",
        "    c) Motorola Headset, with Caller ID\n",
        "    d) Belkin Flash Drive, Bluetooth"
      ]
    },
    {
      "cell_type": "code",
      "execution_count": null,
      "metadata": {
        "id": "9-u1_ibyTtSh",
        "outputId": "f976194b-4e74-4627-b235-cf099c4ef83e"
      },
      "outputs": [
        {
          "data": {
            "text/plain": [
              "Int64Index([41], dtype='int64')"
            ]
          },
          "execution_count": 96,
          "metadata": {},
          "output_type": "execute_result"
        }
      ],
      "source": [
        "df[df['Profit'] <= 0].index"
      ]
    },
    {
      "cell_type": "code",
      "execution_count": null,
      "metadata": {
        "id": "6LahOfrbGBgP"
      },
      "outputs": [],
      "source": [
        "#your code here\n",
        "df=df.drop(df[df['Profit'] <= 0].index)\n"
      ]
    },
    {
      "cell_type": "code",
      "execution_count": null,
      "metadata": {
        "id": "zEuiV4fsTtSi",
        "outputId": "b6937726-d0bd-443e-8534-c8669a579a5e"
      },
      "outputs": [
        {
          "data": {
            "text/plain": [
              "(52, 8)"
            ]
          },
          "execution_count": 99,
          "metadata": {},
          "output_type": "execute_result"
        }
      ],
      "source": [
        "df.shape"
      ]
    },
    {
      "cell_type": "code",
      "execution_count": null,
      "metadata": {
        "id": "HN47XvlQTtSi"
      },
      "outputs": [],
      "source": [
        "df4=df.loc[df.Category=='Technology']"
      ]
    },
    {
      "cell_type": "code",
      "execution_count": null,
      "metadata": {
        "id": "V5i6w6gnTtSi",
        "outputId": "a19247ae-33cb-468f-a64e-804809eca763"
      },
      "outputs": [
        {
          "data": {
            "text/html": [
              "<div>\n",
              "<style scoped>\n",
              "    .dataframe tbody tr th:only-of-type {\n",
              "        vertical-align: middle;\n",
              "    }\n",
              "\n",
              "    .dataframe tbody tr th {\n",
              "        vertical-align: top;\n",
              "    }\n",
              "\n",
              "    .dataframe thead th {\n",
              "        text-align: right;\n",
              "    }\n",
              "</style>\n",
              "<table border=\"1\" class=\"dataframe\">\n",
              "  <thead>\n",
              "    <tr style=\"text-align: right;\">\n",
              "      <th></th>\n",
              "      <th>Order ID</th>\n",
              "      <th>Product Name</th>\n",
              "      <th>Discount</th>\n",
              "      <th>Sales</th>\n",
              "      <th>Profit</th>\n",
              "      <th>Quantity</th>\n",
              "      <th>Category</th>\n",
              "      <th>Sub-Category</th>\n",
              "    </tr>\n",
              "  </thead>\n",
              "  <tbody>\n",
              "    <tr>\n",
              "      <th>2</th>\n",
              "      <td>AZ-2011-1087704</td>\n",
              "      <td>Belkin Flash Drive, Bluetooth</td>\n",
              "      <td>0.0</td>\n",
              "      <td>294</td>\n",
              "      <td>109</td>\n",
              "      <td>7</td>\n",
              "      <td>Technology</td>\n",
              "      <td>Accessories</td>\n",
              "    </tr>\n",
              "    <tr>\n",
              "      <th>3</th>\n",
              "      <td>AZ-2011-1372644</td>\n",
              "      <td>Panasonic Printer, Durable</td>\n",
              "      <td>0.0</td>\n",
              "      <td>800</td>\n",
              "      <td>168</td>\n",
              "      <td>3</td>\n",
              "      <td>Technology</td>\n",
              "      <td>Machines</td>\n",
              "    </tr>\n",
              "    <tr>\n",
              "      <th>8</th>\n",
              "      <td>AZ-2011-1174243</td>\n",
              "      <td>Nokia Audio Dock, with Caller ID</td>\n",
              "      <td>0.0</td>\n",
              "      <td>1334</td>\n",
              "      <td>200</td>\n",
              "      <td>8</td>\n",
              "      <td>Technology</td>\n",
              "      <td>Phones</td>\n",
              "    </tr>\n",
              "    <tr>\n",
              "      <th>20</th>\n",
              "      <td>AZ-2011-1322840</td>\n",
              "      <td>Motorola Headset, with Caller ID</td>\n",
              "      <td>0.0</td>\n",
              "      <td>957</td>\n",
              "      <td>316</td>\n",
              "      <td>12</td>\n",
              "      <td>Technology</td>\n",
              "      <td>Phones</td>\n",
              "    </tr>\n",
              "    <tr>\n",
              "      <th>30</th>\n",
              "      <td>AZ-2011-1410648</td>\n",
              "      <td>Nokia Smart Phone, Full Size</td>\n",
              "      <td>0.0</td>\n",
              "      <td>1908</td>\n",
              "      <td>820</td>\n",
              "      <td>3</td>\n",
              "      <td>Technology</td>\n",
              "      <td>Phones</td>\n",
              "    </tr>\n",
              "    <tr>\n",
              "      <th>33</th>\n",
              "      <td>AZ-2011-1445262</td>\n",
              "      <td>Apple Smart Phone, Cordless</td>\n",
              "      <td>0.0</td>\n",
              "      <td>636</td>\n",
              "      <td>140</td>\n",
              "      <td>1</td>\n",
              "      <td>Technology</td>\n",
              "      <td>Phones</td>\n",
              "    </tr>\n",
              "    <tr>\n",
              "      <th>39</th>\n",
              "      <td>AZ-2011-1536006</td>\n",
              "      <td>Logitech Keyboard, Programmable</td>\n",
              "      <td>0.0</td>\n",
              "      <td>666</td>\n",
              "      <td>66</td>\n",
              "      <td>9</td>\n",
              "      <td>Technology</td>\n",
              "      <td>Accessories</td>\n",
              "    </tr>\n",
              "    <tr>\n",
              "      <th>52</th>\n",
              "      <td>AZ-2011-1722024</td>\n",
              "      <td>Cisco Audio Dock, VoIP</td>\n",
              "      <td>0.0</td>\n",
              "      <td>364</td>\n",
              "      <td>142</td>\n",
              "      <td>2</td>\n",
              "      <td>Technology</td>\n",
              "      <td>Phones</td>\n",
              "    </tr>\n",
              "    <tr>\n",
              "      <th>63</th>\n",
              "      <td>AZ-2011-1967754</td>\n",
              "      <td>Logitech Numeric Keypad, USB</td>\n",
              "      <td>0.0</td>\n",
              "      <td>93</td>\n",
              "      <td>40</td>\n",
              "      <td>2</td>\n",
              "      <td>Technology</td>\n",
              "      <td>Accessories</td>\n",
              "    </tr>\n",
              "  </tbody>\n",
              "</table>\n",
              "</div>"
            ],
            "text/plain": [
              "           Order ID                      Product Name  Discount  Sales  \\\n",
              "2   AZ-2011-1087704     Belkin Flash Drive, Bluetooth       0.0    294   \n",
              "3   AZ-2011-1372644        Panasonic Printer, Durable       0.0    800   \n",
              "8   AZ-2011-1174243  Nokia Audio Dock, with Caller ID       0.0   1334   \n",
              "20  AZ-2011-1322840  Motorola Headset, with Caller ID       0.0    957   \n",
              "30  AZ-2011-1410648      Nokia Smart Phone, Full Size       0.0   1908   \n",
              "33  AZ-2011-1445262       Apple Smart Phone, Cordless       0.0    636   \n",
              "39  AZ-2011-1536006   Logitech Keyboard, Programmable       0.0    666   \n",
              "52  AZ-2011-1722024            Cisco Audio Dock, VoIP       0.0    364   \n",
              "63  AZ-2011-1967754      Logitech Numeric Keypad, USB       0.0     93   \n",
              "\n",
              "    Profit  Quantity    Category Sub-Category  \n",
              "2      109         7  Technology  Accessories  \n",
              "3      168         3  Technology     Machines  \n",
              "8      200         8  Technology       Phones  \n",
              "20     316        12  Technology       Phones  \n",
              "30     820         3  Technology       Phones  \n",
              "33     140         1  Technology       Phones  \n",
              "39      66         9  Technology  Accessories  \n",
              "52     142         2  Technology       Phones  \n",
              "63      40         2  Technology  Accessories  "
            ]
          },
          "execution_count": 102,
          "metadata": {},
          "output_type": "execute_result"
        }
      ],
      "source": [
        "df4"
      ]
    },
    {
      "cell_type": "code",
      "execution_count": null,
      "metadata": {
        "id": "-0Y9B1E-TtSi",
        "outputId": "903b05fd-5cae-419f-b40c-c2aa2a9c13a8"
      },
      "outputs": [
        {
          "name": "stderr",
          "output_type": "stream",
          "text": [
            "C:\\Users\\Lenovo\\AppData\\Local\\Temp\\ipykernel_2088\\4212157033.py:1: SettingWithCopyWarning: \n",
            "A value is trying to be set on a copy of a slice from a DataFrame.\n",
            "Try using .loc[row_indexer,col_indexer] = value instead\n",
            "\n",
            "See the caveats in the documentation: https://pandas.pydata.org/pandas-docs/stable/user_guide/indexing.html#returning-a-view-versus-a-copy\n",
            "  df4['Profit_per_qty']=df4['Profit']/df4['Quantity']\n"
          ]
        }
      ],
      "source": [
        "df4['Profit_per_qty']=df4['Profit']/df4['Quantity']"
      ]
    },
    {
      "cell_type": "code",
      "execution_count": null,
      "metadata": {
        "id": "Bn4tYb_kTtSi",
        "outputId": "88e8f939-410f-4df6-ac09-da610870828d"
      },
      "outputs": [
        {
          "data": {
            "text/html": [
              "<div>\n",
              "<style scoped>\n",
              "    .dataframe tbody tr th:only-of-type {\n",
              "        vertical-align: middle;\n",
              "    }\n",
              "\n",
              "    .dataframe tbody tr th {\n",
              "        vertical-align: top;\n",
              "    }\n",
              "\n",
              "    .dataframe thead th {\n",
              "        text-align: right;\n",
              "    }\n",
              "</style>\n",
              "<table border=\"1\" class=\"dataframe\">\n",
              "  <thead>\n",
              "    <tr style=\"text-align: right;\">\n",
              "      <th></th>\n",
              "      <th>Order ID</th>\n",
              "      <th>Product Name</th>\n",
              "      <th>Discount</th>\n",
              "      <th>Sales</th>\n",
              "      <th>Profit</th>\n",
              "      <th>Quantity</th>\n",
              "      <th>Category</th>\n",
              "      <th>Sub-Category</th>\n",
              "      <th>Profit_per_qty</th>\n",
              "    </tr>\n",
              "  </thead>\n",
              "  <tbody>\n",
              "    <tr>\n",
              "      <th>2</th>\n",
              "      <td>AZ-2011-1087704</td>\n",
              "      <td>Belkin Flash Drive, Bluetooth</td>\n",
              "      <td>0.0</td>\n",
              "      <td>294</td>\n",
              "      <td>109</td>\n",
              "      <td>7</td>\n",
              "      <td>Technology</td>\n",
              "      <td>Accessories</td>\n",
              "      <td>15.571429</td>\n",
              "    </tr>\n",
              "    <tr>\n",
              "      <th>3</th>\n",
              "      <td>AZ-2011-1372644</td>\n",
              "      <td>Panasonic Printer, Durable</td>\n",
              "      <td>0.0</td>\n",
              "      <td>800</td>\n",
              "      <td>168</td>\n",
              "      <td>3</td>\n",
              "      <td>Technology</td>\n",
              "      <td>Machines</td>\n",
              "      <td>56.000000</td>\n",
              "    </tr>\n",
              "    <tr>\n",
              "      <th>8</th>\n",
              "      <td>AZ-2011-1174243</td>\n",
              "      <td>Nokia Audio Dock, with Caller ID</td>\n",
              "      <td>0.0</td>\n",
              "      <td>1334</td>\n",
              "      <td>200</td>\n",
              "      <td>8</td>\n",
              "      <td>Technology</td>\n",
              "      <td>Phones</td>\n",
              "      <td>25.000000</td>\n",
              "    </tr>\n",
              "    <tr>\n",
              "      <th>20</th>\n",
              "      <td>AZ-2011-1322840</td>\n",
              "      <td>Motorola Headset, with Caller ID</td>\n",
              "      <td>0.0</td>\n",
              "      <td>957</td>\n",
              "      <td>316</td>\n",
              "      <td>12</td>\n",
              "      <td>Technology</td>\n",
              "      <td>Phones</td>\n",
              "      <td>26.333333</td>\n",
              "    </tr>\n",
              "    <tr>\n",
              "      <th>30</th>\n",
              "      <td>AZ-2011-1410648</td>\n",
              "      <td>Nokia Smart Phone, Full Size</td>\n",
              "      <td>0.0</td>\n",
              "      <td>1908</td>\n",
              "      <td>820</td>\n",
              "      <td>3</td>\n",
              "      <td>Technology</td>\n",
              "      <td>Phones</td>\n",
              "      <td>273.333333</td>\n",
              "    </tr>\n",
              "    <tr>\n",
              "      <th>33</th>\n",
              "      <td>AZ-2011-1445262</td>\n",
              "      <td>Apple Smart Phone, Cordless</td>\n",
              "      <td>0.0</td>\n",
              "      <td>636</td>\n",
              "      <td>140</td>\n",
              "      <td>1</td>\n",
              "      <td>Technology</td>\n",
              "      <td>Phones</td>\n",
              "      <td>140.000000</td>\n",
              "    </tr>\n",
              "    <tr>\n",
              "      <th>39</th>\n",
              "      <td>AZ-2011-1536006</td>\n",
              "      <td>Logitech Keyboard, Programmable</td>\n",
              "      <td>0.0</td>\n",
              "      <td>666</td>\n",
              "      <td>66</td>\n",
              "      <td>9</td>\n",
              "      <td>Technology</td>\n",
              "      <td>Accessories</td>\n",
              "      <td>7.333333</td>\n",
              "    </tr>\n",
              "    <tr>\n",
              "      <th>52</th>\n",
              "      <td>AZ-2011-1722024</td>\n",
              "      <td>Cisco Audio Dock, VoIP</td>\n",
              "      <td>0.0</td>\n",
              "      <td>364</td>\n",
              "      <td>142</td>\n",
              "      <td>2</td>\n",
              "      <td>Technology</td>\n",
              "      <td>Phones</td>\n",
              "      <td>71.000000</td>\n",
              "    </tr>\n",
              "    <tr>\n",
              "      <th>63</th>\n",
              "      <td>AZ-2011-1967754</td>\n",
              "      <td>Logitech Numeric Keypad, USB</td>\n",
              "      <td>0.0</td>\n",
              "      <td>93</td>\n",
              "      <td>40</td>\n",
              "      <td>2</td>\n",
              "      <td>Technology</td>\n",
              "      <td>Accessories</td>\n",
              "      <td>20.000000</td>\n",
              "    </tr>\n",
              "  </tbody>\n",
              "</table>\n",
              "</div>"
            ],
            "text/plain": [
              "           Order ID                      Product Name  Discount  Sales  \\\n",
              "2   AZ-2011-1087704     Belkin Flash Drive, Bluetooth       0.0    294   \n",
              "3   AZ-2011-1372644        Panasonic Printer, Durable       0.0    800   \n",
              "8   AZ-2011-1174243  Nokia Audio Dock, with Caller ID       0.0   1334   \n",
              "20  AZ-2011-1322840  Motorola Headset, with Caller ID       0.0    957   \n",
              "30  AZ-2011-1410648      Nokia Smart Phone, Full Size       0.0   1908   \n",
              "33  AZ-2011-1445262       Apple Smart Phone, Cordless       0.0    636   \n",
              "39  AZ-2011-1536006   Logitech Keyboard, Programmable       0.0    666   \n",
              "52  AZ-2011-1722024            Cisco Audio Dock, VoIP       0.0    364   \n",
              "63  AZ-2011-1967754      Logitech Numeric Keypad, USB       0.0     93   \n",
              "\n",
              "    Profit  Quantity    Category Sub-Category  Profit_per_qty  \n",
              "2      109         7  Technology  Accessories       15.571429  \n",
              "3      168         3  Technology     Machines       56.000000  \n",
              "8      200         8  Technology       Phones       25.000000  \n",
              "20     316        12  Technology       Phones       26.333333  \n",
              "30     820         3  Technology       Phones      273.333333  \n",
              "33     140         1  Technology       Phones      140.000000  \n",
              "39      66         9  Technology  Accessories        7.333333  \n",
              "52     142         2  Technology       Phones       71.000000  \n",
              "63      40         2  Technology  Accessories       20.000000  "
            ]
          },
          "execution_count": 104,
          "metadata": {},
          "output_type": "execute_result"
        }
      ],
      "source": [
        "df4"
      ]
    },
    {
      "cell_type": "code",
      "execution_count": null,
      "metadata": {
        "id": "F4FN7kN_TtSj",
        "outputId": "6dc4bbe0-e22d-49e7-a740-2bdc529f01a9"
      },
      "outputs": [
        {
          "data": {
            "text/html": [
              "<div>\n",
              "<style scoped>\n",
              "    .dataframe tbody tr th:only-of-type {\n",
              "        vertical-align: middle;\n",
              "    }\n",
              "\n",
              "    .dataframe tbody tr th {\n",
              "        vertical-align: top;\n",
              "    }\n",
              "\n",
              "    .dataframe thead th {\n",
              "        text-align: right;\n",
              "    }\n",
              "</style>\n",
              "<table border=\"1\" class=\"dataframe\">\n",
              "  <thead>\n",
              "    <tr style=\"text-align: right;\">\n",
              "      <th></th>\n",
              "      <th>Order ID</th>\n",
              "      <th>Product Name</th>\n",
              "      <th>Discount</th>\n",
              "      <th>Sales</th>\n",
              "      <th>Profit</th>\n",
              "      <th>Quantity</th>\n",
              "      <th>Category</th>\n",
              "      <th>Sub-Category</th>\n",
              "      <th>Profit_per_qty</th>\n",
              "    </tr>\n",
              "  </thead>\n",
              "  <tbody>\n",
              "    <tr>\n",
              "      <th>39</th>\n",
              "      <td>AZ-2011-1536006</td>\n",
              "      <td>Logitech Keyboard, Programmable</td>\n",
              "      <td>0.0</td>\n",
              "      <td>666</td>\n",
              "      <td>66</td>\n",
              "      <td>9</td>\n",
              "      <td>Technology</td>\n",
              "      <td>Accessories</td>\n",
              "      <td>7.333333</td>\n",
              "    </tr>\n",
              "    <tr>\n",
              "      <th>2</th>\n",
              "      <td>AZ-2011-1087704</td>\n",
              "      <td>Belkin Flash Drive, Bluetooth</td>\n",
              "      <td>0.0</td>\n",
              "      <td>294</td>\n",
              "      <td>109</td>\n",
              "      <td>7</td>\n",
              "      <td>Technology</td>\n",
              "      <td>Accessories</td>\n",
              "      <td>15.571429</td>\n",
              "    </tr>\n",
              "    <tr>\n",
              "      <th>63</th>\n",
              "      <td>AZ-2011-1967754</td>\n",
              "      <td>Logitech Numeric Keypad, USB</td>\n",
              "      <td>0.0</td>\n",
              "      <td>93</td>\n",
              "      <td>40</td>\n",
              "      <td>2</td>\n",
              "      <td>Technology</td>\n",
              "      <td>Accessories</td>\n",
              "      <td>20.000000</td>\n",
              "    </tr>\n",
              "    <tr>\n",
              "      <th>8</th>\n",
              "      <td>AZ-2011-1174243</td>\n",
              "      <td>Nokia Audio Dock, with Caller ID</td>\n",
              "      <td>0.0</td>\n",
              "      <td>1334</td>\n",
              "      <td>200</td>\n",
              "      <td>8</td>\n",
              "      <td>Technology</td>\n",
              "      <td>Phones</td>\n",
              "      <td>25.000000</td>\n",
              "    </tr>\n",
              "    <tr>\n",
              "      <th>20</th>\n",
              "      <td>AZ-2011-1322840</td>\n",
              "      <td>Motorola Headset, with Caller ID</td>\n",
              "      <td>0.0</td>\n",
              "      <td>957</td>\n",
              "      <td>316</td>\n",
              "      <td>12</td>\n",
              "      <td>Technology</td>\n",
              "      <td>Phones</td>\n",
              "      <td>26.333333</td>\n",
              "    </tr>\n",
              "    <tr>\n",
              "      <th>3</th>\n",
              "      <td>AZ-2011-1372644</td>\n",
              "      <td>Panasonic Printer, Durable</td>\n",
              "      <td>0.0</td>\n",
              "      <td>800</td>\n",
              "      <td>168</td>\n",
              "      <td>3</td>\n",
              "      <td>Technology</td>\n",
              "      <td>Machines</td>\n",
              "      <td>56.000000</td>\n",
              "    </tr>\n",
              "    <tr>\n",
              "      <th>52</th>\n",
              "      <td>AZ-2011-1722024</td>\n",
              "      <td>Cisco Audio Dock, VoIP</td>\n",
              "      <td>0.0</td>\n",
              "      <td>364</td>\n",
              "      <td>142</td>\n",
              "      <td>2</td>\n",
              "      <td>Technology</td>\n",
              "      <td>Phones</td>\n",
              "      <td>71.000000</td>\n",
              "    </tr>\n",
              "    <tr>\n",
              "      <th>33</th>\n",
              "      <td>AZ-2011-1445262</td>\n",
              "      <td>Apple Smart Phone, Cordless</td>\n",
              "      <td>0.0</td>\n",
              "      <td>636</td>\n",
              "      <td>140</td>\n",
              "      <td>1</td>\n",
              "      <td>Technology</td>\n",
              "      <td>Phones</td>\n",
              "      <td>140.000000</td>\n",
              "    </tr>\n",
              "    <tr>\n",
              "      <th>30</th>\n",
              "      <td>AZ-2011-1410648</td>\n",
              "      <td>Nokia Smart Phone, Full Size</td>\n",
              "      <td>0.0</td>\n",
              "      <td>1908</td>\n",
              "      <td>820</td>\n",
              "      <td>3</td>\n",
              "      <td>Technology</td>\n",
              "      <td>Phones</td>\n",
              "      <td>273.333333</td>\n",
              "    </tr>\n",
              "  </tbody>\n",
              "</table>\n",
              "</div>"
            ],
            "text/plain": [
              "           Order ID                      Product Name  Discount  Sales  \\\n",
              "39  AZ-2011-1536006   Logitech Keyboard, Programmable       0.0    666   \n",
              "2   AZ-2011-1087704     Belkin Flash Drive, Bluetooth       0.0    294   \n",
              "63  AZ-2011-1967754      Logitech Numeric Keypad, USB       0.0     93   \n",
              "8   AZ-2011-1174243  Nokia Audio Dock, with Caller ID       0.0   1334   \n",
              "20  AZ-2011-1322840  Motorola Headset, with Caller ID       0.0    957   \n",
              "3   AZ-2011-1372644        Panasonic Printer, Durable       0.0    800   \n",
              "52  AZ-2011-1722024            Cisco Audio Dock, VoIP       0.0    364   \n",
              "33  AZ-2011-1445262       Apple Smart Phone, Cordless       0.0    636   \n",
              "30  AZ-2011-1410648      Nokia Smart Phone, Full Size       0.0   1908   \n",
              "\n",
              "    Profit  Quantity    Category Sub-Category  Profit_per_qty  \n",
              "39      66         9  Technology  Accessories        7.333333  \n",
              "2      109         7  Technology  Accessories       15.571429  \n",
              "63      40         2  Technology  Accessories       20.000000  \n",
              "8      200         8  Technology       Phones       25.000000  \n",
              "20     316        12  Technology       Phones       26.333333  \n",
              "3      168         3  Technology     Machines       56.000000  \n",
              "52     142         2  Technology       Phones       71.000000  \n",
              "33     140         1  Technology       Phones      140.000000  \n",
              "30     820         3  Technology       Phones      273.333333  "
            ]
          },
          "execution_count": 105,
          "metadata": {},
          "output_type": "execute_result"
        }
      ],
      "source": [
        "df5=df4.sort_values(by='Profit_per_qty', ascending=True)\n",
        "df5"
      ]
    },
    {
      "cell_type": "code",
      "execution_count": null,
      "metadata": {
        "id": "BC3a8cNmTtSj",
        "outputId": "074a3faa-eaa6-42a2-f0a7-e64a9d611124"
      },
      "outputs": [
        {
          "data": {
            "text/plain": [
              "Order ID                        AZ-2011-1536006\n",
              "Product Name    Logitech Keyboard, Programmable\n",
              "Name: 39, dtype: object"
            ]
          },
          "execution_count": 106,
          "metadata": {},
          "output_type": "execute_result"
        }
      ],
      "source": [
        "df5.iloc[0,:2]"
      ]
    },
    {
      "cell_type": "code",
      "execution_count": null,
      "metadata": {
        "id": "tS9oMJt6TtSj",
        "outputId": "f85e2be8-a93c-46d4-87e0-a754d3a57c63"
      },
      "outputs": [
        {
          "data": {
            "text/html": [
              "<div>\n",
              "<style scoped>\n",
              "    .dataframe tbody tr th:only-of-type {\n",
              "        vertical-align: middle;\n",
              "    }\n",
              "\n",
              "    .dataframe tbody tr th {\n",
              "        vertical-align: top;\n",
              "    }\n",
              "\n",
              "    .dataframe thead th {\n",
              "        text-align: right;\n",
              "    }\n",
              "</style>\n",
              "<table border=\"1\" class=\"dataframe\">\n",
              "  <thead>\n",
              "    <tr style=\"text-align: right;\">\n",
              "      <th></th>\n",
              "      <th>Order ID</th>\n",
              "      <th>Product Name</th>\n",
              "      <th>Discount</th>\n",
              "      <th>Sales</th>\n",
              "      <th>Profit</th>\n",
              "      <th>Quantity</th>\n",
              "      <th>Category</th>\n",
              "      <th>Sub-Category</th>\n",
              "      <th>Profit_per_qty</th>\n",
              "    </tr>\n",
              "  </thead>\n",
              "  <tbody>\n",
              "    <tr>\n",
              "      <th>39</th>\n",
              "      <td>AZ-2011-1536006</td>\n",
              "      <td>Logitech Keyboard, Programmable</td>\n",
              "      <td>0.0</td>\n",
              "      <td>666</td>\n",
              "      <td>66</td>\n",
              "      <td>9</td>\n",
              "      <td>Technology</td>\n",
              "      <td>Accessories</td>\n",
              "      <td>7.333333</td>\n",
              "    </tr>\n",
              "    <tr>\n",
              "      <th>2</th>\n",
              "      <td>AZ-2011-1087704</td>\n",
              "      <td>Belkin Flash Drive, Bluetooth</td>\n",
              "      <td>0.0</td>\n",
              "      <td>294</td>\n",
              "      <td>109</td>\n",
              "      <td>7</td>\n",
              "      <td>Technology</td>\n",
              "      <td>Accessories</td>\n",
              "      <td>15.571429</td>\n",
              "    </tr>\n",
              "    <tr>\n",
              "      <th>63</th>\n",
              "      <td>AZ-2011-1967754</td>\n",
              "      <td>Logitech Numeric Keypad, USB</td>\n",
              "      <td>0.0</td>\n",
              "      <td>93</td>\n",
              "      <td>40</td>\n",
              "      <td>2</td>\n",
              "      <td>Technology</td>\n",
              "      <td>Accessories</td>\n",
              "      <td>20.000000</td>\n",
              "    </tr>\n",
              "    <tr>\n",
              "      <th>8</th>\n",
              "      <td>AZ-2011-1174243</td>\n",
              "      <td>Nokia Audio Dock, with Caller ID</td>\n",
              "      <td>0.0</td>\n",
              "      <td>1334</td>\n",
              "      <td>200</td>\n",
              "      <td>8</td>\n",
              "      <td>Technology</td>\n",
              "      <td>Phones</td>\n",
              "      <td>25.000000</td>\n",
              "    </tr>\n",
              "    <tr>\n",
              "      <th>20</th>\n",
              "      <td>AZ-2011-1322840</td>\n",
              "      <td>Motorola Headset, with Caller ID</td>\n",
              "      <td>0.0</td>\n",
              "      <td>957</td>\n",
              "      <td>316</td>\n",
              "      <td>12</td>\n",
              "      <td>Technology</td>\n",
              "      <td>Phones</td>\n",
              "      <td>26.333333</td>\n",
              "    </tr>\n",
              "    <tr>\n",
              "      <th>3</th>\n",
              "      <td>AZ-2011-1372644</td>\n",
              "      <td>Panasonic Printer, Durable</td>\n",
              "      <td>0.0</td>\n",
              "      <td>800</td>\n",
              "      <td>168</td>\n",
              "      <td>3</td>\n",
              "      <td>Technology</td>\n",
              "      <td>Machines</td>\n",
              "      <td>56.000000</td>\n",
              "    </tr>\n",
              "    <tr>\n",
              "      <th>52</th>\n",
              "      <td>AZ-2011-1722024</td>\n",
              "      <td>Cisco Audio Dock, VoIP</td>\n",
              "      <td>0.0</td>\n",
              "      <td>364</td>\n",
              "      <td>142</td>\n",
              "      <td>2</td>\n",
              "      <td>Technology</td>\n",
              "      <td>Phones</td>\n",
              "      <td>71.000000</td>\n",
              "    </tr>\n",
              "    <tr>\n",
              "      <th>33</th>\n",
              "      <td>AZ-2011-1445262</td>\n",
              "      <td>Apple Smart Phone, Cordless</td>\n",
              "      <td>0.0</td>\n",
              "      <td>636</td>\n",
              "      <td>140</td>\n",
              "      <td>1</td>\n",
              "      <td>Technology</td>\n",
              "      <td>Phones</td>\n",
              "      <td>140.000000</td>\n",
              "    </tr>\n",
              "    <tr>\n",
              "      <th>30</th>\n",
              "      <td>AZ-2011-1410648</td>\n",
              "      <td>Nokia Smart Phone, Full Size</td>\n",
              "      <td>0.0</td>\n",
              "      <td>1908</td>\n",
              "      <td>820</td>\n",
              "      <td>3</td>\n",
              "      <td>Technology</td>\n",
              "      <td>Phones</td>\n",
              "      <td>273.333333</td>\n",
              "    </tr>\n",
              "  </tbody>\n",
              "</table>\n",
              "</div>"
            ],
            "text/plain": [
              "           Order ID                      Product Name  Discount  Sales  \\\n",
              "39  AZ-2011-1536006   Logitech Keyboard, Programmable       0.0    666   \n",
              "2   AZ-2011-1087704     Belkin Flash Drive, Bluetooth       0.0    294   \n",
              "63  AZ-2011-1967754      Logitech Numeric Keypad, USB       0.0     93   \n",
              "8   AZ-2011-1174243  Nokia Audio Dock, with Caller ID       0.0   1334   \n",
              "20  AZ-2011-1322840  Motorola Headset, with Caller ID       0.0    957   \n",
              "3   AZ-2011-1372644        Panasonic Printer, Durable       0.0    800   \n",
              "52  AZ-2011-1722024            Cisco Audio Dock, VoIP       0.0    364   \n",
              "33  AZ-2011-1445262       Apple Smart Phone, Cordless       0.0    636   \n",
              "30  AZ-2011-1410648      Nokia Smart Phone, Full Size       0.0   1908   \n",
              "\n",
              "    Profit  Quantity    Category Sub-Category  Profit_per_qty  \n",
              "39      66         9  Technology  Accessories        7.333333  \n",
              "2      109         7  Technology  Accessories       15.571429  \n",
              "63      40         2  Technology  Accessories       20.000000  \n",
              "8      200         8  Technology       Phones       25.000000  \n",
              "20     316        12  Technology       Phones       26.333333  \n",
              "3      168         3  Technology     Machines       56.000000  \n",
              "52     142         2  Technology       Phones       71.000000  \n",
              "33     140         1  Technology       Phones      140.000000  \n",
              "30     820         3  Technology       Phones      273.333333  "
            ]
          },
          "execution_count": 94,
          "metadata": {},
          "output_type": "execute_result"
        }
      ],
      "source": [
        "df4=df[df.Profit>0]\n",
        "df4=df4.loc[df4.Category=='Technology']\n",
        "\n",
        "df4['Profit_per_qty']=df4['Profit']/df4['Quantity']\n",
        "\n",
        "df4.sort_values(by='Profit_per_qty',ascending=True)"
      ]
    },
    {
      "cell_type": "code",
      "execution_count": null,
      "metadata": {
        "id": "J2JoG2onTtSk"
      },
      "outputs": [],
      "source": []
    }
  ],
  "metadata": {
    "colab": {
      "provenance": []
    },
    "kernelspec": {
      "display_name": "Python 3 (ipykernel)",
      "language": "python",
      "name": "python3"
    },
    "language_info": {
      "codemirror_mode": {
        "name": "ipython",
        "version": 3
      },
      "file_extension": ".py",
      "mimetype": "text/x-python",
      "name": "python",
      "nbconvert_exporter": "python",
      "pygments_lexer": "ipython3",
      "version": "3.10.9"
    }
  },
  "nbformat": 4,
  "nbformat_minor": 0
}