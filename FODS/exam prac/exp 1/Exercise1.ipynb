{
  "cells": [
    {
      "cell_type": "code",
      "execution_count": 60,
      "metadata": {},
      "outputs": [],
      "source": [
        "import numpy as np"
      ]
    },
    {
      "cell_type": "markdown",
      "metadata": {
        "id": "54kqs-oAi7-u"
      },
      "source": [
        "#Heights of the players is stored as a regular Python list: height_in. The height is expressed in inches. Can you make a numpy array out of it ?\n",
        "\n",
        "\n",
        "1.   create an random integer numpy array for heights in inches in the range 67 to 83 of size 1015\n",
        "\n",
        "2.   create an random integer numpy array for wights in lbs in the range 150 to 290 of size 1015\n",
        "\n",
        "\n",
        "\n"
      ]
    },
    {
      "cell_type": "code",
      "execution_count": 61,
      "metadata": {
        "id": "iuIQ7hfHjA-N"
      },
      "outputs": [],
      "source": [
        "height = np.random.randint(67,83,(1015))\n",
        "weight = np.random.randint(150,290,(1015))"
      ]
    },
    {
      "cell_type": "markdown",
      "metadata": {
        "id": "4p2oqy9FjlJH"
      },
      "source": [
        "# Convert the heights from inches to meters\n",
        "heights * 0.0254"
      ]
    },
    {
      "cell_type": "code",
      "execution_count": 62,
      "metadata": {
        "id": "bIpA8OWLko6_"
      },
      "outputs": [],
      "source": [
        "height = height * 0.0254"
      ]
    },
    {
      "cell_type": "markdown",
      "metadata": {
        "id": "vlMci_PYkpp2"
      },
      "source": [
        "# Converting weights in lbs to kg =weights_lb * 0.453592"
      ]
    },
    {
      "cell_type": "code",
      "execution_count": 63,
      "metadata": {
        "id": "KHyHQTn4k0Pf"
      },
      "outputs": [],
      "source": [
        "weight = weight * 0.453592"
      ]
    },
    {
      "cell_type": "markdown",
      "metadata": {
        "id": "hRGkp5Iak0vx"
      },
      "source": [
        "# Calculate the BMI: bmi"
      ]
    },
    {
      "cell_type": "code",
      "execution_count": 64,
      "metadata": {
        "id": "jaN5Rv8Ik-tj"
      },
      "outputs": [],
      "source": [
        "bmi = weight/(height**2)"
      ]
    },
    {
      "cell_type": "markdown",
      "metadata": {
        "id": "8jUVQEthk_cV"
      },
      "source": [
        "Fetch the first element from the bmi array"
      ]
    },
    {
      "cell_type": "code",
      "execution_count": 65,
      "metadata": {
        "id": "lFY9w5_8lBEm"
      },
      "outputs": [
        {
          "data": {
            "text/plain": [
              "27.319421578561702"
            ]
          },
          "execution_count": 65,
          "metadata": {},
          "output_type": "execute_result"
        }
      ],
      "source": [
        "bmi[0]"
      ]
    },
    {
      "cell_type": "markdown",
      "metadata": {
        "id": "UD8zMR2wlLQw"
      },
      "source": [
        "Fetch the first five element from the bmi array"
      ]
    },
    {
      "cell_type": "code",
      "execution_count": 66,
      "metadata": {
        "id": "1CunhzuHlSJU"
      },
      "outputs": [
        {
          "data": {
            "text/plain": [
              "array([27.31942158, 24.80333518, 28.4278395 , 31.26803424, 38.78814347])"
            ]
          },
          "execution_count": 66,
          "metadata": {},
          "output_type": "execute_result"
        }
      ],
      "source": [
        "bmi[0:5]"
      ]
    },
    {
      "cell_type": "markdown",
      "metadata": {
        "id": "-HVwXkc1lSi1"
      },
      "source": [
        "Count the number of pariticipants who are underweight i.e. bmi < 21"
      ]
    },
    {
      "cell_type": "markdown",
      "metadata": {
        "id": "GeuasOqwmAfU"
      },
      "source": [
        "Players list contain the height(inches) and weight(lbs) data for all the players"
      ]
    },
    {
      "cell_type": "code",
      "execution_count": 67,
      "metadata": {
        "id": "e-j8ploClTa9"
      },
      "outputs": [
        {
          "data": {
            "text/plain": [
              "148"
            ]
          },
          "execution_count": 67,
          "metadata": {},
          "output_type": "execute_result"
        }
      ],
      "source": [
        "bmi[bmi < 21].size"
      ]
    },
    {
      "cell_type": "code",
      "execution_count": 71,
      "metadata": {},
      "outputs": [
        {
          "data": {
            "text/plain": [
              "array([[ 1.9558  , 68.945984],\n",
              "       [ 1.9558  , 72.57472 ],\n",
              "       [ 2.0066  , 78.017824],\n",
              "       [ 1.9812  , 73.481904],\n",
              "       [ 1.8542  , 68.0388  ],\n",
              "       [ 1.8542  , 72.121128],\n",
              "       [ 2.0828  , 74.84268 ],\n",
              "       [ 1.9812  , 73.028312],\n",
              "       [ 2.0066  , 72.57472 ],\n",
              "       [ 1.8542  , 70.760352],\n",
              "       [ 1.9558  , 72.57472 ],\n",
              "       [ 2.0066  , 76.203456],\n",
              "       [ 2.0066  , 71.213944],\n",
              "       [ 1.9304  , 68.492392],\n",
              "       [ 1.9812  , 75.749864],\n",
              "       [ 2.0828  , 82.100152],\n",
              "       [ 2.0066  , 83.460928],\n",
              "       [ 2.0574  , 74.389088],\n",
              "       [ 2.0828  , 78.925008],\n",
              "       [ 2.0066  , 73.481904],\n",
              "       [ 2.0574  , 68.945984],\n",
              "       [ 2.0066  , 73.028312],\n",
              "       [ 1.9304  , 72.57472 ],\n",
              "       [ 1.9812  , 81.64656 ],\n",
              "       [ 1.9812  , 71.213944],\n",
              "       [ 1.905   , 75.296272],\n",
              "       [ 1.9304  , 72.121128],\n",
              "       [ 2.0066  , 81.64656 ],\n",
              "       [ 1.9812  , 68.492392],\n",
              "       [ 2.0828  , 90.7184  ],\n",
              "       [ 2.0066  , 81.192968],\n",
              "       [ 1.9304  , 69.399576],\n",
              "       [ 2.032   , 68.0388  ],\n",
              "       [ 2.0828  , 72.121128],\n",
              "       [ 1.8796  , 68.945984],\n",
              "       [ 1.9304  , 72.121128],\n",
              "       [ 2.0574  , 71.213944],\n",
              "       [ 1.9558  , 77.11064 ],\n",
              "       [ 1.905   , 69.399576],\n",
              "       [ 2.0574  , 87.089664],\n",
              "       [ 2.0066  , 78.017824],\n",
              "       [ 1.8542  , 69.853168],\n",
              "       [ 1.9558  , 73.028312],\n",
              "       [ 2.0574  , 68.0388  ],\n",
              "       [ 1.9558  , 77.11064 ],\n",
              "       [ 2.0574  , 77.564232],\n",
              "       [ 1.8796  , 72.57472 ],\n",
              "       [ 2.0574  , 84.821704],\n",
              "       [ 2.032   , 77.11064 ],\n",
              "       [ 2.0828  , 73.028312],\n",
              "       [ 2.0828  , 84.368112],\n",
              "       [ 2.0066  , 82.100152],\n",
              "       [ 2.0574  , 79.3786  ],\n",
              "       [ 2.032   , 76.657048],\n",
              "       [ 2.0066  , 82.553744],\n",
              "       [ 2.0828  , 90.264808],\n",
              "       [ 1.9558  , 70.760352],\n",
              "       [ 2.0574  , 86.636072],\n",
              "       [ 2.032   , 72.121128],\n",
              "       [ 1.9812  , 73.481904],\n",
              "       [ 1.905   , 70.760352],\n",
              "       [ 2.0828  , 90.264808],\n",
              "       [ 2.0828  , 68.0388  ],\n",
              "       [ 1.9812  , 69.399576],\n",
              "       [ 2.0828  , 89.357624],\n",
              "       [ 2.032   , 72.57472 ],\n",
              "       [ 1.905   , 68.945984],\n",
              "       [ 2.032   , 75.749864],\n",
              "       [ 1.9304  , 72.121128],\n",
              "       [ 1.8796  , 69.853168],\n",
              "       [ 1.9304  , 78.017824],\n",
              "       [ 1.8796  , 73.935496],\n",
              "       [ 2.0574  , 74.389088],\n",
              "       [ 1.9812  , 78.925008],\n",
              "       [ 1.9304  , 70.30676 ],\n",
              "       [ 2.032   , 78.017824],\n",
              "       [ 2.0574  , 88.45044 ],\n",
              "       [ 2.0828  , 74.84268 ],\n",
              "       [ 1.9304  , 71.213944],\n",
              "       [ 2.032   , 73.028312],\n",
              "       [ 2.032   , 70.760352],\n",
              "       [ 2.032   , 69.399576],\n",
              "       [ 1.9812  , 73.481904],\n",
              "       [ 2.032   , 85.275296],\n",
              "       [ 2.0066  , 71.213944],\n",
              "       [ 2.0066  , 78.471416],\n",
              "       [ 2.0066  , 77.11064 ],\n",
              "       [ 2.032   , 82.553744],\n",
              "       [ 2.0828  , 74.389088],\n",
              "       [ 1.9812  , 72.121128],\n",
              "       [ 2.0828  , 89.811216],\n",
              "       [ 2.0828  , 78.017824],\n",
              "       [ 2.032   , 83.460928],\n",
              "       [ 2.0574  , 70.30676 ],\n",
              "       [ 2.0828  , 79.832192],\n",
              "       [ 1.905   , 70.760352],\n",
              "       [ 1.8796  , 68.0388  ],\n",
              "       [ 2.0066  , 76.203456],\n",
              "       [ 2.0828  , 69.853168],\n",
              "       [ 2.0066  , 75.749864],\n",
              "       [ 1.9812  , 72.57472 ],\n",
              "       [ 2.0066  , 71.213944],\n",
              "       [ 1.905   , 70.760352],\n",
              "       [ 2.0066  , 78.925008],\n",
              "       [ 2.0066  , 74.84268 ],\n",
              "       [ 1.905   , 69.853168],\n",
              "       [ 2.0828  , 75.296272],\n",
              "       [ 2.0828  , 86.18248 ],\n",
              "       [ 2.0828  , 89.357624],\n",
              "       [ 1.8796  , 69.399576],\n",
              "       [ 1.9558  , 71.667536],\n",
              "       [ 2.032   , 76.203456],\n",
              "       [ 2.032   , 73.935496],\n",
              "       [ 2.032   , 75.296272],\n",
              "       [ 2.0828  , 79.3786  ],\n",
              "       [ 1.9558  , 70.760352],\n",
              "       [ 1.9812  , 78.017824],\n",
              "       [ 2.032   , 83.007336],\n",
              "       [ 1.905   , 76.203456],\n",
              "       [ 2.0574  , 86.636072],\n",
              "       [ 2.0828  , 85.728888],\n",
              "       [ 1.9558  , 71.667536],\n",
              "       [ 2.0066  , 80.285784],\n",
              "       [ 1.9304  , 76.203456],\n",
              "       [ 1.9304  , 68.492392],\n",
              "       [ 1.8542  , 71.213944],\n",
              "       [ 2.0828  , 83.007336],\n",
              "       [ 2.0828  , 69.399576],\n",
              "       [ 1.9812  , 69.853168],\n",
              "       [ 1.8796  , 68.945984],\n",
              "       [ 1.9558  , 75.296272],\n",
              "       [ 2.032   , 68.0388  ],\n",
              "       [ 1.8796  , 71.213944],\n",
              "       [ 2.0828  , 85.728888],\n",
              "       [ 1.8542  , 69.853168],\n",
              "       [ 1.9304  , 71.213944],\n",
              "       [ 2.0828  , 71.213944],\n",
              "       [ 2.0066  , 82.100152],\n",
              "       [ 1.905   , 69.853168],\n",
              "       [ 2.032   , 84.368112],\n",
              "       [ 1.9558  , 72.121128],\n",
              "       [ 1.8796  , 70.760352],\n",
              "       [ 1.9812  , 81.64656 ],\n",
              "       [ 1.905   , 73.935496],\n",
              "       [ 1.9812  , 79.3786  ],\n",
              "       [ 2.0066  , 68.945984],\n",
              "       [ 1.905   , 72.121128],\n",
              "       [ 1.905   , 73.481904]])"
            ]
          },
          "execution_count": 71,
          "metadata": {},
          "output_type": "execute_result"
        }
      ],
      "source": [
        "data = np.hstack((bmi.reshape(-1,1),height.reshape(-1,1),weight.reshape(-1,1)))\n",
        "data[data[:,0] < 21][:,1:]"
      ]
    },
    {
      "cell_type": "code",
      "execution_count": null,
      "metadata": {},
      "outputs": [],
      "source": []
    }
  ],
  "metadata": {
    "colab": {
      "provenance": []
    },
    "kernelspec": {
      "display_name": "Python 3",
      "name": "python3"
    },
    "language_info": {
      "codemirror_mode": {
        "name": "ipython",
        "version": 3
      },
      "file_extension": ".py",
      "mimetype": "text/x-python",
      "name": "python",
      "nbconvert_exporter": "python",
      "pygments_lexer": "ipython3",
      "version": "3.11.5"
    }
  },
  "nbformat": 4,
  "nbformat_minor": 0
}
