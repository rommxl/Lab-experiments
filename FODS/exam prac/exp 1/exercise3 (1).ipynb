{
 "cells": [
  {
   "cell_type": "markdown",
   "id": "2075f92d",
   "metadata": {},
   "source": [
    "Extracting Elements from Array Description From a given array, extract all the elements which are greater than 'm' and less than 'n'. Note: 'm' and 'n' are integer values provided as input.\n",
    "\n",
    "Input format:\n",
    "\n",
    "A list of integers on line one\n",
    "\n",
    "Integer 'm' on line two\n",
    "\n",
    "Integer 'n' on line three\n",
    "\n",
    "Output format:\n",
    "\n",
    "1-D array containing integers greater than 'm' and smaller than 'n'.\n",
    "\n",
    "Sample input:\n",
    "\n",
    "[ 1, 5, 9, 12, 15, 7, 12, 9 ] (array)\n",
    "\n",
    "6 (m)\n",
    "\n",
    "12 (n)\n",
    "\n",
    "Sample output:\n",
    "\n",
    "[ 9 7 9 ]"
   ]
  },
  {
   "cell_type": "markdown",
   "id": "a550efbb",
   "metadata": {},
   "source": [
    "Print \"+\"\n",
    "Description Given a single positive odd integer 'n' greater than 2, create a NumPy array of size (n x n) with all zeros and ones such that the ones make a shape like '+'. The lines of the plus must be present at the middle row and column.\n",
    "\n",
    "Hint: Start by creating a (n x n) array with all zeroes using the np.zeros() function and then fill in the ones at the appropriate indices. Use integer division (//) to access the middle rows and columns\n",
    "\n",
    "Examples:\n",
    "\n",
    "Input 1:\n",
    "\n",
    "3\n",
    "\n",
    "Output 1:\n",
    "\n",
    "[[0 1 0]\n",
    "\n",
    "[1 1 1]\n",
    "\n",
    "[0 1 0]]\n",
    "\n",
    "Input 2:\n",
    "\n",
    "5\n",
    "\n",
    "Output 1:\n",
    "\n",
    "[[0 0 1 0 0]\n",
    "\n",
    "[0 0 1 0 0]\n",
    "\n",
    "[1 1 1 1 1]\n",
    "\n",
    "[0 0 1 0 0]\n",
    "\n",
    "[0 0 1 0 0]]\n",
    "\n",
    "Explanation: Notice that the 1s in the arrays make a shape like '+'."
   ]
  }
 ],
 "metadata": {
  "kernelspec": {
   "display_name": "Python 3 (ipykernel)",
   "language": "python",
   "name": "python3"
  },
  "language_info": {
   "codemirror_mode": {
    "name": "ipython",
    "version": 3
   },
   "file_extension": ".py",
   "mimetype": "text/x-python",
   "name": "python",
   "nbconvert_exporter": "python",
   "pygments_lexer": "ipython3",
   "version": "3.10.9"
  }
 },
 "nbformat": 4,
 "nbformat_minor": 5
}
