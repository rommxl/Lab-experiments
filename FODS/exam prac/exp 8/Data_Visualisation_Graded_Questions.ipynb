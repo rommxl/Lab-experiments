{
  "cells": [
    {
      "cell_type": "markdown",
      "metadata": {
        "id": "gwxyX_8pPPdD"
      },
      "source": [
        "## Data Visualisation - Graded Questions\n"
      ]
    },
    {
      "cell_type": "markdown",
      "metadata": {
        "id": "9Q5DBJXKPPdH"
      },
      "source": [
        "`Note` - *This stub file doesn't contain the conceptual questions asked on the platform*"
      ]
    },
    {
      "cell_type": "markdown",
      "metadata": {
        "id": "Q4pXLJycPPdJ"
      },
      "source": [
        "### I) Marks Analysis\n",
        "\n",
        "In the **'Marks.csv'** file, you can find the scores obtained by 200 students in 4 subjects of a standardised test. The different columns - `Score A`, `Score B`, `Score C` and `Score D` indicate the score obtained by a particular student in the respective subjects A, B, C and D.\n",
        "\n",
        "\n",
        "\n",
        "Load the dataset to your notebook and answer the following questions"
      ]
    },
    {
      "cell_type": "code",
      "execution_count": 49,
      "metadata": {
        "id": "CkTl2KN3PPdL"
      },
      "outputs": [],
      "source": [
        "#Load the necessary Libraries\n",
        "import pandas as pd\n",
        "import numpy as np\n",
        "import seaborn as sns\n",
        "import matplotlib.pyplot as plt"
      ]
    },
    {
      "cell_type": "code",
      "execution_count": 50,
      "metadata": {
        "id": "NtVRTrKFPPdO"
      },
      "outputs": [
        {
          "data": {
            "text/html": [
              "<div>\n",
              "<style scoped>\n",
              "    .dataframe tbody tr th:only-of-type {\n",
              "        vertical-align: middle;\n",
              "    }\n",
              "\n",
              "    .dataframe tbody tr th {\n",
              "        vertical-align: top;\n",
              "    }\n",
              "\n",
              "    .dataframe thead th {\n",
              "        text-align: right;\n",
              "    }\n",
              "</style>\n",
              "<table border=\"1\" class=\"dataframe\">\n",
              "  <thead>\n",
              "    <tr style=\"text-align: right;\">\n",
              "      <th></th>\n",
              "      <th>Score A</th>\n",
              "      <th>Score B</th>\n",
              "      <th>Score C</th>\n",
              "      <th>Score D</th>\n",
              "    </tr>\n",
              "  </thead>\n",
              "  <tbody>\n",
              "    <tr>\n",
              "      <th>0</th>\n",
              "      <td>230.1</td>\n",
              "      <td>37.8</td>\n",
              "      <td>69.2</td>\n",
              "      <td>22.1</td>\n",
              "    </tr>\n",
              "    <tr>\n",
              "      <th>1</th>\n",
              "      <td>44.5</td>\n",
              "      <td>39.3</td>\n",
              "      <td>45.1</td>\n",
              "      <td>10.4</td>\n",
              "    </tr>\n",
              "    <tr>\n",
              "      <th>2</th>\n",
              "      <td>17.2</td>\n",
              "      <td>45.9</td>\n",
              "      <td>69.3</td>\n",
              "      <td>12.0</td>\n",
              "    </tr>\n",
              "    <tr>\n",
              "      <th>3</th>\n",
              "      <td>151.5</td>\n",
              "      <td>41.3</td>\n",
              "      <td>58.5</td>\n",
              "      <td>16.5</td>\n",
              "    </tr>\n",
              "    <tr>\n",
              "      <th>4</th>\n",
              "      <td>180.8</td>\n",
              "      <td>10.8</td>\n",
              "      <td>58.4</td>\n",
              "      <td>17.9</td>\n",
              "    </tr>\n",
              "  </tbody>\n",
              "</table>\n",
              "</div>"
            ],
            "text/plain": [
              "   Score A  Score B  Score C  Score D\n",
              "0    230.1     37.8     69.2     22.1\n",
              "1     44.5     39.3     45.1     10.4\n",
              "2     17.2     45.9     69.3     12.0\n",
              "3    151.5     41.3     58.5     16.5\n",
              "4    180.8     10.8     58.4     17.9"
            ]
          },
          "execution_count": 50,
          "metadata": {},
          "output_type": "execute_result"
        }
      ],
      "source": [
        "#Load the dataset\n",
        "df1 = pd.read_csv('Marks.csv')\n",
        "df1.head()"
      ]
    },
    {
      "cell_type": "markdown",
      "metadata": {
        "id": "HJxy-tH5PPdP"
      },
      "source": [
        "**Q1)** Load the dataset and plot a histogram for the `Score A` column by keeping the `number of bins to 6`. Which bin range among the following has the highest frequency?\n",
        "\n",
        "(`Note` - *The bin ranges mentioned in the options are approximate values for the bin ranges that you'll actually get when you plot the histogram*)\n",
        "\n",
        "    a)0-50\n",
        "    b)50-100\n",
        "    c)150-200\n",
        "    d)200-250"
      ]
    },
    {
      "cell_type": "code",
      "execution_count": 51,
      "metadata": {
        "id": "ftUArZJEPPdQ"
      },
      "outputs": [
        {
          "data": {
            "text/plain": [
              "(array([36., 34., 31., 32., 43., 24.]),\n",
              " array([  0.,  50., 100., 150., 200., 250., 300.]),\n",
              " <BarContainer object of 6 artists>)"
            ]
          },
          "execution_count": 51,
          "metadata": {},
          "output_type": "execute_result"
        },
        {
          "data": {
            "image/png": "[encoded data removed]",
            "text/plain": [
              "<Figure size 640x480 with 1 Axes>"
            ]
          },
          "metadata": {},
          "output_type": "display_data"
        }
      ],
      "source": [
        "#Your code here\n",
        "plt.hist(df1['Score A'],bins=[0,50,100,150,200,250,300])"
      ]
    },
    {
      "cell_type": "markdown",
      "metadata": {
        "id": "LTWNaQvAPPdS"
      },
      "source": [
        "**Q2)** Plot a box plot for the column `Score C` and choose the correct option.\n",
        "\n",
        "    A - The 25th percentile lies between 20 and 40\n",
        "    B - The 75th percentile lies between 40 and 60\n",
        "    C - The 25th percentile lies between 0 and 20\n",
        "    D - Both B and C"
      ]
    },
    {
      "cell_type": "code",
      "execution_count": 52,
      "metadata": {
        "id": "CW3pMhFRPPdU"
      },
      "outputs": [
        {
          "data": {
            "text/plain": [
              "{'whiskers': [<matplotlib.lines.Line2D at 0x256b8e0f650>,\n",
              "  <matplotlib.lines.Line2D at 0x256b8e1c0d0>],\n",
              " 'caps': [<matplotlib.lines.Line2D at 0x256b8e1ca50>,\n",
              "  <matplotlib.lines.Line2D at 0x256b8dfd1d0>],\n",
              " 'boxes': [<matplotlib.lines.Line2D at 0x256b8e0ee10>],\n",
              " 'medians': [<matplotlib.lines.Line2D at 0x256b8e1d810>],\n",
              " 'fliers': [<matplotlib.lines.Line2D at 0x256b8e1e010>],\n",
              " 'means': []}"
            ]
          },
          "execution_count": 52,
          "metadata": {},
          "output_type": "execute_result"
        },
        {
          "data": {
            "image/png": "[encoded data removed]",
            "text/plain": [
              "<Figure size 640x480 with 1 Axes>"
            ]
          },
          "metadata": {},
          "output_type": "display_data"
        }
      ],
      "source": [
        "#Your code here\n",
        "plt.boxplot(df1['Score C'],labels=['Score C'])"
      ]
    },
    {
      "cell_type": "markdown",
      "metadata": {
        "id": "jfkFPqhXPPdV"
      },
      "source": [
        "### II) Superstore Data\n",
        "\n",
        "In the `superstore.csv` file, you have the details of orders purchased in an American online retail store. Load the dataset, observe and analyse the different columns and answer the following questions."
      ]
    },
    {
      "cell_type": "code",
      "execution_count": 53,
      "metadata": {
        "id": "uc47j_fcPPdV"
      },
      "outputs": [
        {
          "data": {
            "text/html": [
              "<div>\n",
              "<style scoped>\n",
              "    .dataframe tbody tr th:only-of-type {\n",
              "        vertical-align: middle;\n",
              "    }\n",
              "\n",
              "    .dataframe tbody tr th {\n",
              "        vertical-align: top;\n",
              "    }\n",
              "\n",
              "    .dataframe thead th {\n",
              "        text-align: right;\n",
              "    }\n",
              "</style>\n",
              "<table border=\"1\" class=\"dataframe\">\n",
              "  <thead>\n",
              "    <tr style=\"text-align: right;\">\n",
              "      <th></th>\n",
              "      <th>Order ID</th>\n",
              "      <th>Ship Mode</th>\n",
              "      <th>Segment</th>\n",
              "      <th>Region</th>\n",
              "      <th>Product ID</th>\n",
              "      <th>Sales</th>\n",
              "      <th>Quantity</th>\n",
              "      <th>Discount</th>\n",
              "      <th>Profit</th>\n",
              "    </tr>\n",
              "  </thead>\n",
              "  <tbody>\n",
              "    <tr>\n",
              "      <th>0</th>\n",
              "      <td>CA-2016-152156</td>\n",
              "      <td>Second Class</td>\n",
              "      <td>Consumer</td>\n",
              "      <td>South</td>\n",
              "      <td>FUR-BO-10001798</td>\n",
              "      <td>261.9600</td>\n",
              "      <td>2</td>\n",
              "      <td>0%</td>\n",
              "      <td>41.9136</td>\n",
              "    </tr>\n",
              "    <tr>\n",
              "      <th>1</th>\n",
              "      <td>CA-2016-152156</td>\n",
              "      <td>Second Class</td>\n",
              "      <td>Consumer</td>\n",
              "      <td>South</td>\n",
              "      <td>FUR-CH-10000454</td>\n",
              "      <td>731.9400</td>\n",
              "      <td>3</td>\n",
              "      <td>0%</td>\n",
              "      <td>219.5820</td>\n",
              "    </tr>\n",
              "    <tr>\n",
              "      <th>2</th>\n",
              "      <td>CA-2016-138688</td>\n",
              "      <td>Second Class</td>\n",
              "      <td>Corporate</td>\n",
              "      <td>West</td>\n",
              "      <td>OFF-LA-10000240</td>\n",
              "      <td>14.6200</td>\n",
              "      <td>2</td>\n",
              "      <td>0%</td>\n",
              "      <td>6.8714</td>\n",
              "    </tr>\n",
              "    <tr>\n",
              "      <th>3</th>\n",
              "      <td>US-2015-108966</td>\n",
              "      <td>Standard Class</td>\n",
              "      <td>Consumer</td>\n",
              "      <td>South</td>\n",
              "      <td>FUR-TA-10000577</td>\n",
              "      <td>957.5775</td>\n",
              "      <td>5</td>\n",
              "      <td>0.45%</td>\n",
              "      <td>-383.0310</td>\n",
              "    </tr>\n",
              "    <tr>\n",
              "      <th>4</th>\n",
              "      <td>US-2015-108966</td>\n",
              "      <td>Standard Class</td>\n",
              "      <td>Consumer</td>\n",
              "      <td>South</td>\n",
              "      <td>OFF-ST-10000760</td>\n",
              "      <td>22.3680</td>\n",
              "      <td>2</td>\n",
              "      <td>0.20%</td>\n",
              "      <td>2.5164</td>\n",
              "    </tr>\n",
              "  </tbody>\n",
              "</table>\n",
              "</div>"
            ],
            "text/plain": [
              "         Order ID       Ship Mode    Segment Region       Product ID  \\\n",
              "0  CA-2016-152156    Second Class   Consumer  South  FUR-BO-10001798   \n",
              "1  CA-2016-152156    Second Class   Consumer  South  FUR-CH-10000454   \n",
              "2  CA-2016-138688    Second Class  Corporate   West  OFF-LA-10000240   \n",
              "3  US-2015-108966  Standard Class   Consumer  South  FUR-TA-10000577   \n",
              "4  US-2015-108966  Standard Class   Consumer  South  OFF-ST-10000760   \n",
              "\n",
              "      Sales  Quantity Discount    Profit  \n",
              "0  261.9600         2       0%   41.9136  \n",
              "1  731.9400         3       0%  219.5820  \n",
              "2   14.6200         2       0%    6.8714  \n",
              "3  957.5775         5    0.45% -383.0310  \n",
              "4   22.3680         2    0.20%    2.5164  "
            ]
          },
          "execution_count": 53,
          "metadata": {},
          "output_type": "execute_result"
        }
      ],
      "source": [
        "#Load the dataset\n",
        "df2 = pd.read_csv('superstore.csv')\n",
        "df2.head()"
      ]
    },
    {
      "cell_type": "code",
      "execution_count": 54,
      "metadata": {},
      "outputs": [
        {
          "data": {
            "text/plain": [
              "Ship Mode\n",
              "Standard Class    5968\n",
              "Second Class      1945\n",
              "First Class       1538\n",
              "Same Day           543\n",
              "Name: count, dtype: int64"
            ]
          },
          "execution_count": 54,
          "metadata": {},
          "output_type": "execute_result"
        }
      ],
      "source": [
        "data = df2['Ship Mode'].value_counts()\n",
        "df2['Ship Mode'].value_counts()"
      ]
    },
    {
      "cell_type": "markdown",
      "metadata": {
        "id": "lmf4tMdVPPdW"
      },
      "source": [
        "**Q4)** Plot a pie-chart to find the Ship Mode through which most of the orders are being delivered.\n",
        "\n",
        "     a)Standard Class\n",
        "     b)First Class\n",
        "     c)Second Class\n",
        "     d)Same Day\n",
        "     "
      ]
    },
    {
      "cell_type": "code",
      "execution_count": 55,
      "metadata": {
        "id": "lnF0OEiEPPdX"
      },
      "outputs": [
        {
          "data": {
            "text/plain": [
              "([<matplotlib.patches.Wedge at 0x256b8b68f90>,\n",
              "  <matplotlib.patches.Wedge at 0x256b8b8e7d0>,\n",
              "  <matplotlib.patches.Wedge at 0x256b6a18ed0>,\n",
              "  <matplotlib.patches.Wedge at 0x256b8b8ce10>],\n",
              " [Text(-0.33056573952035373, 1.0491550370919267, 'Standard Class'),\n",
              "  Text(-0.37607764230951635, -1.0337144707098356, 'Second Class'),\n",
              "  Text(0.7465348771572817, -0.8078896441889587, 'First Class'),\n",
              "  Text(1.0840144265772789, -0.18684946607452133, 'Same Day')],\n",
              " [Text(-0.1803085851929202, 0.5722663838683235, '59.7158%'),\n",
              "  Text(-0.20513325944155433, -0.5638442567508194, '19.4617%'),\n",
              "  Text(0.40720084208579, -0.4406670786485229, '15.3892%'),\n",
              "  Text(0.5912805963148793, -0.10191789058610252, '5.4333%')])"
            ]
          },
          "execution_count": 55,
          "metadata": {},
          "output_type": "execute_result"
        },
        {
          "data": {
            "image/png": "[encoded data removed]",
            "text/plain": [
              "<Figure size 640x480 with 1 Axes>"
            ]
          },
          "metadata": {},
          "output_type": "display_data"
        }
      ],
      "source": [
        "#Your code here\n",
        "plt.pie(data,labels=data.index,autopct='%.4f%%')"
      ]
    },
    {
      "cell_type": "markdown",
      "metadata": {
        "id": "Nai-DGcNPPdX"
      },
      "source": [
        "**Q5)** Plot a bar chart comparing the average `Discount` across all the `Regions` and report back the `Region` getting the highest average discount\n",
        "\n",
        "**Note** - You need to clean the `Discount` column first\n",
        "\n",
        "    a)Central\n",
        "    b)South\n",
        "    c)West\n",
        "    d)East"
      ]
    },
    {
      "cell_type": "code",
      "execution_count": 56,
      "metadata": {},
      "outputs": [
        {
          "data": {
            "text/plain": [
              "array([0.  , 0.45, 0.2 , 0.8 , 0.3 , 0.5 , 0.7 , 0.6 , 0.32, 0.1 , 0.4 ,\n",
              "       0.15])"
            ]
          },
          "execution_count": 56,
          "metadata": {},
          "output_type": "execute_result"
        }
      ],
      "source": [
        "df2['Discount'] = (df2['Discount'].str.replace('%',''))\n",
        "df2['Discount'] = df2['Discount'].astype('float')\n",
        "df2['Discount'].unique()"
      ]
    },
    {
      "cell_type": "code",
      "execution_count": 59,
      "metadata": {},
      "outputs": [
        {
          "data": {
            "text/plain": [
              "<BarContainer object of 4 artists>"
            ]
          },
          "execution_count": 59,
          "metadata": {},
          "output_type": "execute_result"
        },
        {
          "data": {
            "image/png": "[encoded data removed]",
            "text/plain": [
              "<Figure size 640x480 with 1 Axes>"
            ]
          },
          "metadata": {},
          "output_type": "display_data"
        }
      ],
      "source": [
        "disc = df2.groupby('Region')['Discount'].mean()\n",
        "plt.bar(x = disc.index,height=disc)"
      ]
    },
    {
      "cell_type": "code",
      "execution_count": 60,
      "metadata": {
        "id": "jH89U7Y_PPdY"
      },
      "outputs": [
        {
          "data": {
            "text/plain": [
              "Region\n",
              "Central    0.240353\n",
              "East       0.145365\n",
              "South      0.147253\n",
              "West       0.109335\n",
              "Name: Discount, dtype: float64"
            ]
          },
          "execution_count": 60,
          "metadata": {},
          "output_type": "execute_result"
        }
      ],
      "source": [
        "#Your code here\n",
        "disc"
      ]
    },
    {
      "cell_type": "code",
      "execution_count": null,
      "metadata": {},
      "outputs": [],
      "source": []
    }
  ],
  "metadata": {
    "colab": {
      "provenance": []
    },
    "kernelspec": {
      "display_name": "Python 3",
      "language": "python",
      "name": "python3"
    },
    "language_info": {
      "codemirror_mode": {
        "name": "ipython",
        "version": 3
      },
      "file_extension": ".py",
      "mimetype": "text/x-python",
      "name": "python",
      "nbconvert_exporter": "python",
      "pygments_lexer": "ipython3",
      "version": "3.11.5"
    }
  },
  "nbformat": 4,
  "nbformat_minor": 0
}
