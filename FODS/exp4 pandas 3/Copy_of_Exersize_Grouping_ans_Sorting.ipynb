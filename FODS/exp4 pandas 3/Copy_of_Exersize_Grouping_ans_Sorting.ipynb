{
  "cells": [
    {
      "cell_type": "markdown",
      "metadata": {
        "id": "x0SwfOGZ_0HV"
      },
      "source": [
        "Get data set from Kaggel winemag-data-130k-v2.csv\n",
        "33608 entries, 0 to 33607\n",
        "Data columns (total 13 columns)"
      ]
    },
    {
      "cell_type": "code",
      "execution_count": 15,
      "metadata": {
        "id": "qQSZ22S_HTWP"
      },
      "outputs": [],
      "source": [
        "import pandas as pd"
      ]
    },
    {
      "cell_type": "code",
      "execution_count": 16,
      "metadata": {},
      "outputs": [],
      "source": [
        "\n",
        "reviews = pd.read_csv(\"winemag-data-130k-v2.csv\", index_col=0)"
      ]
    },
    {
      "cell_type": "markdown",
      "metadata": {
        "id": "E7gbVGXX_RcA"
      },
      "source": [
        "# rename column region_1 as region and region_2 as locale"
      ]
    },
    {
      "cell_type": "code",
      "execution_count": 17,
      "metadata": {
        "id": "_ksvM6p9HDwo"
      },
      "outputs": [
        {
          "data": {
            "text/html": [
              "<div>\n",
              "<style scoped>\n",
              "    .dataframe tbody tr th:only-of-type {\n",
              "        vertical-align: middle;\n",
              "    }\n",
              "\n",
              "    .dataframe tbody tr th {\n",
              "        vertical-align: top;\n",
              "    }\n",
              "\n",
              "    .dataframe thead th {\n",
              "        text-align: right;\n",
              "    }\n",
              "</style>\n",
              "<table border=\"1\" class=\"dataframe\">\n",
              "  <thead>\n",
              "    <tr style=\"text-align: right;\">\n",
              "      <th></th>\n",
              "      <th>country</th>\n",
              "      <th>description</th>\n",
              "      <th>designation</th>\n",
              "      <th>points</th>\n",
              "      <th>price</th>\n",
              "      <th>province</th>\n",
              "      <th>region</th>\n",
              "      <th>locale</th>\n",
              "      <th>taster_name</th>\n",
              "      <th>taster_twitter_handle</th>\n",
              "      <th>title</th>\n",
              "      <th>variety</th>\n",
              "      <th>winery</th>\n",
              "    </tr>\n",
              "  </thead>\n",
              "  <tbody>\n",
              "    <tr>\n",
              "      <th>0</th>\n",
              "      <td>Italy</td>\n",
              "      <td>Aromas include tropical fruit, broom, brimston...</td>\n",
              "      <td>Vulkà Bianco</td>\n",
              "      <td>87</td>\n",
              "      <td>NaN</td>\n",
              "      <td>Sicily &amp; Sardinia</td>\n",
              "      <td>Etna</td>\n",
              "      <td>NaN</td>\n",
              "      <td>Kerin O’Keefe</td>\n",
              "      <td>@kerinokeefe</td>\n",
              "      <td>Nicosia 2013 Vulkà Bianco  (Etna)</td>\n",
              "      <td>White Blend</td>\n",
              "      <td>Nicosia</td>\n",
              "    </tr>\n",
              "    <tr>\n",
              "      <th>1</th>\n",
              "      <td>Portugal</td>\n",
              "      <td>This is ripe and fruity, a wine that is smooth...</td>\n",
              "      <td>Avidagos</td>\n",
              "      <td>87</td>\n",
              "      <td>15.0</td>\n",
              "      <td>Douro</td>\n",
              "      <td>NaN</td>\n",
              "      <td>NaN</td>\n",
              "      <td>Roger Voss</td>\n",
              "      <td>@vossroger</td>\n",
              "      <td>Quinta dos Avidagos 2011 Avidagos Red (Douro)</td>\n",
              "      <td>Portuguese Red</td>\n",
              "      <td>Quinta dos Avidagos</td>\n",
              "    </tr>\n",
              "    <tr>\n",
              "      <th>2</th>\n",
              "      <td>US</td>\n",
              "      <td>Tart and snappy, the flavors of lime flesh and...</td>\n",
              "      <td>NaN</td>\n",
              "      <td>87</td>\n",
              "      <td>14.0</td>\n",
              "      <td>Oregon</td>\n",
              "      <td>Willamette Valley</td>\n",
              "      <td>Willamette Valley</td>\n",
              "      <td>Paul Gregutt</td>\n",
              "      <td>@paulgwine</td>\n",
              "      <td>Rainstorm 2013 Pinot Gris (Willamette Valley)</td>\n",
              "      <td>Pinot Gris</td>\n",
              "      <td>Rainstorm</td>\n",
              "    </tr>\n",
              "    <tr>\n",
              "      <th>3</th>\n",
              "      <td>US</td>\n",
              "      <td>Pineapple rind, lemon pith and orange blossom ...</td>\n",
              "      <td>Reserve Late Harvest</td>\n",
              "      <td>87</td>\n",
              "      <td>13.0</td>\n",
              "      <td>Michigan</td>\n",
              "      <td>Lake Michigan Shore</td>\n",
              "      <td>NaN</td>\n",
              "      <td>Alexander Peartree</td>\n",
              "      <td>NaN</td>\n",
              "      <td>St. Julian 2013 Reserve Late Harvest Riesling ...</td>\n",
              "      <td>Riesling</td>\n",
              "      <td>St. Julian</td>\n",
              "    </tr>\n",
              "    <tr>\n",
              "      <th>4</th>\n",
              "      <td>US</td>\n",
              "      <td>Much like the regular bottling from 2012, this...</td>\n",
              "      <td>Vintner's Reserve Wild Child Block</td>\n",
              "      <td>87</td>\n",
              "      <td>65.0</td>\n",
              "      <td>Oregon</td>\n",
              "      <td>Willamette Valley</td>\n",
              "      <td>Willamette Valley</td>\n",
              "      <td>Paul Gregutt</td>\n",
              "      <td>@paulgwine</td>\n",
              "      <td>Sweet Cheeks 2012 Vintner's Reserve Wild Child...</td>\n",
              "      <td>Pinot Noir</td>\n",
              "      <td>Sweet Cheeks</td>\n",
              "    </tr>\n",
              "    <tr>\n",
              "      <th>...</th>\n",
              "      <td>...</td>\n",
              "      <td>...</td>\n",
              "      <td>...</td>\n",
              "      <td>...</td>\n",
              "      <td>...</td>\n",
              "      <td>...</td>\n",
              "      <td>...</td>\n",
              "      <td>...</td>\n",
              "      <td>...</td>\n",
              "      <td>...</td>\n",
              "      <td>...</td>\n",
              "      <td>...</td>\n",
              "      <td>...</td>\n",
              "    </tr>\n",
              "    <tr>\n",
              "      <th>129966</th>\n",
              "      <td>Germany</td>\n",
              "      <td>Notes of honeysuckle and cantaloupe sweeten th...</td>\n",
              "      <td>Brauneberger Juffer-Sonnenuhr Spätlese</td>\n",
              "      <td>90</td>\n",
              "      <td>28.0</td>\n",
              "      <td>Mosel</td>\n",
              "      <td>NaN</td>\n",
              "      <td>NaN</td>\n",
              "      <td>Anna Lee C. Iijima</td>\n",
              "      <td>NaN</td>\n",
              "      <td>Dr. H. Thanisch (Erben Müller-Burggraef) 2013 ...</td>\n",
              "      <td>Riesling</td>\n",
              "      <td>Dr. H. Thanisch (Erben Müller-Burggraef)</td>\n",
              "    </tr>\n",
              "    <tr>\n",
              "      <th>129967</th>\n",
              "      <td>US</td>\n",
              "      <td>Citation is given as much as a decade of bottl...</td>\n",
              "      <td>NaN</td>\n",
              "      <td>90</td>\n",
              "      <td>75.0</td>\n",
              "      <td>Oregon</td>\n",
              "      <td>Oregon</td>\n",
              "      <td>Oregon Other</td>\n",
              "      <td>Paul Gregutt</td>\n",
              "      <td>@paulgwine</td>\n",
              "      <td>Citation 2004 Pinot Noir (Oregon)</td>\n",
              "      <td>Pinot Noir</td>\n",
              "      <td>Citation</td>\n",
              "    </tr>\n",
              "    <tr>\n",
              "      <th>129968</th>\n",
              "      <td>France</td>\n",
              "      <td>Well-drained gravel soil gives this wine its c...</td>\n",
              "      <td>Kritt</td>\n",
              "      <td>90</td>\n",
              "      <td>30.0</td>\n",
              "      <td>Alsace</td>\n",
              "      <td>Alsace</td>\n",
              "      <td>NaN</td>\n",
              "      <td>Roger Voss</td>\n",
              "      <td>@vossroger</td>\n",
              "      <td>Domaine Gresser 2013 Kritt Gewurztraminer (Als...</td>\n",
              "      <td>Gewürztraminer</td>\n",
              "      <td>Domaine Gresser</td>\n",
              "    </tr>\n",
              "    <tr>\n",
              "      <th>129969</th>\n",
              "      <td>France</td>\n",
              "      <td>A dry style of Pinot Gris, this is crisp with ...</td>\n",
              "      <td>NaN</td>\n",
              "      <td>90</td>\n",
              "      <td>32.0</td>\n",
              "      <td>Alsace</td>\n",
              "      <td>Alsace</td>\n",
              "      <td>NaN</td>\n",
              "      <td>Roger Voss</td>\n",
              "      <td>@vossroger</td>\n",
              "      <td>Domaine Marcel Deiss 2012 Pinot Gris (Alsace)</td>\n",
              "      <td>Pinot Gris</td>\n",
              "      <td>Domaine Marcel Deiss</td>\n",
              "    </tr>\n",
              "    <tr>\n",
              "      <th>129970</th>\n",
              "      <td>France</td>\n",
              "      <td>Big, rich and off-dry, this is powered by inte...</td>\n",
              "      <td>Lieu-dit Harth Cuvée Caroline</td>\n",
              "      <td>90</td>\n",
              "      <td>21.0</td>\n",
              "      <td>Alsace</td>\n",
              "      <td>Alsace</td>\n",
              "      <td>NaN</td>\n",
              "      <td>Roger Voss</td>\n",
              "      <td>@vossroger</td>\n",
              "      <td>Domaine Schoffit 2012 Lieu-dit Harth Cuvée Car...</td>\n",
              "      <td>Gewürztraminer</td>\n",
              "      <td>Domaine Schoffit</td>\n",
              "    </tr>\n",
              "  </tbody>\n",
              "</table>\n",
              "<p>129971 rows × 13 columns</p>\n",
              "</div>"
            ],
            "text/plain": [
              "         country                                        description  \\\n",
              "0          Italy  Aromas include tropical fruit, broom, brimston...   \n",
              "1       Portugal  This is ripe and fruity, a wine that is smooth...   \n",
              "2             US  Tart and snappy, the flavors of lime flesh and...   \n",
              "3             US  Pineapple rind, lemon pith and orange blossom ...   \n",
              "4             US  Much like the regular bottling from 2012, this...   \n",
              "...          ...                                                ...   \n",
              "129966   Germany  Notes of honeysuckle and cantaloupe sweeten th...   \n",
              "129967        US  Citation is given as much as a decade of bottl...   \n",
              "129968    France  Well-drained gravel soil gives this wine its c...   \n",
              "129969    France  A dry style of Pinot Gris, this is crisp with ...   \n",
              "129970    France  Big, rich and off-dry, this is powered by inte...   \n",
              "\n",
              "                                   designation  points  price  \\\n",
              "0                                 Vulkà Bianco      87    NaN   \n",
              "1                                     Avidagos      87   15.0   \n",
              "2                                          NaN      87   14.0   \n",
              "3                         Reserve Late Harvest      87   13.0   \n",
              "4           Vintner's Reserve Wild Child Block      87   65.0   \n",
              "...                                        ...     ...    ...   \n",
              "129966  Brauneberger Juffer-Sonnenuhr Spätlese      90   28.0   \n",
              "129967                                     NaN      90   75.0   \n",
              "129968                                   Kritt      90   30.0   \n",
              "129969                                     NaN      90   32.0   \n",
              "129970           Lieu-dit Harth Cuvée Caroline      90   21.0   \n",
              "\n",
              "                 province               region             locale  \\\n",
              "0       Sicily & Sardinia                 Etna                NaN   \n",
              "1                   Douro                  NaN                NaN   \n",
              "2                  Oregon    Willamette Valley  Willamette Valley   \n",
              "3                Michigan  Lake Michigan Shore                NaN   \n",
              "4                  Oregon    Willamette Valley  Willamette Valley   \n",
              "...                   ...                  ...                ...   \n",
              "129966              Mosel                  NaN                NaN   \n",
              "129967             Oregon               Oregon       Oregon Other   \n",
              "129968             Alsace               Alsace                NaN   \n",
              "129969             Alsace               Alsace                NaN   \n",
              "129970             Alsace               Alsace                NaN   \n",
              "\n",
              "               taster_name taster_twitter_handle  \\\n",
              "0            Kerin O’Keefe          @kerinokeefe   \n",
              "1               Roger Voss            @vossroger   \n",
              "2             Paul Gregutt           @paulgwine    \n",
              "3       Alexander Peartree                   NaN   \n",
              "4             Paul Gregutt           @paulgwine    \n",
              "...                    ...                   ...   \n",
              "129966  Anna Lee C. Iijima                   NaN   \n",
              "129967        Paul Gregutt           @paulgwine    \n",
              "129968          Roger Voss            @vossroger   \n",
              "129969          Roger Voss            @vossroger   \n",
              "129970          Roger Voss            @vossroger   \n",
              "\n",
              "                                                    title         variety  \\\n",
              "0                       Nicosia 2013 Vulkà Bianco  (Etna)     White Blend   \n",
              "1           Quinta dos Avidagos 2011 Avidagos Red (Douro)  Portuguese Red   \n",
              "2           Rainstorm 2013 Pinot Gris (Willamette Valley)      Pinot Gris   \n",
              "3       St. Julian 2013 Reserve Late Harvest Riesling ...        Riesling   \n",
              "4       Sweet Cheeks 2012 Vintner's Reserve Wild Child...      Pinot Noir   \n",
              "...                                                   ...             ...   \n",
              "129966  Dr. H. Thanisch (Erben Müller-Burggraef) 2013 ...        Riesling   \n",
              "129967                  Citation 2004 Pinot Noir (Oregon)      Pinot Noir   \n",
              "129968  Domaine Gresser 2013 Kritt Gewurztraminer (Als...  Gewürztraminer   \n",
              "129969      Domaine Marcel Deiss 2012 Pinot Gris (Alsace)      Pinot Gris   \n",
              "129970  Domaine Schoffit 2012 Lieu-dit Harth Cuvée Car...  Gewürztraminer   \n",
              "\n",
              "                                          winery  \n",
              "0                                        Nicosia  \n",
              "1                            Quinta dos Avidagos  \n",
              "2                                      Rainstorm  \n",
              "3                                     St. Julian  \n",
              "4                                   Sweet Cheeks  \n",
              "...                                          ...  \n",
              "129966  Dr. H. Thanisch (Erben Müller-Burggraef)  \n",
              "129967                                  Citation  \n",
              "129968                           Domaine Gresser  \n",
              "129969                      Domaine Marcel Deiss  \n",
              "129970                          Domaine Schoffit  \n",
              "\n",
              "[129971 rows x 13 columns]"
            ]
          },
          "execution_count": 17,
          "metadata": {},
          "output_type": "execute_result"
        }
      ],
      "source": [
        "reviews.rename(columns = {'region_1':'region','region_2':'locale'})\n"
      ]
    },
    {
      "cell_type": "markdown",
      "metadata": {
        "id": "jNH_zJvs_gEc"
      },
      "source": [
        "get info of dataframe"
      ]
    },
    {
      "cell_type": "code",
      "execution_count": 18,
      "metadata": {
        "id": "RjCNA_V0_lQp"
      },
      "outputs": [
        {
          "name": "stdout",
          "output_type": "stream",
          "text": [
            "<class 'pandas.core.frame.DataFrame'>\n",
            "Index: 129971 entries, 0 to 129970\n",
            "Data columns (total 13 columns):\n",
            " #   Column                 Non-Null Count   Dtype  \n",
            "---  ------                 --------------   -----  \n",
            " 0   country                129908 non-null  object \n",
            " 1   description            129971 non-null  object \n",
            " 2   designation            92506 non-null   object \n",
            " 3   points                 129971 non-null  int64  \n",
            " 4   price                  120975 non-null  float64\n",
            " 5   province               129908 non-null  object \n",
            " 6   region_1               108724 non-null  object \n",
            " 7   region_2               50511 non-null   object \n",
            " 8   taster_name            103727 non-null  object \n",
            " 9   taster_twitter_handle  98758 non-null   object \n",
            " 10  title                  129971 non-null  object \n",
            " 11  variety                129970 non-null  object \n",
            " 12  winery                 129971 non-null  object \n",
            "dtypes: float64(1), int64(1), object(11)\n",
            "memory usage: 13.9+ MB\n"
          ]
        }
      ],
      "source": [
        "reviews.info()"
      ]
    },
    {
      "cell_type": "markdown",
      "metadata": {
        "id": "IjOBLuTsQIO5"
      },
      "source": [
        "Create a variable df containing the country, province, region_1, and region_2 columns of the records with the index labels 0, 1, 10, and 100"
      ]
    },
    {
      "cell_type": "code",
      "execution_count": 31,
      "metadata": {
        "colab": {
          "base_uri": "https://localhost:8080/",
          "height": 174
        },
        "id": "rl-aCnaQQCmA",
        "outputId": "221a4833-ed01-458b-e292-e0c644bac44b"
      },
      "outputs": [
        {
          "data": {
            "text/html": [
              "<div>\n",
              "<style scoped>\n",
              "    .dataframe tbody tr th:only-of-type {\n",
              "        vertical-align: middle;\n",
              "    }\n",
              "\n",
              "    .dataframe tbody tr th {\n",
              "        vertical-align: top;\n",
              "    }\n",
              "\n",
              "    .dataframe thead th {\n",
              "        text-align: right;\n",
              "    }\n",
              "</style>\n",
              "<table border=\"1\" class=\"dataframe\">\n",
              "  <thead>\n",
              "    <tr style=\"text-align: right;\">\n",
              "      <th></th>\n",
              "      <th>country</th>\n",
              "      <th>province</th>\n",
              "      <th>region_1</th>\n",
              "      <th>region_2</th>\n",
              "    </tr>\n",
              "  </thead>\n",
              "  <tbody>\n",
              "    <tr>\n",
              "      <th>0</th>\n",
              "      <td>Italy</td>\n",
              "      <td>Sicily &amp; Sardinia</td>\n",
              "      <td>Etna</td>\n",
              "      <td>NaN</td>\n",
              "    </tr>\n",
              "    <tr>\n",
              "      <th>1</th>\n",
              "      <td>Portugal</td>\n",
              "      <td>Douro</td>\n",
              "      <td>NaN</td>\n",
              "      <td>NaN</td>\n",
              "    </tr>\n",
              "    <tr>\n",
              "      <th>10</th>\n",
              "      <td>US</td>\n",
              "      <td>Oregon</td>\n",
              "      <td>Willamette Valley</td>\n",
              "      <td>Willamette Valley</td>\n",
              "    </tr>\n",
              "    <tr>\n",
              "      <th>100</th>\n",
              "      <td>US</td>\n",
              "      <td>Michigan</td>\n",
              "      <td>Lake Michigan Shore</td>\n",
              "      <td>NaN</td>\n",
              "    </tr>\n",
              "  </tbody>\n",
              "</table>\n",
              "</div>"
            ],
            "text/plain": [
              "      country           province             region_1           region_2\n",
              "0       Italy  Sicily & Sardinia                 Etna                NaN\n",
              "1    Portugal              Douro                  NaN                NaN\n",
              "10         US             Oregon    Willamette Valley  Willamette Valley\n",
              "100        US           Michigan  Lake Michigan Shore                NaN"
            ]
          },
          "execution_count": 31,
          "metadata": {},
          "output_type": "execute_result"
        }
      ],
      "source": [
        "df = reviews[['country','province','region_1','region_2']].iloc[:4,:]\n",
        "df.rename(index = {1:1,2:10,3:100})"
      ]
    },
    {
      "cell_type": "markdown",
      "metadata": {
        "id": "Tz-hQoTxRQ2t"
      },
      "source": [
        "\n",
        "What countries are represented in the review dataset? (Your answer should not include any duplicates.)"
      ]
    },
    {
      "cell_type": "code",
      "execution_count": 32,
      "metadata": {
        "id": "-Qi7cz8hRPpl"
      },
      "outputs": [
        {
          "data": {
            "text/plain": [
              "array(['Italy', 'Portugal', 'US', 'Spain', 'France', 'Germany',\n",
              "       'Argentina', 'Chile', 'Australia', 'Austria', 'South Africa',\n",
              "       'New Zealand', 'Israel', 'Hungary', 'Greece', 'Romania', 'Mexico',\n",
              "       'Canada', nan, 'Turkey', 'Czech Republic', 'Slovenia',\n",
              "       'Luxembourg', 'Croatia', 'Georgia', 'Uruguay', 'England',\n",
              "       'Lebanon', 'Serbia', 'Brazil', 'Moldova', 'Morocco', 'Peru',\n",
              "       'India', 'Bulgaria', 'Cyprus', 'Armenia', 'Switzerland',\n",
              "       'Bosnia and Herzegovina', 'Ukraine', 'Slovakia', 'Macedonia',\n",
              "       'China', 'Egypt'], dtype=object)"
            ]
          },
          "execution_count": 32,
          "metadata": {},
          "output_type": "execute_result"
        }
      ],
      "source": [
        "reviews['country'].unique()"
      ]
    },
    {
      "cell_type": "markdown",
      "metadata": {
        "id": "fCm9Xdy6RYrC"
      },
      "source": [
        "How often does each country appear in the dataset? Create a Series reviews_per_country mapping countries to the count of reviews of medicines from that country."
      ]
    },
    {
      "cell_type": "code",
      "execution_count": 38,
      "metadata": {
        "id": "QTwYJnMuRZWh"
      },
      "outputs": [
        {
          "data": {
            "text/plain": [
              "country\n",
              "US                        54504\n",
              "France                    22093\n",
              "Italy                     19540\n",
              "Spain                      6645\n",
              "Portugal                   5691\n",
              "Chile                      4472\n",
              "Argentina                  3800\n",
              "Austria                    3345\n",
              "Australia                  2329\n",
              "Germany                    2165\n",
              "New Zealand                1419\n",
              "South Africa               1401\n",
              "Israel                      505\n",
              "Greece                      466\n",
              "Canada                      257\n",
              "Hungary                     146\n",
              "Bulgaria                    141\n",
              "Romania                     120\n",
              "Uruguay                     109\n",
              "Turkey                       90\n",
              "Slovenia                     87\n",
              "Georgia                      86\n",
              "England                      74\n",
              "Croatia                      73\n",
              "Mexico                       70\n",
              "Moldova                      59\n",
              "Brazil                       52\n",
              "Lebanon                      35\n",
              "Morocco                      28\n",
              "Peru                         16\n",
              "Ukraine                      14\n",
              "Serbia                       12\n",
              "Czech Republic               12\n",
              "Macedonia                    12\n",
              "Cyprus                       11\n",
              "India                         9\n",
              "Switzerland                   7\n",
              "Luxembourg                    6\n",
              "Bosnia and Herzegovina        2\n",
              "Armenia                       2\n",
              "Slovakia                      1\n",
              "China                         1\n",
              "Egypt                         1\n",
              "Name: count, dtype: int64"
            ]
          },
          "execution_count": 38,
          "metadata": {},
          "output_type": "execute_result"
        }
      ],
      "source": [
        "reviews_per_country = pd.Series(reviews['country'].value_counts())\n",
        "reviews_per_country"
      ]
    },
    {
      "cell_type": "markdown",
      "metadata": {
        "id": "vx0sjE8JR417"
      },
      "source": [
        "Create variable centered_price containing a version of the price column with the mean price subtracted.\n",
        "\n",
        "(Note: this 'centering' transformation is a common preprocessing step before applying various machine learning algorithms.)"
      ]
    },
    {
      "cell_type": "code",
      "execution_count": 39,
      "metadata": {
        "id": "kT2VvWf9R2uc"
      },
      "outputs": [
        {
          "data": {
            "text/plain": [
              "0               NaN\n",
              "1        -20.363389\n",
              "2        -21.363389\n",
              "3        -22.363389\n",
              "4         29.636611\n",
              "            ...    \n",
              "129966    -7.363389\n",
              "129967    39.636611\n",
              "129968    -5.363389\n",
              "129969    -3.363389\n",
              "129970   -14.363389\n",
              "Name: price, Length: 129971, dtype: float64"
            ]
          },
          "execution_count": 39,
          "metadata": {},
          "output_type": "execute_result"
        }
      ],
      "source": [
        "centered_price = reviews['price'] - reviews['price'].mean()\n",
        "centered_price"
      ]
    },
    {
      "cell_type": "markdown",
      "metadata": {
        "id": "2HW7kB58SMfX"
      },
      "source": [
        "I'm an economical medicine buyer. Which medicine is the \"best bargain\"? Create a variable bargain_medicine with the title of the medicine with the highest points-to-price ratio in the dataset."
      ]
    },
    {
      "cell_type": "code",
      "execution_count": 44,
      "metadata": {
        "id": "14hyZJK_SRn3"
      },
      "outputs": [
        {
          "data": {
            "text/html": [
              "<div>\n",
              "<style scoped>\n",
              "    .dataframe tbody tr th:only-of-type {\n",
              "        vertical-align: middle;\n",
              "    }\n",
              "\n",
              "    .dataframe tbody tr th {\n",
              "        vertical-align: top;\n",
              "    }\n",
              "\n",
              "    .dataframe thead th {\n",
              "        text-align: right;\n",
              "    }\n",
              "</style>\n",
              "<table border=\"1\" class=\"dataframe\">\n",
              "  <thead>\n",
              "    <tr style=\"text-align: right;\">\n",
              "      <th></th>\n",
              "      <th>Title</th>\n",
              "      <th>ratio</th>\n",
              "    </tr>\n",
              "  </thead>\n",
              "  <tbody>\n",
              "    <tr>\n",
              "      <th>64590</th>\n",
              "      <td>Bandit NV Merlot (California)</td>\n",
              "      <td>21.50</td>\n",
              "    </tr>\n",
              "    <tr>\n",
              "      <th>126096</th>\n",
              "      <td>Cramele Recas 2011 UnWineD Pinot Grigio (Viile...</td>\n",
              "      <td>21.50</td>\n",
              "    </tr>\n",
              "    <tr>\n",
              "      <th>20484</th>\n",
              "      <td>Dancing Coyote 2015 White (Clarksburg)</td>\n",
              "      <td>21.25</td>\n",
              "    </tr>\n",
              "    <tr>\n",
              "      <th>1987</th>\n",
              "      <td>Felix Solis 2013 Flirty Bird Syrah (Vino de la...</td>\n",
              "      <td>21.25</td>\n",
              "    </tr>\n",
              "    <tr>\n",
              "      <th>110255</th>\n",
              "      <td>Bandit NV Merlot (California)</td>\n",
              "      <td>21.00</td>\n",
              "    </tr>\n",
              "    <tr>\n",
              "      <th>...</th>\n",
              "      <td>...</td>\n",
              "      <td>...</td>\n",
              "    </tr>\n",
              "    <tr>\n",
              "      <th>129844</th>\n",
              "      <td>Caparzo 2006 Doga delle Clavule  (Morellino di...</td>\n",
              "      <td>NaN</td>\n",
              "    </tr>\n",
              "    <tr>\n",
              "      <th>129860</th>\n",
              "      <td>Quinta da Pacheca 2013 Pacheca Superior Red (D...</td>\n",
              "      <td>NaN</td>\n",
              "    </tr>\n",
              "    <tr>\n",
              "      <th>129863</th>\n",
              "      <td>Seacampo 2011 Reserva Red (Dão)</td>\n",
              "      <td>NaN</td>\n",
              "    </tr>\n",
              "    <tr>\n",
              "      <th>129893</th>\n",
              "      <td>Le Mandolare 2015 Corte Menini  (Soave Classico)</td>\n",
              "      <td>NaN</td>\n",
              "    </tr>\n",
              "    <tr>\n",
              "      <th>129964</th>\n",
              "      <td>Domaine Ehrhart 2013 Domaine Saint-Rémy Herren...</td>\n",
              "      <td>NaN</td>\n",
              "    </tr>\n",
              "  </tbody>\n",
              "</table>\n",
              "<p>129971 rows × 2 columns</p>\n",
              "</div>"
            ],
            "text/plain": [
              "                                                    Title  ratio\n",
              "64590                       Bandit NV Merlot (California)  21.50\n",
              "126096  Cramele Recas 2011 UnWineD Pinot Grigio (Viile...  21.50\n",
              "20484              Dancing Coyote 2015 White (Clarksburg)  21.25\n",
              "1987    Felix Solis 2013 Flirty Bird Syrah (Vino de la...  21.25\n",
              "110255                      Bandit NV Merlot (California)  21.00\n",
              "...                                                   ...    ...\n",
              "129844  Caparzo 2006 Doga delle Clavule  (Morellino di...    NaN\n",
              "129860  Quinta da Pacheca 2013 Pacheca Superior Red (D...    NaN\n",
              "129863                    Seacampo 2011 Reserva Red (Dão)    NaN\n",
              "129893   Le Mandolare 2015 Corte Menini  (Soave Classico)    NaN\n",
              "129964  Domaine Ehrhart 2013 Domaine Saint-Rémy Herren...    NaN\n",
              "\n",
              "[129971 rows x 2 columns]"
            ]
          },
          "execution_count": 44,
          "metadata": {},
          "output_type": "execute_result"
        }
      ],
      "source": [
        "bargain_medicine = pd.DataFrame({'Title':reviews['title'],'ratio':(reviews['points']/reviews['price'])})\n",
        "bargain_medicine.sort_values(by='ratio',ascending=False)"
      ]
    },
    {
      "cell_type": "markdown",
      "metadata": {
        "id": "yEs9FyO3SU6Q"
      },
      "source": [
        "There are only so many words you can use when describing a bottle of medicine. Is a medicine more likely to be \"tropical\" or \"fruity\"? Create a Series descriptor_counts counting how many times each of these two words appears in the description column in the dataset. (For simplicity, let's ignore the capitalized versions of"
      ]
    },
    {
      "cell_type": "code",
      "execution_count": 47,
      "metadata": {
        "id": "9afmjI8pSVrD"
      },
      "outputs": [
        {
          "data": {
            "text/plain": [
              "Tropical    3607\n",
              "Fruity      8880\n",
              "dtype: int64"
            ]
          },
          "execution_count": 47,
          "metadata": {},
          "output_type": "execute_result"
        }
      ],
      "source": [
        "tropical = 0\n",
        "fruity = 0\n",
        "for sent in reviews['description']:\n",
        "    if(\"tropical\") in sent:\n",
        "        tropical = tropical+1\n",
        "    elif(\"fruity\") in sent:\n",
        "        fruity = fruity+1\n",
        "descriptor_counts = pd.Series({'Tropical':tropical,'Fruity':fruity})\n",
        "descriptor_counts"
      ]
    },
    {
      "cell_type": "markdown",
      "metadata": {
        "id": "kf_vSK-FSiXb"
      },
      "source": [
        "We'd like to host these medicine reviews on our website, but a rating system ranging from 80 to 100 points is too hard to understand - we'd like to translate them into simple star ratings. A score of 95 or higher counts as 3 stars, a score of at least 85 but less than 95 is 2 stars. Any other score is 1 star.\n",
        "\n",
        "Also, the Canadian Vintners Association bought a lot of ads on the site, so any medicines from Canada should automatically get 3 stars, regardless of points.\n",
        "\n",
        "Create a series star_ratings with the number of stars corresponding to each review in the dataset."
      ]
    },
    {
      "cell_type": "code",
      "execution_count": 65,
      "metadata": {
        "id": "-6xED929SjH4"
      },
      "outputs": [
        {
          "name": "stderr",
          "output_type": "stream",
          "text": [
            "C:\\Users\\Rommel\\AppData\\Local\\Temp\\ipykernel_13564\\19921504.py:3: SettingWithCopyWarning: \n",
            "A value is trying to be set on a copy of a slice from a DataFrame.\n",
            "Try using .loc[row_indexer,col_indexer] = value instead\n",
            "\n",
            "See the caveats in the documentation: https://pandas.pydata.org/pandas-docs/stable/user_guide/indexing.html#returning-a-view-versus-a-copy\n",
            "  canada.loc[:,'star_rating'] = '3 star'\n"
          ]
        },
        {
          "data": {
            "text/plain": [
              "0         2 star\n",
              "1         2 star\n",
              "2         2 star\n",
              "3         2 star\n",
              "4         2 star\n",
              "           ...  \n",
              "129966    2 star\n",
              "129967    2 star\n",
              "129968    2 star\n",
              "129969    2 star\n",
              "129970    2 star\n",
              "Name: star rating, Length: 129971, dtype: category\n",
              "Categories (3, object): ['1 star' < '2 star' < '3 star']"
            ]
          },
          "execution_count": 65,
          "metadata": {},
          "output_type": "execute_result"
        }
      ],
      "source": [
        "reviews['star rating'] = pd.cut(x=reviews['points'],bins=[0,85,94,100],labels=['1 star','2 star','3 star',])\n",
        "canada = reviews[reviews['country'] =='Canada']\n",
        "canada.loc[:,'star_rating'] = '3 star'\n",
        "star_rating = pd.Series(reviews['star rating'])\n",
        "star_rating"
      ]
    },
    {
      "cell_type": "markdown",
      "metadata": {
        "id": "iBBFGpfuOB3C"
      },
      "source": [
        "1.\n",
        "What is the data type of the points column in the dataset?"
      ]
    },
    {
      "cell_type": "code",
      "execution_count": 67,
      "metadata": {
        "colab": {
          "base_uri": "https://localhost:8080/"
        },
        "id": "S-6BBUrCOFpI",
        "outputId": "c1be233c-bffa-4041-c31c-7fc061b6af7b"
      },
      "outputs": [
        {
          "data": {
            "text/plain": [
              "dtype('int64')"
            ]
          },
          "execution_count": 67,
          "metadata": {},
          "output_type": "execute_result"
        }
      ],
      "source": [
        "reviews['points'].dtype"
      ]
    },
    {
      "cell_type": "markdown",
      "metadata": {
        "id": "-qw0BM3eOkFj"
      },
      "source": [
        "3.\n",
        "Sometimes the price column is null. How many reviews in the dataset are missing a price?"
      ]
    },
    {
      "cell_type": "code",
      "execution_count": 68,
      "metadata": {
        "id": "gNMTH0vGOlSK"
      },
      "outputs": [
        {
          "data": {
            "text/plain": [
              "8996"
            ]
          },
          "execution_count": 68,
          "metadata": {},
          "output_type": "execute_result"
        }
      ],
      "source": [
        "reviews['price'].isna().sum()"
      ]
    },
    {
      "cell_type": "markdown",
      "metadata": {
        "id": "GzWK3C5gO4AE"
      },
      "source": [
        "4.\n",
        "What are the most common medicine-producing regions? Create a Series counting the number of times each value occurs in the region_1 field. This field is often missing data, so replace missing values with Unknown. Sort in descending order. Your output should look something like this:\n",
        "\n",
        "Unknown                    21247\n",
        "\n",
        "Napa Valley                 4480\n",
        "\n",
        "                           ...  \n",
        "Bardolino Superiore            1\n",
        "\n",
        "Primitivo del Tarantino        1\n",
        "\n",
        "Name: region_1, Length: 1230, dtype: int64"
      ]
    },
    {
      "cell_type": "code",
      "execution_count": 69,
      "metadata": {
        "id": "9FeCfhDtO3D4"
      },
      "outputs": [
        {
          "data": {
            "text/plain": [
              "region_1\n",
              "Unknown                    21247\n",
              "Napa Valley                 4480\n",
              "Columbia Valley (WA)        4124\n",
              "Russian River Valley        3091\n",
              "California                  2629\n",
              "                           ...  \n",
              "Lamezia                        1\n",
              "Trentino Superiore             1\n",
              "Grave del Friuli               1\n",
              "Vin Santo di Carmignano        1\n",
              "Paestum                        1\n",
              "Name: count, Length: 1230, dtype: int64"
            ]
          },
          "execution_count": 69,
          "metadata": {},
          "output_type": "execute_result"
        }
      ],
      "source": [
        "reviews['region_1'].fillna('Unknown',inplace=True)\n",
        "reviews['region_1'].value_counts()"
      ]
    },
    {
      "cell_type": "markdown",
      "metadata": {
        "id": "Kg87T0eKPHkg"
      },
      "source": []
    },
    {
      "cell_type": "markdown",
      "metadata": {
        "id": "r57SBQlDOc5I"
      },
      "source": [
        "2.\n",
        "Create a Series from entries in the points column, but convert the entries to strings. Hint: strings are str in native Python."
      ]
    },
    {
      "cell_type": "code",
      "execution_count": 71,
      "metadata": {
        "id": "TL0z55FuOXcE"
      },
      "outputs": [
        {
          "data": {
            "text/plain": [
              "0         87\n",
              "1         87\n",
              "2         87\n",
              "3         87\n",
              "4         87\n",
              "          ..\n",
              "129966    90\n",
              "129967    90\n",
              "129968    90\n",
              "129969    90\n",
              "129970    90\n",
              "Name: points, Length: 129971, dtype: object"
            ]
          },
          "execution_count": 71,
          "metadata": {},
          "output_type": "execute_result"
        }
      ],
      "source": [
        "str_points = pd.Series(reviews['points'].astype('str'))\n",
        "str_points"
      ]
    },
    {
      "cell_type": "markdown",
      "metadata": {
        "id": "NhSi8EveISjt"
      },
      "source": [
        "Who are the most common medicine reviewers in the dataset? Create a Series whose index is the taster_twitter_handle category from the dataset, and whose values count how many reviews each person wrote."
      ]
    },
    {
      "cell_type": "code",
      "execution_count": 72,
      "metadata": {
        "id": "l2xdiRJGHrMq"
      },
      "outputs": [
        {
          "data": {
            "text/plain": [
              "taster_twitter_handle\n",
              "@vossroger          25514\n",
              "@wineschach         15134\n",
              "@kerinokeefe        10776\n",
              "@vboone              9537\n",
              "@paulgwine           9532\n",
              "@mattkettmann        6332\n",
              "@JoeCz               5147\n",
              "@wawinereport        4966\n",
              "@gordone_cellars     4177\n",
              "@AnneInVino          3685\n",
              "@laurbuzz            1835\n",
              "@suskostrzewa        1085\n",
              "@worldwineguys       1005\n",
              "@bkfiona               27\n",
              "@winewchristina         6\n",
              "Name: count, dtype: int64"
            ]
          },
          "execution_count": 72,
          "metadata": {},
          "output_type": "execute_result"
        }
      ],
      "source": [
        "taster = pd.Series(reviews['taster_twitter_handle'].value_counts())\n",
        "taster"
      ]
    },
    {
      "cell_type": "markdown",
      "metadata": {
        "id": "AceD_cRCIsdA"
      },
      "source": [
        "2.\n",
        "What is the best medicine I can buy for a given amount of money? Create a Series whose index is medicine prices and whose values is the maximum number of points a medicine costing that much was given in a review. Sort the values by price, ascending (so that 4.0 dollars is at the top and 3300.0 dollars is at the bottom)."
      ]
    },
    {
      "cell_type": "code",
      "execution_count": 77,
      "metadata": {
        "id": "lhpH2QFPItcq"
      },
      "outputs": [
        {
          "data": {
            "text/plain": [
              "price\n",
              "4.0       86\n",
              "5.0       87\n",
              "6.0       88\n",
              "7.0       91\n",
              "8.0       91\n",
              "          ..\n",
              "1900.0    98\n",
              "2000.0    97\n",
              "2013.0    91\n",
              "2500.0    96\n",
              "3300.0    88\n",
              "Name: points, Length: 390, dtype: int64"
            ]
          },
          "execution_count": 77,
          "metadata": {},
          "output_type": "execute_result"
        }
      ],
      "source": [
        "best_rating_price = reviews.groupby('price')['points'].max().sort_index()\n",
        "rating_price = pd.Series(best_rating_price)\n",
        "rating_price"
      ]
    },
    {
      "cell_type": "markdown",
      "metadata": {
        "id": "tuHfJsFKJEvY"
      },
      "source": [
        "What are the minimum and maximum prices for each variety of medicine? Create a DataFrame whose index is the variety category from the dataset and whose values are the min and max values thereof."
      ]
    },
    {
      "cell_type": "code",
      "execution_count": 80,
      "metadata": {
        "id": "HkJe3zIyJAdF"
      },
      "outputs": [
        {
          "data": {
            "text/html": [
              "<div>\n",
              "<style scoped>\n",
              "    .dataframe tbody tr th:only-of-type {\n",
              "        vertical-align: middle;\n",
              "    }\n",
              "\n",
              "    .dataframe tbody tr th {\n",
              "        vertical-align: top;\n",
              "    }\n",
              "\n",
              "    .dataframe thead th {\n",
              "        text-align: right;\n",
              "    }\n",
              "</style>\n",
              "<table border=\"1\" class=\"dataframe\">\n",
              "  <thead>\n",
              "    <tr style=\"text-align: right;\">\n",
              "      <th></th>\n",
              "      <th>min</th>\n",
              "      <th>max</th>\n",
              "    </tr>\n",
              "    <tr>\n",
              "      <th>variety</th>\n",
              "      <th></th>\n",
              "      <th></th>\n",
              "    </tr>\n",
              "  </thead>\n",
              "  <tbody>\n",
              "    <tr>\n",
              "      <th>Abouriou</th>\n",
              "      <td>15.0</td>\n",
              "      <td>75.0</td>\n",
              "    </tr>\n",
              "    <tr>\n",
              "      <th>Agiorgitiko</th>\n",
              "      <td>10.0</td>\n",
              "      <td>66.0</td>\n",
              "    </tr>\n",
              "    <tr>\n",
              "      <th>Aglianico</th>\n",
              "      <td>6.0</td>\n",
              "      <td>180.0</td>\n",
              "    </tr>\n",
              "    <tr>\n",
              "      <th>Aidani</th>\n",
              "      <td>27.0</td>\n",
              "      <td>27.0</td>\n",
              "    </tr>\n",
              "    <tr>\n",
              "      <th>Airen</th>\n",
              "      <td>8.0</td>\n",
              "      <td>10.0</td>\n",
              "    </tr>\n",
              "    <tr>\n",
              "      <th>...</th>\n",
              "      <td>...</td>\n",
              "      <td>...</td>\n",
              "    </tr>\n",
              "    <tr>\n",
              "      <th>Zinfandel</th>\n",
              "      <td>5.0</td>\n",
              "      <td>100.0</td>\n",
              "    </tr>\n",
              "    <tr>\n",
              "      <th>Zlahtina</th>\n",
              "      <td>13.0</td>\n",
              "      <td>16.0</td>\n",
              "    </tr>\n",
              "    <tr>\n",
              "      <th>Zweigelt</th>\n",
              "      <td>9.0</td>\n",
              "      <td>70.0</td>\n",
              "    </tr>\n",
              "    <tr>\n",
              "      <th>Çalkarası</th>\n",
              "      <td>19.0</td>\n",
              "      <td>19.0</td>\n",
              "    </tr>\n",
              "    <tr>\n",
              "      <th>Žilavka</th>\n",
              "      <td>15.0</td>\n",
              "      <td>15.0</td>\n",
              "    </tr>\n",
              "  </tbody>\n",
              "</table>\n",
              "<p>707 rows × 2 columns</p>\n",
              "</div>"
            ],
            "text/plain": [
              "              min    max\n",
              "variety                 \n",
              "Abouriou     15.0   75.0\n",
              "Agiorgitiko  10.0   66.0\n",
              "Aglianico     6.0  180.0\n",
              "Aidani       27.0   27.0\n",
              "Airen         8.0   10.0\n",
              "...           ...    ...\n",
              "Zinfandel     5.0  100.0\n",
              "Zlahtina     13.0   16.0\n",
              "Zweigelt      9.0   70.0\n",
              "Çalkarası    19.0   19.0\n",
              "Žilavka      15.0   15.0\n",
              "\n",
              "[707 rows x 2 columns]"
            ]
          },
          "execution_count": 80,
          "metadata": {},
          "output_type": "execute_result"
        }
      ],
      "source": [
        "min_max = reviews.groupby('variety')['price'].agg(['min','max'])\n",
        "min_max"
      ]
    },
    {
      "cell_type": "markdown",
      "metadata": {
        "id": "AX26q3YZJfQV"
      },
      "source": [
        "4. What are the most expensive medicine varieties? Create a variable sorted_varieties containing a copy of the dataframe from the previous question where varieties are sorted in descending order based on minimum price, then on maximum price (to break ties)."
      ]
    },
    {
      "cell_type": "code",
      "execution_count": 82,
      "metadata": {
        "id": "RgNPV4QOJgxG"
      },
      "outputs": [
        {
          "data": {
            "text/html": [
              "<div>\n",
              "<style scoped>\n",
              "    .dataframe tbody tr th:only-of-type {\n",
              "        vertical-align: middle;\n",
              "    }\n",
              "\n",
              "    .dataframe tbody tr th {\n",
              "        vertical-align: top;\n",
              "    }\n",
              "\n",
              "    .dataframe thead th {\n",
              "        text-align: right;\n",
              "    }\n",
              "</style>\n",
              "<table border=\"1\" class=\"dataframe\">\n",
              "  <thead>\n",
              "    <tr style=\"text-align: right;\">\n",
              "      <th></th>\n",
              "      <th>min</th>\n",
              "      <th>max</th>\n",
              "    </tr>\n",
              "    <tr>\n",
              "      <th>variety</th>\n",
              "      <th></th>\n",
              "      <th></th>\n",
              "    </tr>\n",
              "  </thead>\n",
              "  <tbody>\n",
              "    <tr>\n",
              "      <th>Ramisco</th>\n",
              "      <td>495.0</td>\n",
              "      <td>495.0</td>\n",
              "    </tr>\n",
              "    <tr>\n",
              "      <th>Terrantez</th>\n",
              "      <td>236.0</td>\n",
              "      <td>236.0</td>\n",
              "    </tr>\n",
              "    <tr>\n",
              "      <th>Francisa</th>\n",
              "      <td>160.0</td>\n",
              "      <td>160.0</td>\n",
              "    </tr>\n",
              "    <tr>\n",
              "      <th>Rosenmuskateller</th>\n",
              "      <td>150.0</td>\n",
              "      <td>150.0</td>\n",
              "    </tr>\n",
              "    <tr>\n",
              "      <th>Tinta Negra Mole</th>\n",
              "      <td>112.0</td>\n",
              "      <td>112.0</td>\n",
              "    </tr>\n",
              "    <tr>\n",
              "      <th>...</th>\n",
              "      <td>...</td>\n",
              "      <td>...</td>\n",
              "    </tr>\n",
              "    <tr>\n",
              "      <th>Roscetto</th>\n",
              "      <td>NaN</td>\n",
              "      <td>NaN</td>\n",
              "    </tr>\n",
              "    <tr>\n",
              "      <th>Sauvignon Blanc-Sauvignon Gris</th>\n",
              "      <td>NaN</td>\n",
              "      <td>NaN</td>\n",
              "    </tr>\n",
              "    <tr>\n",
              "      <th>Tempranillo-Malbec</th>\n",
              "      <td>NaN</td>\n",
              "      <td>NaN</td>\n",
              "    </tr>\n",
              "    <tr>\n",
              "      <th>Vital</th>\n",
              "      <td>NaN</td>\n",
              "      <td>NaN</td>\n",
              "    </tr>\n",
              "    <tr>\n",
              "      <th>Zelen</th>\n",
              "      <td>NaN</td>\n",
              "      <td>NaN</td>\n",
              "    </tr>\n",
              "  </tbody>\n",
              "</table>\n",
              "<p>707 rows × 2 columns</p>\n",
              "</div>"
            ],
            "text/plain": [
              "                                  min    max\n",
              "variety                                     \n",
              "Ramisco                         495.0  495.0\n",
              "Terrantez                       236.0  236.0\n",
              "Francisa                        160.0  160.0\n",
              "Rosenmuskateller                150.0  150.0\n",
              "Tinta Negra Mole                112.0  112.0\n",
              "...                               ...    ...\n",
              "Roscetto                          NaN    NaN\n",
              "Sauvignon Blanc-Sauvignon Gris    NaN    NaN\n",
              "Tempranillo-Malbec                NaN    NaN\n",
              "Vital                             NaN    NaN\n",
              "Zelen                             NaN    NaN\n",
              "\n",
              "[707 rows x 2 columns]"
            ]
          },
          "execution_count": 82,
          "metadata": {},
          "output_type": "execute_result"
        }
      ],
      "source": [
        "min_max_copy = min_max.copy()\n",
        "min_max_copy.sort_values(by=['min','max'],ascending=False)"
      ]
    },
    {
      "cell_type": "markdown",
      "metadata": {
        "id": "szCpMobtJ2EV"
      },
      "source": [
        "5.\n",
        "Create a Series whose index is reviewers and whose values is the average review score given out by that reviewer. Hint: you will need the taster_name and points columns."
      ]
    },
    {
      "cell_type": "code",
      "execution_count": 85,
      "metadata": {
        "id": "dX4yoW_zJ3L3"
      },
      "outputs": [
        {
          "data": {
            "text/plain": [
              "taster_name\n",
              "Alexander Peartree    85.855422\n",
              "Anna Lee C. Iijima    88.415629\n",
              "Anne Krebiehl MW      90.562551\n",
              "Carrie Dykes          86.395683\n",
              "Christina Pickard     87.833333\n",
              "Fiona Adams           86.888889\n",
              "Jeff Jenssen          88.319756\n",
              "Jim Gordon            88.626287\n",
              "Joe Czerwinski        88.536235\n",
              "Kerin O’Keefe         88.867947\n",
              "Lauren Buzzeo         87.739510\n",
              "Matt Kettmann         90.008686\n",
              "Michael Schachner     86.907493\n",
              "Mike DeSimone         89.101167\n",
              "Paul Gregutt          89.082564\n",
              "Roger Voss            88.708003\n",
              "Sean P. Sullivan      88.755739\n",
              "Susan Kostrzewa       86.609217\n",
              "Virginie Boone        89.213379\n",
              "Name: points, dtype: float64"
            ]
          },
          "execution_count": 85,
          "metadata": {},
          "output_type": "execute_result"
        }
      ],
      "source": [
        "avg_taster_pts = reviews.groupby('taster_name')['points'].mean()\n",
        "ans = pd.Series(avg_taster_pts)\n",
        "ans"
      ]
    },
    {
      "cell_type": "markdown",
      "metadata": {
        "id": "kg7XZDkTKEZI"
      },
      "source": [
        "What combination of countries and varieties are most common? Create a Series whose index is a MultiIndexof {country, variety} pairs. For example, a pinot noir produced in the US should map to {\"US\", \"Pinot Noir\"}. Sort the values in the Series in descending order based on medicine count."
      ]
    },
    {
      "cell_type": "code",
      "execution_count": 86,
      "metadata": {
        "id": "qPMjOWM5KFlA"
      },
      "outputs": [
        {
          "data": {
            "text/plain": [
              "country  variety                 \n",
              "US       Pinot Noir                  9885\n",
              "         Cabernet Sauvignon          7315\n",
              "         Chardonnay                  6801\n",
              "France   Bordeaux-style Red Blend    4725\n",
              "Italy    Red Blend                   3624\n",
              "                                     ... \n",
              "Mexico   Cinsault                       1\n",
              "         Grenache                       1\n",
              "         Merlot                         1\n",
              "         Rosado                         1\n",
              "Uruguay  White Blend                    1\n",
              "Length: 1612, dtype: int64"
            ]
          },
          "execution_count": 86,
          "metadata": {},
          "output_type": "execute_result"
        }
      ],
      "source": [
        "country_var_num = reviews.groupby(['country','variety']).size().sort_values(ascending=False)\n",
        "country_var_num = pd.Series(country_var_num)\n",
        "country_var_num"
      ]
    }
  ],
  "metadata": {
    "colab": {
      "provenance": []
    },
    "kernelspec": {
      "display_name": "Python 3",
      "name": "python3"
    },
    "language_info": {
      "codemirror_mode": {
        "name": "ipython",
        "version": 3
      },
      "file_extension": ".py",
      "mimetype": "text/x-python",
      "name": "python",
      "nbconvert_exporter": "python",
      "pygments_lexer": "ipython3",
      "version": "3.11.5"
    }
  },
  "nbformat": 4,
  "nbformat_minor": 0
}
