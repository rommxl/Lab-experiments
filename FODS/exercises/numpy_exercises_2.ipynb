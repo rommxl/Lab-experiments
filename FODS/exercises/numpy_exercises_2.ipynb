{
  "cells": [
    {
      "cell_type": "markdown",
      "metadata": {
        "id": "I8GnMtrdLHnC"
      },
      "source": [
        "# NumPy Practice\n",
        "\n",
        "This notebook offers a set of exercises for different tasks with NumPy.\n",
        "\n",
        "It should be noted there may be more than one different way to answer a question or complete an exercise.\n",
        "\n",
        "Exercises are based off (and directly taken from) the quick introduction to NumPy notebook.\n",
        "\n",
        "Different tasks will be detailed by comments or text.\n",
        "\n",
        "For further reference and resources, it's advised to check out the [NumPy documentation](https://numpy.org/devdocs/user/index.html).\n",
        "\n",
        "And if you get stuck, try searching for a question in the following format: \"how to do XYZ with numpy\", where XYZ is the function you want to leverage from NumPy."
      ]
    },
    {
      "cell_type": "code",
      "execution_count": 22,
      "metadata": {
        "id": "OX8LqP3uLHnG"
      },
      "outputs": [],
      "source": [
        "import numpy as np\n",
        "import pandas as pd\n",
        "np.random.seed(1)"
      ]
    },
    {
      "cell_type": "code",
      "execution_count": 23,
      "metadata": {
        "id": "e9DkDUDeLHnH"
      },
      "outputs": [],
      "source": [
        "# Create a 1-dimensional NumPy array using np.array()\n",
        "one_d = np.array([1,2,3,4,5])\n",
        "\n",
        "# Create a 2-dimensional NumPy array using np.array()\n",
        "two_d = np.array([[1,2,3,4,5],[6,7,8,9,10]])\n",
        "\n",
        "# Create a 3-dimensional Numpy array using np.array()\n",
        "three_d = np.random.randint(0,30,(5,3,2))"
      ]
    },
    {
      "cell_type": "markdown",
      "metadata": {
        "id": "jJP31e49LHnI"
      },
      "source": [
        "Now we've you've created 3 different arrays, let's find details about them.\n",
        "\n",
        "Find the shape, number of dimensions, data type, size and type of each array."
      ]
    },
    {
      "cell_type": "code",
      "execution_count": 24,
      "metadata": {
        "id": "EaSmuKKqLHnI"
      },
      "outputs": [
        {
          "name": "stdout",
          "output_type": "stream",
          "text": [
            "For one-dimensional array:\n",
            "Shape = (5,)\n",
            "Dimensions = 1\n",
            "Data type = int32\n",
            "Size = 5\n",
            "Type = <class 'numpy.ndarray'>\n"
          ]
        }
      ],
      "source": [
        "# Attributes of 1-dimensional array (shape,\n",
        "# number of dimensions, data type, size and type)\n",
        "\n",
        "print(\"For one-dimensional array:\")\n",
        "print(\"Shape = {}\".format(one_d.shape))\n",
        "print(\"Dimensions = {}\".format(one_d.ndim))\n",
        "print(\"Data type = {}\".format(one_d.dtype))\n",
        "print(\"Size = {}\".format(one_d.size))\n",
        "print(\"Type = {}\".format(type(one_d)))\n"
      ]
    },
    {
      "cell_type": "code",
      "execution_count": 25,
      "metadata": {
        "id": "Gx6WYKE0LHnJ"
      },
      "outputs": [
        {
          "name": "stdout",
          "output_type": "stream",
          "text": [
            "For two-dimensional array:\n",
            "Shape = (2, 5)\n",
            "Dimensions = 2\n",
            "Data type = int32\n",
            "Size = 10\n",
            "Type = <class 'numpy.ndarray'>\n"
          ]
        }
      ],
      "source": [
        "# Attributes of 2-dimensional array\n",
        "print(\"For two-dimensional array:\")\n",
        "print(\"Shape = {}\".format(two_d.shape))\n",
        "print(\"Dimensions = {}\".format(two_d.ndim))\n",
        "print(\"Data type = {}\".format(two_d.dtype))\n",
        "print(\"Size = {}\".format(two_d.size))\n",
        "print(\"Type = {}\".format(type(two_d)))"
      ]
    },
    {
      "cell_type": "code",
      "execution_count": 26,
      "metadata": {
        "id": "D1YEn6c1LHnJ"
      },
      "outputs": [
        {
          "name": "stdout",
          "output_type": "stream",
          "text": [
            "For three-dimensional array:\n",
            "Shape = (5, 3, 2)\n",
            "Dimensions = 3\n",
            "Data type = int32\n",
            "Size = 30\n",
            "Type = <class 'numpy.ndarray'>\n"
          ]
        }
      ],
      "source": [
        "# Attributes of 3-dimensional array\n",
        "# Attributes of 2-dimensional array\n",
        "print(\"For three-dimensional array:\")\n",
        "print(\"Shape = {}\".format(three_d.shape))\n",
        "print(\"Dimensions = {}\".format(three_d.ndim))\n",
        "print(\"Data type = {}\".format(three_d.dtype))\n",
        "print(\"Size = {}\".format(three_d.size))\n",
        "print(\"Type = {}\".format(type(three_d)))"
      ]
    },
    {
      "cell_type": "code",
      "execution_count": 27,
      "metadata": {
        "id": "r8phKwT6LHnJ"
      },
      "outputs": [
        {
          "data": {
            "text/html": [
              "<div>\n",
              "<style scoped>\n",
              "    .dataframe tbody tr th:only-of-type {\n",
              "        vertical-align: middle;\n",
              "    }\n",
              "\n",
              "    .dataframe tbody tr th {\n",
              "        vertical-align: top;\n",
              "    }\n",
              "\n",
              "    .dataframe thead th {\n",
              "        text-align: right;\n",
              "    }\n",
              "</style>\n",
              "<table border=\"1\" class=\"dataframe\">\n",
              "  <thead>\n",
              "    <tr style=\"text-align: right;\">\n",
              "      <th></th>\n",
              "      <th>0</th>\n",
              "      <th>1</th>\n",
              "      <th>2</th>\n",
              "      <th>3</th>\n",
              "      <th>4</th>\n",
              "    </tr>\n",
              "  </thead>\n",
              "  <tbody>\n",
              "    <tr>\n",
              "      <th>0</th>\n",
              "      <td>1</td>\n",
              "      <td>2</td>\n",
              "      <td>3</td>\n",
              "      <td>4</td>\n",
              "      <td>5</td>\n",
              "    </tr>\n",
              "    <tr>\n",
              "      <th>1</th>\n",
              "      <td>6</td>\n",
              "      <td>7</td>\n",
              "      <td>8</td>\n",
              "      <td>9</td>\n",
              "      <td>10</td>\n",
              "    </tr>\n",
              "  </tbody>\n",
              "</table>\n",
              "</div>"
            ],
            "text/plain": [
              "   0  1  2  3   4\n",
              "0  1  2  3  4   5\n",
              "1  6  7  8  9  10"
            ]
          },
          "execution_count": 27,
          "metadata": {},
          "output_type": "execute_result"
        }
      ],
      "source": [
        "# Import pandas and create a DataFrame out of one\n",
        "# of the arrays you've created\n",
        "df = pd.DataFrame(two_d)\n",
        "df"
      ]
    },
    {
      "cell_type": "code",
      "execution_count": 28,
      "metadata": {
        "id": "fdSPxj7YLHnK"
      },
      "outputs": [
        {
          "data": {
            "text/plain": [
              "array([[1., 1.],\n",
              "       [1., 1.],\n",
              "       [1., 1.],\n",
              "       [1., 1.],\n",
              "       [1., 1.],\n",
              "       [1., 1.],\n",
              "       [1., 1.],\n",
              "       [1., 1.],\n",
              "       [1., 1.],\n",
              "       [1., 1.]])"
            ]
          },
          "execution_count": 28,
          "metadata": {},
          "output_type": "execute_result"
        }
      ],
      "source": [
        "# Create an array of shape (10, 2) with only ones\n",
        "np.ones((10,2))"
      ]
    },
    {
      "cell_type": "code",
      "execution_count": 29,
      "metadata": {
        "id": "rt_j0jxlLHnK"
      },
      "outputs": [
        {
          "data": {
            "text/plain": [
              "array([[[0., 0., 0.],\n",
              "        [0., 0., 0.]],\n",
              "\n",
              "       [[0., 0., 0.],\n",
              "        [0., 0., 0.]],\n",
              "\n",
              "       [[0., 0., 0.],\n",
              "        [0., 0., 0.]],\n",
              "\n",
              "       [[0., 0., 0.],\n",
              "        [0., 0., 0.]],\n",
              "\n",
              "       [[0., 0., 0.],\n",
              "        [0., 0., 0.]],\n",
              "\n",
              "       [[0., 0., 0.],\n",
              "        [0., 0., 0.]],\n",
              "\n",
              "       [[0., 0., 0.],\n",
              "        [0., 0., 0.]]])"
            ]
          },
          "execution_count": 29,
          "metadata": {},
          "output_type": "execute_result"
        }
      ],
      "source": [
        "# Create an array of shape (7, 2, 3) of only zeros\n",
        "np.zeros((7,2,3))"
      ]
    },
    {
      "cell_type": "code",
      "execution_count": 30,
      "metadata": {
        "id": "HLyVY7c2LHnK"
      },
      "outputs": [
        {
          "data": {
            "text/plain": [
              "array([ 0,  3,  6,  9, 12, 15, 18, 21, 24, 27, 30, 33, 36, 39, 42, 45, 48,\n",
              "       51, 54, 57, 60, 63, 66, 69, 72, 75, 78, 81, 84, 87, 90, 93, 96, 99])"
            ]
          },
          "execution_count": 30,
          "metadata": {},
          "output_type": "execute_result"
        }
      ],
      "source": [
        "# Create an array within a range of 0 and 100 with step 3\n",
        "np.arange(0,101,3)"
      ]
    },
    {
      "cell_type": "code",
      "execution_count": 31,
      "metadata": {
        "id": "QauZBkiCLHnL"
      },
      "outputs": [
        {
          "data": {
            "text/plain": [
              "array([[7, 7],\n",
              "       [9, 1],\n",
              "       [7, 0],\n",
              "       [6, 9],\n",
              "       [9, 7],\n",
              "       [6, 9],\n",
              "       [1, 0]])"
            ]
          },
          "execution_count": 31,
          "metadata": {},
          "output_type": "execute_result"
        }
      ],
      "source": [
        "# Create a random array with numbers between 0 and 10 of size (7, 2)\n",
        "np.random.randint(0,10,(7,2))"
      ]
    },
    {
      "cell_type": "code",
      "execution_count": 32,
      "metadata": {
        "id": "FyCERCJyLHnL"
      },
      "outputs": [
        {
          "data": {
            "text/plain": [
              "array([[0.89460666, 0.08504421, 0.03905478, 0.16983042, 0.8781425 ],\n",
              "       [0.09834683, 0.42110763, 0.95788953, 0.53316528, 0.69187711],\n",
              "       [0.31551563, 0.68650093, 0.83462567, 0.01828828, 0.75014431]])"
            ]
          },
          "execution_count": 32,
          "metadata": {},
          "output_type": "execute_result"
        }
      ],
      "source": [
        "# Create a random array of floats between 0 & 1 of shape (3, 5)\n",
        "np.random.random((3,5))"
      ]
    },
    {
      "cell_type": "code",
      "execution_count": 33,
      "metadata": {
        "id": "H8e11J3QLHnL"
      },
      "outputs": [
        {
          "data": {
            "text/plain": [
              "array([[6, 3, 7, 4, 6, 9],\n",
              "       [2, 6, 7, 4, 3, 7],\n",
              "       [7, 2, 5, 4, 1, 7],\n",
              "       [5, 1, 4, 0, 9, 5]])"
            ]
          },
          "execution_count": 33,
          "metadata": {},
          "output_type": "execute_result"
        }
      ],
      "source": [
        "# Set the random seed to 42\n",
        "np.random.seed(42)\n",
        "\n",
        "# Create a random array of numbers between 0 & 10 of size (4, 6)\n",
        "np.random.randint(0,10,(4,6))"
      ]
    },
    {
      "cell_type": "markdown",
      "metadata": {
        "id": "W6I7WDPPLHnL"
      },
      "source": [
        "Run the cell above again, what happens?\n",
        "\n",
        "Are the numbers in the array different or the same? Why do think this is?"
      ]
    },
    {
      "cell_type": "markdown",
      "metadata": {},
      "source": [
        "## The numbers are the same when we run the cell again because we have set a definite seed for the random generator."
      ]
    },
    {
      "cell_type": "code",
      "execution_count": 34,
      "metadata": {
        "id": "c6F0bQogLHnM"
      },
      "outputs": [
        {
          "name": "stdout",
          "output_type": "stream",
          "text": [
            "All unique elements are: {0, 1, 2, 3, 4, 6, 8, 9}\n"
          ]
        }
      ],
      "source": [
        "# Create an array of random numbers between 1 & 10 of size (3, 7)\n",
        "# and save it to a variable\n",
        "var = np.random.randint(0,10,(3,7))\n",
        "s = set()\n",
        "# Find the unique numbers in the array you just created\n",
        "for i in var:\n",
        "    for j in i:\n",
        "        s.add(j)\n",
        "print(\"All unique elements are: {}\".format(s))"
      ]
    },
    {
      "cell_type": "code",
      "execution_count": 35,
      "metadata": {
        "id": "wmKdXuOrLHnM"
      },
      "outputs": [
        {
          "data": {
            "text/plain": [
              "array([8, 0, 9, 2, 6, 3, 8])"
            ]
          },
          "execution_count": 35,
          "metadata": {},
          "output_type": "execute_result"
        }
      ],
      "source": [
        "# Find the 0'th index of the latest array you created\n",
        "var[0]"
      ]
    },
    {
      "cell_type": "code",
      "execution_count": 36,
      "metadata": {
        "id": "HUKgNom7LHnM"
      },
      "outputs": [
        {
          "data": {
            "text/plain": [
              "array([[8, 0, 9, 2, 6, 3, 8],\n",
              "       [2, 4, 2, 6, 4, 8, 6]])"
            ]
          },
          "execution_count": 36,
          "metadata": {},
          "output_type": "execute_result"
        }
      ],
      "source": [
        "# Get the first 2 rows of latest array you created\n",
        "var[0:2,:]"
      ]
    },
    {
      "cell_type": "code",
      "execution_count": 37,
      "metadata": {
        "id": "1hObavzwLHnM"
      },
      "outputs": [
        {
          "data": {
            "text/plain": [
              "array([[8, 0],\n",
              "       [2, 4]])"
            ]
          },
          "execution_count": 37,
          "metadata": {},
          "output_type": "execute_result"
        }
      ],
      "source": [
        "# Get the first 2 values of the first 2 rows of the latest array\n",
        "var[0:2,0:2]"
      ]
    },
    {
      "cell_type": "code",
      "execution_count": 38,
      "metadata": {
        "id": "SwLs1_lsLHnN"
      },
      "outputs": [
        {
          "data": {
            "text/plain": [
              "(array([[4, 1, 3, 6, 7],\n",
              "        [2, 0, 3, 1, 7],\n",
              "        [3, 1, 5, 5, 9]]),\n",
              " array([[3, 5, 1, 9, 1],\n",
              "        [9, 3, 7, 6, 8],\n",
              "        [7, 4, 1, 4, 7]]))"
            ]
          },
          "execution_count": 38,
          "metadata": {},
          "output_type": "execute_result"
        }
      ],
      "source": [
        "# Create a random array of numbers between 0 & 10 and an array of ones\n",
        "# both of size (3, 5), save them both to variables\n",
        "array1 = np.random.randint(0,10,(3,5))\n",
        "array2 = np.random.randint(0,10,(3,5))\n",
        "array1,array2"
      ]
    },
    {
      "cell_type": "code",
      "execution_count": 39,
      "metadata": {
        "id": "5Xgx-I9qLHnN"
      },
      "outputs": [
        {
          "data": {
            "text/plain": [
              "array([[ 7,  6,  4, 15,  8],\n",
              "       [11,  3, 10,  7, 15],\n",
              "       [10,  5,  6,  9, 16]])"
            ]
          },
          "execution_count": 39,
          "metadata": {},
          "output_type": "execute_result"
        }
      ],
      "source": [
        "# Add the two arrays together\n",
        "array_sum = array2 + array1\n",
        "array_sum"
      ]
    },
    {
      "cell_type": "code",
      "execution_count": 40,
      "metadata": {
        "id": "KRmkSXOOLHnN"
      },
      "outputs": [],
      "source": [
        "# Create another array of ones of shape (5, 3)\n",
        "one = np.ones((5,3))"
      ]
    },
    {
      "cell_type": "code",
      "execution_count": 41,
      "metadata": {
        "id": "007OaR6sLHnN"
      },
      "outputs": [
        {
          "ename": "ValueError",
          "evalue": "operands could not be broadcast together with shapes (3,5) (5,3) ",
          "output_type": "error",
          "traceback": [
            "\u001b[1;31m---------------------------------------------------------------------------\u001b[0m",
            "\u001b[1;31mValueError\u001b[0m                                Traceback (most recent call last)",
            "Cell \u001b[1;32mIn[41], line 2\u001b[0m\n\u001b[0;32m      1\u001b[0m \u001b[39m# Try add the array of ones and the other most recent array together\u001b[39;00m\n\u001b[1;32m----> 2\u001b[0m array_sum \u001b[39m+\u001b[39;49m one\n",
            "\u001b[1;31mValueError\u001b[0m: operands could not be broadcast together with shapes (3,5) (5,3) "
          ]
        }
      ],
      "source": [
        "# Try add the array of ones and the other most recent array together\n",
        "array_sum + one"
      ]
    },
    {
      "cell_type": "markdown",
      "metadata": {
        "id": "oKw-jKaFLHnN"
      },
      "source": [
        "When you try the last cell, it produces an error. Why do think this is?\n",
        "\n",
        "How would you fix it?"
      ]
    },
    {
      "cell_type": "markdown",
      "metadata": {},
      "source": [
        "The error occurs because we are trying to add two arrays of different dimensions. To fix this we must reshape all array to the same shape"
      ]
    },
    {
      "cell_type": "code",
      "execution_count": 42,
      "metadata": {
        "id": "WWMXVr7xLHnO"
      },
      "outputs": [],
      "source": [
        "# Create another array of ones of shape (3, 5)\n",
        "one = np.ones((3,5))"
      ]
    },
    {
      "cell_type": "code",
      "execution_count": 43,
      "metadata": {
        "id": "AzImKwFZLHnO"
      },
      "outputs": [
        {
          "data": {
            "text/plain": [
              "array([[ 6.,  5.,  3., 14.,  7.],\n",
              "       [10.,  2.,  9.,  6., 14.],\n",
              "       [ 9.,  4.,  5.,  8., 15.]])"
            ]
          },
          "execution_count": 43,
          "metadata": {},
          "output_type": "execute_result"
        }
      ],
      "source": [
        "# Subtract the new array of ones from the other most recent array\n",
        "array_sum - one"
      ]
    },
    {
      "cell_type": "code",
      "execution_count": 44,
      "metadata": {
        "id": "RMLI76GALHnO"
      },
      "outputs": [
        {
          "data": {
            "text/plain": [
              "array([[ 7.,  6.,  4., 15.,  8.],\n",
              "       [11.,  3., 10.,  7., 15.],\n",
              "       [10.,  5.,  6.,  9., 16.]])"
            ]
          },
          "execution_count": 44,
          "metadata": {},
          "output_type": "execute_result"
        }
      ],
      "source": [
        "# Multiply the ones array with the latest array\n",
        "array_sum * one"
      ]
    },
    {
      "cell_type": "code",
      "execution_count": 45,
      "metadata": {
        "id": "-N94rR5ALHnO"
      },
      "outputs": [
        {
          "data": {
            "text/plain": [
              "array([[ 49,  36,  16, 225,  64],\n",
              "       [121,   9, 100,  49, 225],\n",
              "       [100,  25,  36,  81, 256]])"
            ]
          },
          "execution_count": 45,
          "metadata": {},
          "output_type": "execute_result"
        }
      ],
      "source": [
        "# Take the latest array to the power of 2 using '**'\n",
        "array_sum ** 2"
      ]
    },
    {
      "cell_type": "code",
      "execution_count": 46,
      "metadata": {
        "id": "R7NaMJsxLHnO"
      },
      "outputs": [
        {
          "data": {
            "text/plain": [
              "array([[ 49,  36,  16, 225,  64],\n",
              "       [121,   9, 100,  49, 225],\n",
              "       [100,  25,  36,  81, 256]])"
            ]
          },
          "execution_count": 46,
          "metadata": {},
          "output_type": "execute_result"
        }
      ],
      "source": [
        "# Do the same thing with np.square()\n",
        "np.square(array_sum)"
      ]
    },
    {
      "cell_type": "code",
      "execution_count": 47,
      "metadata": {
        "id": "XVIFKLKkLHnO"
      },
      "outputs": [
        {
          "data": {
            "text/plain": [
              "8.8"
            ]
          },
          "execution_count": 47,
          "metadata": {},
          "output_type": "execute_result"
        }
      ],
      "source": [
        "# Find the mean of the latest array using np.mean()\n",
        "np.mean(array_sum)"
      ]
    },
    {
      "cell_type": "code",
      "execution_count": 48,
      "metadata": {
        "id": "ixgIB3SsLHnP"
      },
      "outputs": [
        {
          "data": {
            "text/plain": [
              "16"
            ]
          },
          "execution_count": 48,
          "metadata": {},
          "output_type": "execute_result"
        }
      ],
      "source": [
        "# Find the maximum of the latest array using np.max()\n",
        "np.max(array_sum)"
      ]
    },
    {
      "cell_type": "code",
      "execution_count": 49,
      "metadata": {
        "id": "x8JfS0WbLHnP"
      },
      "outputs": [
        {
          "data": {
            "text/plain": [
              "3"
            ]
          },
          "execution_count": 49,
          "metadata": {},
          "output_type": "execute_result"
        }
      ],
      "source": [
        "# Find the minimum of the latest array using np.min()\n",
        "np.min(array_sum)"
      ]
    },
    {
      "cell_type": "code",
      "execution_count": 50,
      "metadata": {
        "id": "Wi_RJNPNLHnP"
      },
      "outputs": [
        {
          "data": {
            "text/plain": [
              "3.919183588453085"
            ]
          },
          "execution_count": 50,
          "metadata": {},
          "output_type": "execute_result"
        }
      ],
      "source": [
        "# Find the standard deviation of the latest array\n",
        "np.std(array_sum)"
      ]
    },
    {
      "cell_type": "code",
      "execution_count": 51,
      "metadata": {
        "id": "DZNe2AZMLHnP"
      },
      "outputs": [
        {
          "data": {
            "text/plain": [
              "15.359999999999998"
            ]
          },
          "execution_count": 51,
          "metadata": {},
          "output_type": "execute_result"
        }
      ],
      "source": [
        "# Find the variance of the latest array\n",
        "np.var(array_sum)"
      ]
    },
    {
      "cell_type": "code",
      "execution_count": 52,
      "metadata": {
        "id": "mLqJfcShLHnP"
      },
      "outputs": [
        {
          "data": {
            "text/plain": [
              "array([[[ 7],\n",
              "        [ 6],\n",
              "        [ 4],\n",
              "        [15],\n",
              "        [ 8]],\n",
              "\n",
              "       [[11],\n",
              "        [ 3],\n",
              "        [10],\n",
              "        [ 7],\n",
              "        [15]],\n",
              "\n",
              "       [[10],\n",
              "        [ 5],\n",
              "        [ 6],\n",
              "        [ 9],\n",
              "        [16]]])"
            ]
          },
          "execution_count": 52,
          "metadata": {},
          "output_type": "execute_result"
        }
      ],
      "source": [
        "# Reshape the latest array to (3, 5, 1)\n",
        "array_sum.reshape((3,5,1))"
      ]
    },
    {
      "cell_type": "code",
      "execution_count": 53,
      "metadata": {
        "id": "L2RWlB93LHnQ"
      },
      "outputs": [
        {
          "data": {
            "text/plain": [
              "array([[ 7, 11, 10],\n",
              "       [ 6,  3,  5],\n",
              "       [ 4, 10,  6],\n",
              "       [15,  7,  9],\n",
              "       [ 8, 15, 16]])"
            ]
          },
          "execution_count": 53,
          "metadata": {},
          "output_type": "execute_result"
        }
      ],
      "source": [
        "# Transpose the latest array\n",
        "array_sum.T"
      ]
    },
    {
      "cell_type": "markdown",
      "metadata": {
        "id": "cX2Df6JyLHnQ"
      },
      "source": [
        "What does the transpose do?"
      ]
    },
    {
      "cell_type": "code",
      "execution_count": 54,
      "metadata": {
        "id": "0wd1TXb_LHnQ"
      },
      "outputs": [],
      "source": [
        "# Create two arrays of random integers between 0 to 10\n",
        "# one of size (3, 3) the other of size (3, 2)\n",
        "array1 = np.random.randint(0,10,(3,3))\n",
        "array2 = np.random.randint(0,10,(3,2))"
      ]
    },
    {
      "cell_type": "code",
      "execution_count": 55,
      "metadata": {
        "id": "sPlPzO_FLHnQ"
      },
      "outputs": [
        {
          "data": {
            "text/plain": [
              "array([[135,  79],\n",
              "       [ 58,  12],\n",
              "       [ 70,  56]])"
            ]
          },
          "execution_count": 55,
          "metadata": {},
          "output_type": "execute_result"
        }
      ],
      "source": [
        "# Perform a dot product on the two newest arrays you created\n",
        "np.dot(array1,array2)"
      ]
    },
    {
      "cell_type": "code",
      "execution_count": 56,
      "metadata": {
        "id": "1ZQZgCBcLHnR"
      },
      "outputs": [],
      "source": [
        "# Create two arrays of random integers between 0 to 10\n",
        "# both of size (4, 3)\n",
        "array1 = np.random.randint(0,10,(4,3))\n",
        "array2 = np.random.randint(0,10,(4,3))"
      ]
    },
    {
      "cell_type": "code",
      "execution_count": 57,
      "metadata": {
        "id": "rLCd7x5YLHnR"
      },
      "outputs": [
        {
          "ename": "ValueError",
          "evalue": "shapes (4,3) and (4,3) not aligned: 3 (dim 1) != 4 (dim 0)",
          "output_type": "error",
          "traceback": [
            "\u001b[1;31m---------------------------------------------------------------------------\u001b[0m",
            "\u001b[1;31mValueError\u001b[0m                                Traceback (most recent call last)",
            "Cell \u001b[1;32mIn[57], line 2\u001b[0m\n\u001b[0;32m      1\u001b[0m \u001b[39m# Perform a dot product on the two newest arrays you created\u001b[39;00m\n\u001b[1;32m----> 2\u001b[0m np\u001b[39m.\u001b[39;49mdot(array1,array2)\n",
            "\u001b[1;31mValueError\u001b[0m: shapes (4,3) and (4,3) not aligned: 3 (dim 1) != 4 (dim 0)"
          ]
        }
      ],
      "source": [
        "# Perform a dot product on the two newest arrays you created\n",
        "np.dot(array1,array2)"
      ]
    },
    {
      "cell_type": "markdown",
      "metadata": {
        "id": "OGJdpGnULHnS"
      },
      "source": [
        "It doesn't work. How would you fix it?"
      ]
    },
    {
      "cell_type": "markdown",
      "metadata": {},
      "source": [
        "I will fix this by making sure the number of columns of the first array is the same as the number of rows of the second array"
      ]
    },
    {
      "cell_type": "code",
      "execution_count": 58,
      "metadata": {
        "id": "OmCLfG_oLHnS"
      },
      "outputs": [
        {
          "data": {
            "text/plain": [
              "array([[ 40,  36,  10,  12],\n",
              "       [153, 111,  57,  60],\n",
              "       [140, 100,  52,  56],\n",
              "       [ 48,  30,  37,  18]])"
            ]
          },
          "execution_count": 58,
          "metadata": {},
          "output_type": "execute_result"
        }
      ],
      "source": [
        "# Take the latest two arrays, perform a transpose on one of them and then perform\n",
        "# a dot product on them both\n",
        "np.dot(array1,array2.T)"
      ]
    },
    {
      "cell_type": "markdown",
      "metadata": {
        "id": "tm5lWNnXLHnS"
      },
      "source": [
        "Notice how performing a transpose allows the dot product to happen.\n",
        "\n",
        "Why is this?\n",
        "\n",
        "Checking out the documentation on [`np.dot()`](https://docs.scipy.org/doc/numpy/reference/generated/numpy.dot.html) may help, as well as reading [Math is Fun's guide on the dot product](https://www.mathsisfun.com/algebra/vectors-dot-product.html).\n",
        "\n",
        "Let's now compare arrays."
      ]
    },
    {
      "cell_type": "code",
      "execution_count": 75,
      "metadata": {
        "id": "mrIIdvdlLHnT"
      },
      "outputs": [],
      "source": [
        "# Create two arrays of random integers between 0 & 10 of the same shape\n",
        "# and save them to variables\n",
        "array1 = np.random.randint(0,10,(4,3))\n",
        "array2 = np.random.randint(0,10,(4,3))"
      ]
    },
    {
      "cell_type": "code",
      "execution_count": 60,
      "metadata": {
        "id": "3QjZVMtpLHnT"
      },
      "outputs": [
        {
          "data": {
            "text/plain": [
              "array([[False, False,  True],\n",
              "       [False,  True,  True],\n",
              "       [ True,  True,  True],\n",
              "       [False, False, False]])"
            ]
          },
          "execution_count": 60,
          "metadata": {},
          "output_type": "execute_result"
        }
      ],
      "source": [
        "# Compare the two arrays with '>'\n",
        "array1 > array2"
      ]
    },
    {
      "cell_type": "markdown",
      "metadata": {
        "id": "BIC_v-VGLHnU"
      },
      "source": [
        "What happens when you compare the arrays with `>`?"
      ]
    },
    {
      "cell_type": "markdown",
      "metadata": {},
      "source": [
        "We get an array of boolean values"
      ]
    },
    {
      "cell_type": "code",
      "execution_count": 61,
      "metadata": {
        "id": "GoryTquoLHnV"
      },
      "outputs": [
        {
          "data": {
            "text/plain": [
              "array([[False,  True,  True],\n",
              "       [ True,  True,  True],\n",
              "       [ True,  True,  True],\n",
              "       [False, False, False]])"
            ]
          },
          "execution_count": 61,
          "metadata": {},
          "output_type": "execute_result"
        }
      ],
      "source": [
        "# Compare the two arrays with '>='\n",
        "array1 >= array2"
      ]
    },
    {
      "cell_type": "code",
      "execution_count": 62,
      "metadata": {
        "id": "HPdE5yoeLHnV"
      },
      "outputs": [
        {
          "data": {
            "text/plain": [
              "array([9, 8])"
            ]
          },
          "execution_count": 62,
          "metadata": {},
          "output_type": "execute_result"
        }
      ],
      "source": [
        "# Find which elements of the first array are greater than 7\n",
        "array2[array2 > 7]"
      ]
    },
    {
      "cell_type": "code",
      "execution_count": 63,
      "metadata": {
        "id": "_zAW1pOfLHnV"
      },
      "outputs": [
        {
          "data": {
            "text/plain": [
              "array([4, 6])"
            ]
          },
          "execution_count": 63,
          "metadata": {},
          "output_type": "execute_result"
        }
      ],
      "source": [
        "# Which parts of each array are equal? (try using '==')\n",
        "array1[array1 == array2]"
      ]
    },
    {
      "cell_type": "code",
      "execution_count": 64,
      "metadata": {
        "id": "l9JuHrzOLHnV"
      },
      "outputs": [],
      "source": [
        "# Sort one of the arrays you just created in ascending order\n",
        "array1.sort()"
      ]
    },
    {
      "cell_type": "code",
      "execution_count": 76,
      "metadata": {
        "id": "vV4TLqiFLHnW"
      },
      "outputs": [
        {
          "data": {
            "text/plain": [
              "array([[1, 0, 2],\n",
              "       [0, 2, 1],\n",
              "       [0, 1, 2],\n",
              "       [1, 0, 2]], dtype=int64)"
            ]
          },
          "execution_count": 76,
          "metadata": {},
          "output_type": "execute_result"
        }
      ],
      "source": [
        "# Sort the indexes of one of the arrays you just created\n",
        "array1.argsort()"
      ]
    },
    {
      "cell_type": "code",
      "execution_count": 77,
      "metadata": {
        "id": "2bsLcM6NLHnW"
      },
      "outputs": [
        {
          "data": {
            "text/plain": [
              "2"
            ]
          },
          "execution_count": 77,
          "metadata": {},
          "output_type": "execute_result"
        }
      ],
      "source": [
        "# Find the index with the maximum value in one of the arrays you've created\n",
        "array1.argmax()"
      ]
    },
    {
      "cell_type": "code",
      "execution_count": 78,
      "metadata": {
        "id": "3JblV0Y8LHnW"
      },
      "outputs": [
        {
          "data": {
            "text/plain": [
              "6"
            ]
          },
          "execution_count": 78,
          "metadata": {},
          "output_type": "execute_result"
        }
      ],
      "source": [
        "# Find the index with the minimum value in one of the arrays you've created\n",
        "array1.argmin()"
      ]
    },
    {
      "cell_type": "code",
      "execution_count": 80,
      "metadata": {
        "id": "iEHqto3ULHnW"
      },
      "outputs": [
        {
          "data": {
            "text/plain": [
              "array([1, 0, 0, 1], dtype=int64)"
            ]
          },
          "execution_count": 80,
          "metadata": {},
          "output_type": "execute_result"
        }
      ],
      "source": [
        "# Find the indexes with the maximum values down the 1st axis (axis=1)\n",
        "# of one of the arrays you created\n",
        "array1.argmin(axis=1)"
      ]
    },
    {
      "cell_type": "code",
      "execution_count": 79,
      "metadata": {
        "id": "r9H1sPQuLHnX"
      },
      "outputs": [
        {
          "data": {
            "text/plain": [
              "array([2, 2, 1], dtype=int64)"
            ]
          },
          "execution_count": 79,
          "metadata": {},
          "output_type": "execute_result"
        }
      ],
      "source": [
        "# Find the indexes with the minimum values across the 0th axis (axis=0)\n",
        "# of one of the arrays you created\n",
        "array1.argmin(axis=0)"
      ]
    },
    {
      "cell_type": "code",
      "execution_count": 82,
      "metadata": {
        "id": "v9qyifmvLHnX"
      },
      "outputs": [
        {
          "data": {
            "text/plain": [
              "array([[ 1.40395874, -0.0185508 , -1.67350462, -1.07253183, -0.99258618],\n",
              "       [ 0.10234768, -0.43260928, -0.6591823 ,  0.0039373 ,  0.4777541 ]])"
            ]
          },
          "execution_count": 82,
          "metadata": {},
          "output_type": "execute_result"
        }
      ],
      "source": [
        "# Create an array of normally distributed random number\n",
        "np.random.normal(size=(2,5))"
      ]
    },
    {
      "cell_type": "code",
      "execution_count": 84,
      "metadata": {
        "id": "Nff9hrqoLHnX"
      },
      "outputs": [
        {
          "data": {
            "text/plain": [
              "array([  0.        ,  11.11111111,  22.22222222,  33.33333333,\n",
              "        44.44444444,  55.55555556,  66.66666667,  77.77777778,\n",
              "        88.88888889, 100.        ])"
            ]
          },
          "execution_count": 84,
          "metadata": {},
          "output_type": "execute_result"
        }
      ],
      "source": [
        "# Create an array with 10 evenly spaced numbers between 1 and 100\n",
        "np.linspace(0,100,10)"
      ]
    },
    {
      "cell_type": "markdown",
      "metadata": {
        "id": "ssuRYAN7LHnY"
      },
      "source": [
        "## Extensions\n",
        "\n",
        "For more exercises, check out the [NumPy quickstart tutorial](https://numpy.org/doc/stable/user/quickstart.html). A good practice would be to read through it and for the parts you find interesting, add them into the end of this notebook.\n",
        "\n",
        "Pay particular attention to the section on broadcasting. And most importantly, get hands-on with the code as much as possible. If in dobut, run the code, see what it does.\n",
        "\n",
        "The next place you could go is the [Stack Overflow page for the top questions and answers for NumPy](https://stackoverflow.com/questions/tagged/numpy?sort=MostVotes&edited=true). Often, you'll find some of the most common and useful NumPy functions here. Don't forget to play around with the filters! You'll likely find something helpful here.\n",
        "\n",
        "Finally, as always, remember, the best way to learn something new is to try it. And try it relentlessly. If you get interested in some kind of NumPy function, asking yourself, \"I wonder if NumPy could do that?\", go and find out."
      ]
    }
  ],
  "metadata": {
    "colab": {
      "provenance": []
    },
    "kernelspec": {
      "display_name": "Python 3",
      "language": "python",
      "name": "python3"
    },
    "language_info": {
      "codemirror_mode": {
        "name": "ipython",
        "version": 3
      },
      "file_extension": ".py",
      "mimetype": "text/x-python",
      "name": "python",
      "nbconvert_exporter": "python",
      "pygments_lexer": "ipython3",
      "version": "3.10.0"
    }
  },
  "nbformat": 4,
  "nbformat_minor": 0
}
