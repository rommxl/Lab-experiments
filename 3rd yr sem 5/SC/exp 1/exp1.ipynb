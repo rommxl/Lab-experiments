{
 "cells": [
  {
   "cell_type": "code",
   "execution_count": 1,
   "metadata": {},
   "outputs": [],
   "source": [
    "from math import exp as e\n",
    "import numpy as np"
   ]
  },
  {
   "cell_type": "code",
   "execution_count": 2,
   "metadata": {},
   "outputs": [],
   "source": [
    "def identity(x):\n",
    "    return x\n",
    "\n",
    "def binary_step(x):\n",
    "    if(x>=0):\n",
    "        return 1\n",
    "    return 0\n",
    "\n",
    "def bipolar_step(x):\n",
    "    if(x>=0):\n",
    "        return 1\n",
    "    return -1\n",
    "\n",
    "def binary_sigmoid(x):\n",
    "    val = 1/(1+(e(x*-1)))\n",
    "    return val\n",
    "\n",
    "def bipolar_sigmoid(x):\n",
    "    val = (1-e(x * -1))/(1+e(x * -1))\n",
    "    return val\n",
    "\n",
    "def ramp(x):\n",
    "    if(x >= 1):\n",
    "        return 1\n",
    "    elif (0 <= x <= 1):\n",
    "        return x\n",
    "    return 0\n",
    "\n",
    "def relu(x):\n",
    "    return max(0,x)\n"
   ]
  },
  {
   "cell_type": "code",
   "execution_count": 3,
   "metadata": {},
   "outputs": [],
   "source": [
    "\n",
    "n = int(input(\"Enter number of input: \"))\n",
    "x = []\n",
    "w = []\n",
    "sum = 0\n"
   ]
  },
  {
   "cell_type": "code",
   "execution_count": 4,
   "metadata": {},
   "outputs": [],
   "source": [
    "\n",
    "for i  in range(n):\n",
    "    xn = float(input(\"Enter value of x{}: \".format(i+1)))\n",
    "    wn = float(input(\"Enter weight of x{}: \".format(i+1)))\n",
    "    x.append(xn)\n",
    "    w.append(wn)\n",
    "    \n"
   ]
  },
  {
   "cell_type": "code",
   "execution_count": 9,
   "metadata": {},
   "outputs": [
    {
     "data": {
      "text/plain": [
       "2.0"
      ]
     },
     "execution_count": 9,
     "metadata": {},
     "output_type": "execute_result"
    }
   ],
   "source": [
    "x = np.array(x)\n",
    "w = np.array(w)\n",
    "x[1]"
   ]
  },
  {
   "cell_type": "code",
   "execution_count": 11,
   "metadata": {},
   "outputs": [
    {
     "ename": "IndexError",
     "evalue": "index 2 is out of bounds for axis 0 with size 2",
     "output_type": "error",
     "traceback": [
      "\u001b[1;31m---------------------------------------------------------------------------\u001b[0m",
      "\u001b[1;31mIndexError\u001b[0m                                Traceback (most recent call last)",
      "Cell \u001b[1;32mIn[11], line 2\u001b[0m\n\u001b[0;32m      1\u001b[0m \u001b[39mfor\u001b[39;00m i \u001b[39min\u001b[39;00m \u001b[39mrange\u001b[39m(\u001b[39mlen\u001b[39m(x)):\n\u001b[1;32m----> 2\u001b[0m     \u001b[39msum\u001b[39m \u001b[39m=\u001b[39m \u001b[39msum\u001b[39m \u001b[39m+\u001b[39m (x[n]\u001b[39m*\u001b[39mw[n])\n\u001b[0;32m      4\u001b[0m \u001b[39mprint\u001b[39m(\u001b[39msum\u001b[39m)\n",
      "\u001b[1;31mIndexError\u001b[0m: index 2 is out of bounds for axis 0 with size 2"
     ]
    }
   ],
   "source": [
    "\n",
    "for i in range(len(x)):\n",
    "    sum = sum + (x[i]*w[i])\n",
    "\n",
    "print(sum)"
   ]
  }
 ],
 "metadata": {
  "kernelspec": {
   "display_name": "Python 3",
   "language": "python",
   "name": "python3"
  },
  "language_info": {
   "codemirror_mode": {
    "name": "ipython",
    "version": 3
   },
   "file_extension": ".py",
   "mimetype": "text/x-python",
   "name": "python",
   "nbconvert_exporter": "python",
   "pygments_lexer": "ipython3",
   "version": "3.10.0"
  },
  "orig_nbformat": 4
 },
 "nbformat": 4,
 "nbformat_minor": 2
}
