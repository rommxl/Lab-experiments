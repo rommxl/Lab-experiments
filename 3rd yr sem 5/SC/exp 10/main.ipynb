{
 "cells": [
  {
   "cell_type": "code",
   "execution_count": 7,
   "metadata": {},
   "outputs": [],
   "source": [
    "import cv2\n",
    "import numpy as np\n",
    "from pyswarm import pso\n",
    "\n",
    "# Objective function for PSO optimization\n",
    "def objective_function(params, image):\n",
    "    # Reshape params to obtain segmentation mask\n",
    "    params = params.reshape(image.shape)\n",
    "    # Convert to binary mask\n",
    "    mask = params > 0.9\n",
    "    # Calculate the difference between the original image and the mask\n",
    "    difference = np.abs(image - mask)\n",
    "    # Sum of squared differences as the objective to minimize\n",
    "    return np.sum(difference**2)\n"
   ]
  },
  {
   "cell_type": "code",
   "execution_count": 8,
   "metadata": {},
   "outputs": [],
   "source": [
    "# Function to perform image segmentation using PSO\n",
    "def perform_image_segmentation(image):\n",
    "    # Flatten the image to use as parameters for PSO\n",
    "    initial_params = image.flatten()\n",
    "\n",
    "    # Define bounds for each parameter\n",
    "    lb = np.zeros_like(initial_params)\n",
    "    ub = np.ones_like(initial_params)\n",
    "\n",
    "    # Run PSO optimization\n",
    "    best_params, _ = pso(objective_function, lb, ub, args=(image,), swarmsize=100, maxiter=200)\n",
    "\n",
    "    # Reshape the best parameters to obtain the segmented image\n",
    "    segmented_image = best_params.reshape(image.shape)\n",
    "\n",
    "    return segmented_image\n"
   ]
  },
  {
   "cell_type": "code",
   "execution_count": 9,
   "metadata": {},
   "outputs": [
    {
     "name": "stdout",
     "output_type": "stream",
     "text": [
      "Stopping search: maximum iterations reached --> 200\n"
     ]
    }
   ],
   "source": [
    "# Load an example image\n",
    "image_path = \"image.jpeg\"\n",
    "original_image = cv2.imread(image_path, cv2.IMREAD_GRAYSCALE)\n",
    "\n",
    "# Normalize the image values to the range [0, 1]\n",
    "normalized_image = original_image.astype(float) / 255.0\n",
    "# \n",
    "# Perform image segmentation\n",
    "segmented_image = perform_image_segmentation(normalized_image)\n",
    "\n",
    "# Display the results\n",
    "cv2.imshow(\"Original Image\", original_image)\n",
    "cv2.imshow(\"Segmented Image\", (segmented_image * 255).astype(np.uint8))\n",
    "cv2.waitKey(0)\n",
    "cv2.destroyAllWindows()"
   ]
  }
 ],
 "metadata": {
  "kernelspec": {
   "display_name": "Python 3",
   "language": "python",
   "name": "python3"
  },
  "language_info": {
   "codemirror_mode": {
    "name": "ipython",
    "version": 3
   },
   "file_extension": ".py",
   "mimetype": "text/x-python",
   "name": "python",
   "nbconvert_exporter": "python",
   "pygments_lexer": "ipython3",
   "version": "3.11.5"
  }
 },
 "nbformat": 4,
 "nbformat_minor": 2
}
