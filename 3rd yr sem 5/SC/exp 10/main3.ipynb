{
 "cells": [
  {
   "cell_type": "code",
   "execution_count": 10,
   "metadata": {},
   "outputs": [],
   "source": [
    "import cv2\n",
    "import numpy as np\n",
    "from pyswarm import pso\n",
    "\n",
    "# Load an example image\n",
    "image_path = \"image.jpeg\"\n",
    "original_image = cv2.imread(image_path, cv2.IMREAD_GRAYSCALE)\n",
    "kernel_size = 5\n",
    "# Normalize the image values to the range [0, 1]\n",
    "normalized_image = original_image.astype(float) / 255.0\n"
   ]
  },
  {
   "cell_type": "code",
   "execution_count": 11,
   "metadata": {},
   "outputs": [],
   "source": [
    "\n",
    "# Objective function for PSO optimization\n",
    "def objective_function(params, image):\n",
    "    # Reshape params to obtain a 3x3 filter kernel\n",
    "    \n",
    "    kernel = np.reshape(params, (kernel_size, kernel_size))\n",
    "    \n",
    "    # Apply the filter kernel to the image\n",
    "    filtered_image = cv2.filter2D(image, -1, kernel)\n",
    "    \n",
    "    # Calculate the gradient magnitude\n",
    "    gradient_magnitude = np.sqrt(filtered_image**2)\n",
    "\n",
    "    # Calculate the sum of gradient magnitude as the objective to maximize\n",
    "    return -np.sum(gradient_magnitude)\n",
    "\n",
    "# Flatten the 3x3 filter kernel for PSO optimization\n",
    "initial_params = np.random.rand(kernel_size, kernel_size).flatten()\n",
    "\n",
    "\n"
   ]
  },
  {
   "cell_type": "code",
   "execution_count": 12,
   "metadata": {},
   "outputs": [
    {
     "name": "stdout",
     "output_type": "stream",
     "text": [
      "Stopping search: Swarm best position change less than 1e-08\n"
     ]
    }
   ],
   "source": [
    "# Define bounds for each parameter\n",
    "lb = np.zeros_like(initial_params)\n",
    "ub = np.ones_like(initial_params)\n",
    "\n",
    "# Run PSO optimization\n",
    "best_params, _ = pso(objective_function, lb, ub, args=(normalized_image,), swarmsize=50, maxiter=200)\n",
    "\n",
    "# Reshape the best parameters to obtain the optimized filter kernel\n",
    "optimized_kernel = np.reshape(best_params, (kernel_size, kernel_size))\n",
    "\n",
    "# Apply the optimized filter kernel to the image\n",
    "edge_detected_image = cv2.filter2D(normalized_image, -1, optimized_kernel)\n",
    "\n",
    "# Display the results\n",
    "cv2.imshow(\"Original Image\", original_image)\n",
    "cv2.imshow(\"Edge Detected Image\", (edge_detected_image * 255).astype(np.uint8))\n",
    "cv2.waitKey(0)\n",
    "cv2.destroyAllWindows()"
   ]
  }
 ],
 "metadata": {
  "kernelspec": {
   "display_name": "Python 3",
   "language": "python",
   "name": "python3"
  },
  "language_info": {
   "codemirror_mode": {
    "name": "ipython",
    "version": 3
   },
   "file_extension": ".py",
   "mimetype": "text/x-python",
   "name": "python",
   "nbconvert_exporter": "python",
   "pygments_lexer": "ipython3",
   "version": "3.11.5"
  }
 },
 "nbformat": 4,
 "nbformat_minor": 2
}
