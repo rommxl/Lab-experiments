{
 "cells": [
  {
   "cell_type": "code",
   "execution_count": 79,
   "metadata": {},
   "outputs": [],
   "source": [
    "import cv2\n",
    "import numpy as np\n",
    "from pyswarm import pso\n",
    "\n",
    "kernel_size = 5 \n",
    "# Objective function for PSO optimization\n",
    "def objective_function(params, image):\n",
    "    # Reshape params to obtain a 3x3 filter kernel\n",
    "    # kernel = params.reshape((3, 3))\n",
    "    \n",
    "    kernel = np.reshape(params, (kernel_size, kernel_size))\n",
    "    \n",
    "    # Apply Gaussian blur with the filter kernel\n",
    "    filtered_image = cv2.GaussianBlur(image, (kernel_size, kernel_size), 0, borderType=cv2.BORDER_CONSTANT)\n",
    "    \n",
    "    # Apply convolution with the filter kernel\n",
    "    filtered_image = cv2.filter2D(image, -3, kernel)\n",
    "    \n",
    "    # Calculate the sum of squared differences between the original and filtered image\n",
    "    difference = np.abs(image - filtered_image)\n",
    "    return np.sum(difference**2)\n"
   ]
  },
  {
   "cell_type": "code",
   "execution_count": 80,
   "metadata": {},
   "outputs": [],
   "source": [
    "\n",
    "# Function to perform image filtering using PSO\n",
    "def perform_image_filtering(image):\n",
    "    # Flatten the 3x3 filter kernel for PSO optimization\n",
    "    initial_params = np.random.rand(kernel_size, kernel_size).flatten()\n",
    "\n",
    "    # Define bounds for each parameter\n",
    "    lb = np.zeros_like(initial_params)\n",
    "    ub = np.ones_like(initial_params)\n",
    "\n",
    "    # Run PSO optimization\n",
    "    best_params, _ = pso(objective_function, lb, ub, args=(image,), swarmsize=50, maxiter=100)\n",
    "\n",
    "    # Reshape the best parameters to obtain the optimized filter kernel\n",
    "    optimized_kernel = best_params.reshape((kernel_size, kernel_size))\n",
    "\n",
    "    # Apply the optimized filter kernel to the image\n",
    "    filtered_image = cv2.filter2D(image, -1, optimized_kernel)\n",
    "\n",
    "    return filtered_image\n",
    "\n",
    "# Load an example image\n",
    "\n"
   ]
  },
  {
   "cell_type": "code",
   "execution_count": 81,
   "metadata": {},
   "outputs": [
    {
     "name": "stdout",
     "output_type": "stream",
     "text": [
      "Stopping search: maximum iterations reached --> 100\n"
     ]
    }
   ],
   "source": [
    "image_path = \"image.jpeg\"\n",
    "original_image = cv2.imread(image_path, cv2.IMREAD_GRAYSCALE)\n",
    "\n",
    "# Normalize the image values to the range [0, 1]\n",
    "normalized_image = original_image.astype(float) / 255.0\n",
    "\n",
    "# Perform image filtering\n",
    "filtered_image = perform_image_filtering(normalized_image)\n",
    "\n",
    "# Display the results\n",
    "cv2.imshow(\"Original Image\", original_image)\n",
    "cv2.imshow(\"Filtered Image\", (filtered_image * 255).astype(np.uint8))\n",
    "cv2.waitKey(0)\n",
    "cv2.destroyAllWindows()"
   ]
  },
  {
   "cell_type": "code",
   "execution_count": null,
   "metadata": {},
   "outputs": [],
   "source": []
  }
 ],
 "metadata": {
  "kernelspec": {
   "display_name": "Python 3",
   "language": "python",
   "name": "python3"
  },
  "language_info": {
   "codemirror_mode": {
    "name": "ipython",
    "version": 3
   },
   "file_extension": ".py",
   "mimetype": "text/x-python",
   "name": "python",
   "nbconvert_exporter": "python",
   "pygments_lexer": "ipython3",
   "version": "3.11.5"
  }
 },
 "nbformat": 4,
 "nbformat_minor": 2
}
