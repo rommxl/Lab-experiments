{
 "cells": [
  {
   "cell_type": "code",
   "execution_count": 13,
   "metadata": {},
   "outputs": [],
   "source": [
    "import numpy as np"
   ]
  },
  {
   "cell_type": "markdown",
   "metadata": {
    "id": "54kqs-oAi7-u"
   },
   "source": [
    "#Heights of the players is stored as a regular Python list: height_in. The height is expressed in inches. Can you make a numpy array out of it ?\n",
    "\n",
    "\n",
    "1.   create an random integer numpy array for heights in inches in the range 67 to 83 of size 1015\n",
    "\n",
    "2.   create an random integer numpy array for wights in lbs in the range 150 to 290 of size 1015\n",
    "\n",
    "\n",
    "\n"
   ]
  },
  {
   "cell_type": "code",
   "execution_count": 14,
   "metadata": {
    "id": "iuIQ7hfHjA-N"
   },
   "outputs": [
    {
     "name": "stdout",
     "output_type": "stream",
     "text": [
      "Height in inches: [76 76 71 ... 69 75 82]\n",
      "Weight in lbs: [196 166 272 ... 212 191 168]\n"
     ]
    }
   ],
   "source": [
    "height_in = np.random.randint(67,83,(1015))\n",
    "weight_lbs = np.random.randint(150,290,(1015))\n",
    "print(\"Height in inches: {}\".format(height_in))\n",
    "print(\"Weight in lbs: {}\".format(weight_lbs))"
   ]
  },
  {
   "cell_type": "markdown",
   "metadata": {
    "id": "4p2oqy9FjlJH"
   },
   "source": [
    "# Convert the heights from inches to meters\n",
    "heights * 0.0254"
   ]
  },
  {
   "cell_type": "code",
   "execution_count": 15,
   "metadata": {
    "id": "bIpA8OWLko6_"
   },
   "outputs": [
    {
     "name": "stdout",
     "output_type": "stream",
     "text": [
      "Height in meter: [1.9304 1.9304 1.8034 ... 1.7526 1.905  2.0828]\n"
     ]
    }
   ],
   "source": [
    "height_mtr = height_in * 0.0254\n",
    "print(\"Height in meter: {}\".format(height_mtr))"
   ]
  },
  {
   "cell_type": "markdown",
   "metadata": {
    "id": "vlMci_PYkpp2"
   },
   "source": [
    "# Converting weights in lbs to kg =weights_lb * 0.453592"
   ]
  },
  {
   "cell_type": "code",
   "execution_count": 16,
   "metadata": {
    "id": "KHyHQTn4k0Pf"
   },
   "outputs": [
    {
     "name": "stdout",
     "output_type": "stream",
     "text": [
      "Weight in kgs: [ 88.904032  75.296272 123.377024 ...  96.161504  86.636072  76.203456]\n"
     ]
    }
   ],
   "source": [
    "weight_kgs = weight_lbs * 0.453592\n",
    "print(\"Weight in kgs: {}\".format(weight_kgs))"
   ]
  },
  {
   "cell_type": "markdown",
   "metadata": {
    "id": "hRGkp5Iak0vx"
   },
   "source": [
    "# Calculate the BMI: bmi"
   ]
  },
  {
   "cell_type": "code",
   "execution_count": 17,
   "metadata": {
    "id": "jaN5Rv8Ik-tj"
   },
   "outputs": [
    {
     "name": "stdout",
     "output_type": "stream",
     "text": [
      "BMI: [23.85760478 20.20593058 37.93587972 ... 31.3065804  23.8730987\n",
      " 17.56626904]\n"
     ]
    }
   ],
   "source": [
    "bmi = weight_kgs/(height_mtr) ** 2\n",
    "print(\"BMI: {}\".format(bmi))"
   ]
  },
  {
   "cell_type": "markdown",
   "metadata": {
    "id": "8jUVQEthk_cV"
   },
   "source": [
    "Fetch the first element from the bmi array"
   ]
  },
  {
   "cell_type": "code",
   "execution_count": 18,
   "metadata": {
    "id": "lFY9w5_8lBEm"
   },
   "outputs": [
    {
     "name": "stdout",
     "output_type": "stream",
     "text": [
      "First BMI: 23.85760477892147\n"
     ]
    }
   ],
   "source": [
    "print(\"First BMI: {}\".format(bmi[0]))"
   ]
  },
  {
   "cell_type": "markdown",
   "metadata": {
    "id": "UD8zMR2wlLQw"
   },
   "source": [
    "Fetch the first five element from the bmi array"
   ]
  },
  {
   "cell_type": "code",
   "execution_count": 19,
   "metadata": {
    "id": "1CunhzuHlSJU"
   },
   "outputs": [
    {
     "name": "stdout",
     "output_type": "stream",
     "text": [
      "First 5 BMI: [23.85760478 20.20593058 37.93587972 24.02355168 25.43999693]\n"
     ]
    }
   ],
   "source": [
    "print(\"First 5 BMI: {}\".format(bmi[0:5]))"
   ]
  },
  {
   "cell_type": "markdown",
   "metadata": {
    "id": "-HVwXkc1lSi1"
   },
   "source": [
    "Count the number of pariticipants who are underweight i.e. bmi < 21"
   ]
  },
  {
   "cell_type": "code",
   "execution_count": 20,
   "metadata": {},
   "outputs": [
    {
     "name": "stdout",
     "output_type": "stream",
     "text": [
      "BMI < 21: 145\n"
     ]
    }
   ],
   "source": [
    "print(\"BMI < 21: {}\".format((bmi[bmi<21]).size))"
   ]
  },
  {
   "cell_type": "markdown",
   "metadata": {
    "id": "GeuasOqwmAfU"
   },
   "source": [
    "Players list contain the height(inches) and weight(lbs) data for all the players"
   ]
  },
  {
   "cell_type": "code",
   "execution_count": 21,
   "metadata": {
    "id": "e-j8ploClTa9"
   },
   "outputs": [
    {
     "name": "stdout",
     "output_type": "stream",
     "text": [
      "Player list: [array([76, 76, 71, ..., 69, 75, 82]), array([196, 166, 272, ..., 212, 191, 168])]\n"
     ]
    }
   ],
   "source": [
    "player = [height_in,weight_lbs]\n",
    "print(\"Player list: {}\".format(player))"
   ]
  },
  {
   "cell_type": "code",
   "execution_count": null,
   "metadata": {
    "colab": {
     "base_uri": "https://localhost:8080/"
    },
    "id": "GDH29tqoFl5y",
    "outputId": "8eec259c-b89f-480c-9444-370ff6f71ba1"
   },
   "outputs": [],
   "source": []
  },
  {
   "cell_type": "markdown",
   "metadata": {
    "id": "KdWJ6YWqrjlj"
   },
   "source": []
  }
 ],
 "metadata": {
  "colab": {
   "provenance": []
  },
  "kernelspec": {
   "display_name": "Python 3 (ipykernel)",
   "language": "python",
   "name": "python3"
  },
  "language_info": {
   "codemirror_mode": {
    "name": "ipython",
    "version": 3
   },
   "file_extension": ".py",
   "mimetype": "text/x-python",
   "name": "python",
   "nbconvert_exporter": "python",
   "pygments_lexer": "ipython3",
   "version": "3.10.0"
  }
 },
 "nbformat": 4,
 "nbformat_minor": 1
}
