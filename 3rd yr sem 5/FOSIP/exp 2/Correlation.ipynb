{
 "cells": [
  {
   "cell_type": "markdown",
   "metadata": {},
   "source": [
    "# EXP 2"
   ]
  },
  {
   "cell_type": "code",
   "execution_count": 1,
   "metadata": {},
   "outputs": [],
   "source": [
    "import numpy as np"
   ]
  },
  {
   "cell_type": "code",
   "execution_count": 2,
   "metadata": {},
   "outputs": [],
   "source": [
    "def autocorr(x):\n",
    "    result = np.correlate(x, x, mode='full')\n",
    "    return result"
   ]
  },
  {
   "cell_type": "markdown",
   "metadata": {},
   "source": [
    "## Q1.\n",
    "Find auto correlation of  input signal and find the significance of value of output signal at n=0.\n",
    "\n",
    "     Let y[n] = x[n]  O   x[n] \n",
    "\n",
    "     Classify the resultant signal( Even / Odd ).  Calculate the energy of the signal .\n",
    "\n",
    "     Q. What is the significance of value of y[0]."
   ]
  },
  {
   "cell_type": "code",
   "execution_count": 3,
   "metadata": {},
   "outputs": [
    {
     "name": "stdout",
     "output_type": "stream",
     "text": [
      "x[n] =  [3, 4, 5, 6]\n"
     ]
    }
   ],
   "source": [
    "x = [3,4,5,6]\n",
    "print(\"x[n] = \", x)"
   ]
  },
  {
   "cell_type": "code",
   "execution_count": 4,
   "metadata": {},
   "outputs": [
    {
     "name": "stdout",
     "output_type": "stream",
     "text": [
      "Y[n] =  [18 39 62 86 62 39 18]\n"
     ]
    }
   ],
   "source": [
    "Y_n = autocorr(x)\n",
    "print(\"Y[n] = \", Y_n)"
   ]
  },
  {
   "cell_type": "code",
   "execution_count": 5,
   "metadata": {},
   "outputs": [],
   "source": [
    "def evenOrOdd(x):\n",
    "    if np.allclose(x, x[::-1]):\n",
    "        return True\n",
    "    else:\n",
    "        return False"
   ]
  },
  {
   "cell_type": "code",
   "execution_count": 6,
   "metadata": {},
   "outputs": [
    {
     "name": "stdout",
     "output_type": "stream",
     "text": [
      "Y[n] is even\n"
     ]
    }
   ],
   "source": [
    "evenorodd = evenOrOdd(Y_n)\n",
    "if evenorodd == True:\n",
    "    print(\"Y[n] is even\")\n",
    "else:\n",
    "    print(\"Y[n] is odd\")"
   ]
  },
  {
   "cell_type": "code",
   "execution_count": 7,
   "metadata": {},
   "outputs": [
    {
     "name": "stdout",
     "output_type": "stream",
     "text": [
      "Energy =  86\n"
     ]
    }
   ],
   "source": [
    "energy = np.sum(np.square(x))\n",
    "print(\"Energy = \", energy)"
   ]
  },
  {
   "cell_type": "markdown",
   "metadata": {},
   "source": [
    "## Q2.\n",
    "Find auto correlation of  delayed input signal.\n",
    "\n",
    "     Let p[n]= x[n-1]  O    x[n-1].\n",
    "\n",
    "     Compare the resultant signal p[n] with y[n].  Give your conclusion."
   ]
  },
  {
   "cell_type": "code",
   "execution_count": 8,
   "metadata": {},
   "outputs": [
    {
     "name": "stdout",
     "output_type": "stream",
     "text": [
      "x[n-1] =  [0 3 4 5 6]\n"
     ]
    }
   ],
   "source": [
    "x_delayed = np.insert(x, 0, 0)\n",
    "print(\"x[n-1] = \", x_delayed)"
   ]
  },
  {
   "cell_type": "code",
   "execution_count": 9,
   "metadata": {},
   "outputs": [
    {
     "name": "stdout",
     "output_type": "stream",
     "text": [
      "p[n] =  [ 0 18 39 62 86 62 39 18  0]\n"
     ]
    }
   ],
   "source": [
    "p_n = autocorr(x_delayed)\n",
    "print(\"p[n] = \", p_n)"
   ]
  },
  {
   "cell_type": "markdown",
   "metadata": {},
   "source": [
    "p[n] and y[n] are the same"
   ]
  },
  {
   "cell_type": "markdown",
   "metadata": {},
   "source": [
    "## Q3.\n",
    " Find cross correlation of input signal and delayed  input signal\n",
    "\n",
    "    q[n] = x[n]  0   x[n-1].\n",
    "\n",
    "    Compare the resultant signal q[n] with p[n] and y[n]                         \n",
    "\n",
    "    Give your conclusion."
   ]
  },
  {
   "cell_type": "code",
   "execution_count": 10,
   "metadata": {},
   "outputs": [
    {
     "name": "stdout",
     "output_type": "stream",
     "text": [
      "Modify x to correlate with x[n-1] =  [3 4 5 6 0]\n"
     ]
    }
   ],
   "source": [
    "x_new = np.append(x, 0)\n",
    "print(\"Modify x to correlate with x[n-1] = \", x_new)\n"
   ]
  },
  {
   "cell_type": "code",
   "execution_count": 11,
   "metadata": {},
   "outputs": [
    {
     "name": "stdout",
     "output_type": "stream",
     "text": [
      "The correlation of x[n] and x[n-1] i.e q[n]:  [18 39 62 86 62 39 18  0  0]\n"
     ]
    }
   ],
   "source": [
    "q_n = np.correlate(x_new, x_delayed, mode='full')\n",
    "print(\"The correlation of x[n] and x[n-1] i.e q[n]: \",q_n )"
   ]
  },
  {
   "cell_type": "markdown",
   "metadata": {},
   "source": [
    "q[n] is same as p[n] and y[n] but q[n] is advanced by 1 sample from y[n]. q[n]=y[n+1]"
   ]
  },
  {
   "cell_type": "markdown",
   "metadata": {},
   "source": [
    "## Q.4\n",
    "Find cross correlation of  input signal  and  scaled input signal.\n",
    "\n",
    "        Let s[n] = x[n]  O a x[n-2] where “a”  is any constant.\n",
    "\n",
    "        Compare the resultant signals.    \n",
    "\n",
    "        Give your conclusion."
   ]
  },
  {
   "cell_type": "code",
   "execution_count": 12,
   "metadata": {},
   "outputs": [
    {
     "name": "stdout",
     "output_type": "stream",
     "text": [
      "2*x[n-2] =  [ 0  0  6  8 10 12]\n"
     ]
    }
   ],
   "source": [
    "x_n_minus_2 = np.insert(x, 0, 0)\n",
    "x_n_minus_2 = np.insert(x_n_minus_2, 0, 0)\n",
    "x_n_minus_2 = 2*x_n_minus_2\n",
    "print(\"2*x[n-2] = \", x_n_minus_2)"
   ]
  },
  {
   "cell_type": "code",
   "execution_count": 13,
   "metadata": {},
   "outputs": [
    {
     "name": "stdout",
     "output_type": "stream",
     "text": [
      "Modify x to correlate with x[n-2] =  [3 4 5 6 0 0]\n"
     ]
    }
   ],
   "source": [
    "x_new_2 = np.append(x, 0)\n",
    "x_new_2 = np.append(x_new_2, 0)\n",
    "print(\"Modify x to correlate with x[n-2] = \", x_new_2)"
   ]
  },
  {
   "cell_type": "code",
   "execution_count": 14,
   "metadata": {},
   "outputs": [
    {
     "name": "stdout",
     "output_type": "stream",
     "text": [
      "The correlation of x[n] and 2*x[n-2] i.e s[n]:  [ 36  78 124 172 124  78  36   0   0   0   0]\n"
     ]
    }
   ],
   "source": [
    "s_n = np.correlate(x_new_2, x_n_minus_2, mode='full')\n",
    "print(\"The correlation of x[n] and 2*x[n-2] i.e s[n]: \",s_n )\n"
   ]
  },
  {
   "cell_type": "markdown",
   "metadata": {},
   "source": [
    "s[n] is just 2*y[n] and 2 samples advanced from y[n]. s[n]=2y[n+2]"
   ]
  }
 ],
 "metadata": {
  "kernelspec": {
   "display_name": "Python 3",
   "language": "python",
   "name": "python3"
  },
  "language_info": {
   "codemirror_mode": {
    "name": "ipython",
    "version": 3
   },
   "file_extension": ".py",
   "mimetype": "text/x-python",
   "name": "python",
   "nbconvert_exporter": "python",
   "pygments_lexer": "ipython3",
   "version": "3.11.5"
  },
  "orig_nbformat": 4
 },
 "nbformat": 4,
 "nbformat_minor": 2
}
