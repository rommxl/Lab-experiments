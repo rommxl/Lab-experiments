{
 "cells": [
  {
   "cell_type": "markdown",
   "metadata": {},
   "source": [
    "## Importing Libraries"
   ]
  },
  {
   "cell_type": "code",
   "execution_count": 1,
   "metadata": {},
   "outputs": [],
   "source": [
    "import numpy as np\n",
    "import matplotlib.pyplot as plt"
   ]
  },
  {
   "cell_type": "markdown",
   "metadata": {},
   "source": [
    "## Taking a 4 point Sequence"
   ]
  },
  {
   "cell_type": "code",
   "execution_count": 2,
   "metadata": {},
   "outputs": [],
   "source": [
    "x = np.array([1, 2, 3, 4])"
   ]
  },
  {
   "cell_type": "markdown",
   "metadata": {},
   "source": [
    "## Defining DFT Function"
   ]
  },
  {
   "cell_type": "code",
   "execution_count": 3,
   "metadata": {},
   "outputs": [],
   "source": [
    "def dft(x):\n",
    "    N = len(x)\n",
    "    X = np.zeros(N, dtype=complex)\n",
    "    \n",
    "    for k in range(N):\n",
    "        X[k] = 0\n",
    "        for n in range(N):\n",
    "            X[k] += x[n] * np.exp(-2j * np.pi * k * n / N)\n",
    "    \n",
    "    return X"
   ]
  },
  {
   "cell_type": "markdown",
   "metadata": {},
   "source": [
    "## Task 1: Take any four-point sequence x[n]. Find DFT X[k]"
   ]
  },
  {
   "cell_type": "code",
   "execution_count": 4,
   "metadata": {},
   "outputs": [
    {
     "data": {
      "text/plain": [
       "array([10.+0.00000000e+00j, -2.+2.00000000e+00j, -2.-9.79717439e-16j,\n",
       "       -2.-2.00000000e+00j])"
      ]
     },
     "execution_count": 4,
     "metadata": {},
     "output_type": "execute_result"
    }
   ],
   "source": [
    "X = dft(x)\n",
    "X"
   ]
  },
  {
   "cell_type": "markdown",
   "metadata": {},
   "source": [
    "## Task 2: Append the input signal  by four zeros.Find DFT"
   ]
  },
  {
   "cell_type": "code",
   "execution_count": 5,
   "metadata": {},
   "outputs": [
    {
     "data": {
      "text/plain": [
       "array([1, 2, 3, 4, 0, 0, 0, 0])"
      ]
     },
     "execution_count": 5,
     "metadata": {},
     "output_type": "execute_result"
    }
   ],
   "source": [
    "x_padded = np.append(x, [0, 0, 0, 0])\n",
    "x_padded"
   ]
  },
  {
   "cell_type": "code",
   "execution_count": 6,
   "metadata": {},
   "outputs": [
    {
     "data": {
      "text/plain": [
       "array([10.        +0.00000000e+00j, -0.41421356-7.24264069e+00j,\n",
       "       -2.        +2.00000000e+00j,  2.41421356-1.24264069e+00j,\n",
       "       -2.        -9.79717439e-16j,  2.41421356+1.24264069e+00j,\n",
       "       -2.        -2.00000000e+00j, -0.41421356+7.24264069e+00j])"
      ]
     },
     "execution_count": 6,
     "metadata": {},
     "output_type": "execute_result"
    }
   ],
   "source": [
    "X_padded = dft(x_padded)\n",
    "X_padded"
   ]
  },
  {
   "cell_type": "markdown",
   "metadata": {},
   "source": [
    "## Task 3: Expand the  input signal  by inserting alternate  zero.Find DFT"
   ]
  },
  {
   "cell_type": "code",
   "execution_count": 7,
   "metadata": {},
   "outputs": [
    {
     "data": {
      "text/plain": [
       "array([1.+0.j, 0.+0.j, 2.+0.j, 0.+0.j, 3.+0.j, 0.+0.j, 4.+0.j, 0.+0.j])"
      ]
     },
     "execution_count": 7,
     "metadata": {},
     "output_type": "execute_result"
    }
   ],
   "source": [
    "x_expanded = np.zeros(2 * len(x), dtype=complex)\n",
    "x_expanded[::2] = x\n",
    "x_expanded"
   ]
  },
  {
   "cell_type": "code",
   "execution_count": 8,
   "metadata": {},
   "outputs": [
    {
     "data": {
      "text/plain": [
       "array([10.+0.00000000e+00j, -2.+2.00000000e+00j, -2.-9.79717439e-16j,\n",
       "       -2.-2.00000000e+00j, 10.+4.89858720e-15j, -2.+2.00000000e+00j,\n",
       "       -2.-2.93915232e-15j, -2.-2.00000000e+00j])"
      ]
     },
     "execution_count": 8,
     "metadata": {},
     "output_type": "execute_result"
    }
   ],
   "source": [
    "X_expanded = dft(x_expanded)\n",
    "X_expanded"
   ]
  },
  {
   "cell_type": "markdown",
   "metadata": {},
   "source": [
    "## Plotting the Spectrums"
   ]
  },
  {
   "cell_type": "code",
   "execution_count": 9,
   "metadata": {},
   "outputs": [
    {
     "data": {
      "image/png": "[encoded data removed]",
      "text/plain": [
       "<Figure size 1200x600 with 3 Axes>"
      ]
     },
     "metadata": {},
     "output_type": "display_data"
    }
   ],
   "source": [
    "plt.figure(figsize=(12, 6))\n",
    "\n",
    "plt.subplot(131)\n",
    "plt.stem(np.abs(X))\n",
    "plt.title('Magnitude Spectrum of x[n]')\n",
    "\n",
    "plt.subplot(132)\n",
    "plt.stem(np.abs(X_padded))\n",
    "plt.title('Magnitude Spectrum of x[n] with 4 zeros appended')\n",
    "\n",
    "plt.subplot(133)\n",
    "plt.stem(np.abs(X_expanded))\n",
    "plt.title('Magnitude Spectrum of x[n] with alternate zeros inserted')\n",
    "\n",
    "plt.tight_layout()\n",
    "plt.show()"
   ]
  },
  {
   "cell_type": "markdown",
   "metadata": {},
   "source": [
    "## Conclusion"
   ]
  },
  {
   "cell_type": "code",
   "execution_count": 10,
   "metadata": {},
   "outputs": [
    {
     "name": "stdout",
     "output_type": "stream",
     "text": [
      "Conclusion:\n",
      "1. The magnitude spectrum of the original 4-point sequence x[n] is plotted.\n",
      "2. Appending 4 zeros to the input signal leads to a wider DFT spectrum with additional zero frequency components.\n",
      "3. Expanding the input signal by inserting alternate zeros results in a wider DFT spectrum, with some zero frequency components.\n"
     ]
    }
   ],
   "source": [
    "print(\"Conclusion:\")\n",
    "print(\"1. The magnitude spectrum of the original 4-point sequence x[n] is plotted.\")\n",
    "print(\"2. Appending 4 zeros to the input signal leads to a wider DFT spectrum with additional zero frequency components.\")\n",
    "print(\"3. Expanding the input signal by inserting alternate zeros results in a wider DFT spectrum, with some zero frequency components.\")"
   ]
  }
 ],
 "metadata": {
  "kernelspec": {
   "display_name": "Python 3",
   "language": "python",
   "name": "python3"
  },
  "language_info": {
   "codemirror_mode": {
    "name": "ipython",
    "version": 3
   },
   "file_extension": ".py",
   "mimetype": "text/x-python",
   "name": "python",
   "nbconvert_exporter": "python",
   "pygments_lexer": "ipython3",
   "version": "3.11.5"
  }
 },
 "nbformat": 4,
 "nbformat_minor": 2
}
