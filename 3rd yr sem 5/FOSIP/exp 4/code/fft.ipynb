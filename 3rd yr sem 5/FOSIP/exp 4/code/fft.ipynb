{
 "cells": [
  {
   "cell_type": "code",
   "execution_count": 1,
   "metadata": {},
   "outputs": [],
   "source": [
    "import numpy as np\n",
    "import math\n"
   ]
  },
  {
   "cell_type": "code",
   "execution_count": 2,
   "metadata": {},
   "outputs": [],
   "source": [
    "def fft(xn):\n",
    "    N = len(xn)\n",
    "    if N == 1:\n",
    "        return xn\n",
    "    else:\n",
    "        XE = fft(xn[0::2])\n",
    "        XO = fft(xn[1::2])\n",
    "        factor = np.exp(-2j * np.pi * np.arange(N) / N)\n",
    "        return np.concatenate([XE + factor[:N // 2] * XO,XE + factor[N // 2:] * XO])\n"
   ]
  },
  {
   "cell_type": "code",
   "execution_count": 3,
   "metadata": {},
   "outputs": [],
   "source": [
    "def ifft(Xk):\n",
    "    N = len(Xk)\n",
    "    if N == 1:\n",
    "        return Xk\n",
    "    else:\n",
    "        XE = ifft(Xk[0::2])\n",
    "        XO = ifft(Xk[1::2])\n",
    "        factor = np.exp(2j * np.pi * np.arange(N) / N)\n",
    "        return np.concatenate([XE + factor[:N // 2] * XO,XE + factor[N // 2:] * XO]) / 2"
   ]
  },
  {
   "cell_type": "code",
   "execution_count": 4,
   "metadata": {},
   "outputs": [
    {
     "name": "stdout",
     "output_type": "stream",
     "text": [
      "[10.+0.j -2.+2.j -2.-0.j -2.-2.j]\n",
      "[1.-0.j 2.-0.j 3.-0.j 4.+0.j]\n"
     ]
    }
   ],
   "source": [
    "xk = fft(np.array([1, 2, 3, 4]))\n",
    "print(np.round(xk,4))\n",
    "xn = ifft(xk)\n",
    "print(np.round(xn,2))"
   ]
  },
  {
   "cell_type": "code",
   "execution_count": 5,
   "metadata": {},
   "outputs": [],
   "source": [
    "def fft_complexity(N):\n",
    "    return {'complex_additions': math.pow((N-1),2), 'complex_multiplications': N*(N-1), \n",
    "            'real_additions': 3*N*math.log2(N), 'real_multiplications': 2*N*math.log2(N)}"
   ]
  },
  {
   "cell_type": "code",
   "execution_count": 6,
   "metadata": {},
   "outputs": [
    {
     "data": {
      "text/plain": [
       "{'complex_additions': 9.0,\n",
       " 'complex_multiplications': 12,\n",
       " 'real_additions': 24.0,\n",
       " 'real_multiplications': 16.0}"
      ]
     },
     "execution_count": 6,
     "metadata": {},
     "output_type": "execute_result"
    }
   ],
   "source": [
    "fft_complexity(4)"
   ]
  },
  {
   "cell_type": "code",
   "execution_count": null,
   "metadata": {},
   "outputs": [],
   "source": []
  }
 ],
 "metadata": {
  "kernelspec": {
   "display_name": "Python 3",
   "language": "python",
   "name": "python3"
  },
  "language_info": {
   "codemirror_mode": {
    "name": "ipython",
    "version": 3
   },
   "file_extension": ".py",
   "mimetype": "text/x-python",
   "name": "python",
   "nbconvert_exporter": "python",
   "pygments_lexer": "ipython3",
   "version": "3.11.5"
  }
 },
 "nbformat": 4,
 "nbformat_minor": 2
}
