{
 "cells": [
  {
   "cell_type": "code",
   "execution_count": null,
   "metadata": {},
   "outputs": [],
   "source": [
    "[english_audio, fs1] = audioread('Miguel_Spanish.mp3');\n",
    "% Load the Spanish audio file (Miguel_Spanish.mp3)\n",
    "[spanish_audio, fs2] = audioread('Joey_English.mp3');\n",
    "% Ensure both audio files have the same sampling rate\n",
    "if fs1 ~= fs2\n",
    " error('Sampling rates of the audio files do not match.');\n",
    "end"
   ]
  }
 ],
 "metadata": {
  "kernelspec": {
   "display_name": "Python 3",
   "language": "python",
   "name": "python3"
  },
  "language_info": {
   "name": "python",
   "version": "3.11.5"
  }
 },
 "nbformat": 4,
 "nbformat_minor": 2
}
