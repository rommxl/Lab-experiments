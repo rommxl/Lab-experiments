{
 "cells": [
  {
   "cell_type": "code",
   "execution_count": 9,
   "metadata": {},
   "outputs": [],
   "source": [
    "import numpy as np\n",
    "from scipy.signal import firwin, fftconvolve\n",
    "import sounddevice as sd\n",
    "import scipy.io.wavfile as wav"
   ]
  },
  {
   "cell_type": "code",
   "execution_count": 10,
   "metadata": {},
   "outputs": [
    {
     "name": "stdout",
     "output_type": "stream",
     "text": [
      "Playing clean Audio...\n"
     ]
    }
   ],
   "source": [
    "fs, clean_audio_stereo = wav.read(\"audio (original).wav\")\n",
    "# Convert stereo audio to mono\n",
    "clean_audio = clean_audio_stereo[:, 0] # Select the first channel for mono audio\n",
    "print(\"Playing clean Audio...\")\n",
    "sd.play(clean_audio, fs)\n",
    "sd.wait()\n"
   ]
  },
  {
   "cell_type": "code",
   "execution_count": 11,
   "metadata": {},
   "outputs": [],
   "source": [
    "def add_noise(audio_signal, noise_level=0.05):\n",
    "    noise = noise_level * np.random.normal(0, 1, len(audio_signal))\n",
    "    noisy_audio = audio_signal + noise\n",
    "    return noisy_audio"
   ]
  },
  {
   "cell_type": "code",
   "execution_count": 12,
   "metadata": {},
   "outputs": [
    {
     "name": "stdout",
     "output_type": "stream",
     "text": [
      "Playing Noisy Audio...\n",
      "Noisy audio saved as 'audio (noisy).wav'\n"
     ]
    }
   ],
   "source": [
    "noisy_audio = add_noise(clean_audio)\n",
    "print(\"Playing Noisy Audio...\")\n",
    "sd.play(noisy_audio, fs)\n",
    "sd.wait()\n",
    "wav.write(\"audio (noisy).wav\", fs, np.int16(noisy_audio))\n",
    "print(\"Noisy audio saved as 'audio (noisy).wav'\")"
   ]
  },
  {
   "cell_type": "code",
   "execution_count": 13,
   "metadata": {},
   "outputs": [],
   "source": [
    "Fpass = 2000\n",
    "Fstop = 3000\n",
    "num_taps = 101\n",
    "h = firwin(num_taps, Fpass, fs=fs, pass_zero=True)"
   ]
  },
  {
   "cell_type": "code",
   "execution_count": 14,
   "metadata": {},
   "outputs": [],
   "source": [
    "def overlap_save(x, h):\n",
    "    N = len(h)\n",
    "    L = len(x)\n",
    "    x_padded = np.concatenate((np.zeros(N - 1), x))\n",
    "    y = fftconvolve(x_padded, h, mode='valid')\n",
    "    return y"
   ]
  },
  {
   "cell_type": "code",
   "execution_count": 15,
   "metadata": {},
   "outputs": [
    {
     "name": "stdout",
     "output_type": "stream",
     "text": [
      "Playing Filtered Audio...\n"
     ]
    }
   ],
   "source": [
    "filtered_audio = overlap_save(noisy_audio, h)\n",
    "\n",
    "print(\"Playing Filtered Audio...\")\n",
    "sd.play(filtered_audio, fs)\n",
    "sd.wait()"
   ]
  },
  {
   "cell_type": "code",
   "execution_count": 16,
   "metadata": {},
   "outputs": [
    {
     "name": "stdout",
     "output_type": "stream",
     "text": [
      "Filtered audio saved as 'audio (filtered).wav'\n"
     ]
    }
   ],
   "source": [
    "\n",
    "wav.write(\"audio (filtered).wav\", fs, np.int16(filtered_audio))\n",
    "print(\"Filtered audio saved as 'audio (filtered).wav'\")"
   ]
  }
 ],
 "metadata": {
  "kernelspec": {
   "display_name": "Python 3",
   "language": "python",
   "name": "python3"
  },
  "language_info": {
   "codemirror_mode": {
    "name": "ipython",
    "version": 3
   },
   "file_extension": ".py",
   "mimetype": "text/x-python",
   "name": "python",
   "nbconvert_exporter": "python",
   "pygments_lexer": "ipython3",
   "version": "3.11.5"
  }
 },
 "nbformat": 4,
 "nbformat_minor": 2
}
