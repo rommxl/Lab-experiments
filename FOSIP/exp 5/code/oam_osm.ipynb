{
 "cells": [
  {
   "cell_type": "code",
   "execution_count": 7,
   "metadata": {},
   "outputs": [],
   "source": [
    "import numpy as np"
   ]
  },
  {
   "cell_type": "code",
   "execution_count": 8,
   "metadata": {},
   "outputs": [],
   "source": [
    "def fft(x):\n",
    "    return np.fft.fft(x)\n",
    "def ifft(X):\n",
    "    return np.fft.ifft(X)"
   ]
  },
  {
   "cell_type": "code",
   "execution_count": 9,
   "metadata": {},
   "outputs": [],
   "source": [
    "def overlap_add(x, h, N):\n",
    "    L = len(x)\n",
    "    M = len(h)\n",
    "    h_padded = np.concatenate((h, np.zeros(N - M)))\n",
    "    H = fft(h_padded)\n",
    "    output = np.zeros(L + M - 1)\n",
    "    for i in range(0, L, N - M + 1):\n",
    "        chunk = x[i:i + N - M + 1]\n",
    "        chunk = np.concatenate((chunk, np.zeros(M - 1)))\n",
    "        X = fft(chunk)\n",
    "        Y = X * H\n",
    "        y = ifft(Y)\n",
    "        output[i:i + N - M + 1 + M - 1] += np.real(y)\n",
    "    return output[:L + M - 1]"
   ]
  },
  {
   "cell_type": "code",
   "execution_count": 10,
   "metadata": {},
   "outputs": [],
   "source": [
    "def overlap_save(x, h, N):\n",
    "    L = len(x)\n",
    "    M = len(h)\n",
    "    # Ensure N is large enough to cover x + h - 1\n",
    "    if N < L + M - 1:\n",
    "        N = L + M - 1\n",
    "    # Zero-pad filter h to length N - 1\n",
    "    h_padded = np.concatenate((h, np.zeros(N - M)))\n",
    "    H = fft(h_padded)\n",
    "    x = np.concatenate((np.zeros(M - 1), x))\n",
    "    output = np.zeros(L)\n",
    "    for i in range(0, L, N - M + 1):\n",
    "        chunk = x[i:i + N]\n",
    "        chunk_padded = np.concatenate((chunk, np.zeros(N - len(chunk))))\n",
    "        X = fft(chunk_padded)\n",
    "        Y = X * H\n",
    "        y = ifft(Y)\n",
    "        output[i:i + N - M + 1] += np.real(y[M - 1:M + N - M])\n",
    "    return output[:L + M - 1]\n"
   ]
  },
  {
   "cell_type": "markdown",
   "metadata": {},
   "source": [
    "### Input sequence"
   ]
  },
  {
   "cell_type": "code",
   "execution_count": 11,
   "metadata": {},
   "outputs": [],
   "source": [
    "x_oam = np.array([1, 2, 3, 4, 5, 6, 1, 1, 1, 1, 1, 1, 0, 1, 2, 3, 4, 5])\n",
    "h = np.array([1, 1, 1])\n",
    "N = 8 # FFT size\n",
    "L = 6 # Length of the input sequence\n",
    "M = len(h)"
   ]
  },
  {
   "cell_type": "markdown",
   "metadata": {},
   "source": [
    "### OAM"
   ]
  },
  {
   "cell_type": "code",
   "execution_count": 12,
   "metadata": {},
   "outputs": [
    {
     "name": "stdout",
     "output_type": "stream",
     "text": [
      "Overlap Add Method Output (y[n]):\n",
      "[ 1.  3.  6.  9. 12. 15. 12.  8.  3.  3.  3.  3.  2.  2.  3.  6.  9. 12.\n",
      "  9.  5.]\n"
     ]
    }
   ],
   "source": [
    "y_oam = overlap_add(x_oam, h, N)\n",
    "print(\"Overlap Add Method Output (y[n]):\")\n",
    "print(y_oam)"
   ]
  },
  {
   "cell_type": "markdown",
   "metadata": {},
   "source": [
    "### OSM"
   ]
  },
  {
   "cell_type": "code",
   "execution_count": 13,
   "metadata": {},
   "outputs": [
    {
     "name": "stdout",
     "output_type": "stream",
     "text": [
      "Overlap Save Method Output (y[n]):\n",
      "[ 1.  3.  6.  9. 12. 15. 12.  8.  3.  3.  3.  3.  2.  2.  3.  6.  9. 12.]\n"
     ]
    }
   ],
   "source": [
    "y_osm = overlap_save(x_oam, h, N)\n",
    "print(\"Overlap Save Method Output (y[n]):\")\n",
    "print(y_osm)"
   ]
  }
 ],
 "metadata": {
  "kernelspec": {
   "display_name": "Python 3",
   "language": "python",
   "name": "python3"
  },
  "language_info": {
   "codemirror_mode": {
    "name": "ipython",
    "version": 3
   },
   "file_extension": ".py",
   "mimetype": "text/x-python",
   "name": "python",
   "nbconvert_exporter": "python",
   "pygments_lexer": "ipython3",
   "version": "3.11.5"
  }
 },
 "nbformat": 4,
 "nbformat_minor": 2
}
