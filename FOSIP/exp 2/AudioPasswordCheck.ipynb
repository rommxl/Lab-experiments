{
 "cells": [
  {
   "cell_type": "code",
   "execution_count": 1,
   "metadata": {},
   "outputs": [],
   "source": [
    "import numpy as np\n",
    "import matplotlib.pyplot as plt\n",
    "import scipy.signal as signal\n",
    "import scipy.io.wavfile as wavfile\n",
    "import sounddevice as sd\n",
    "import warnings\n",
    "from scipy.stats import pearsonr\n",
    "import librosa"
   ]
  },
  {
   "cell_type": "code",
   "execution_count": 2,
   "metadata": {},
   "outputs": [],
   "source": [
    "warnings.filterwarnings('ignore')"
   ]
  },
  {
   "cell_type": "code",
   "execution_count": 3,
   "metadata": {},
   "outputs": [],
   "source": [
    "original, original_fs = librosa.load('./Audio/Original_Password.wav', sr=None)\n",
    "sd.play(original, original_fs)"
   ]
  },
  {
   "cell_type": "code",
   "execution_count": 4,
   "metadata": {},
   "outputs": [],
   "source": [
    "matching, matching_fs = librosa.load('./Audio/Matching_Password.wav', sr=None)\n",
    "sd.play(matching, matching_fs)"
   ]
  },
  {
   "cell_type": "code",
   "execution_count": 5,
   "metadata": {},
   "outputs": [],
   "source": [
    "not_matching, not_matching_fs = librosa.load('./Audio/Not_Matching_Password.wav', sr=None)\n",
    "sd.play(not_matching, not_matching_fs)"
   ]
  },
  {
   "cell_type": "code",
   "execution_count": 6,
   "metadata": {},
   "outputs": [],
   "source": [
    "min_length = min(len(original),len(matching))\n",
    "original_copy = original[:min_length]\n",
    "matching_copy = matching[:min_length]\n",
    "\n"
   ]
  },
  {
   "cell_type": "code",
   "execution_count": 7,
   "metadata": {},
   "outputs": [
    {
     "name": "stdout",
     "output_type": "stream",
     "text": [
      "Correlation between original and matching password:  1.0\n"
     ]
    }
   ],
   "source": [
    "corr_original_matching = pearsonr(original_copy,original_copy)\n",
    "print('Correlation between original and matching password: ',corr_original_matching[0])"
   ]
  },
  {
   "cell_type": "code",
   "execution_count": 8,
   "metadata": {},
   "outputs": [
    {
     "name": "stdout",
     "output_type": "stream",
     "text": [
      "Correlation between original and not matching password:  -0.048840307601959926\n"
     ]
    }
   ],
   "source": [
    "min_length = min(len(original),len(not_matching))\n",
    "original_copy = original[:min_length]\n",
    "not_matching_copy = not_matching[:min_length]\n",
    "\n",
    "corr_original_not_matching = pearsonr(original_copy,not_matching_copy)\n",
    "print('Correlation between original and not matching password: ',corr_original_not_matching[0])"
   ]
  }
 ],
 "metadata": {
  "kernelspec": {
   "display_name": "Python 3",
   "language": "python",
   "name": "python3"
  },
  "language_info": {
   "codemirror_mode": {
    "name": "ipython",
    "version": 3
   },
   "file_extension": ".py",
   "mimetype": "text/x-python",
   "name": "python",
   "nbconvert_exporter": "python",
   "pygments_lexer": "ipython3",
   "version": "3.11.5"
  },
  "orig_nbformat": 4
 },
 "nbformat": 4,
 "nbformat_minor": 2
}
