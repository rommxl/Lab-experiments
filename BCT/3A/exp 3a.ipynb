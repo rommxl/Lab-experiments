{
 "cells": [
  {
   "cell_type": "code",
   "execution_count": 31,
   "metadata": {},
   "outputs": [],
   "source": [
    "import hashlib\n",
    "import time"
   ]
  },
  {
   "cell_type": "code",
   "execution_count": 32,
   "metadata": {},
   "outputs": [],
   "source": [
    "class Block:\n",
    "    def __init__(self, index, prev_hash, hash, timestamp, data, nonce=0) -> None:\n",
    "        self.index = index\n",
    "        self.prev_hash = prev_hash\n",
    "        self.hash = hash\n",
    "        self.timestamp = timestamp\n",
    "        self.data = data\n",
    "        self.nonce = nonce"
   ]
  },
  {
   "cell_type": "code",
   "execution_count": 33,
   "metadata": {},
   "outputs": [],
   "source": [
    "def get_hash(index, prev_hash, timestamp, data, nonce):\n",
    "    header = str(index) + str(prev_hash) + str(timestamp) + str(data) + str(nonce)\n",
    "    return hashlib.sha256(header.encode('utf-8')).hexdigest()"
   ]
  },
  {
   "cell_type": "code",
   "execution_count": 34,
   "metadata": {},
   "outputs": [],
   "source": [
    "def mine_block(index, prev_hash, timestamp, data, difficulty):\n",
    "    nonce = 0\n",
    "    prefix = '0' * difficulty\n",
    "\n",
    "    while(True):\n",
    "        hash_attempt = get_hash(index, prev_hash, timestamp, data, nonce)\n",
    "        if(hash_attempt.startswith(prefix)):\n",
    "            print(\"Found valid block hash\")\n",
    "            return Block(index, prev_hash, hash_attempt, timestamp, data, nonce)\n",
    "        nonce+=1"
   ]
  },
  {
   "cell_type": "code",
   "execution_count": 35,
   "metadata": {},
   "outputs": [],
   "source": [
    "def create_genesis_block(difficulty):\n",
    "    return mine_block(0, '0', time.time(), 'Genesis', difficulty)"
   ]
  },
  {
   "cell_type": "code",
   "execution_count": 36,
   "metadata": {},
   "outputs": [],
   "source": [
    "def create_block(prev_block, data, difficulty):\n",
    "    index = prev_block.index + 1\n",
    "    timestamp = time.time()\n",
    "    prev_hash = prev_block.hash\n",
    "    return mine_block(index, prev_hash, timestamp, data, difficulty)"
   ]
  },
  {
   "cell_type": "code",
   "execution_count": 37,
   "metadata": {},
   "outputs": [],
   "source": [
    "def is_chain_valid(chain, difficulty):\n",
    "    for i in range(1, len(chain)):\n",
    "\n",
    "        curr_block = chain[i]\n",
    "        prev_block = chain[i-1]\n",
    "\n",
    "        if(curr_block.hash != get_hash(curr_block.index, curr_block.prev_hash, curr_block.timestamp, curr_block.data, curr_block.nonce)):\n",
    "            return False\n",
    "        \n",
    "        if(curr_block.prev_hash != prev_block.hash):\n",
    "            return False\n",
    "        \n",
    "        if(not curr_block.hash.startswith('0' * difficulty)):\n",
    "            return False\n",
    "        \n",
    "    return True"
   ]
  },
  {
   "cell_type": "markdown",
   "metadata": {},
   "source": [
    "## Implementing Blockchain"
   ]
  },
  {
   "cell_type": "code",
   "execution_count": 38,
   "metadata": {},
   "outputs": [
    {
     "name": "stdout",
     "output_type": "stream",
     "text": [
      "Found valid block hash\n",
      "Found valid block hash\n",
      "Found valid block hash\n",
      "Found valid block hash\n"
     ]
    }
   ],
   "source": [
    "difficulty = 5\n",
    "\n",
    "blockchain = [create_genesis_block(difficulty)]\n",
    "\n",
    "data_to_be_added = ['Transaction 1', 'Transaction 2', 'Transaction 3']\n",
    "\n",
    "for data in data_to_be_added:\n",
    "    block = create_block(blockchain[-1], data, difficulty)\n",
    "    blockchain.append(block)\n"
   ]
  },
  {
   "cell_type": "code",
   "execution_count": 39,
   "metadata": {},
   "outputs": [
    {
     "name": "stdout",
     "output_type": "stream",
     "text": [
      "Block Index: 0\n",
      "Previous Hash: 0\n",
      "Timestamp: 1709135832.9649794\n",
      "Data: Genesis\n",
      "Hash: 00000925d94bc6dafb18463a900b6b9efe6d794b5ff499df19ad424ae2ef82e8\n",
      "Nonce: 1508834\n",
      "\n",
      "\n",
      "Block Index: 1\n",
      "Previous Hash: 00000925d94bc6dafb18463a900b6b9efe6d794b5ff499df19ad424ae2ef82e8\n",
      "Timestamp: 1709135837.3051724\n",
      "Data: Transaction 1\n",
      "Hash: 00000a4ba88444c867f3d0dc7cb398269b4681265c795a2cb74c56caf165d9b6\n",
      "Nonce: 617338\n",
      "\n",
      "\n",
      "Block Index: 2\n",
      "Previous Hash: 00000a4ba88444c867f3d0dc7cb398269b4681265c795a2cb74c56caf165d9b6\n",
      "Timestamp: 1709135839.13176\n",
      "Data: Transaction 2\n",
      "Hash: 0000027e1f70a98f63e80e169725e63e84c67680bcf3dca1885c45376fed3926\n",
      "Nonce: 373003\n",
      "\n",
      "\n",
      "Block Index: 3\n",
      "Previous Hash: 0000027e1f70a98f63e80e169725e63e84c67680bcf3dca1885c45376fed3926\n",
      "Timestamp: 1709135840.2577116\n",
      "Data: Transaction 3\n",
      "Hash: 00000e11638af73c9a7a65c182f8187121fe340da6b5e201fead122da5c1bc53\n",
      "Nonce: 1114840\n",
      "\n",
      "\n"
     ]
    }
   ],
   "source": [
    "for block in blockchain:\n",
    "    print(\"Block Index:\", block.index)\n",
    "    print(\"Previous Hash:\", block.prev_hash)\n",
    "    print(\"Timestamp:\", block.timestamp)\n",
    "    print(\"Data:\", block.data)\n",
    "    print(\"Hash:\", block.hash)\n",
    "    print(\"Nonce:\", block.nonce)\n",
    "    print(\"\\n\")"
   ]
  }
 ],
 "metadata": {
  "kernelspec": {
   "display_name": "ml",
   "language": "python",
   "name": "python3"
  },
  "language_info": {
   "codemirror_mode": {
    "name": "ipython",
    "version": 3
   },
   "file_extension": ".py",
   "mimetype": "text/x-python",
   "name": "python",
   "nbconvert_exporter": "python",
   "pygments_lexer": "ipython3",
   "version": "3.10.13"
  }
 },
 "nbformat": 4,
 "nbformat_minor": 2
}
