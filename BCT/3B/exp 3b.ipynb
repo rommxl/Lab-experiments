{
 "cells": [
  {
   "cell_type": "code",
   "execution_count": 1,
   "metadata": {},
   "outputs": [],
   "source": [
    "import hashlib\n",
    "from pymerkle import *"
   ]
  },
  {
   "cell_type": "code",
   "execution_count": 2,
   "metadata": {},
   "outputs": [],
   "source": [
    "class MerkleTree:\n",
    "    def __init__(self, data):\n",
    "        self.data = data\n",
    "        self.left = None\n",
    "        self.right = None\n",
    "        self.hash = None\n",
    "\n",
    "    def compute_hash(self):\n",
    "        data_hash = hashlib.sha256(self.data.encode()).hexdigest().encode()\n",
    "        self.hash = data_hash\n",
    "        return data_hash\n",
    "\n",
    "    def insert(self, data_list):\n",
    "        if len(data_list) == 0:\n",
    "            return None\n",
    "\n",
    "        mid = len(data_list) // 2\n",
    "        self.data = data_list[mid]\n",
    "\n",
    "        if len(data_list) > 1:\n",
    "            self.left = MerkleTree(None)\n",
    "            self.left.insert(data_list[:mid])\n",
    "            self.right = MerkleTree(None)\n",
    "            self.right.insert(data_list[mid + 1:])\n",
    "\n",
    "        self.compute_hash()\n",
    "\n",
    "    def print_tree(self, level=0, branch=None):\n",
    "        if self.data is None:\n",
    "            return\n",
    "\n",
    "        prefix = \" \" * level * 4\n",
    "        if branch == \"left\":\n",
    "            prefix += \"L-> \"\n",
    "        elif branch == \"right\":\n",
    "            prefix += \"R-> \"\n",
    "\n",
    "        print(prefix + f\"- {self.data}\")\n",
    "        if self.left:\n",
    "            self.left.print_tree(level + 1, \"left\")\n",
    "        if self.right:\n",
    "            self.right.print_tree(level + 1, \"right\")\n",
    "\n",
    "    def search(self, target):\n",
    "        if self.data == target:\n",
    "            return True\n",
    "        if self.left and target < self.data:\n",
    "            return self.left.search(target)\n",
    "        elif self.right and target > self.data:\n",
    "            return self.right.search(target)\n",
    "        return False\n",
    "\n",
    "    def get_proof_of_inclusion(self, target):\n",
    "        proof = []\n",
    "        node = self\n",
    "        while node.data != target:\n",
    "            if target < node.data and node.left:\n",
    "                proof.append((node.data, node.right.hash))\n",
    "                node = node.left\n",
    "            elif target > node.data and node.right:\n",
    "                proof.append((node.data, node.left.hash))\n",
    "                node = node.right\n",
    "            else:\n",
    "                raise ValueError(\"Target not found in the Merkle tree\")\n",
    "        return proof"
   ]
  },
  {
   "cell_type": "code",
   "execution_count": 3,
   "metadata": {},
   "outputs": [
    {
     "name": "stdout",
     "output_type": "stream",
     "text": [
      "Merkle Tree:\n",
      "- F\n",
      "    L-> - C\n",
      "        L-> - B\n",
      "            L-> - A\n",
      "        R-> - E\n",
      "            L-> - D\n",
      "    R-> - I\n",
      "        L-> - H\n",
      "            L-> - G\n",
      "        R-> - J\n",
      "\n",
      "Proof of Inclusion for A : [('F', b'a83dd0ccbffe39d071cc317ddf6e97f5c6b1c87af91919271f9fa140b0508c6c'), ('C', b'a9f51566bd6705f7ea6ad54bb9deb449f795582d6529a0e22207b8981233ec58'), ('B', None)]\n"
     ]
    }
   ],
   "source": [
    "\n",
    "data_list = ['A', 'B', 'C', 'D', 'E', 'F', 'G', 'H', 'I', 'J']\n",
    "merkle_tree = MerkleTree(None)\n",
    "merkle_tree.insert(data_list)\n",
    "\n",
    "print(\"Merkle Tree:\")\n",
    "merkle_tree.print_tree()\n",
    "\n",
    "target_data = 'A'\n",
    "proof = merkle_tree.get_proof_of_inclusion(target_data)\n",
    "print(\"\\nProof of Inclusion for\", target_data, \":\", proof)"
   ]
  }
 ],
 "metadata": {
  "kernelspec": {
   "display_name": "Python 3",
   "language": "python",
   "name": "python3"
  },
  "language_info": {
   "codemirror_mode": {
    "name": "ipython",
    "version": 3
   },
   "file_extension": ".py",
   "mimetype": "text/x-python",
   "name": "python",
   "nbconvert_exporter": "python",
   "pygments_lexer": "ipython3",
   "version": "3.11.5"
  }
 },
 "nbformat": 4,
 "nbformat_minor": 2
}
