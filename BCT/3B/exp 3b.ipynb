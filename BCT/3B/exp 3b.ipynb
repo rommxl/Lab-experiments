{
 "cells": [
  {
   "cell_type": "code",
   "execution_count": 5,
   "metadata": {},
   "outputs": [
    {
     "name": "stdout",
     "output_type": "stream",
     "text": [
      "Merkle Tree:\n"
     ]
    },
    {
     "ename": "AttributeError",
     "evalue": "'MerkleTree' object has no attribute 'print_tree'",
     "output_type": "error",
     "traceback": [
      "\u001b[1;31m---------------------------------------------------------------------------\u001b[0m",
      "\u001b[1;31mAttributeError\u001b[0m                            Traceback (most recent call last)",
      "Cell \u001b[1;32mIn[5], line 11\u001b[0m\n\u001b[0;32m      9\u001b[0m \u001b[38;5;66;03m# Display the Merkle Tree structure\u001b[39;00m\n\u001b[0;32m     10\u001b[0m \u001b[38;5;28mprint\u001b[39m(\u001b[38;5;124m\"\u001b[39m\u001b[38;5;124mMerkle Tree:\u001b[39m\u001b[38;5;124m\"\u001b[39m)\n\u001b[1;32m---> 11\u001b[0m \u001b[43mtree\u001b[49m\u001b[38;5;241;43m.\u001b[39;49m\u001b[43mprint_tree\u001b[49m()\n\u001b[0;32m     13\u001b[0m \u001b[38;5;66;03m# Save the current state to a file\u001b[39;00m\n\u001b[0;32m     14\u001b[0m \u001b[38;5;28;01mwith\u001b[39;00m \u001b[38;5;28mopen\u001b[39m(\u001b[38;5;124m'\u001b[39m\u001b[38;5;124mcurrent_state.txt\u001b[39m\u001b[38;5;124m'\u001b[39m, \u001b[38;5;124m'\u001b[39m\u001b[38;5;124mw\u001b[39m\u001b[38;5;124m'\u001b[39m) \u001b[38;5;28;01mas\u001b[39;00m f:\n",
      "\u001b[1;31mAttributeError\u001b[0m: 'MerkleTree' object has no attribute 'print_tree'"
     ]
    }
   ],
   "source": [
    "from merkle import MerkleTree\n",
    "\n",
    "# Create a list of 10 transactions (or data)\n",
    "transactions = [f'Transaction {i}'.encode('utf-8') for i in range(1, 11)]\n",
    "\n",
    "# Create a Merkle Tree\n",
    "tree = MerkleTree(transactions)\n",
    "\n",
    "# Display the Merkle Tree structure\n",
    "print(\"Merkle Tree:\")\n",
    "tree.print_tree()\n",
    "\n",
    "# Save the current state to a file\n",
    "with open('current_state.txt', 'w') as f:\n",
    "    f.write(tree.__repr__())\n",
    "\n",
    "# Export the tree as JSON\n",
    "tree.export('backup.json')\n",
    "\n",
    "# Recover the tree from the JSON file\n",
    "loaded_tree = MerkleTree.load_from_file('backup.json')\n",
    "\n",
    "# Display the recovered tree\n",
    "print(\"\\nRecovered Tree:\")\n",
    "loaded_tree.print_tree()\n",
    "\n",
    "# Explore Encryption modes\n",
    "print(\"\\nEncryption Modes:\")\n",
    "print(\"SHA256 Root:\", tree.get_root('sha256'))\n",
    "print(\"MD5 Root:\", tree.get_root('md5'))\n",
    "\n",
    "# Explore proof generation and validation\n",
    "print(\"\\nProof Generation and Validation:\")\n",
    "proof = tree.create_proof('Transaction 1')\n",
    "print(\"Proof for Transaction 1:\", proof)\n",
    "print(\"Is Proof Valid?\", tree.validate_proof('Transaction 1', proof))\n",
    "\n",
    "# Explore Inclusion Tests\n",
    "print(\"\\nInclusion Tests:\")\n",
    "print(\"Is 'Transaction 5' in the tree?\", tree.check_inclusion('Transaction 5'))\n",
    "print(\"Is 'Invalid Transaction' in the tree?\", tree.check_inclusion('Invalid Transaction'))\n"
   ]
  }
 ],
 "metadata": {
  "kernelspec": {
   "display_name": "Python 3",
   "language": "python",
   "name": "python3"
  },
  "language_info": {
   "codemirror_mode": {
    "name": "ipython",
    "version": 3
   },
   "file_extension": ".py",
   "mimetype": "text/x-python",
   "name": "python",
   "nbconvert_exporter": "python",
   "pygments_lexer": "ipython3",
   "version": "3.11.5"
  }
 },
 "nbformat": 4,
 "nbformat_minor": 2
}
