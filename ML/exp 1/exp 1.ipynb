{
 "cells": [
  {
   "cell_type": "markdown",
   "metadata": {},
   "source": [
    "**Name** : Bodhisatya Ghosh \\\n",
    "**Class** : CSE DS \\\n",
    "**UID** : 2021700026 \\\n",
    "**Subject** : ML \\\n",
    "**Experiment number** : 1"
   ]
  },
  {
   "cell_type": "code",
   "execution_count": 206,
   "metadata": {},
   "outputs": [],
   "source": [
    "import pandas as pd \n",
    "import numpy as np\n",
    "import seaborn as sns\n",
    "import matplotlib.pyplot as plt"
   ]
  },
  {
   "cell_type": "code",
   "execution_count": 207,
   "metadata": {},
   "outputs": [
    {
     "data": {
      "text/html": [
       "<div>\n",
       "<style scoped>\n",
       "    .dataframe tbody tr th:only-of-type {\n",
       "        vertical-align: middle;\n",
       "    }\n",
       "\n",
       "    .dataframe tbody tr th {\n",
       "        vertical-align: top;\n",
       "    }\n",
       "\n",
       "    .dataframe thead th {\n",
       "        text-align: right;\n",
       "    }\n",
       "</style>\n",
       "<table border=\"1\" class=\"dataframe\">\n",
       "  <thead>\n",
       "    <tr style=\"text-align: right;\">\n",
       "      <th></th>\n",
       "      <th>Year</th>\n",
       "      <th>Name</th>\n",
       "      <th>Primary Job Title</th>\n",
       "      <th>Base Pay</th>\n",
       "      <th>Department</th>\n",
       "      <th>College</th>\n",
       "    </tr>\n",
       "  </thead>\n",
       "  <tbody>\n",
       "    <tr>\n",
       "      <th>0</th>\n",
       "      <td>2010</td>\n",
       "      <td>Abaied, Jamie L.</td>\n",
       "      <td>Assistant Professor</td>\n",
       "      <td>64000.0</td>\n",
       "      <td>Department of Psychological Science</td>\n",
       "      <td>CAS</td>\n",
       "    </tr>\n",
       "  </tbody>\n",
       "</table>\n",
       "</div>"
      ],
      "text/plain": [
       "   Year              Name    Primary Job Title  Base Pay  \\\n",
       "0  2010  Abaied, Jamie L.  Assistant Professor   64000.0   \n",
       "\n",
       "                            Department College  \n",
       "0  Department of Psychological Science     CAS  "
      ]
     },
     "execution_count": 207,
     "metadata": {},
     "output_type": "execute_result"
    }
   ],
   "source": [
    "df = pd.read_csv('./salaries_final.csv')\n",
    "df.head(1)"
   ]
  },
  {
   "cell_type": "code",
   "execution_count": 208,
   "metadata": {},
   "outputs": [
    {
     "name": "stdout",
     "output_type": "stream",
     "text": [
      "<class 'pandas.core.frame.DataFrame'>\n",
      "RangeIndex: 14470 entries, 0 to 14469\n",
      "Data columns (total 5 columns):\n",
      " #   Column             Non-Null Count  Dtype  \n",
      "---  ------             --------------  -----  \n",
      " 0   Year               14470 non-null  int64  \n",
      " 1   Primary Job Title  14470 non-null  object \n",
      " 2   Base Pay           14470 non-null  float64\n",
      " 3   Department         14470 non-null  object \n",
      " 4   College            14470 non-null  object \n",
      "dtypes: float64(1), int64(1), object(3)\n",
      "memory usage: 565.4+ KB\n"
     ]
    }
   ],
   "source": [
    "df.drop(columns=['Name'], inplace=True)\n",
    "df.info()"
   ]
  },
  {
   "cell_type": "code",
   "execution_count": 209,
   "metadata": {},
   "outputs": [
    {
     "data": {
      "text/plain": [
       "College\n",
       "COM                       6723\n",
       "CAS                       3692\n",
       "CEMS                       869\n",
       "CALS                       793\n",
       "CESS                       770\n",
       "CNHS                       601\n",
       "RSENR                      437\n",
       "Business                   318\n",
       "Library                    171\n",
       "Department of Ext           74\n",
       "LCOMEO                      12\n",
       "Learning and Info Tech      10\n",
       "Name: count, dtype: int64"
      ]
     },
     "execution_count": 209,
     "metadata": {},
     "output_type": "execute_result"
    }
   ],
   "source": [
    "df['College'].value_counts()"
   ]
  },
  {
   "cell_type": "code",
   "execution_count": 210,
   "metadata": {},
   "outputs": [
    {
     "data": {
      "text/html": [
       "<div>\n",
       "<style scoped>\n",
       "    .dataframe tbody tr th:only-of-type {\n",
       "        vertical-align: middle;\n",
       "    }\n",
       "\n",
       "    .dataframe tbody tr th {\n",
       "        vertical-align: top;\n",
       "    }\n",
       "\n",
       "    .dataframe thead th {\n",
       "        text-align: right;\n",
       "    }\n",
       "</style>\n",
       "<table border=\"1\" class=\"dataframe\">\n",
       "  <thead>\n",
       "    <tr style=\"text-align: right;\">\n",
       "      <th></th>\n",
       "      <th>College</th>\n",
       "      <th>Base Pay</th>\n",
       "    </tr>\n",
       "  </thead>\n",
       "  <tbody>\n",
       "    <tr>\n",
       "      <th>0</th>\n",
       "      <td>Business</td>\n",
       "      <td>146060.50</td>\n",
       "    </tr>\n",
       "    <tr>\n",
       "      <th>1</th>\n",
       "      <td>CALS</td>\n",
       "      <td>76448.22</td>\n",
       "    </tr>\n",
       "    <tr>\n",
       "      <th>2</th>\n",
       "      <td>CAS</td>\n",
       "      <td>76072.50</td>\n",
       "    </tr>\n",
       "    <tr>\n",
       "      <th>3</th>\n",
       "      <td>CEMS</td>\n",
       "      <td>85267.00</td>\n",
       "    </tr>\n",
       "    <tr>\n",
       "      <th>4</th>\n",
       "      <td>CESS</td>\n",
       "      <td>66939.00</td>\n",
       "    </tr>\n",
       "    <tr>\n",
       "      <th>5</th>\n",
       "      <td>CNHS</td>\n",
       "      <td>65000.00</td>\n",
       "    </tr>\n",
       "    <tr>\n",
       "      <th>6</th>\n",
       "      <td>COM</td>\n",
       "      <td>40000.00</td>\n",
       "    </tr>\n",
       "    <tr>\n",
       "      <th>7</th>\n",
       "      <td>Department of Ext</td>\n",
       "      <td>101627.50</td>\n",
       "    </tr>\n",
       "    <tr>\n",
       "      <th>8</th>\n",
       "      <td>LCOMEO</td>\n",
       "      <td>5727.00</td>\n",
       "    </tr>\n",
       "    <tr>\n",
       "      <th>9</th>\n",
       "      <td>Learning and Info Tech</td>\n",
       "      <td>72942.00</td>\n",
       "    </tr>\n",
       "    <tr>\n",
       "      <th>10</th>\n",
       "      <td>Library</td>\n",
       "      <td>71527.00</td>\n",
       "    </tr>\n",
       "    <tr>\n",
       "      <th>11</th>\n",
       "      <td>RSENR</td>\n",
       "      <td>70306.00</td>\n",
       "    </tr>\n",
       "  </tbody>\n",
       "</table>\n",
       "</div>"
      ],
      "text/plain": [
       "                   College   Base Pay\n",
       "0                 Business  146060.50\n",
       "1                     CALS   76448.22\n",
       "2                      CAS   76072.50\n",
       "3                     CEMS   85267.00\n",
       "4                     CESS   66939.00\n",
       "5                     CNHS   65000.00\n",
       "6                      COM   40000.00\n",
       "7        Department of Ext  101627.50\n",
       "8                   LCOMEO    5727.00\n",
       "9   Learning and Info Tech   72942.00\n",
       "10                 Library   71527.00\n",
       "11                   RSENR   70306.00"
      ]
     },
     "execution_count": 210,
     "metadata": {},
     "output_type": "execute_result"
    }
   ],
   "source": [
    "collegeMedSal = pd.DataFrame(df.groupby(by='College')['Base Pay'].median()).reset_index()\n",
    "collegeMedSal"
   ]
  },
  {
   "cell_type": "code",
   "execution_count": 211,
   "metadata": {},
   "outputs": [
    {
     "data": {
      "text/plain": [
       "<Axes: xlabel='College', ylabel='Base Pay'>"
      ]
     },
     "execution_count": 211,
     "metadata": {},
     "output_type": "execute_result"
    },
    {
     "data": {
      "image/png": "[encoded data removed]",
      "text/plain": [
       "<Figure size 640x480 with 1 Axes>"
      ]
     },
     "metadata": {},
     "output_type": "display_data"
    }
   ],
   "source": [
    "sns.barplot(data=collegeMedSal,x = collegeMedSal['College'], y = collegeMedSal['Base Pay'])"
   ]
  },
  {
   "cell_type": "code",
   "execution_count": 212,
   "metadata": {},
   "outputs": [
    {
     "data": {
      "text/html": [
       "<div>\n",
       "<style scoped>\n",
       "    .dataframe tbody tr th:only-of-type {\n",
       "        vertical-align: middle;\n",
       "    }\n",
       "\n",
       "    .dataframe tbody tr th {\n",
       "        vertical-align: top;\n",
       "    }\n",
       "\n",
       "    .dataframe thead th {\n",
       "        text-align: right;\n",
       "    }\n",
       "</style>\n",
       "<table border=\"1\" class=\"dataframe\">\n",
       "  <thead>\n",
       "    <tr style=\"text-align: right;\">\n",
       "      <th></th>\n",
       "      <th>Primary Job Title</th>\n",
       "      <th>Base Pay</th>\n",
       "    </tr>\n",
       "  </thead>\n",
       "  <tbody>\n",
       "    <tr>\n",
       "      <th>0</th>\n",
       "      <td>Academic Srvcs Professional</td>\n",
       "      <td>35830.0</td>\n",
       "    </tr>\n",
       "    <tr>\n",
       "      <th>1</th>\n",
       "      <td>Academic Srvcs Professional Sr</td>\n",
       "      <td>53207.5</td>\n",
       "    </tr>\n",
       "    <tr>\n",
       "      <th>2</th>\n",
       "      <td>Academic Srvcs Professonal Sr</td>\n",
       "      <td>62276.0</td>\n",
       "    </tr>\n",
       "    <tr>\n",
       "      <th>3</th>\n",
       "      <td>Acting Director</td>\n",
       "      <td>87125.0</td>\n",
       "    </tr>\n",
       "    <tr>\n",
       "      <th>4</th>\n",
       "      <td>Acting Director Dana Medical Library</td>\n",
       "      <td>111450.0</td>\n",
       "    </tr>\n",
       "    <tr>\n",
       "      <th>...</th>\n",
       "      <td>...</td>\n",
       "      <td>...</td>\n",
       "    </tr>\n",
       "    <tr>\n",
       "      <th>142</th>\n",
       "      <td>VP Research</td>\n",
       "      <td>265753.5</td>\n",
       "    </tr>\n",
       "    <tr>\n",
       "      <th>143</th>\n",
       "      <td>Vice Pres for Enrollment Mgmnt</td>\n",
       "      <td>209589.5</td>\n",
       "    </tr>\n",
       "    <tr>\n",
       "      <th>144</th>\n",
       "      <td>Visiting Assistant Prof</td>\n",
       "      <td>55116.0</td>\n",
       "    </tr>\n",
       "    <tr>\n",
       "      <th>145</th>\n",
       "      <td>Visiting Instructor</td>\n",
       "      <td>62076.5</td>\n",
       "    </tr>\n",
       "    <tr>\n",
       "      <th>146</th>\n",
       "      <td>Visiting Lecturer</td>\n",
       "      <td>45100.0</td>\n",
       "    </tr>\n",
       "  </tbody>\n",
       "</table>\n",
       "<p>147 rows × 2 columns</p>\n",
       "</div>"
      ],
      "text/plain": [
       "                        Primary Job Title  Base Pay\n",
       "0             Academic Srvcs Professional   35830.0\n",
       "1          Academic Srvcs Professional Sr   53207.5\n",
       "2           Academic Srvcs Professonal Sr   62276.0\n",
       "3                         Acting Director   87125.0\n",
       "4    Acting Director Dana Medical Library  111450.0\n",
       "..                                    ...       ...\n",
       "142                           VP Research  265753.5\n",
       "143        Vice Pres for Enrollment Mgmnt  209589.5\n",
       "144               Visiting Assistant Prof   55116.0\n",
       "145                   Visiting Instructor   62076.5\n",
       "146                     Visiting Lecturer   45100.0\n",
       "\n",
       "[147 rows x 2 columns]"
      ]
     },
     "execution_count": 212,
     "metadata": {},
     "output_type": "execute_result"
    }
   ],
   "source": [
    "jobMedSal = pd.DataFrame(df.groupby(by='Primary Job Title')['Base Pay'].median()).reset_index()\n",
    "jobMedSal"
   ]
  },
  {
   "cell_type": "markdown",
   "metadata": {},
   "source": [
    "#### As there are too many distinct job titles, using this variable as a categorical independent variable will increase dimensionality too much and will not be of use in analysis"
   ]
  },
  {
   "cell_type": "code",
   "execution_count": 213,
   "metadata": {},
   "outputs": [],
   "source": [
    "# df.drop(columns=['Primary Job Title'], inplace=True)\n",
    "# df.info()"
   ]
  },
  {
   "cell_type": "code",
   "execution_count": 214,
   "metadata": {},
   "outputs": [
    {
     "data": {
      "text/html": [
       "<div>\n",
       "<style scoped>\n",
       "    .dataframe tbody tr th:only-of-type {\n",
       "        vertical-align: middle;\n",
       "    }\n",
       "\n",
       "    .dataframe tbody tr th {\n",
       "        vertical-align: top;\n",
       "    }\n",
       "\n",
       "    .dataframe thead th {\n",
       "        text-align: right;\n",
       "    }\n",
       "</style>\n",
       "<table border=\"1\" class=\"dataframe\">\n",
       "  <thead>\n",
       "    <tr style=\"text-align: right;\">\n",
       "      <th></th>\n",
       "      <th>Department</th>\n",
       "      <th>Base Pay</th>\n",
       "    </tr>\n",
       "  </thead>\n",
       "  <tbody>\n",
       "    <tr>\n",
       "      <th>0</th>\n",
       "      <td>Department of Anesthesiology</td>\n",
       "      <td>30000.000</td>\n",
       "    </tr>\n",
       "    <tr>\n",
       "      <th>1</th>\n",
       "      <td>Department of Animal and Veterinary Sciences</td>\n",
       "      <td>74313.595</td>\n",
       "    </tr>\n",
       "    <tr>\n",
       "      <th>2</th>\n",
       "      <td>Department of Anthropology</td>\n",
       "      <td>76892.000</td>\n",
       "    </tr>\n",
       "    <tr>\n",
       "      <th>3</th>\n",
       "      <td>Department of Art &amp; Art History</td>\n",
       "      <td>64193.000</td>\n",
       "    </tr>\n",
       "    <tr>\n",
       "      <th>4</th>\n",
       "      <td>Department of Asian Languages &amp; Literatures</td>\n",
       "      <td>58917.965</td>\n",
       "    </tr>\n",
       "    <tr>\n",
       "      <th>...</th>\n",
       "      <td>...</td>\n",
       "      <td>...</td>\n",
       "    </tr>\n",
       "    <tr>\n",
       "      <th>104</th>\n",
       "      <td>Department of Surg-Vascular</td>\n",
       "      <td>35000.000</td>\n",
       "    </tr>\n",
       "    <tr>\n",
       "      <th>105</th>\n",
       "      <td>Department of Surgery</td>\n",
       "      <td>93967.500</td>\n",
       "    </tr>\n",
       "    <tr>\n",
       "      <th>106</th>\n",
       "      <td>Department of Theatre and Dance</td>\n",
       "      <td>70473.000</td>\n",
       "    </tr>\n",
       "    <tr>\n",
       "      <th>107</th>\n",
       "      <td>Grossman School of Business</td>\n",
       "      <td>146060.500</td>\n",
       "    </tr>\n",
       "    <tr>\n",
       "      <th>108</th>\n",
       "      <td>Rubenstein Sch Env &amp; Nat Res</td>\n",
       "      <td>70306.000</td>\n",
       "    </tr>\n",
       "  </tbody>\n",
       "</table>\n",
       "<p>109 rows × 2 columns</p>\n",
       "</div>"
      ],
      "text/plain": [
       "                                       Department    Base Pay\n",
       "0                    Department of Anesthesiology   30000.000\n",
       "1    Department of Animal and Veterinary Sciences   74313.595\n",
       "2                      Department of Anthropology   76892.000\n",
       "3                 Department of Art & Art History   64193.000\n",
       "4     Department of Asian Languages & Literatures   58917.965\n",
       "..                                            ...         ...\n",
       "104                   Department of Surg-Vascular   35000.000\n",
       "105                         Department of Surgery   93967.500\n",
       "106               Department of Theatre and Dance   70473.000\n",
       "107                   Grossman School of Business  146060.500\n",
       "108                  Rubenstein Sch Env & Nat Res   70306.000\n",
       "\n",
       "[109 rows x 2 columns]"
      ]
     },
     "execution_count": 214,
     "metadata": {},
     "output_type": "execute_result"
    }
   ],
   "source": [
    "departmentMedSal = pd.DataFrame(df.groupby(by='Department')['Base Pay'].median()).reset_index()\n",
    "departmentMedSal"
   ]
  },
  {
   "cell_type": "code",
   "execution_count": 215,
   "metadata": {},
   "outputs": [
    {
     "data": {
      "text/plain": [
       "<Axes: xlabel='Department', ylabel='Base Pay'>"
      ]
     },
     "execution_count": 215,
     "metadata": {},
     "output_type": "execute_result"
    },
    {
     "data": {
      "image/png": "[encoded data removed]",
      "text/plain": [
       "<Figure size 640x480 with 1 Axes>"
      ]
     },
     "metadata": {},
     "output_type": "display_data"
    }
   ],
   "source": [
    "sns.barplot(data=departmentMedSal,x = departmentMedSal['Department'], y = departmentMedSal['Base Pay'])"
   ]
  },
  {
   "cell_type": "code",
   "execution_count": 216,
   "metadata": {},
   "outputs": [
    {
     "data": {
      "text/html": [
       "<div>\n",
       "<style scoped>\n",
       "    .dataframe tbody tr th:only-of-type {\n",
       "        vertical-align: middle;\n",
       "    }\n",
       "\n",
       "    .dataframe tbody tr th {\n",
       "        vertical-align: top;\n",
       "    }\n",
       "\n",
       "    .dataframe thead th {\n",
       "        text-align: right;\n",
       "    }\n",
       "</style>\n",
       "<table border=\"1\" class=\"dataframe\">\n",
       "  <thead>\n",
       "    <tr style=\"text-align: right;\">\n",
       "      <th></th>\n",
       "      <th>Year</th>\n",
       "      <th>Base Pay</th>\n",
       "    </tr>\n",
       "  </thead>\n",
       "  <tbody>\n",
       "    <tr>\n",
       "      <th>0</th>\n",
       "      <td>2009</td>\n",
       "      <td>63290.0</td>\n",
       "    </tr>\n",
       "    <tr>\n",
       "      <th>1</th>\n",
       "      <td>2010</td>\n",
       "      <td>66101.0</td>\n",
       "    </tr>\n",
       "    <tr>\n",
       "      <th>2</th>\n",
       "      <td>2011</td>\n",
       "      <td>61000.0</td>\n",
       "    </tr>\n",
       "    <tr>\n",
       "      <th>3</th>\n",
       "      <td>2012</td>\n",
       "      <td>63259.0</td>\n",
       "    </tr>\n",
       "    <tr>\n",
       "      <th>4</th>\n",
       "      <td>2013</td>\n",
       "      <td>64280.0</td>\n",
       "    </tr>\n",
       "    <tr>\n",
       "      <th>5</th>\n",
       "      <td>2014</td>\n",
       "      <td>66574.5</td>\n",
       "    </tr>\n",
       "    <tr>\n",
       "      <th>6</th>\n",
       "      <td>2015</td>\n",
       "      <td>64985.0</td>\n",
       "    </tr>\n",
       "    <tr>\n",
       "      <th>7</th>\n",
       "      <td>2016</td>\n",
       "      <td>64946.0</td>\n",
       "    </tr>\n",
       "    <tr>\n",
       "      <th>8</th>\n",
       "      <td>2017</td>\n",
       "      <td>61920.0</td>\n",
       "    </tr>\n",
       "    <tr>\n",
       "      <th>9</th>\n",
       "      <td>2018</td>\n",
       "      <td>63314.0</td>\n",
       "    </tr>\n",
       "    <tr>\n",
       "      <th>10</th>\n",
       "      <td>2019</td>\n",
       "      <td>64444.0</td>\n",
       "    </tr>\n",
       "    <tr>\n",
       "      <th>11</th>\n",
       "      <td>2020</td>\n",
       "      <td>60402.0</td>\n",
       "    </tr>\n",
       "  </tbody>\n",
       "</table>\n",
       "</div>"
      ],
      "text/plain": [
       "    Year  Base Pay\n",
       "0   2009   63290.0\n",
       "1   2010   66101.0\n",
       "2   2011   61000.0\n",
       "3   2012   63259.0\n",
       "4   2013   64280.0\n",
       "5   2014   66574.5\n",
       "6   2015   64985.0\n",
       "7   2016   64946.0\n",
       "8   2017   61920.0\n",
       "9   2018   63314.0\n",
       "10  2019   64444.0\n",
       "11  2020   60402.0"
      ]
     },
     "execution_count": 216,
     "metadata": {},
     "output_type": "execute_result"
    }
   ],
   "source": [
    "YearMedSal = pd.DataFrame(df.groupby(by='Year')['Base Pay'].median()).reset_index()\n",
    "YearMedSal"
   ]
  },
  {
   "cell_type": "code",
   "execution_count": 217,
   "metadata": {},
   "outputs": [
    {
     "data": {
      "text/plain": [
       "<Axes: xlabel='Year', ylabel='Base Pay'>"
      ]
     },
     "execution_count": 217,
     "metadata": {},
     "output_type": "execute_result"
    },
    {
     "data": {
      "image/png": "[encoded data removed]",
      "text/plain": [
       "<Figure size 640x480 with 1 Axes>"
      ]
     },
     "metadata": {},
     "output_type": "display_data"
    }
   ],
   "source": [
    "sns.barplot(data=YearMedSal,x = YearMedSal['Year'], y = YearMedSal['Base Pay'])"
   ]
  },
  {
   "cell_type": "code",
   "execution_count": 218,
   "metadata": {},
   "outputs": [
    {
     "name": "stdout",
     "output_type": "stream",
     "text": [
      "<class 'pandas.core.frame.DataFrame'>\n",
      "RangeIndex: 14470 entries, 0 to 14469\n",
      "Data columns (total 5 columns):\n",
      " #   Column             Non-Null Count  Dtype  \n",
      "---  ------             --------------  -----  \n",
      " 0   Year               14470 non-null  int64  \n",
      " 1   Primary Job Title  14470 non-null  object \n",
      " 2   Base Pay           14470 non-null  float64\n",
      " 3   Department         14470 non-null  object \n",
      " 4   College            14470 non-null  object \n",
      "dtypes: float64(1), int64(1), object(3)\n",
      "memory usage: 565.4+ KB\n"
     ]
    }
   ],
   "source": [
    "encodedDf = df.copy()\n",
    "encodedDf.info()"
   ]
  },
  {
   "cell_type": "code",
   "execution_count": 219,
   "metadata": {},
   "outputs": [],
   "source": [
    "from sklearn.preprocessing import LabelEncoder\n",
    "le = LabelEncoder()"
   ]
  },
  {
   "cell_type": "code",
   "execution_count": 220,
   "metadata": {},
   "outputs": [
    {
     "data": {
      "text/html": [
       "<div>\n",
       "<style scoped>\n",
       "    .dataframe tbody tr th:only-of-type {\n",
       "        vertical-align: middle;\n",
       "    }\n",
       "\n",
       "    .dataframe tbody tr th {\n",
       "        vertical-align: top;\n",
       "    }\n",
       "\n",
       "    .dataframe thead th {\n",
       "        text-align: right;\n",
       "    }\n",
       "</style>\n",
       "<table border=\"1\" class=\"dataframe\">\n",
       "  <thead>\n",
       "    <tr style=\"text-align: right;\">\n",
       "      <th></th>\n",
       "      <th>Year</th>\n",
       "      <th>Primary Job Title</th>\n",
       "      <th>Base Pay</th>\n",
       "      <th>Department</th>\n",
       "      <th>College</th>\n",
       "    </tr>\n",
       "  </thead>\n",
       "  <tbody>\n",
       "    <tr>\n",
       "      <th>Year</th>\n",
       "      <td>1.000000</td>\n",
       "      <td>-0.002705</td>\n",
       "      <td>0.011595</td>\n",
       "      <td>0.003409</td>\n",
       "      <td>0.058346</td>\n",
       "    </tr>\n",
       "    <tr>\n",
       "      <th>Primary Job Title</th>\n",
       "      <td>-0.002705</td>\n",
       "      <td>1.000000</td>\n",
       "      <td>0.233902</td>\n",
       "      <td>-0.034217</td>\n",
       "      <td>-0.113989</td>\n",
       "    </tr>\n",
       "    <tr>\n",
       "      <th>Base Pay</th>\n",
       "      <td>0.011595</td>\n",
       "      <td>0.233902</td>\n",
       "      <td>1.000000</td>\n",
       "      <td>-0.005764</td>\n",
       "      <td>-0.209479</td>\n",
       "    </tr>\n",
       "    <tr>\n",
       "      <th>Department</th>\n",
       "      <td>0.003409</td>\n",
       "      <td>-0.034217</td>\n",
       "      <td>-0.005764</td>\n",
       "      <td>1.000000</td>\n",
       "      <td>0.222608</td>\n",
       "    </tr>\n",
       "    <tr>\n",
       "      <th>College</th>\n",
       "      <td>0.058346</td>\n",
       "      <td>-0.113989</td>\n",
       "      <td>-0.209479</td>\n",
       "      <td>0.222608</td>\n",
       "      <td>1.000000</td>\n",
       "    </tr>\n",
       "  </tbody>\n",
       "</table>\n",
       "</div>"
      ],
      "text/plain": [
       "                       Year  Primary Job Title  Base Pay  Department   College\n",
       "Year               1.000000          -0.002705  0.011595    0.003409  0.058346\n",
       "Primary Job Title -0.002705           1.000000  0.233902   -0.034217 -0.113989\n",
       "Base Pay           0.011595           0.233902  1.000000   -0.005764 -0.209479\n",
       "Department         0.003409          -0.034217 -0.005764    1.000000  0.222608\n",
       "College            0.058346          -0.113989 -0.209479    0.222608  1.000000"
      ]
     },
     "execution_count": 220,
     "metadata": {},
     "output_type": "execute_result"
    }
   ],
   "source": [
    "encodedDf['College'] = le.fit_transform(encodedDf['College'])\n",
    "encodedDf['Department'] = le.fit_transform(encodedDf['Department'])\n",
    "encodedDf['Primary Job Title'] = le.fit_transform(encodedDf['Primary Job Title'])\n",
    "encodedDf.corr()"
   ]
  },
  {
   "cell_type": "code",
   "execution_count": 221,
   "metadata": {},
   "outputs": [
    {
     "data": {
      "text/plain": [
       "<Axes: >"
      ]
     },
     "execution_count": 221,
     "metadata": {},
     "output_type": "execute_result"
    },
    {
     "data": {
      "image/png": "[encoded data removed]",
      "text/plain": [
       "<Figure size 640x480 with 2 Axes>"
      ]
     },
     "metadata": {},
     "output_type": "display_data"
    }
   ],
   "source": [
    "sns.heatmap(encodedDf.corr(), cmap=['red','orange','yellow','green','blue','violet'])"
   ]
  }
 ],
 "metadata": {
  "kernelspec": {
   "display_name": "ml",
   "language": "python",
   "name": "python3"
  },
  "language_info": {
   "codemirror_mode": {
    "name": "ipython",
    "version": 3
   },
   "file_extension": ".py",
   "mimetype": "text/x-python",
   "name": "python",
   "nbconvert_exporter": "python",
   "pygments_lexer": "ipython3",
   "version": "3.10.13"
  }
 },
 "nbformat": 4,
 "nbformat_minor": 2
}
